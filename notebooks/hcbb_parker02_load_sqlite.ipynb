{
 "cells": [
  {
   "cell_type": "code",
   "execution_count": 52,
   "metadata": {},
   "outputs": [],
   "source": [
    "import pandas as pd\n",
    "import sqlite3\n",
    "from tqdm.notebook import tqdm"
   ]
  },
  {
   "cell_type": "code",
   "execution_count": 53,
   "metadata": {},
   "outputs": [],
   "source": [
    "pd.set_option(\"display.max_columns\", 500)"
   ]
  },
  {
   "cell_type": "markdown",
   "metadata": {},
   "source": [
    "## * Load SQLite Table 1: cbsa *\n",
    "### Filter to top tot_ratio, then to Nashville cbsa"
   ]
  },
  {
   "cell_type": "markdown",
   "metadata": {},
   "source": [
    "zips_raw = pd.read_excel(\"../data/ZIP_CBSA_122020.xlsx\", converters={'zip': lambda x: str(x)}, engine='openpyxl')\n",
    "zips = zips_raw.reset_index().rename({\n",
    "    'ZIP': 'zip',\n",
    "    'CBSA': 'cbsa',\n",
    "    'TOT_RATIO': 'tot_ratio'\n",
    "}, axis=1)\n",
    "zips = zips.drop(['index', 'RES_RATIO', 'BUS_RATIO', 'OTH_RATIO'], axis=1)"
   ]
  },
  {
   "cell_type": "markdown",
   "metadata": {},
   "source": [
    "with sqlite3.connect('../data/hcbb.sqlite') as db:\n",
    "    # Temporarily load to sqlite db\n",
    "    zips.to_sql('temp_zips', db, if_exists = 'replace', index = False)\n",
    "    # Use ranking and filtering\n",
    "    query = ''' \n",
    "    WITH ratio AS (\n",
    "        SELECT \n",
    "            zip, \n",
    "            cbsa, \n",
    "            RANK() OVER(PARTITION BY zip ORDER BY tot_ratio DESC) AS rnk \n",
    "        FROM temp_zips\n",
    "    )\n",
    "    SELECT \n",
    "        zip, \n",
    "        cbsa\n",
    "    FROM ratio\n",
    "    WHERE rnk = 1 AND cbsa = '34980';\n",
    "    '''\n",
    "    # Get the dataframe\n",
    "    cbsa_df = pd.read_sql(query, db)\n",
    "    # Delete the temporary table\n",
    "    cursor = db.cursor()\n",
    "    cursor.execute(\"DROP TABLE temp_zips\")\n",
    "    print(\"Temporary table dropped...\")\n",
    "    # Finally, load to final sqlite db\n",
    "    cbsa_df.to_sql('cbsa', db, if_exists = 'replace', index = False)\n",
    "    print(\"cbsa table created.\")"
   ]
  },
  {
   "cell_type": "code",
   "execution_count": null,
   "metadata": {},
   "outputs": [],
   "source": [
    "# Test to confirm the table loaded.\n",
    "with sqlite3.connect('../data/hcbb.sqlite') as db :\n",
    "    query = \"\"\"\n",
    "    SELECT *\n",
    "    FROM cbsa\n",
    "    \"\"\" \n",
    "    \n",
    "    test = pd.read_sql(query, db)\n",
    "\n",
    "test.shape"
   ]
  },
  {
   "cell_type": "markdown",
   "metadata": {},
   "source": [
    "## * Load SQLite Table 2: npidata *\n",
    "### Find Primary Taxonomy; Clean Columns"
   ]
  },
  {
   "cell_type": "markdown",
   "metadata": {},
   "source": [
    "with sqlite3.connect('../data/hcbb.sqlite') as db:\n",
    "\n",
    "    npidata_raw = pd.read_csv(\"../data/npidata_pfile_20050523-20210207.csv\", chunksize = 10000)\n",
    "    for chunk in tqdm(npidata_raw):\n",
    "\n",
    "        npidata = pd.concat([\n",
    "            chunk[['NPI']],\n",
    "            # Entity Type Code: 1 = Provider (doctors, nurses, etc.) / 2 = Facility (Hospitals, Urgent Care, Doctors Offices) \n",
    "            chunk[['Entity Type Code']],\n",
    "            # Entity Name: Either First/Last or Organization or Other Organization Name contained in the following fields:\n",
    "            chunk.loc[:, 'Provider Organization Name (Legal Business Name)':'Provider Credential Text'],\n",
    "            # Address: Business Practice Location (not mailing), contained in the following fields:\n",
    "            chunk.loc[:, 'Provider First Line Business Practice Location Address':'Provider Business Practice Location Address Postal Code'],\n",
    "        ], axis=1)\n",
    "\n",
    "        npi_taxonomy = pd.concat([\n",
    "            chunk[['NPI']],\n",
    "            # The provider's taxonomy code, which is contained in one of the 'Healthcare Provider Taxonomy Code*' columns\n",
    "            chunk[chunk.columns[pd.Series(chunk.columns).str.startswith('Healthcare Provider Taxonomy Code_')]],\n",
    "            chunk[chunk.columns[pd.Series(chunk.columns).str.startswith('Healthcare Provider Primary Taxonomy Switch_')]]\n",
    "        ], axis=1)\n",
    "\n",
    "        # Pivot from wide to long format\n",
    "        npi_taxonomy = pd.wide_to_long(\n",
    "            npi_taxonomy,\n",
    "            stubnames=['Healthcare Provider Taxonomy Code', 'Healthcare Provider Primary Taxonomy Switch'],\n",
    "            i=['NPI'], \n",
    "            j='primary_taxonomy_index',\n",
    "            sep=\"_\"\n",
    "        )\n",
    "\n",
    "        # Only keep the primary taxonomy\n",
    "        npi_taxonomy = npi_taxonomy[npi_taxonomy['Healthcare Provider Primary Taxonomy Switch'] == 'Y']\n",
    "\n",
    "        # Housekeeping\n",
    "        npi_taxonomy = npi_taxonomy.reset_index()\\\n",
    "            .drop(columns=['primary_taxonomy_index', 'Healthcare Provider Primary Taxonomy Switch'])\\\n",
    "            .rename({ 'Healthcare Provider Taxonomy Code': 'taxonomy_code' }, axis=1)\n",
    "\n",
    "        npidata = npidata.merge(\n",
    "            npi_taxonomy,\n",
    "            how='left',\n",
    "            on='NPI'\n",
    "        )\n",
    "\n",
    "        # Rename columns\n",
    "        npidata = npidata.reset_index().rename({\n",
    "            'NPI': 'npi',\n",
    "            'Entity Type Code': 'entity_type_code',\n",
    "            'Provider Organization Name (Legal Business Name)': 'provider_org_name',\n",
    "            'Provider Last Name (Legal Name)': 'provider_last_name',\n",
    "            'Provider First Name': 'provider_first_name',\n",
    "            'Provider Middle Name': 'provider_middle_name',\n",
    "            'Provider Name Prefix Text': 'provider_name_prefix',\n",
    "            'Provider Name Suffix Text': 'provider_name_suffix',\n",
    "            'Provider Credential Text': 'provider_credential',\n",
    "            'Provider First Line Business Practice Location Address': 'provider_business_address_1',\n",
    "            'Provider Second Line Business Practice Location Address': 'provider_business_address_2',\n",
    "            'Provider Business Practice Location Address City Name': 'provider_business_city',\n",
    "            'Provider Business Practice Location Address State Name': 'provider_business_state',\n",
    "            'Provider Business Practice Location Address Postal Code': 'provider_business_zip'\n",
    "        }, axis=1)\n",
    "\n",
    "        # Create Zip5 column to merge down the road\n",
    "        npidata['provider_business_zip5'] = [str(i)[0:5] for i in npidata['provider_business_zip']]\n",
    "        \n",
    "        # Correct data types\n",
    "        npidata['npi'] = npidata['npi'].astype(str)\n",
    "        npidata['entity_type_code'] = npidata['entity_type_code'].astype(str).str.split('.').str[0]\n",
    "        npidata['provider_business_zip'] = npidata['provider_business_zip'].astype(str).str.split('.').str[0]\n",
    "        npidata['provider_business_zip5'] = npidata['provider_business_zip5'].astype(str).str.split('.').str[0]\n",
    "        \n",
    "        # Remove unneeded columns\n",
    "        npidata = npidata.drop('index', axis=1)\n",
    "        \n",
    "        npidata.to_sql('npidata', db, if_exists = 'append', index = False)                           \n",
    "\n",
    "    print('task done')"
   ]
  },
  {
   "cell_type": "code",
   "execution_count": 93,
   "metadata": {},
   "outputs": [
    {
     "data": {
      "text/html": [
       "<div>\n",
       "<style scoped>\n",
       "    .dataframe tbody tr th:only-of-type {\n",
       "        vertical-align: middle;\n",
       "    }\n",
       "\n",
       "    .dataframe tbody tr th {\n",
       "        vertical-align: top;\n",
       "    }\n",
       "\n",
       "    .dataframe thead th {\n",
       "        text-align: right;\n",
       "    }\n",
       "</style>\n",
       "<table border=\"1\" class=\"dataframe\">\n",
       "  <thead>\n",
       "    <tr style=\"text-align: right;\">\n",
       "      <th></th>\n",
       "      <th>COUNT(*)</th>\n",
       "    </tr>\n",
       "  </thead>\n",
       "  <tbody>\n",
       "    <tr>\n",
       "      <th>0</th>\n",
       "      <td>6714038</td>\n",
       "    </tr>\n",
       "  </tbody>\n",
       "</table>\n",
       "</div>"
      ],
      "text/plain": [
       "   COUNT(*)\n",
       "0   6714038"
      ]
     },
     "execution_count": 93,
     "metadata": {},
     "output_type": "execute_result"
    }
   ],
   "source": [
    "# Test to confirm the table loaded.\n",
    "with sqlite3.connect('../data/hcbb.sqlite') as db :\n",
    "    query = \"\"\"\n",
    "    SELECT COUNT(*)\n",
    "    FROM npidata\n",
    "    \"\"\" \n",
    "    \n",
    "    test = pd.read_sql(query, db)\n",
    "\n",
    "test"
   ]
  },
  {
   "cell_type": "markdown",
   "metadata": {},
   "source": [
    "### Removed Table to make an update."
   ]
  },
  {
   "cell_type": "markdown",
   "metadata": {},
   "source": [
    "#create a database or connect to an existing one\n",
    "db = sqlite3.connect('../data/hcbb.sqlite')\n",
    "#if you need to edit the database...\n",
    "cursor = db.cursor()\n",
    "#Drop the table and return a line that says that it's gone\n",
    "cursor.execute(\"DROP TABLE referrals\")\n",
    "print(\"Table dropped...\")"
   ]
  },
  {
   "cell_type": "markdown",
   "metadata": {},
   "source": [
    "## * Load SQLite Table 3: taxonomy *"
   ]
  },
  {
   "cell_type": "markdown",
   "metadata": {},
   "source": [
    "with sqlite3.connect('../data/hcbb.sqlite') as db:   \n",
    "    taxonomy = pd.read_csv(\"../data/nucc_taxonomy_210.csv\")\n",
    "    taxonomy = taxonomy[['Code', 'Grouping', 'Classification', 'Specialization']]\n",
    "    taxonomy.columns = ['taxonomy_code', 'grouping', 'classification', 'specialization']\n",
    "    taxonomy.to_sql('taxonomy', db, if_exists = 'append', index = False)  \n",
    "    \n",
    "    print('task done')"
   ]
  },
  {
   "cell_type": "markdown",
   "metadata": {},
   "source": [
    "## * Load SQLite Table 4, hop_teaming *"
   ]
  },
  {
   "cell_type": "markdown",
   "metadata": {},
   "source": [
    "for chunk in tqdm(pd.read_csv(\"../data/DocGraph_Hop_Teaming_2017.csv\", chunksize = 10000)):\n",
    "    # Append the chunk to a hop_teaming table\n",
    "    chunk.to_sql(\n",
    "        'hop_teaming', # The table name\n",
    "        db, # The database\n",
    "        if_exists = 'append', \n",
    "        index = False # Do not include the pandas index column\n",
    "    )\n",
    "\n",
    "#When done, print done\n",
    "print('Task done.')"
   ]
  },
  {
   "cell_type": "code",
   "execution_count": 136,
   "metadata": {},
   "outputs": [
    {
     "data": {
      "text/html": [
       "<div>\n",
       "<style scoped>\n",
       "    .dataframe tbody tr th:only-of-type {\n",
       "        vertical-align: middle;\n",
       "    }\n",
       "\n",
       "    .dataframe tbody tr th {\n",
       "        vertical-align: top;\n",
       "    }\n",
       "\n",
       "    .dataframe thead th {\n",
       "        text-align: right;\n",
       "    }\n",
       "</style>\n",
       "<table border=\"1\" class=\"dataframe\">\n",
       "  <thead>\n",
       "    <tr style=\"text-align: right;\">\n",
       "      <th></th>\n",
       "      <th>name</th>\n",
       "    </tr>\n",
       "  </thead>\n",
       "  <tbody>\n",
       "    <tr>\n",
       "      <th>0</th>\n",
       "      <td>taxonomy</td>\n",
       "    </tr>\n",
       "    <tr>\n",
       "      <th>1</th>\n",
       "      <td>hop_teaming</td>\n",
       "    </tr>\n",
       "    <tr>\n",
       "      <th>2</th>\n",
       "      <td>cbsa</td>\n",
       "    </tr>\n",
       "    <tr>\n",
       "      <th>3</th>\n",
       "      <td>npidata</td>\n",
       "    </tr>\n",
       "    <tr>\n",
       "      <th>4</th>\n",
       "      <td>npidata_nashville</td>\n",
       "    </tr>\n",
       "    <tr>\n",
       "      <th>5</th>\n",
       "      <td>filtered_hop_teaming</td>\n",
       "    </tr>\n",
       "    <tr>\n",
       "      <th>6</th>\n",
       "      <td>hospitals</td>\n",
       "    </tr>\n",
       "    <tr>\n",
       "      <th>7</th>\n",
       "      <td>referrals</td>\n",
       "    </tr>\n",
       "  </tbody>\n",
       "</table>\n",
       "</div>"
      ],
      "text/plain": [
       "                   name\n",
       "0              taxonomy\n",
       "1           hop_teaming\n",
       "2                  cbsa\n",
       "3               npidata\n",
       "4     npidata_nashville\n",
       "5  filtered_hop_teaming\n",
       "6             hospitals\n",
       "7             referrals"
      ]
     },
     "metadata": {},
     "output_type": "display_data"
    }
   ],
   "source": [
    "#Listing currently existing tables in the database\n",
    "with sqlite3.connect('../data/hcbb.sqlite') as db :\n",
    "    query = \"\"\"\n",
    "        SELECT name\n",
    "        FROM sqlite_master \n",
    "        WHERE type ='table' \n",
    "        AND name NOT LIKE 'sqlite_%';\n",
    "        \"\"\" \n",
    "\n",
    "    test_df = pd.read_sql(query, db)\n",
    "\n",
    "display(test_df)"
   ]
  },
  {
   "cell_type": "code",
   "execution_count": 125,
   "metadata": {},
   "outputs": [
    {
     "data": {
      "text/html": [
       "<div>\n",
       "<style scoped>\n",
       "    .dataframe tbody tr th:only-of-type {\n",
       "        vertical-align: middle;\n",
       "    }\n",
       "\n",
       "    .dataframe tbody tr th {\n",
       "        vertical-align: top;\n",
       "    }\n",
       "\n",
       "    .dataframe thead th {\n",
       "        text-align: right;\n",
       "    }\n",
       "</style>\n",
       "<table border=\"1\" class=\"dataframe\">\n",
       "  <thead>\n",
       "    <tr style=\"text-align: right;\">\n",
       "      <th></th>\n",
       "      <th>from_npi</th>\n",
       "      <th>to_npi</th>\n",
       "      <th>patient_count</th>\n",
       "      <th>transaction_count</th>\n",
       "      <th>average_day_wait</th>\n",
       "      <th>std_day_wait</th>\n",
       "    </tr>\n",
       "  </thead>\n",
       "  <tbody>\n",
       "    <tr>\n",
       "      <th>0</th>\n",
       "      <td>1003963976</td>\n",
       "      <td>1003028770</td>\n",
       "      <td>2535</td>\n",
       "      <td>3945</td>\n",
       "      <td>0.0</td>\n",
       "      <td>0.0</td>\n",
       "    </tr>\n",
       "  </tbody>\n",
       "</table>\n",
       "</div>"
      ],
      "text/plain": [
       "     from_npi      to_npi  patient_count  transaction_count  average_day_wait  \\\n",
       "0  1003963976  1003028770           2535               3945               0.0   \n",
       "\n",
       "   std_day_wait  \n",
       "0           0.0  "
      ]
     },
     "metadata": {},
     "output_type": "display_data"
    }
   ],
   "source": [
    "#See first row\n",
    "with sqlite3.connect('../data/hcbb.sqlite') as db :\n",
    "    query = \"\"\"\n",
    "        SELECT *\n",
    "        From filtered_hop_teaming\n",
    "        LIMIT 1\n",
    "        \"\"\" \n",
    "\n",
    "    test_df = pd.read_sql(query, db)\n",
    "\n",
    "display(test_df)"
   ]
  },
  {
   "cell_type": "code",
   "execution_count": 127,
   "metadata": {},
   "outputs": [
    {
     "data": {
      "text/html": [
       "<div>\n",
       "<style scoped>\n",
       "    .dataframe tbody tr th:only-of-type {\n",
       "        vertical-align: middle;\n",
       "    }\n",
       "\n",
       "    .dataframe tbody tr th {\n",
       "        vertical-align: top;\n",
       "    }\n",
       "\n",
       "    .dataframe thead th {\n",
       "        text-align: right;\n",
       "    }\n",
       "</style>\n",
       "<table border=\"1\" class=\"dataframe\">\n",
       "  <thead>\n",
       "    <tr style=\"text-align: right;\">\n",
       "      <th></th>\n",
       "      <th>COUNT(*)</th>\n",
       "    </tr>\n",
       "  </thead>\n",
       "  <tbody>\n",
       "    <tr>\n",
       "      <th>0</th>\n",
       "      <td>41418</td>\n",
       "    </tr>\n",
       "  </tbody>\n",
       "</table>\n",
       "</div>"
      ],
      "text/plain": [
       "   COUNT(*)\n",
       "0     41418"
      ]
     },
     "metadata": {},
     "output_type": "display_data"
    }
   ],
   "source": [
    "#See number of rows\n",
    "with sqlite3.connect('../data/hcbb.sqlite') as db :\n",
    "    query = \"\"\"\n",
    "        SELECT COUNT(*)\n",
    "        From filtered_hop_teaming\n",
    "        \"\"\" \n",
    "\n",
    "    test_df = pd.read_sql(query, db)\n",
    "\n",
    "display(test_df)"
   ]
  },
  {
   "cell_type": "markdown",
   "metadata": {},
   "source": [
    "## * Load SQLite Table 5, npidata_nashville *"
   ]
  },
  {
   "cell_type": "markdown",
   "metadata": {},
   "source": [
    "with sqlite3.connect('../data/hcbb.sqlite') as db:\n",
    "    # Use ranking and filtering\n",
    "    query = ''' \n",
    "    SELECT *\n",
    "    FROM npidata\n",
    "    INNER JOIN cbsa\n",
    "    ON npidata.provider_business_zip5 = cbsa.zip\n",
    "    LEFT JOIN taxonomy USING(taxonomy_code)\n",
    "    \n",
    "    '''\n",
    "    # Get the dataframe\n",
    "    npidata_nashville = pd.read_sql(query, db)\n",
    "    npidata_nashville.to_sql('npidata_nashville', db, if_exists = 'replace', index = False)\n",
    "    print(\"npidata_nashville table created.\")"
   ]
  },
  {
   "cell_type": "code",
   "execution_count": null,
   "metadata": {},
   "outputs": [],
   "source": []
  },
  {
   "cell_type": "markdown",
   "metadata": {},
   "source": [
    "## * Filter by entity type *\n",
    "### Filter from_npi to be entity type 1 and to_npi to be entity type 2, to be used for SQLite Table 4.\n",
    "#### NOTE: The following cell codes runs in ~5-10 minutes. Set to markdown for security."
   ]
  },
  {
   "cell_type": "code",
   "execution_count": 117,
   "metadata": {},
   "outputs": [
    {
     "data": {
      "text/plain": [
       "(217273, 6)"
      ]
     },
     "metadata": {},
     "output_type": "display_data"
    },
    {
     "data": {
      "text/html": [
       "<div>\n",
       "<style scoped>\n",
       "    .dataframe tbody tr th:only-of-type {\n",
       "        vertical-align: middle;\n",
       "    }\n",
       "\n",
       "    .dataframe tbody tr th {\n",
       "        vertical-align: top;\n",
       "    }\n",
       "\n",
       "    .dataframe thead th {\n",
       "        text-align: right;\n",
       "    }\n",
       "</style>\n",
       "<table border=\"1\" class=\"dataframe\">\n",
       "  <thead>\n",
       "    <tr style=\"text-align: right;\">\n",
       "      <th></th>\n",
       "      <th>from_npi</th>\n",
       "      <th>to_npi</th>\n",
       "      <th>patient_count</th>\n",
       "      <th>transaction_count</th>\n",
       "      <th>average_day_wait</th>\n",
       "      <th>std_day_wait</th>\n",
       "    </tr>\n",
       "  </thead>\n",
       "  <tbody>\n",
       "    <tr>\n",
       "      <th>0</th>\n",
       "      <td>1043232879</td>\n",
       "      <td>1003028770</td>\n",
       "      <td>24</td>\n",
       "      <td>24</td>\n",
       "      <td>112.333</td>\n",
       "      <td>80.894</td>\n",
       "    </tr>\n",
       "    <tr>\n",
       "      <th>1</th>\n",
       "      <td>1043302466</td>\n",
       "      <td>1003028770</td>\n",
       "      <td>24</td>\n",
       "      <td>26</td>\n",
       "      <td>98.192</td>\n",
       "      <td>97.772</td>\n",
       "    </tr>\n",
       "    <tr>\n",
       "      <th>2</th>\n",
       "      <td>1033297429</td>\n",
       "      <td>1003028770</td>\n",
       "      <td>56</td>\n",
       "      <td>62</td>\n",
       "      <td>53.145</td>\n",
       "      <td>58.831</td>\n",
       "    </tr>\n",
       "    <tr>\n",
       "      <th>3</th>\n",
       "      <td>1043206329</td>\n",
       "      <td>1003028770</td>\n",
       "      <td>173</td>\n",
       "      <td>177</td>\n",
       "      <td>97.864</td>\n",
       "      <td>81.756</td>\n",
       "    </tr>\n",
       "    <tr>\n",
       "      <th>4</th>\n",
       "      <td>1003855537</td>\n",
       "      <td>1003028770</td>\n",
       "      <td>15</td>\n",
       "      <td>16</td>\n",
       "      <td>84.250</td>\n",
       "      <td>77.117</td>\n",
       "    </tr>\n",
       "  </tbody>\n",
       "</table>\n",
       "</div>"
      ],
      "text/plain": [
       "     from_npi      to_npi  patient_count  transaction_count  average_day_wait  \\\n",
       "0  1043232879  1003028770             24                 24           112.333   \n",
       "1  1043302466  1003028770             24                 26            98.192   \n",
       "2  1033297429  1003028770             56                 62            53.145   \n",
       "3  1043206329  1003028770            173                177            97.864   \n",
       "4  1003855537  1003028770             15                 16            84.250   \n",
       "\n",
       "   std_day_wait  \n",
       "0        80.894  \n",
       "1        97.772  \n",
       "2        58.831  \n",
       "3        81.756  \n",
       "4        77.117  "
      ]
     },
     "metadata": {},
     "output_type": "display_data"
    }
   ],
   "source": [
    "with sqlite3.connect('../data/hcbb.sqlite') as db :\n",
    "    query = \"\"\"\n",
    "    WITH npi_entity_type_1 AS (\n",
    "        SELECT npi\n",
    "        FROM npidata_nashville \n",
    "        WHERE entity_type_code = 1\n",
    "    ), npi_entity_type_2 AS (\n",
    "        SELECT npi\n",
    "        FROM npidata_nashville \n",
    "        WHERE entity_type_code = 2\n",
    "    )\n",
    "    SELECT *\n",
    "    FROM hop_teaming\n",
    "    WHERE from_npi IN npi_entity_type_1\n",
    "    AND to_npi IN npi_entity_type_2\n",
    "    \"\"\"\n",
    "    \n",
    "    filtered_hop_teaming = pd.read_sql(query, db)\n",
    "\n",
    "display(filtered_hop_teaming.shape)\n",
    "display(filtered_hop_teaming.head())"
   ]
  },
  {
   "cell_type": "code",
   "execution_count": 120,
   "metadata": {},
   "outputs": [
    {
     "data": {
      "text/plain": [
       "(217273, 6)"
      ]
     },
     "metadata": {},
     "output_type": "display_data"
    },
    {
     "data": {
      "text/html": [
       "<div>\n",
       "<style scoped>\n",
       "    .dataframe tbody tr th:only-of-type {\n",
       "        vertical-align: middle;\n",
       "    }\n",
       "\n",
       "    .dataframe tbody tr th {\n",
       "        vertical-align: top;\n",
       "    }\n",
       "\n",
       "    .dataframe thead th {\n",
       "        text-align: right;\n",
       "    }\n",
       "</style>\n",
       "<table border=\"1\" class=\"dataframe\">\n",
       "  <thead>\n",
       "    <tr style=\"text-align: right;\">\n",
       "      <th></th>\n",
       "      <th>from_npi</th>\n",
       "      <th>to_npi</th>\n",
       "      <th>patient_count</th>\n",
       "      <th>transaction_count</th>\n",
       "      <th>average_day_wait</th>\n",
       "      <th>std_day_wait</th>\n",
       "    </tr>\n",
       "  </thead>\n",
       "  <tbody>\n",
       "    <tr>\n",
       "      <th>0</th>\n",
       "      <td>1043232879</td>\n",
       "      <td>1003028770</td>\n",
       "      <td>24</td>\n",
       "      <td>24</td>\n",
       "      <td>112.333</td>\n",
       "      <td>80.894</td>\n",
       "    </tr>\n",
       "    <tr>\n",
       "      <th>1</th>\n",
       "      <td>1043302466</td>\n",
       "      <td>1003028770</td>\n",
       "      <td>24</td>\n",
       "      <td>26</td>\n",
       "      <td>98.192</td>\n",
       "      <td>97.772</td>\n",
       "    </tr>\n",
       "    <tr>\n",
       "      <th>2</th>\n",
       "      <td>1033297429</td>\n",
       "      <td>1003028770</td>\n",
       "      <td>56</td>\n",
       "      <td>62</td>\n",
       "      <td>53.145</td>\n",
       "      <td>58.831</td>\n",
       "    </tr>\n",
       "    <tr>\n",
       "      <th>3</th>\n",
       "      <td>1043206329</td>\n",
       "      <td>1003028770</td>\n",
       "      <td>173</td>\n",
       "      <td>177</td>\n",
       "      <td>97.864</td>\n",
       "      <td>81.756</td>\n",
       "    </tr>\n",
       "    <tr>\n",
       "      <th>4</th>\n",
       "      <td>1003855537</td>\n",
       "      <td>1003028770</td>\n",
       "      <td>15</td>\n",
       "      <td>16</td>\n",
       "      <td>84.250</td>\n",
       "      <td>77.117</td>\n",
       "    </tr>\n",
       "  </tbody>\n",
       "</table>\n",
       "</div>"
      ],
      "text/plain": [
       "     from_npi      to_npi  patient_count  transaction_count  average_day_wait  \\\n",
       "0  1043232879  1003028770             24                 24           112.333   \n",
       "1  1043302466  1003028770             24                 26            98.192   \n",
       "2  1033297429  1003028770             56                 62            53.145   \n",
       "3  1043206329  1003028770            173                177            97.864   \n",
       "4  1003855537  1003028770             15                 16            84.250   \n",
       "\n",
       "   std_day_wait  \n",
       "0        80.894  \n",
       "1        97.772  \n",
       "2        58.831  \n",
       "3        81.756  \n",
       "4        77.117  "
      ]
     },
     "metadata": {},
     "output_type": "display_data"
    }
   ],
   "source": [
    "display(filtered_hop_teaming.shape)\n",
    "display(filtered_hop_teaming.head())"
   ]
  },
  {
   "cell_type": "markdown",
   "metadata": {},
   "source": [
    "## * Filter by transaction count and average day wait *"
   ]
  },
  {
   "cell_type": "code",
   "execution_count": 121,
   "metadata": {},
   "outputs": [
    {
     "data": {
      "text/plain": [
       "(41418, 6)"
      ]
     },
     "metadata": {},
     "output_type": "display_data"
    },
    {
     "data": {
      "text/html": [
       "<div>\n",
       "<style scoped>\n",
       "    .dataframe tbody tr th:only-of-type {\n",
       "        vertical-align: middle;\n",
       "    }\n",
       "\n",
       "    .dataframe tbody tr th {\n",
       "        vertical-align: top;\n",
       "    }\n",
       "\n",
       "    .dataframe thead th {\n",
       "        text-align: right;\n",
       "    }\n",
       "</style>\n",
       "<table border=\"1\" class=\"dataframe\">\n",
       "  <thead>\n",
       "    <tr style=\"text-align: right;\">\n",
       "      <th></th>\n",
       "      <th>from_npi</th>\n",
       "      <th>to_npi</th>\n",
       "      <th>patient_count</th>\n",
       "      <th>transaction_count</th>\n",
       "      <th>average_day_wait</th>\n",
       "      <th>std_day_wait</th>\n",
       "    </tr>\n",
       "  </thead>\n",
       "  <tbody>\n",
       "    <tr>\n",
       "      <th>9</th>\n",
       "      <td>1003963976</td>\n",
       "      <td>1003028770</td>\n",
       "      <td>2535</td>\n",
       "      <td>3945</td>\n",
       "      <td>0.000</td>\n",
       "      <td>0.000</td>\n",
       "    </tr>\n",
       "    <tr>\n",
       "      <th>27</th>\n",
       "      <td>1033246640</td>\n",
       "      <td>1003863580</td>\n",
       "      <td>58</td>\n",
       "      <td>58</td>\n",
       "      <td>45.603</td>\n",
       "      <td>56.574</td>\n",
       "    </tr>\n",
       "    <tr>\n",
       "      <th>31</th>\n",
       "      <td>1033215157</td>\n",
       "      <td>1003863580</td>\n",
       "      <td>124</td>\n",
       "      <td>126</td>\n",
       "      <td>22.833</td>\n",
       "      <td>53.329</td>\n",
       "    </tr>\n",
       "    <tr>\n",
       "      <th>34</th>\n",
       "      <td>1023223898</td>\n",
       "      <td>1003863580</td>\n",
       "      <td>1739</td>\n",
       "      <td>1872</td>\n",
       "      <td>0.169</td>\n",
       "      <td>5.185</td>\n",
       "    </tr>\n",
       "    <tr>\n",
       "      <th>38</th>\n",
       "      <td>1023253549</td>\n",
       "      <td>1003863580</td>\n",
       "      <td>34</td>\n",
       "      <td>53</td>\n",
       "      <td>31.887</td>\n",
       "      <td>50.676</td>\n",
       "    </tr>\n",
       "  </tbody>\n",
       "</table>\n",
       "</div>"
      ],
      "text/plain": [
       "      from_npi      to_npi  patient_count  transaction_count  \\\n",
       "9   1003963976  1003028770           2535               3945   \n",
       "27  1033246640  1003863580             58                 58   \n",
       "31  1033215157  1003863580            124                126   \n",
       "34  1023223898  1003863580           1739               1872   \n",
       "38  1023253549  1003863580             34                 53   \n",
       "\n",
       "    average_day_wait  std_day_wait  \n",
       "9              0.000         0.000  \n",
       "27            45.603        56.574  \n",
       "31            22.833        53.329  \n",
       "34             0.169         5.185  \n",
       "38            31.887        50.676  "
      ]
     },
     "metadata": {},
     "output_type": "display_data"
    }
   ],
   "source": [
    "# Filter so that the transaction_count is >= 50 and average_day_wait <= 50\n",
    "filtered_hop_teaming = filtered_hop_teaming[\n",
    "    (filtered_hop_teaming[\"transaction_count\"] >= 50) &\n",
    "    (filtered_hop_teaming[\"average_day_wait\"] < 50)\n",
    "]\n",
    "\n",
    "display(filtered_hop_teaming.shape)\n",
    "display(filtered_hop_teaming.head())"
   ]
  },
  {
   "cell_type": "markdown",
   "metadata": {},
   "source": [
    "## * Load SQLite Table 6, filtered_hop_teaming *\n",
    "\n",
    "### IMPORTANT! This loading into the database should only be run once. If you run this multiple times, it will create duplicate entries in the database. For the security of not re-running this code by accident, the code here is converted into markdown. If you need to rebuild the database, delete the data/hcbb.sqlite file and re-run this cell as code. You will also need to make sure to re-run any other related scripts that builds other tables in the database."
   ]
  },
  {
   "cell_type": "markdown",
   "metadata": {},
   "source": [
    "with sqlite3.connect('../data/hcbb.sqlite') as db:\n",
    "    filtered_hop_teaming.to_sql(\n",
    "        'filtered_hop_teaming', \n",
    "        db, \n",
    "        if_exists = 'append', \n",
    "        index = False)\n",
    "\n",
    "    # When done, print done\n",
    "    print('Task done.')"
   ]
  },
  {
   "cell_type": "code",
   "execution_count": null,
   "metadata": {},
   "outputs": [],
   "source": [
    "filtered_hop_teaming.head()"
   ]
  },
  {
   "cell_type": "markdown",
   "metadata": {},
   "source": [
    "## * Load SQLite Table 7, hospitals *\n"
   ]
  },
  {
   "cell_type": "code",
   "execution_count": 129,
   "metadata": {},
   "outputs": [
    {
     "data": {
      "text/html": [
       "<div>\n",
       "<style scoped>\n",
       "    .dataframe tbody tr th:only-of-type {\n",
       "        vertical-align: middle;\n",
       "    }\n",
       "\n",
       "    .dataframe tbody tr th {\n",
       "        vertical-align: top;\n",
       "    }\n",
       "\n",
       "    .dataframe thead th {\n",
       "        text-align: right;\n",
       "    }\n",
       "</style>\n",
       "<table border=\"1\" class=\"dataframe\">\n",
       "  <thead>\n",
       "    <tr style=\"text-align: right;\">\n",
       "      <th></th>\n",
       "      <th>to_facility</th>\n",
       "      <th>to_facility_group</th>\n",
       "      <th>to_facility_name_normalised</th>\n",
       "      <th>to_address</th>\n",
       "      <th>to_grouping</th>\n",
       "      <th>to_classification</th>\n",
       "      <th>to_npi</th>\n",
       "      <th>total_patients</th>\n",
       "      <th>total_transactions</th>\n",
       "      <th>Unnamed: 9</th>\n",
       "    </tr>\n",
       "  </thead>\n",
       "  <tbody>\n",
       "    <tr>\n",
       "      <th>0</th>\n",
       "      <td>WILLIAMSON COUNTY HOSPITAL DISTRICT</td>\n",
       "      <td>Williamson Medical Center</td>\n",
       "      <td>Williamson County Hospital</td>\n",
       "      <td>4321 CAROTHERS PARKWAY</td>\n",
       "      <td>Hospitals</td>\n",
       "      <td>General Acute Care Hospital</td>\n",
       "      <td>1265445506</td>\n",
       "      <td>71272</td>\n",
       "      <td>98355</td>\n",
       "      <td>NaN</td>\n",
       "    </tr>\n",
       "    <tr>\n",
       "      <th>1</th>\n",
       "      <td>VANDERBILT UNIVERSITY MEDICAL CENTER</td>\n",
       "      <td>Vanderbilt University Medical Center</td>\n",
       "      <td>Vanderbilt University Medical Center</td>\n",
       "      <td>1601 23RD AVE S</td>\n",
       "      <td>Hospitals</td>\n",
       "      <td>General Acute Care Hospital</td>\n",
       "      <td>1558408633</td>\n",
       "      <td>1745</td>\n",
       "      <td>2598</td>\n",
       "      <td>NaN</td>\n",
       "    </tr>\n",
       "    <tr>\n",
       "      <th>2</th>\n",
       "      <td>VANDERBILT UNIVERSITY MEDICAL CENTER</td>\n",
       "      <td>Vanderbilt University Medical Center</td>\n",
       "      <td>Vanderbilt University Medical Center</td>\n",
       "      <td>1211 MEDICAL CENTER DRIVE</td>\n",
       "      <td>Hospitals</td>\n",
       "      <td>General Acute Care Hospital</td>\n",
       "      <td>1396882205</td>\n",
       "      <td>404973</td>\n",
       "      <td>603123</td>\n",
       "      <td>NaN</td>\n",
       "    </tr>\n",
       "    <tr>\n",
       "      <th>3</th>\n",
       "      <td>VANDERBILT UNIVERSITY MEDICAL CENTER</td>\n",
       "      <td>Vanderbilt University Medical Center</td>\n",
       "      <td>Vanderbilt University Lebanon Medical Center</td>\n",
       "      <td>1411 W. BADDOUR PARKWAY</td>\n",
       "      <td>Hospitals</td>\n",
       "      <td>General Acute Care Hospital</td>\n",
       "      <td>1306889597</td>\n",
       "      <td>34548</td>\n",
       "      <td>48142</td>\n",
       "      <td>NaN</td>\n",
       "    </tr>\n",
       "    <tr>\n",
       "      <th>4</th>\n",
       "      <td>TROUSDALE MEDICAL CENTER LLC</td>\n",
       "      <td>Trousdale Medical Center</td>\n",
       "      <td>Trousdale Medical Center</td>\n",
       "      <td>500 CHURCH ST</td>\n",
       "      <td>Hospitals</td>\n",
       "      <td>General Acute Care Hospital</td>\n",
       "      <td>1467763458</td>\n",
       "      <td>1905</td>\n",
       "      <td>4245</td>\n",
       "      <td>Trouser</td>\n",
       "    </tr>\n",
       "  </tbody>\n",
       "</table>\n",
       "</div>"
      ],
      "text/plain": [
       "                            to_facility                     to_facility_group  \\\n",
       "0   WILLIAMSON COUNTY HOSPITAL DISTRICT             Williamson Medical Center   \n",
       "1  VANDERBILT UNIVERSITY MEDICAL CENTER  Vanderbilt University Medical Center   \n",
       "2  VANDERBILT UNIVERSITY MEDICAL CENTER  Vanderbilt University Medical Center   \n",
       "3  VANDERBILT UNIVERSITY MEDICAL CENTER  Vanderbilt University Medical Center   \n",
       "4          TROUSDALE MEDICAL CENTER LLC              Trousdale Medical Center   \n",
       "\n",
       "                    to_facility_name_normalised                 to_address  \\\n",
       "0                    Williamson County Hospital     4321 CAROTHERS PARKWAY   \n",
       "1          Vanderbilt University Medical Center            1601 23RD AVE S   \n",
       "2          Vanderbilt University Medical Center  1211 MEDICAL CENTER DRIVE   \n",
       "3  Vanderbilt University Lebanon Medical Center    1411 W. BADDOUR PARKWAY   \n",
       "4                      Trousdale Medical Center              500 CHURCH ST   \n",
       "\n",
       "  to_grouping            to_classification      to_npi  total_patients  \\\n",
       "0   Hospitals  General Acute Care Hospital  1265445506           71272   \n",
       "1   Hospitals  General Acute Care Hospital  1558408633            1745   \n",
       "2   Hospitals  General Acute Care Hospital  1396882205          404973   \n",
       "3   Hospitals  General Acute Care Hospital  1306889597           34548   \n",
       "4   Hospitals  General Acute Care Hospital  1467763458            1905   \n",
       "\n",
       "   total_transactions Unnamed: 9  \n",
       "0               98355        NaN  \n",
       "1                2598        NaN  \n",
       "2              603123        NaN  \n",
       "3               48142        NaN  \n",
       "4                4245    Trouser  "
      ]
     },
     "execution_count": 129,
     "metadata": {},
     "output_type": "execute_result"
    }
   ],
   "source": [
    "hospitals = pd.read_csv('../data/nashville_hospitals_normalized.csv')\n",
    "hospitals.head()"
   ]
  },
  {
   "cell_type": "code",
   "execution_count": 130,
   "metadata": {},
   "outputs": [
    {
     "name": "stdout",
     "output_type": "stream",
     "text": [
      "task done\n"
     ]
    },
    {
     "name": "stderr",
     "output_type": "stream",
     "text": [
      "/opt/anaconda3/lib/python3.8/site-packages/pandas/core/generic.py:2653: UserWarning: The spaces in these column names will not be changed. In pandas versions < 0.14, spaces were converted to underscores.\n",
      "  sql.to_sql(\n"
     ]
    }
   ],
   "source": [
    "with sqlite3.connect('../data/hcbb.sqlite') as db:   \n",
    "    hospitals = pd.read_csv(\"../data/nashville_hospitals_normalized.csv\")\n",
    "    hospitals.to_sql('hospitals', db, if_exists = 'append', index = False)  \n",
    "    \n",
    "    print('task done')"
   ]
  },
  {
   "cell_type": "markdown",
   "metadata": {},
   "source": [
    "## * Load SQLite Table 8, hospital_referrals *"
   ]
  },
  {
   "cell_type": "code",
   "execution_count": 138,
   "metadata": {},
   "outputs": [],
   "source": [
    "hospital_referrals = pd.read_csv('../data/nashville_referrals_normalised_only_hospitals.csv')"
   ]
  },
  {
   "cell_type": "code",
   "execution_count": 144,
   "metadata": {},
   "outputs": [
    {
     "name": "stdout",
     "output_type": "stream",
     "text": [
      "task done\n"
     ]
    },
    {
     "name": "stderr",
     "output_type": "stream",
     "text": [
      "/opt/anaconda3/lib/python3.8/site-packages/pandas/core/generic.py:2653: UserWarning: The spaces in these column names will not be changed. In pandas versions < 0.14, spaces were converted to underscores.\n",
      "  sql.to_sql(\n"
     ]
    }
   ],
   "source": [
    "with sqlite3.connect('../data/hcbb.sqlite') as db:   \n",
    "    referrals = pd.read_csv(\"../data/nashville_referrals_normalised_only_hospitals_any_avg_day_wait.csv\")\n",
    "    referrals.to_sql('referrals', db, if_exists = 'append', index = False)  \n",
    "    \n",
    "    print('task done')"
   ]
  },
  {
   "cell_type": "code",
   "execution_count": null,
   "metadata": {},
   "outputs": [],
   "source": []
  }
 ],
 "metadata": {
  "kernelspec": {
   "display_name": "Python 3",
   "language": "python",
   "name": "python3"
  },
  "language_info": {
   "codemirror_mode": {
    "name": "ipython",
    "version": 3
   },
   "file_extension": ".py",
   "mimetype": "text/x-python",
   "name": "python",
   "nbconvert_exporter": "python",
   "pygments_lexer": "ipython3",
   "version": "3.8.3"
  }
 },
 "nbformat": 4,
 "nbformat_minor": 4
}
