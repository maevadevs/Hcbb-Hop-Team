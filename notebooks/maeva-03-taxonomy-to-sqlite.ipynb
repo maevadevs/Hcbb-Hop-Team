{
 "cells": [
  {
   "cell_type": "code",
   "execution_count": 2,
   "id": "killing-miniature",
   "metadata": {},
   "outputs": [],
   "source": [
    "import pandas as pd\n",
    "import sqlite3\n",
    "from tqdm.notebook import tqdm # Provides progress bar for long tasks"
   ]
  },
  {
   "cell_type": "markdown",
   "id": "pacific-joshua",
   "metadata": {},
   "source": [
    "## Loading taxonomy dataset into sqlite"
   ]
  },
  {
   "cell_type": "code",
   "execution_count": 3,
   "id": "abroad-trail",
   "metadata": {},
   "outputs": [
    {
     "data": {
      "text/html": [
       "<div>\n",
       "<style scoped>\n",
       "    .dataframe tbody tr th:only-of-type {\n",
       "        vertical-align: middle;\n",
       "    }\n",
       "\n",
       "    .dataframe tbody tr th {\n",
       "        vertical-align: top;\n",
       "    }\n",
       "\n",
       "    .dataframe thead th {\n",
       "        text-align: right;\n",
       "    }\n",
       "</style>\n",
       "<table border=\"1\" class=\"dataframe\">\n",
       "  <thead>\n",
       "    <tr style=\"text-align: right;\">\n",
       "      <th></th>\n",
       "      <th>name</th>\n",
       "    </tr>\n",
       "  </thead>\n",
       "  <tbody>\n",
       "    <tr>\n",
       "      <th>0</th>\n",
       "      <td>hop_teaming</td>\n",
       "    </tr>\n",
       "    <tr>\n",
       "      <th>1</th>\n",
       "      <td>taxonomy</td>\n",
       "    </tr>\n",
       "  </tbody>\n",
       "</table>\n",
       "</div>"
      ],
      "text/plain": [
       "          name\n",
       "0  hop_teaming\n",
       "1     taxonomy"
      ]
     },
     "metadata": {},
     "output_type": "display_data"
    }
   ],
   "source": [
    "# Listing currently existing tables in the database\n",
    "with sqlite3.connect('../data/hcbb.sqlite') as db :\n",
    "    query = \"\"\"\n",
    "    SELECT name\n",
    "    FROM sqlite_master \n",
    "    WHERE type ='table' \n",
    "    AND name NOT LIKE 'sqlite_%';\n",
    "    \"\"\" \n",
    "    \n",
    "    test_df = pd.read_sql(query, db)\n",
    "\n",
    "display(test_df)"
   ]
  },
  {
   "cell_type": "markdown",
   "id": "permanent-combining",
   "metadata": {},
   "source": [
    "**IMPORTANT! This loading into the database should only be run once.** If you run this multiple times, it will create duplicate entries in the database. For the security of not re-running this code by accident, the code here is converted into markdown. **If you need to rebuild the database, delete the `data/hcbb.sqlite` file and re-run this cell as code. You will also need to make sure to re-run any other related scripts that builds other tables in the database.**"
   ]
  },
  {
   "cell_type": "markdown",
   "id": "minor-lounge",
   "metadata": {},
   "source": [
    "with sqlite3.connect('../data/hcbb.sqlite') as db:\n",
    "    taxonomy = pd.read_csv(\"../data/nucc_taxonomy_210.csv\") \n",
    "    taxonomy = taxonomy[['Code', 'Grouping', 'Classification', 'Specialization']] \n",
    "    taxonomy.columns = ['taxonomy_code', 'grouping', 'classification', 'specialization'] \n",
    "    taxonomy.to_sql('taxonomy', db, if_exists = 'append', index = False)\n",
    "\n",
    "    # When done, print done\n",
    "    print('Task done.')"
   ]
  },
  {
   "cell_type": "code",
   "execution_count": 4,
   "id": "unauthorized-inflation",
   "metadata": {},
   "outputs": [
    {
     "data": {
      "text/html": [
       "<div>\n",
       "<style scoped>\n",
       "    .dataframe tbody tr th:only-of-type {\n",
       "        vertical-align: middle;\n",
       "    }\n",
       "\n",
       "    .dataframe tbody tr th {\n",
       "        vertical-align: top;\n",
       "    }\n",
       "\n",
       "    .dataframe thead th {\n",
       "        text-align: right;\n",
       "    }\n",
       "</style>\n",
       "<table border=\"1\" class=\"dataframe\">\n",
       "  <thead>\n",
       "    <tr style=\"text-align: right;\">\n",
       "      <th></th>\n",
       "      <th>name</th>\n",
       "    </tr>\n",
       "  </thead>\n",
       "  <tbody>\n",
       "    <tr>\n",
       "      <th>0</th>\n",
       "      <td>npidata</td>\n",
       "    </tr>\n",
       "    <tr>\n",
       "      <th>1</th>\n",
       "      <td>hop_teaming</td>\n",
       "    </tr>\n",
       "    <tr>\n",
       "      <th>2</th>\n",
       "      <td>taxonomy</td>\n",
       "    </tr>\n",
       "  </tbody>\n",
       "</table>\n",
       "</div>"
      ],
      "text/plain": [
       "          name\n",
       "0      npidata\n",
       "1  hop_teaming\n",
       "2     taxonomy"
      ]
     },
     "metadata": {},
     "output_type": "display_data"
    }
   ],
   "source": [
    "# Listing currently existing tables in the database\n",
    "with sqlite3.connect('../data/hcbb.sqlite') as db :\n",
    "    query = \"\"\"\n",
    "    SELECT name\n",
    "    FROM sqlite_master \n",
    "    WHERE type ='table' \n",
    "    AND name NOT LIKE 'sqlite_%';\n",
    "    \"\"\" \n",
    "    \n",
    "    test_df = pd.read_sql(query, db)\n",
    "\n",
    "display(test_df)"
   ]
  },
  {
   "cell_type": "code",
   "execution_count": 5,
   "id": "congressional-toyota",
   "metadata": {},
   "outputs": [
    {
     "data": {
      "text/html": [
       "<div>\n",
       "<style scoped>\n",
       "    .dataframe tbody tr th:only-of-type {\n",
       "        vertical-align: middle;\n",
       "    }\n",
       "\n",
       "    .dataframe tbody tr th {\n",
       "        vertical-align: top;\n",
       "    }\n",
       "\n",
       "    .dataframe thead th {\n",
       "        text-align: right;\n",
       "    }\n",
       "</style>\n",
       "<table border=\"1\" class=\"dataframe\">\n",
       "  <thead>\n",
       "    <tr style=\"text-align: right;\">\n",
       "      <th></th>\n",
       "      <th>count_all</th>\n",
       "    </tr>\n",
       "  </thead>\n",
       "  <tbody>\n",
       "    <tr>\n",
       "      <th>0</th>\n",
       "      <td>865</td>\n",
       "    </tr>\n",
       "  </tbody>\n",
       "</table>\n",
       "</div>"
      ],
      "text/plain": [
       "   count_all\n",
       "0        865"
      ]
     },
     "metadata": {},
     "output_type": "display_data"
    }
   ],
   "source": [
    "with sqlite3.connect('../data/hcbb.sqlite') as db :\n",
    "    query = \"\"\"\n",
    "    SELECT COUNT(*) AS count_all FROM taxonomy;\n",
    "    \"\"\" \n",
    "    \n",
    "    test_df = pd.read_sql(query, db)\n",
    "\n",
    "display(test_df)"
   ]
  },
  {
   "cell_type": "code",
   "execution_count": 6,
   "id": "inappropriate-queue",
   "metadata": {},
   "outputs": [
    {
     "data": {
      "text/html": [
       "<div>\n",
       "<style scoped>\n",
       "    .dataframe tbody tr th:only-of-type {\n",
       "        vertical-align: middle;\n",
       "    }\n",
       "\n",
       "    .dataframe tbody tr th {\n",
       "        vertical-align: top;\n",
       "    }\n",
       "\n",
       "    .dataframe thead th {\n",
       "        text-align: right;\n",
       "    }\n",
       "</style>\n",
       "<table border=\"1\" class=\"dataframe\">\n",
       "  <thead>\n",
       "    <tr style=\"text-align: right;\">\n",
       "      <th></th>\n",
       "      <th>taxonomy_code</th>\n",
       "      <th>grouping</th>\n",
       "      <th>classification</th>\n",
       "      <th>specialization</th>\n",
       "    </tr>\n",
       "  </thead>\n",
       "  <tbody>\n",
       "    <tr>\n",
       "      <th>0</th>\n",
       "      <td>193200000X</td>\n",
       "      <td>Group</td>\n",
       "      <td>Multi-Specialty</td>\n",
       "      <td>None</td>\n",
       "    </tr>\n",
       "    <tr>\n",
       "      <th>1</th>\n",
       "      <td>193400000X</td>\n",
       "      <td>Group</td>\n",
       "      <td>Single Specialty</td>\n",
       "      <td>None</td>\n",
       "    </tr>\n",
       "    <tr>\n",
       "      <th>2</th>\n",
       "      <td>207K00000X</td>\n",
       "      <td>Allopathic &amp; Osteopathic Physicians</td>\n",
       "      <td>Allergy &amp; Immunology</td>\n",
       "      <td>None</td>\n",
       "    </tr>\n",
       "    <tr>\n",
       "      <th>3</th>\n",
       "      <td>207KA0200X</td>\n",
       "      <td>Allopathic &amp; Osteopathic Physicians</td>\n",
       "      <td>Allergy &amp; Immunology</td>\n",
       "      <td>Allergy</td>\n",
       "    </tr>\n",
       "    <tr>\n",
       "      <th>4</th>\n",
       "      <td>207KI0005X</td>\n",
       "      <td>Allopathic &amp; Osteopathic Physicians</td>\n",
       "      <td>Allergy &amp; Immunology</td>\n",
       "      <td>Clinical &amp; Laboratory Immunology</td>\n",
       "    </tr>\n",
       "  </tbody>\n",
       "</table>\n",
       "</div>"
      ],
      "text/plain": [
       "  taxonomy_code                             grouping        classification  \\\n",
       "0    193200000X                                Group       Multi-Specialty   \n",
       "1    193400000X                                Group      Single Specialty   \n",
       "2    207K00000X  Allopathic & Osteopathic Physicians  Allergy & Immunology   \n",
       "3    207KA0200X  Allopathic & Osteopathic Physicians  Allergy & Immunology   \n",
       "4    207KI0005X  Allopathic & Osteopathic Physicians  Allergy & Immunology   \n",
       "\n",
       "                     specialization  \n",
       "0                              None  \n",
       "1                              None  \n",
       "2                              None  \n",
       "3                           Allergy  \n",
       "4  Clinical & Laboratory Immunology  "
      ]
     },
     "metadata": {},
     "output_type": "display_data"
    }
   ],
   "source": [
    "with sqlite3.connect('../data/hcbb.sqlite') as db :\n",
    "    \n",
    "    query = \"\"\"\n",
    "    SELECT *\n",
    "    FROM taxonomy\n",
    "    LIMIT 5;\n",
    "    \"\"\" \n",
    "    \n",
    "    test_df = pd.read_sql(query, db)\n",
    "\n",
    "display(test_df)"
   ]
  }
 ],
 "metadata": {
  "kernelspec": {
   "display_name": "Python 3",
   "language": "python",
   "name": "python3"
  },
  "language_info": {
   "codemirror_mode": {
    "name": "ipython",
    "version": 3
   },
   "file_extension": ".py",
   "mimetype": "text/x-python",
   "name": "python",
   "nbconvert_exporter": "python",
   "pygments_lexer": "ipython3",
   "version": "3.8.8"
  },
  "toc": {
   "base_numbering": 1,
   "nav_menu": {},
   "number_sections": false,
   "sideBar": true,
   "skip_h1_title": false,
   "title_cell": "Table of Contents",
   "title_sidebar": "Contents",
   "toc_cell": false,
   "toc_position": {},
   "toc_section_display": true,
   "toc_window_display": true
  },
  "varInspector": {
   "cols": {
    "lenName": 16,
    "lenType": 16,
    "lenVar": 40
   },
   "kernels_config": {
    "python": {
     "delete_cmd_postfix": "",
     "delete_cmd_prefix": "del ",
     "library": "var_list.py",
     "varRefreshCmd": "print(var_dic_list())"
    },
    "r": {
     "delete_cmd_postfix": ") ",
     "delete_cmd_prefix": "rm(",
     "library": "var_list.r",
     "varRefreshCmd": "cat(var_dic_list()) "
    }
   },
   "types_to_exclude": [
    "module",
    "function",
    "builtin_function_or_method",
    "instance",
    "_Feature"
   ],
   "window_display": false
  }
 },
 "nbformat": 4,
 "nbformat_minor": 5
}
