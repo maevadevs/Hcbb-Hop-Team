{
 "cells": [
  {
   "cell_type": "code",
   "execution_count": 1,
   "id": "killing-miniature",
   "metadata": {},
   "outputs": [],
   "source": [
    "import pandas as pd\n",
    "import sqlite3\n",
    "from tqdm.notebook import tqdm # Provides progress bar for long tasks"
   ]
  },
  {
   "cell_type": "markdown",
   "id": "pacific-joshua",
   "metadata": {},
   "source": [
    "## Loading hop_teaming dataset into sqlite"
   ]
  },
  {
   "cell_type": "markdown",
   "id": "permanent-combining",
   "metadata": {},
   "source": [
    "**IMPORTANT! This loading into the database should only be run once.** If you run this multiple times, it will create duplicate entries in the database. For the security of not re-running this code by accident, the code here is converted into markdown. **If you need to rebuild the database, delete the `data/hcbb.sqlite` file and re-run this cell as code. You will also need to make sure to re-run any other related scripts that builds other tables in the database.**"
   ]
  },
  {
   "cell_type": "markdown",
   "id": "cloudy-crawford",
   "metadata": {},
   "source": [
    "with sqlite3.connect('../data/hcbb.sqlite') as db:\n",
    "    \n",
    "    # Add a table named \"hop_teaming\" to hcbb.sqlite database\n",
    "    for chunk in tqdm(pd.read_csv(\"../data/DocGraph_Hop_Teaming_2017.csv\", chunksize = 10000)):\n",
    "        # Append the chunk to a calls table\n",
    "        chunk.to_sql(\n",
    "            'hop_teaming', # The table name\n",
    "            db, # The database\n",
    "            if_exists = 'append', \n",
    "            index = False # Do not include the pandas index column\n",
    "        )\n",
    "\n",
    "    # When done, print done\n",
    "    print('Task done.')"
   ]
  }
 ],
 "metadata": {
  "kernelspec": {
   "display_name": "Python 3",
   "language": "python",
   "name": "python3"
  },
  "language_info": {
   "codemirror_mode": {
    "name": "ipython",
    "version": 3
   },
   "file_extension": ".py",
   "mimetype": "text/x-python",
   "name": "python",
   "nbconvert_exporter": "python",
   "pygments_lexer": "ipython3",
   "version": "3.8.5"
  },
  "toc": {
   "base_numbering": 1,
   "nav_menu": {},
   "number_sections": false,
   "sideBar": true,
   "skip_h1_title": false,
   "title_cell": "Table of Contents",
   "title_sidebar": "Contents",
   "toc_cell": false,
   "toc_position": {},
   "toc_section_display": true,
   "toc_window_display": true
  },
  "varInspector": {
   "cols": {
    "lenName": 16,
    "lenType": 16,
    "lenVar": 40
   },
   "kernels_config": {
    "python": {
     "delete_cmd_postfix": "",
     "delete_cmd_prefix": "del ",
     "library": "var_list.py",
     "varRefreshCmd": "print(var_dic_list())"
    },
    "r": {
     "delete_cmd_postfix": ") ",
     "delete_cmd_prefix": "rm(",
     "library": "var_list.r",
     "varRefreshCmd": "cat(var_dic_list()) "
    }
   },
   "types_to_exclude": [
    "module",
    "function",
    "builtin_function_or_method",
    "instance",
    "_Feature"
   ],
   "window_display": false
  }
 },
 "nbformat": 4,
 "nbformat_minor": 5
}
