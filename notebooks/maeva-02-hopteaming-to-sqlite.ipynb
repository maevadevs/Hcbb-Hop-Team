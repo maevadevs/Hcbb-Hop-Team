{
 "cells": [
  {
   "cell_type": "code",
   "execution_count": 1,
   "id": "killing-miniature",
   "metadata": {},
   "outputs": [],
   "source": [
    "import pandas as pd\n",
    "import sqlite3\n",
    "from tqdm.notebook import tqdm # Provides progress bar for long tasks"
   ]
  },
  {
   "cell_type": "markdown",
   "id": "pacific-joshua",
   "metadata": {},
   "source": [
    "## Loading hop_teaming dataset into sqlite"
   ]
  },
  {
   "cell_type": "code",
   "execution_count": 2,
   "id": "abroad-trail",
   "metadata": {},
   "outputs": [
    {
     "data": {
      "text/html": [
       "<div>\n",
       "<style scoped>\n",
       "    .dataframe tbody tr th:only-of-type {\n",
       "        vertical-align: middle;\n",
       "    }\n",
       "\n",
       "    .dataframe tbody tr th {\n",
       "        vertical-align: top;\n",
       "    }\n",
       "\n",
       "    .dataframe thead th {\n",
       "        text-align: right;\n",
       "    }\n",
       "</style>\n",
       "<table border=\"1\" class=\"dataframe\">\n",
       "  <thead>\n",
       "    <tr style=\"text-align: right;\">\n",
       "      <th></th>\n",
       "      <th>name</th>\n",
       "    </tr>\n",
       "  </thead>\n",
       "  <tbody>\n",
       "    <tr>\n",
       "      <th>0</th>\n",
       "      <td>npidata</td>\n",
       "    </tr>\n",
       "  </tbody>\n",
       "</table>\n",
       "</div>"
      ],
      "text/plain": [
       "      name\n",
       "0  npidata"
      ]
     },
     "metadata": {},
     "output_type": "display_data"
    }
   ],
   "source": [
    "# Listing currently existing tables in the database\n",
    "with sqlite3.connect('../data/hcbb.sqlite') as db :\n",
    "    query = \"\"\"\n",
    "    SELECT name\n",
    "    FROM sqlite_master \n",
    "    WHERE type ='table' \n",
    "    AND name NOT LIKE 'sqlite_%';\n",
    "    \"\"\" \n",
    "    \n",
    "    test_df = pd.read_sql(query, db)\n",
    "\n",
    "display(test_df)"
   ]
  },
  {
   "cell_type": "markdown",
   "id": "permanent-combining",
   "metadata": {},
   "source": [
    "**IMPORTANT! This loading into the database should only be run once.** If you run this multiple times, it will create duplicate entries in the database. For the security of not re-running this code by accident, the code here is converted into markdown. **If you need to rebuild the database, delete the `data/hcbb.sqlite` file and re-run this cell as code. You will also need to make sure to re-run any other related scripts that builds other tables in the database.**"
   ]
  },
  {
   "cell_type": "markdown",
   "id": "finished-peeing",
   "metadata": {},
   "source": [
    "with sqlite3.connect('../data/hcbb.sqlite') as db:\n",
    "    \n",
    "    # Add a table named \"hop_teaming\" to hcbb.sqlite database\n",
    "    for chunk in tqdm(pd.read_csv(\"../data/DocGraph_Hop_Teaming_2017.csv\", chunksize = 10000)):\n",
    "        # Append the chunk to a hop_teaming table\n",
    "        chunk.to_sql(\n",
    "            'hop_teaming', # The table name\n",
    "            db, # The database\n",
    "            if_exists = 'append', \n",
    "            index = False # Do not include the pandas index column\n",
    "        )\n",
    "\n",
    "    # When done, print done\n",
    "    print('Task done.')"
   ]
  },
  {
   "cell_type": "code",
   "execution_count": 4,
   "id": "unauthorized-inflation",
   "metadata": {},
   "outputs": [
    {
     "data": {
      "text/html": [
       "<div>\n",
       "<style scoped>\n",
       "    .dataframe tbody tr th:only-of-type {\n",
       "        vertical-align: middle;\n",
       "    }\n",
       "\n",
       "    .dataframe tbody tr th {\n",
       "        vertical-align: top;\n",
       "    }\n",
       "\n",
       "    .dataframe thead th {\n",
       "        text-align: right;\n",
       "    }\n",
       "</style>\n",
       "<table border=\"1\" class=\"dataframe\">\n",
       "  <thead>\n",
       "    <tr style=\"text-align: right;\">\n",
       "      <th></th>\n",
       "      <th>name</th>\n",
       "    </tr>\n",
       "  </thead>\n",
       "  <tbody>\n",
       "    <tr>\n",
       "      <th>0</th>\n",
       "      <td>npidata</td>\n",
       "    </tr>\n",
       "    <tr>\n",
       "      <th>1</th>\n",
       "      <td>hop_teaming</td>\n",
       "    </tr>\n",
       "  </tbody>\n",
       "</table>\n",
       "</div>"
      ],
      "text/plain": [
       "          name\n",
       "0      npidata\n",
       "1  hop_teaming"
      ]
     },
     "metadata": {},
     "output_type": "display_data"
    }
   ],
   "source": [
    "# Listing currently existing tables in the database\n",
    "with sqlite3.connect('../data/hcbb.sqlite') as db :\n",
    "    query = \"\"\"\n",
    "    SELECT name\n",
    "    FROM sqlite_master \n",
    "    WHERE type ='table' \n",
    "    AND name NOT LIKE 'sqlite_%';\n",
    "    \"\"\" \n",
    "    \n",
    "    test_df = pd.read_sql(query, db)\n",
    "\n",
    "display(test_df)"
   ]
  },
  {
   "cell_type": "code",
   "execution_count": 5,
   "id": "congressional-toyota",
   "metadata": {},
   "outputs": [
    {
     "data": {
      "text/html": [
       "<div>\n",
       "<style scoped>\n",
       "    .dataframe tbody tr th:only-of-type {\n",
       "        vertical-align: middle;\n",
       "    }\n",
       "\n",
       "    .dataframe tbody tr th {\n",
       "        vertical-align: top;\n",
       "    }\n",
       "\n",
       "    .dataframe thead th {\n",
       "        text-align: right;\n",
       "    }\n",
       "</style>\n",
       "<table border=\"1\" class=\"dataframe\">\n",
       "  <thead>\n",
       "    <tr style=\"text-align: right;\">\n",
       "      <th></th>\n",
       "      <th>count_all</th>\n",
       "    </tr>\n",
       "  </thead>\n",
       "  <tbody>\n",
       "    <tr>\n",
       "      <th>0</th>\n",
       "      <td>203330907</td>\n",
       "    </tr>\n",
       "  </tbody>\n",
       "</table>\n",
       "</div>"
      ],
      "text/plain": [
       "   count_all\n",
       "0  203330907"
      ]
     },
     "metadata": {},
     "output_type": "display_data"
    }
   ],
   "source": [
    "with sqlite3.connect('../data/hcbb.sqlite') as db :\n",
    "    query = \"\"\"\n",
    "    SELECT COUNT(*) AS count_all FROM hop_teaming;\n",
    "    \"\"\" \n",
    "    \n",
    "    test_df = pd.read_sql(query, db)\n",
    "\n",
    "display(test_df)"
   ]
  },
  {
   "cell_type": "code",
   "execution_count": 6,
   "id": "inappropriate-queue",
   "metadata": {},
   "outputs": [
    {
     "data": {
      "text/html": [
       "<div>\n",
       "<style scoped>\n",
       "    .dataframe tbody tr th:only-of-type {\n",
       "        vertical-align: middle;\n",
       "    }\n",
       "\n",
       "    .dataframe tbody tr th {\n",
       "        vertical-align: top;\n",
       "    }\n",
       "\n",
       "    .dataframe thead th {\n",
       "        text-align: right;\n",
       "    }\n",
       "</style>\n",
       "<table border=\"1\" class=\"dataframe\">\n",
       "  <thead>\n",
       "    <tr style=\"text-align: right;\">\n",
       "      <th></th>\n",
       "      <th>from_npi</th>\n",
       "      <th>to_npi</th>\n",
       "      <th>patient_count</th>\n",
       "      <th>transaction_count</th>\n",
       "      <th>average_day_wait</th>\n",
       "      <th>std_day_wait</th>\n",
       "    </tr>\n",
       "  </thead>\n",
       "  <tbody>\n",
       "    <tr>\n",
       "      <th>0</th>\n",
       "      <td>1003863580</td>\n",
       "      <td>1000000004</td>\n",
       "      <td>19</td>\n",
       "      <td>19</td>\n",
       "      <td>108.895</td>\n",
       "      <td>84.598</td>\n",
       "    </tr>\n",
       "    <tr>\n",
       "      <th>1</th>\n",
       "      <td>1043250400</td>\n",
       "      <td>1000000004</td>\n",
       "      <td>20</td>\n",
       "      <td>20</td>\n",
       "      <td>87.000</td>\n",
       "      <td>77.173</td>\n",
       "    </tr>\n",
       "    <tr>\n",
       "      <th>2</th>\n",
       "      <td>1033239413</td>\n",
       "      <td>1000000004</td>\n",
       "      <td>20</td>\n",
       "      <td>20</td>\n",
       "      <td>58.800</td>\n",
       "      <td>76.982</td>\n",
       "    </tr>\n",
       "    <tr>\n",
       "      <th>3</th>\n",
       "      <td>1033142146</td>\n",
       "      <td>1000000004</td>\n",
       "      <td>491</td>\n",
       "      <td>535</td>\n",
       "      <td>10.232</td>\n",
       "      <td>36.558</td>\n",
       "    </tr>\n",
       "    <tr>\n",
       "      <th>4</th>\n",
       "      <td>1013957562</td>\n",
       "      <td>1000000004</td>\n",
       "      <td>25</td>\n",
       "      <td>26</td>\n",
       "      <td>78.692</td>\n",
       "      <td>59.305</td>\n",
       "    </tr>\n",
       "  </tbody>\n",
       "</table>\n",
       "</div>"
      ],
      "text/plain": [
       "     from_npi      to_npi  patient_count  transaction_count  average_day_wait  \\\n",
       "0  1003863580  1000000004             19                 19           108.895   \n",
       "1  1043250400  1000000004             20                 20            87.000   \n",
       "2  1033239413  1000000004             20                 20            58.800   \n",
       "3  1033142146  1000000004            491                535            10.232   \n",
       "4  1013957562  1000000004             25                 26            78.692   \n",
       "\n",
       "   std_day_wait  \n",
       "0        84.598  \n",
       "1        77.173  \n",
       "2        76.982  \n",
       "3        36.558  \n",
       "4        59.305  "
      ]
     },
     "metadata": {},
     "output_type": "display_data"
    }
   ],
   "source": [
    "with sqlite3.connect('../data/hcbb.sqlite') as db :\n",
    "    \n",
    "    query = \"\"\"\n",
    "    SELECT *\n",
    "    FROM hop_teaming\n",
    "    LIMIT 5;\n",
    "    \"\"\" \n",
    "    \n",
    "    test_df = pd.read_sql(query, db)\n",
    "\n",
    "display(test_df)"
   ]
  }
 ],
 "metadata": {
  "kernelspec": {
   "display_name": "Python 3",
   "language": "python",
   "name": "python3"
  },
  "language_info": {
   "codemirror_mode": {
    "name": "ipython",
    "version": 3
   },
   "file_extension": ".py",
   "mimetype": "text/x-python",
   "name": "python",
   "nbconvert_exporter": "python",
   "pygments_lexer": "ipython3",
   "version": "3.8.5"
  },
  "toc": {
   "base_numbering": 1,
   "nav_menu": {},
   "number_sections": false,
   "sideBar": true,
   "skip_h1_title": false,
   "title_cell": "Table of Contents",
   "title_sidebar": "Contents",
   "toc_cell": false,
   "toc_position": {},
   "toc_section_display": true,
   "toc_window_display": true
  },
  "varInspector": {
   "cols": {
    "lenName": 16,
    "lenType": 16,
    "lenVar": 40
   },
   "kernels_config": {
    "python": {
     "delete_cmd_postfix": "",
     "delete_cmd_prefix": "del ",
     "library": "var_list.py",
     "varRefreshCmd": "print(var_dic_list())"
    },
    "r": {
     "delete_cmd_postfix": ") ",
     "delete_cmd_prefix": "rm(",
     "library": "var_list.r",
     "varRefreshCmd": "cat(var_dic_list()) "
    }
   },
   "types_to_exclude": [
    "module",
    "function",
    "builtin_function_or_method",
    "instance",
    "_Feature"
   ],
   "window_display": false
  }
 },
 "nbformat": 4,
 "nbformat_minor": 5
}
