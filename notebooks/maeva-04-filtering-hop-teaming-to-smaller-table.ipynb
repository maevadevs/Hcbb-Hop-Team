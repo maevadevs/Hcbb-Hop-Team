{
 "cells": [
  {
   "cell_type": "code",
   "execution_count": 1,
   "id": "decreased-pound",
   "metadata": {},
   "outputs": [],
   "source": [
    "import pandas as pd\n",
    "import sqlite3\n",
    "from tqdm.notebook import tqdm # Provides progress bar for long tasks"
   ]
  },
  {
   "cell_type": "markdown",
   "id": "sunrise-hanging",
   "metadata": {},
   "source": [
    "### Listing currently existing tables in the database"
   ]
  },
  {
   "cell_type": "code",
   "execution_count": 8,
   "id": "arabic-success",
   "metadata": {},
   "outputs": [
    {
     "data": {
      "text/html": [
       "<div>\n",
       "<style scoped>\n",
       "    .dataframe tbody tr th:only-of-type {\n",
       "        vertical-align: middle;\n",
       "    }\n",
       "\n",
       "    .dataframe tbody tr th {\n",
       "        vertical-align: top;\n",
       "    }\n",
       "\n",
       "    .dataframe thead th {\n",
       "        text-align: right;\n",
       "    }\n",
       "</style>\n",
       "<table border=\"1\" class=\"dataframe\">\n",
       "  <thead>\n",
       "    <tr style=\"text-align: right;\">\n",
       "      <th></th>\n",
       "      <th>name</th>\n",
       "    </tr>\n",
       "  </thead>\n",
       "  <tbody>\n",
       "    <tr>\n",
       "      <th>0</th>\n",
       "      <td>hop_teaming</td>\n",
       "    </tr>\n",
       "    <tr>\n",
       "      <th>1</th>\n",
       "      <td>taxonomy</td>\n",
       "    </tr>\n",
       "    <tr>\n",
       "      <th>2</th>\n",
       "      <td>npidata</td>\n",
       "    </tr>\n",
       "    <tr>\n",
       "      <th>3</th>\n",
       "      <td>filtered_hop_teaming</td>\n",
       "    </tr>\n",
       "  </tbody>\n",
       "</table>\n",
       "</div>"
      ],
      "text/plain": [
       "                   name\n",
       "0           hop_teaming\n",
       "1              taxonomy\n",
       "2               npidata\n",
       "3  filtered_hop_teaming"
      ]
     },
     "metadata": {},
     "output_type": "display_data"
    }
   ],
   "source": [
    "with sqlite3.connect('../data/hcbb.sqlite') as db :\n",
    "    query = \"\"\"\n",
    "    SELECT name\n",
    "    FROM sqlite_master \n",
    "    WHERE type ='table' \n",
    "    AND name NOT LIKE 'sqlite_%';\n",
    "    \"\"\" \n",
    "    \n",
    "    db_table_list = pd.read_sql(query, db)\n",
    "\n",
    "display(db_table_list)"
   ]
  },
  {
   "cell_type": "markdown",
   "id": "convenient-yorkshire",
   "metadata": {},
   "source": [
    "### How many records do we originally have in the hop_teaming table?"
   ]
  },
  {
   "cell_type": "markdown",
   "id": "fifth-volleyball",
   "metadata": {},
   "source": [
    "**NOTE: The following cell codes runs in ~5 minutes. Set to markdown for security.**"
   ]
  },
  {
   "cell_type": "markdown",
   "id": "dated-railway",
   "metadata": {},
   "source": [
    "with sqlite3.connect('../data/hcbb.sqlite') as db :\n",
    "    query = \"\"\"\n",
    "    SELECT COUNT(*)\n",
    "    FROM hop_teaming;\n",
    "    \"\"\" \n",
    "    \n",
    "    db_hop_teaming_count = pd.read_sql(query, db)\n",
    "\n",
    "display(db_hop_teaming_count)"
   ]
  },
  {
   "cell_type": "markdown",
   "id": "usual-blond",
   "metadata": {},
   "source": [
    "Result: ~203 million records"
   ]
  },
  {
   "cell_type": "markdown",
   "id": "automated-harassment",
   "metadata": {},
   "source": [
    "### Filter `from_npi` to be entity type 1 and `to_npi` to be entity type 2"
   ]
  },
  {
   "cell_type": "markdown",
   "id": "unsigned-somewhere",
   "metadata": {},
   "source": [
    "**NOTE: The following cell codes runs in ~5-10 minutes. Set to markdown for security.**"
   ]
  },
  {
   "cell_type": "code",
   "execution_count": 3,
   "id": "statistical-playback",
   "metadata": {},
   "outputs": [
    {
     "data": {
      "text/plain": [
       "(233546, 6)"
      ]
     },
     "metadata": {},
     "output_type": "display_data"
    },
    {
     "data": {
      "text/html": [
       "<div>\n",
       "<style scoped>\n",
       "    .dataframe tbody tr th:only-of-type {\n",
       "        vertical-align: middle;\n",
       "    }\n",
       "\n",
       "    .dataframe tbody tr th {\n",
       "        vertical-align: top;\n",
       "    }\n",
       "\n",
       "    .dataframe thead th {\n",
       "        text-align: right;\n",
       "    }\n",
       "</style>\n",
       "<table border=\"1\" class=\"dataframe\">\n",
       "  <thead>\n",
       "    <tr style=\"text-align: right;\">\n",
       "      <th></th>\n",
       "      <th>from_npi</th>\n",
       "      <th>to_npi</th>\n",
       "      <th>patient_count</th>\n",
       "      <th>transaction_count</th>\n",
       "      <th>average_day_wait</th>\n",
       "      <th>std_day_wait</th>\n",
       "    </tr>\n",
       "  </thead>\n",
       "  <tbody>\n",
       "    <tr>\n",
       "      <th>0</th>\n",
       "      <td>1043215882</td>\n",
       "      <td>1003028770</td>\n",
       "      <td>29</td>\n",
       "      <td>44</td>\n",
       "      <td>47.455</td>\n",
       "      <td>56.183</td>\n",
       "    </tr>\n",
       "    <tr>\n",
       "      <th>1</th>\n",
       "      <td>1043232879</td>\n",
       "      <td>1003028770</td>\n",
       "      <td>24</td>\n",
       "      <td>24</td>\n",
       "      <td>112.333</td>\n",
       "      <td>80.894</td>\n",
       "    </tr>\n",
       "    <tr>\n",
       "      <th>2</th>\n",
       "      <td>1043302466</td>\n",
       "      <td>1003028770</td>\n",
       "      <td>24</td>\n",
       "      <td>26</td>\n",
       "      <td>98.192</td>\n",
       "      <td>97.772</td>\n",
       "    </tr>\n",
       "    <tr>\n",
       "      <th>3</th>\n",
       "      <td>1033297429</td>\n",
       "      <td>1003028770</td>\n",
       "      <td>56</td>\n",
       "      <td>62</td>\n",
       "      <td>53.145</td>\n",
       "      <td>58.831</td>\n",
       "    </tr>\n",
       "    <tr>\n",
       "      <th>4</th>\n",
       "      <td>1043206329</td>\n",
       "      <td>1003028770</td>\n",
       "      <td>173</td>\n",
       "      <td>177</td>\n",
       "      <td>97.864</td>\n",
       "      <td>81.756</td>\n",
       "    </tr>\n",
       "  </tbody>\n",
       "</table>\n",
       "</div>"
      ],
      "text/plain": [
       "     from_npi      to_npi  patient_count  transaction_count  average_day_wait  \\\n",
       "0  1043215882  1003028770             29                 44            47.455   \n",
       "1  1043232879  1003028770             24                 24           112.333   \n",
       "2  1043302466  1003028770             24                 26            98.192   \n",
       "3  1033297429  1003028770             56                 62            53.145   \n",
       "4  1043206329  1003028770            173                177            97.864   \n",
       "\n",
       "   std_day_wait  \n",
       "0        56.183  \n",
       "1        80.894  \n",
       "2        97.772  \n",
       "3        58.831  \n",
       "4        81.756  "
      ]
     },
     "metadata": {},
     "output_type": "display_data"
    }
   ],
   "source": [
    "with sqlite3.connect('../data/hcbb.sqlite') as db :\n",
    "    query = \"\"\"\n",
    "    WITH npi_entity_type_1 AS (\n",
    "        SELECT npi\n",
    "        FROM npidata \n",
    "        WHERE entity_type_code = 1\n",
    "    ), npi_entity_type_2 AS (\n",
    "        SELECT npi\n",
    "        FROM npidata \n",
    "        WHERE entity_type_code = 2\n",
    "    )\n",
    "    SELECT *\n",
    "    FROM hop_teaming\n",
    "    WHERE from_npi IN npi_entity_type_1\n",
    "    AND to_npi IN npi_entity_type_2\n",
    "    \"\"\"\n",
    "    \n",
    "    filtered_hop_teaming = pd.read_sql(query, db)\n",
    "\n",
    "display(filtered_hop_teaming.shape)\n",
    "display(filtered_hop_teaming.head())"
   ]
  },
  {
   "cell_type": "markdown",
   "id": "existing-depression",
   "metadata": {},
   "source": [
    "### Filter so that the `transaction_count` is >= 50 and `average_day_wait` <= 50"
   ]
  },
  {
   "cell_type": "code",
   "execution_count": 4,
   "id": "young-pride",
   "metadata": {},
   "outputs": [
    {
     "data": {
      "text/plain": [
       "(132000, 6)"
      ]
     },
     "metadata": {},
     "output_type": "display_data"
    },
    {
     "data": {
      "text/html": [
       "<div>\n",
       "<style scoped>\n",
       "    .dataframe tbody tr th:only-of-type {\n",
       "        vertical-align: middle;\n",
       "    }\n",
       "\n",
       "    .dataframe tbody tr th {\n",
       "        vertical-align: top;\n",
       "    }\n",
       "\n",
       "    .dataframe thead th {\n",
       "        text-align: right;\n",
       "    }\n",
       "</style>\n",
       "<table border=\"1\" class=\"dataframe\">\n",
       "  <thead>\n",
       "    <tr style=\"text-align: right;\">\n",
       "      <th></th>\n",
       "      <th>from_npi</th>\n",
       "      <th>to_npi</th>\n",
       "      <th>patient_count</th>\n",
       "      <th>transaction_count</th>\n",
       "      <th>average_day_wait</th>\n",
       "      <th>std_day_wait</th>\n",
       "    </tr>\n",
       "  </thead>\n",
       "  <tbody>\n",
       "    <tr>\n",
       "      <th>0</th>\n",
       "      <td>1043215882</td>\n",
       "      <td>1003028770</td>\n",
       "      <td>29</td>\n",
       "      <td>44</td>\n",
       "      <td>47.455</td>\n",
       "      <td>56.183</td>\n",
       "    </tr>\n",
       "    <tr>\n",
       "      <th>3</th>\n",
       "      <td>1033297429</td>\n",
       "      <td>1003028770</td>\n",
       "      <td>56</td>\n",
       "      <td>62</td>\n",
       "      <td>53.145</td>\n",
       "      <td>58.831</td>\n",
       "    </tr>\n",
       "    <tr>\n",
       "      <th>4</th>\n",
       "      <td>1043206329</td>\n",
       "      <td>1003028770</td>\n",
       "      <td>173</td>\n",
       "      <td>177</td>\n",
       "      <td>97.864</td>\n",
       "      <td>81.756</td>\n",
       "    </tr>\n",
       "    <tr>\n",
       "      <th>9</th>\n",
       "      <td>1003922881</td>\n",
       "      <td>1003028770</td>\n",
       "      <td>17</td>\n",
       "      <td>21</td>\n",
       "      <td>45.619</td>\n",
       "      <td>41.519</td>\n",
       "    </tr>\n",
       "    <tr>\n",
       "      <th>10</th>\n",
       "      <td>1003963976</td>\n",
       "      <td>1003028770</td>\n",
       "      <td>2535</td>\n",
       "      <td>3945</td>\n",
       "      <td>0.000</td>\n",
       "      <td>0.000</td>\n",
       "    </tr>\n",
       "  </tbody>\n",
       "</table>\n",
       "</div>"
      ],
      "text/plain": [
       "      from_npi      to_npi  patient_count  transaction_count  \\\n",
       "0   1043215882  1003028770             29                 44   \n",
       "3   1033297429  1003028770             56                 62   \n",
       "4   1043206329  1003028770            173                177   \n",
       "9   1003922881  1003028770             17                 21   \n",
       "10  1003963976  1003028770           2535               3945   \n",
       "\n",
       "    average_day_wait  std_day_wait  \n",
       "0             47.455        56.183  \n",
       "3             53.145        58.831  \n",
       "4             97.864        81.756  \n",
       "9             45.619        41.519  \n",
       "10             0.000         0.000  "
      ]
     },
     "metadata": {},
     "output_type": "display_data"
    }
   ],
   "source": [
    "filtered_hop_teaming = filtered_hop_teaming[\n",
    "    (filtered_hop_teaming[\"transaction_count\"] >= 50) |\n",
    "    (filtered_hop_teaming[\"average_day_wait\"] <= 50)\n",
    "]\n",
    "\n",
    "display(filtered_hop_teaming.shape)\n",
    "display(filtered_hop_teaming.head())"
   ]
  },
  {
   "cell_type": "markdown",
   "id": "contemporary-humanity",
   "metadata": {},
   "source": [
    "Finally `filtered_hop_teaming` records count: 108401"
   ]
  },
  {
   "cell_type": "markdown",
   "id": "agricultural-thirty",
   "metadata": {},
   "source": [
    "### Creating a new table called `filtered_hop_teaming`"
   ]
  },
  {
   "cell_type": "markdown",
   "id": "instant-symposium",
   "metadata": {},
   "source": [
    "**IMPORTANT! This loading into the database should only be run once.** If you run this multiple times, it will create duplicate entries in the database. For the security of not re-running this code by accident, the code here is converted into markdown. **If you need to rebuild the database, delete the `data/hcbb.sqlite` file and re-run this cell as code. You will also need to make sure to re-run any other related scripts that builds other tables in the database.**"
   ]
  },
  {
   "cell_type": "code",
   "execution_count": 5,
   "id": "transsexual-prefix",
   "metadata": {},
   "outputs": [
    {
     "name": "stdout",
     "output_type": "stream",
     "text": [
      "Task done.\n"
     ]
    }
   ],
   "source": [
    "with sqlite3.connect('../data/hcbb.sqlite') as db:\n",
    "    filtered_hop_teaming.to_sql(\n",
    "        'filtered_hop_teaming', \n",
    "        db, \n",
    "        if_exists = 'append', \n",
    "        index = False)\n",
    "\n",
    "    # When done, print done\n",
    "    print('Task done.')"
   ]
  },
  {
   "cell_type": "markdown",
   "id": "afraid-cover",
   "metadata": {},
   "source": [
    "### Testing"
   ]
  },
  {
   "cell_type": "code",
   "execution_count": 6,
   "id": "systematic-compatibility",
   "metadata": {},
   "outputs": [
    {
     "data": {
      "text/html": [
       "<div>\n",
       "<style scoped>\n",
       "    .dataframe tbody tr th:only-of-type {\n",
       "        vertical-align: middle;\n",
       "    }\n",
       "\n",
       "    .dataframe tbody tr th {\n",
       "        vertical-align: top;\n",
       "    }\n",
       "\n",
       "    .dataframe thead th {\n",
       "        text-align: right;\n",
       "    }\n",
       "</style>\n",
       "<table border=\"1\" class=\"dataframe\">\n",
       "  <thead>\n",
       "    <tr style=\"text-align: right;\">\n",
       "      <th></th>\n",
       "      <th>from_npi</th>\n",
       "      <th>to_npi</th>\n",
       "      <th>patient_count</th>\n",
       "      <th>transaction_count</th>\n",
       "      <th>average_day_wait</th>\n",
       "      <th>std_day_wait</th>\n",
       "    </tr>\n",
       "  </thead>\n",
       "  <tbody>\n",
       "    <tr>\n",
       "      <th>0</th>\n",
       "      <td>1043215882</td>\n",
       "      <td>1003028770</td>\n",
       "      <td>29</td>\n",
       "      <td>44</td>\n",
       "      <td>47.455</td>\n",
       "      <td>56.183</td>\n",
       "    </tr>\n",
       "    <tr>\n",
       "      <th>1</th>\n",
       "      <td>1033297429</td>\n",
       "      <td>1003028770</td>\n",
       "      <td>56</td>\n",
       "      <td>62</td>\n",
       "      <td>53.145</td>\n",
       "      <td>58.831</td>\n",
       "    </tr>\n",
       "    <tr>\n",
       "      <th>2</th>\n",
       "      <td>1043206329</td>\n",
       "      <td>1003028770</td>\n",
       "      <td>173</td>\n",
       "      <td>177</td>\n",
       "      <td>97.864</td>\n",
       "      <td>81.756</td>\n",
       "    </tr>\n",
       "    <tr>\n",
       "      <th>3</th>\n",
       "      <td>1003922881</td>\n",
       "      <td>1003028770</td>\n",
       "      <td>17</td>\n",
       "      <td>21</td>\n",
       "      <td>45.619</td>\n",
       "      <td>41.519</td>\n",
       "    </tr>\n",
       "    <tr>\n",
       "      <th>4</th>\n",
       "      <td>1003963976</td>\n",
       "      <td>1003028770</td>\n",
       "      <td>2535</td>\n",
       "      <td>3945</td>\n",
       "      <td>0.000</td>\n",
       "      <td>0.000</td>\n",
       "    </tr>\n",
       "  </tbody>\n",
       "</table>\n",
       "</div>"
      ],
      "text/plain": [
       "     from_npi      to_npi  patient_count  transaction_count  average_day_wait  \\\n",
       "0  1043215882  1003028770             29                 44            47.455   \n",
       "1  1033297429  1003028770             56                 62            53.145   \n",
       "2  1043206329  1003028770            173                177            97.864   \n",
       "3  1003922881  1003028770             17                 21            45.619   \n",
       "4  1003963976  1003028770           2535               3945             0.000   \n",
       "\n",
       "   std_day_wait  \n",
       "0        56.183  \n",
       "1        58.831  \n",
       "2        81.756  \n",
       "3        41.519  \n",
       "4         0.000  "
      ]
     },
     "metadata": {},
     "output_type": "display_data"
    }
   ],
   "source": [
    "with sqlite3.connect('../data/hcbb.sqlite') as db :\n",
    "    \n",
    "    query = \"\"\"\n",
    "    SELECT *\n",
    "    FROM filtered_hop_teaming\n",
    "    LIMIT 5;\n",
    "    \"\"\" \n",
    "    \n",
    "    test_df = pd.read_sql(query, db)\n",
    "\n",
    "display(test_df)"
   ]
  },
  {
   "cell_type": "code",
   "execution_count": 7,
   "id": "included-warner",
   "metadata": {},
   "outputs": [
    {
     "data": {
      "text/html": [
       "<div>\n",
       "<style scoped>\n",
       "    .dataframe tbody tr th:only-of-type {\n",
       "        vertical-align: middle;\n",
       "    }\n",
       "\n",
       "    .dataframe tbody tr th {\n",
       "        vertical-align: top;\n",
       "    }\n",
       "\n",
       "    .dataframe thead th {\n",
       "        text-align: right;\n",
       "    }\n",
       "</style>\n",
       "<table border=\"1\" class=\"dataframe\">\n",
       "  <thead>\n",
       "    <tr style=\"text-align: right;\">\n",
       "      <th></th>\n",
       "      <th>count_all</th>\n",
       "    </tr>\n",
       "  </thead>\n",
       "  <tbody>\n",
       "    <tr>\n",
       "      <th>0</th>\n",
       "      <td>132000</td>\n",
       "    </tr>\n",
       "  </tbody>\n",
       "</table>\n",
       "</div>"
      ],
      "text/plain": [
       "   count_all\n",
       "0     132000"
      ]
     },
     "metadata": {},
     "output_type": "display_data"
    }
   ],
   "source": [
    "with sqlite3.connect('../data/hcbb.sqlite') as db :\n",
    "    query = \"\"\"\n",
    "    SELECT COUNT(*) AS count_all \n",
    "    FROM filtered_hop_teaming;\n",
    "    \"\"\" \n",
    "    \n",
    "    test_df = pd.read_sql(query, db)\n",
    "\n",
    "display(test_df)"
   ]
  }
 ],
 "metadata": {
  "kernelspec": {
   "display_name": "Python 3",
   "language": "python",
   "name": "python3"
  },
  "language_info": {
   "codemirror_mode": {
    "name": "ipython",
    "version": 3
   },
   "file_extension": ".py",
   "mimetype": "text/x-python",
   "name": "python",
   "nbconvert_exporter": "python",
   "pygments_lexer": "ipython3",
   "version": "3.8.5"
  },
  "toc": {
   "base_numbering": 1,
   "nav_menu": {},
   "number_sections": false,
   "sideBar": true,
   "skip_h1_title": false,
   "title_cell": "Table of Contents",
   "title_sidebar": "Contents",
   "toc_cell": false,
   "toc_position": {},
   "toc_section_display": true,
   "toc_window_display": true
  },
  "varInspector": {
   "cols": {
    "lenName": 16,
    "lenType": 16,
    "lenVar": 40
   },
   "kernels_config": {
    "python": {
     "delete_cmd_postfix": "",
     "delete_cmd_prefix": "del ",
     "library": "var_list.py",
     "varRefreshCmd": "print(var_dic_list())"
    },
    "r": {
     "delete_cmd_postfix": ") ",
     "delete_cmd_prefix": "rm(",
     "library": "var_list.r",
     "varRefreshCmd": "cat(var_dic_list()) "
    }
   },
   "types_to_exclude": [
    "module",
    "function",
    "builtin_function_or_method",
    "instance",
    "_Feature"
   ],
   "window_display": false
  }
 },
 "nbformat": 4,
 "nbformat_minor": 5
}
