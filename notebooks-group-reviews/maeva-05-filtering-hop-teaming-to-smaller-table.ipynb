{
 "cells": [
  {
   "cell_type": "code",
   "execution_count": 1,
   "id": "decreased-pound",
   "metadata": {},
   "outputs": [],
   "source": [
    "import pandas as pd\n",
    "import sqlite3\n",
    "from tqdm.notebook import tqdm # Provides progress bar for long tasks"
   ]
  },
  {
   "cell_type": "markdown",
   "id": "sunrise-hanging",
   "metadata": {},
   "source": [
    "### Listing currently existing tables in the database"
   ]
  },
  {
   "cell_type": "code",
   "execution_count": 2,
   "id": "arabic-success",
   "metadata": {},
   "outputs": [
    {
     "data": {
      "text/html": [
       "<div>\n",
       "<style scoped>\n",
       "    .dataframe tbody tr th:only-of-type {\n",
       "        vertical-align: middle;\n",
       "    }\n",
       "\n",
       "    .dataframe tbody tr th {\n",
       "        vertical-align: top;\n",
       "    }\n",
       "\n",
       "    .dataframe thead th {\n",
       "        text-align: right;\n",
       "    }\n",
       "</style>\n",
       "<table border=\"1\" class=\"dataframe\">\n",
       "  <thead>\n",
       "    <tr style=\"text-align: right;\">\n",
       "      <th></th>\n",
       "      <th>name</th>\n",
       "    </tr>\n",
       "  </thead>\n",
       "  <tbody>\n",
       "    <tr>\n",
       "      <th>0</th>\n",
       "      <td>cbsa</td>\n",
       "    </tr>\n",
       "    <tr>\n",
       "      <th>1</th>\n",
       "      <td>npidata</td>\n",
       "    </tr>\n",
       "    <tr>\n",
       "      <th>2</th>\n",
       "      <td>taxonomy</td>\n",
       "    </tr>\n",
       "    <tr>\n",
       "      <th>3</th>\n",
       "      <td>hop_teaming_raw</td>\n",
       "    </tr>\n",
       "    <tr>\n",
       "      <th>4</th>\n",
       "      <td>filtered_hop_teaming</td>\n",
       "    </tr>\n",
       "  </tbody>\n",
       "</table>\n",
       "</div>"
      ],
      "text/plain": [
       "                   name\n",
       "0                  cbsa\n",
       "1               npidata\n",
       "2              taxonomy\n",
       "3       hop_teaming_raw\n",
       "4  filtered_hop_teaming"
      ]
     },
     "metadata": {},
     "output_type": "display_data"
    }
   ],
   "source": [
    "with sqlite3.connect('../data/hcbb_group_reviews.sqlite') as db :\n",
    "    query = \"\"\"\n",
    "    SELECT name\n",
    "    FROM sqlite_master \n",
    "    WHERE type ='table' \n",
    "    AND name NOT LIKE 'sqlite_%';\n",
    "    \"\"\" \n",
    "    \n",
    "    db_table_list = pd.read_sql(query, db)\n",
    "\n",
    "display(db_table_list)"
   ]
  },
  {
   "cell_type": "markdown",
   "id": "convenient-yorkshire",
   "metadata": {},
   "source": [
    "### How many records do we originally have in the hop_teaming table?"
   ]
  },
  {
   "cell_type": "markdown",
   "id": "fifth-volleyball",
   "metadata": {},
   "source": [
    "**NOTE: The following cell codes runs in ~5 minutes. Set to markdown for security.**"
   ]
  },
  {
   "cell_type": "raw",
   "id": "capital-shanghai",
   "metadata": {},
   "source": [
    "with sqlite3.connect('../data/hcbb.sqlite') as db :\n",
    "    query = \"\"\"\n",
    "    SELECT COUNT(*)\n",
    "    FROM hop_teaming;\n",
    "    \"\"\" \n",
    "    \n",
    "    db_hop_teaming_count = pd.read_sql(query, db)\n",
    "\n",
    "display(db_hop_teaming_count)"
   ]
  },
  {
   "cell_type": "markdown",
   "id": "usual-blond",
   "metadata": {},
   "source": [
    "Result: 203,330,907 records"
   ]
  },
  {
   "cell_type": "markdown",
   "id": "automated-harassment",
   "metadata": {},
   "source": [
    "### Filter `from_npi` to be entity type 1 and `to_npi` to be entity type 2"
   ]
  },
  {
   "cell_type": "markdown",
   "id": "unsigned-somewhere",
   "metadata": {},
   "source": [
    "**NOTE: The following cell codes runs in ~5-10 minutes. Set to markdown for security.**"
   ]
  },
  {
   "cell_type": "raw",
   "id": "continent-college",
   "metadata": {},
   "source": [
    "with sqlite3.connect('../data/hcbb_group_reviews.sqlite') as db :\n",
    "    query = \"\"\"\n",
    "    WITH npi_entity_type_1 AS (\n",
    "        SELECT npi\n",
    "        FROM npidata \n",
    "        WHERE entity_type_code = 1\n",
    "    ), npi_entity_type_2 AS (\n",
    "        SELECT npi\n",
    "        FROM npidata \n",
    "        WHERE entity_type_code = 2\n",
    "    )\n",
    "    SELECT *\n",
    "    FROM hop_teaming_raw\n",
    "    WHERE from_npi IN npi_entity_type_1\n",
    "    AND to_npi IN npi_entity_type_2\n",
    "    \"\"\"\n",
    "    \n",
    "    filtered_hop_teaming = pd.read_sql(query, db)\n",
    "\n",
    "display(filtered_hop_teaming.shape)\n",
    "display(filtered_hop_teaming.head())"
   ]
  },
  {
   "cell_type": "markdown",
   "id": "funny-journey",
   "metadata": {},
   "source": [
    "Result: 50,460,705"
   ]
  },
  {
   "cell_type": "markdown",
   "id": "existing-depression",
   "metadata": {},
   "source": [
    "### Filter so that the `transaction_count` is >= 50 and `average_day_wait` < 50"
   ]
  },
  {
   "cell_type": "raw",
   "id": "hired-robinson",
   "metadata": {},
   "source": [
    "filtered_hop_teaming = filtered_hop_teaming[\n",
    "    (filtered_hop_teaming[\"transaction_count\"] >= 50) &\n",
    "    (filtered_hop_teaming[\"average_day_wait\"] < 50)\n",
    "    #(filtered_hop_teaming[\"average_day_wait\"] >= 2) # Emergency admits\n",
    "]\n",
    "\n",
    "display(filtered_hop_teaming.shape)\n",
    "display(filtered_hop_teaming.head())"
   ]
  },
  {
   "cell_type": "markdown",
   "id": "contemporary-humanity",
   "metadata": {},
   "source": [
    "Final `filtered_hop_teaming` records count: 8,846,709"
   ]
  },
  {
   "cell_type": "markdown",
   "id": "agricultural-thirty",
   "metadata": {},
   "source": [
    "### Creating a new table called `filtered_hop_teaming`"
   ]
  },
  {
   "cell_type": "markdown",
   "id": "instant-symposium",
   "metadata": {},
   "source": [
    "**IMPORTANT! This loading into the database should only be run once.** If you run this multiple times, it will create duplicate entries in the database. For the security of not re-running this code by accident, the code here is converted into markdown. **If you need to rebuild the database, delete the `data/hcbb_group_reviews.sqlite` file and re-run this cell as code. You will also need to make sure to re-run any other related scripts that builds other tables in the database.**"
   ]
  },
  {
   "cell_type": "raw",
   "id": "second-boutique",
   "metadata": {},
   "source": [
    "with sqlite3.connect('../data/hcbb_group_reviews.sqlite') as db:\n",
    "    filtered_hop_teaming.to_sql(\n",
    "        'filtered_hop_teaming', \n",
    "        db, \n",
    "        if_exists = 'append', \n",
    "        index = False)\n",
    "\n",
    "    # When done, print done\n",
    "    print('Task done.')"
   ]
  },
  {
   "cell_type": "markdown",
   "id": "afraid-cover",
   "metadata": {},
   "source": [
    "### Testing"
   ]
  },
  {
   "cell_type": "code",
   "execution_count": 3,
   "id": "systematic-compatibility",
   "metadata": {},
   "outputs": [
    {
     "data": {
      "text/html": [
       "<div>\n",
       "<style scoped>\n",
       "    .dataframe tbody tr th:only-of-type {\n",
       "        vertical-align: middle;\n",
       "    }\n",
       "\n",
       "    .dataframe tbody tr th {\n",
       "        vertical-align: top;\n",
       "    }\n",
       "\n",
       "    .dataframe thead th {\n",
       "        text-align: right;\n",
       "    }\n",
       "</style>\n",
       "<table border=\"1\" class=\"dataframe\">\n",
       "  <thead>\n",
       "    <tr style=\"text-align: right;\">\n",
       "      <th></th>\n",
       "      <th>from_npi</th>\n",
       "      <th>to_npi</th>\n",
       "      <th>patient_count</th>\n",
       "      <th>transaction_count</th>\n",
       "      <th>average_day_wait</th>\n",
       "      <th>std_day_wait</th>\n",
       "    </tr>\n",
       "  </thead>\n",
       "  <tbody>\n",
       "    <tr>\n",
       "      <th>0</th>\n",
       "      <td>1033194220</td>\n",
       "      <td>1003000308</td>\n",
       "      <td>62</td>\n",
       "      <td>80</td>\n",
       "      <td>26.175</td>\n",
       "      <td>53.780</td>\n",
       "    </tr>\n",
       "    <tr>\n",
       "      <th>1</th>\n",
       "      <td>1003818055</td>\n",
       "      <td>1003000563</td>\n",
       "      <td>101</td>\n",
       "      <td>146</td>\n",
       "      <td>0.000</td>\n",
       "      <td>0.000</td>\n",
       "    </tr>\n",
       "    <tr>\n",
       "      <th>2</th>\n",
       "      <td>1013967371</td>\n",
       "      <td>1003001538</td>\n",
       "      <td>46</td>\n",
       "      <td>61</td>\n",
       "      <td>21.033</td>\n",
       "      <td>27.679</td>\n",
       "    </tr>\n",
       "    <tr>\n",
       "      <th>3</th>\n",
       "      <td>1023073459</td>\n",
       "      <td>1003001553</td>\n",
       "      <td>25</td>\n",
       "      <td>51</td>\n",
       "      <td>34.314</td>\n",
       "      <td>32.550</td>\n",
       "    </tr>\n",
       "    <tr>\n",
       "      <th>4</th>\n",
       "      <td>1023003142</td>\n",
       "      <td>1003001553</td>\n",
       "      <td>164</td>\n",
       "      <td>222</td>\n",
       "      <td>33.923</td>\n",
       "      <td>52.133</td>\n",
       "    </tr>\n",
       "  </tbody>\n",
       "</table>\n",
       "</div>"
      ],
      "text/plain": [
       "     from_npi      to_npi  patient_count  transaction_count  average_day_wait  \\\n",
       "0  1033194220  1003000308             62                 80            26.175   \n",
       "1  1003818055  1003000563            101                146             0.000   \n",
       "2  1013967371  1003001538             46                 61            21.033   \n",
       "3  1023073459  1003001553             25                 51            34.314   \n",
       "4  1023003142  1003001553            164                222            33.923   \n",
       "\n",
       "   std_day_wait  \n",
       "0        53.780  \n",
       "1         0.000  \n",
       "2        27.679  \n",
       "3        32.550  \n",
       "4        52.133  "
      ]
     },
     "metadata": {},
     "output_type": "display_data"
    }
   ],
   "source": [
    "with sqlite3.connect('../data/hcbb_group_reviews.sqlite') as db :\n",
    "    \n",
    "    query = \"\"\"\n",
    "    SELECT *\n",
    "    FROM filtered_hop_teaming\n",
    "    LIMIT 5;\n",
    "    \"\"\" \n",
    "    \n",
    "    test_df = pd.read_sql(query, db)\n",
    "\n",
    "display(test_df)"
   ]
  },
  {
   "cell_type": "code",
   "execution_count": 4,
   "id": "graduate-couple",
   "metadata": {},
   "outputs": [
    {
     "data": {
      "text/html": [
       "<div>\n",
       "<style scoped>\n",
       "    .dataframe tbody tr th:only-of-type {\n",
       "        vertical-align: middle;\n",
       "    }\n",
       "\n",
       "    .dataframe tbody tr th {\n",
       "        vertical-align: top;\n",
       "    }\n",
       "\n",
       "    .dataframe thead th {\n",
       "        text-align: right;\n",
       "    }\n",
       "</style>\n",
       "<table border=\"1\" class=\"dataframe\">\n",
       "  <thead>\n",
       "    <tr style=\"text-align: right;\">\n",
       "      <th></th>\n",
       "      <th>from_npi</th>\n",
       "      <th>to_npi</th>\n",
       "    </tr>\n",
       "  </thead>\n",
       "  <tbody>\n",
       "    <tr>\n",
       "      <th>0</th>\n",
       "      <td>1003000126</td>\n",
       "      <td>1033102504</td>\n",
       "    </tr>\n",
       "    <tr>\n",
       "      <th>1</th>\n",
       "      <td>1003000126</td>\n",
       "      <td>1053363853</td>\n",
       "    </tr>\n",
       "    <tr>\n",
       "      <th>2</th>\n",
       "      <td>1003000126</td>\n",
       "      <td>1093102857</td>\n",
       "    </tr>\n",
       "    <tr>\n",
       "      <th>3</th>\n",
       "      <td>1003000126</td>\n",
       "      <td>1104203371</td>\n",
       "    </tr>\n",
       "    <tr>\n",
       "      <th>4</th>\n",
       "      <td>1003000126</td>\n",
       "      <td>1134117393</td>\n",
       "    </tr>\n",
       "    <tr>\n",
       "      <th>...</th>\n",
       "      <td>...</td>\n",
       "      <td>...</td>\n",
       "    </tr>\n",
       "    <tr>\n",
       "      <th>8846704</th>\n",
       "      <td>1992999874</td>\n",
       "      <td>1215958657</td>\n",
       "    </tr>\n",
       "    <tr>\n",
       "      <th>8846705</th>\n",
       "      <td>1992999874</td>\n",
       "      <td>1376917070</td>\n",
       "    </tr>\n",
       "    <tr>\n",
       "      <th>8846706</th>\n",
       "      <td>1992999874</td>\n",
       "      <td>1588613400</td>\n",
       "    </tr>\n",
       "    <tr>\n",
       "      <th>8846707</th>\n",
       "      <td>1992999874</td>\n",
       "      <td>1861818965</td>\n",
       "    </tr>\n",
       "    <tr>\n",
       "      <th>8846708</th>\n",
       "      <td>1992999874</td>\n",
       "      <td>1912969064</td>\n",
       "    </tr>\n",
       "  </tbody>\n",
       "</table>\n",
       "<p>8846709 rows × 2 columns</p>\n",
       "</div>"
      ],
      "text/plain": [
       "           from_npi      to_npi\n",
       "0        1003000126  1033102504\n",
       "1        1003000126  1053363853\n",
       "2        1003000126  1093102857\n",
       "3        1003000126  1104203371\n",
       "4        1003000126  1134117393\n",
       "...             ...         ...\n",
       "8846704  1992999874  1215958657\n",
       "8846705  1992999874  1376917070\n",
       "8846706  1992999874  1588613400\n",
       "8846707  1992999874  1861818965\n",
       "8846708  1992999874  1912969064\n",
       "\n",
       "[8846709 rows x 2 columns]"
      ]
     },
     "metadata": {},
     "output_type": "display_data"
    }
   ],
   "source": [
    "with sqlite3.connect('../data/hcbb_group_reviews.sqlite') as db :\n",
    "    query = \"\"\"\n",
    "    SELECT from_npi, to_npi\n",
    "    FROM filtered_hop_teaming\n",
    "    GROUP BY from_npi, to_npi;\n",
    "    \"\"\" \n",
    "    \n",
    "    test_df = pd.read_sql(query, db)\n",
    "\n",
    "display(test_df)"
   ]
  },
  {
   "cell_type": "code",
   "execution_count": 5,
   "id": "included-warner",
   "metadata": {},
   "outputs": [
    {
     "data": {
      "text/html": [
       "<div>\n",
       "<style scoped>\n",
       "    .dataframe tbody tr th:only-of-type {\n",
       "        vertical-align: middle;\n",
       "    }\n",
       "\n",
       "    .dataframe tbody tr th {\n",
       "        vertical-align: top;\n",
       "    }\n",
       "\n",
       "    .dataframe thead th {\n",
       "        text-align: right;\n",
       "    }\n",
       "</style>\n",
       "<table border=\"1\" class=\"dataframe\">\n",
       "  <thead>\n",
       "    <tr style=\"text-align: right;\">\n",
       "      <th></th>\n",
       "      <th>count_all</th>\n",
       "    </tr>\n",
       "  </thead>\n",
       "  <tbody>\n",
       "    <tr>\n",
       "      <th>0</th>\n",
       "      <td>8846709</td>\n",
       "    </tr>\n",
       "  </tbody>\n",
       "</table>\n",
       "</div>"
      ],
      "text/plain": [
       "   count_all\n",
       "0    8846709"
      ]
     },
     "metadata": {},
     "output_type": "display_data"
    }
   ],
   "source": [
    "with sqlite3.connect('../data/hcbb_group_reviews.sqlite') as db :\n",
    "    query = \"\"\"\n",
    "    SELECT COUNT(*) AS count_all \n",
    "    FROM filtered_hop_teaming;\n",
    "    \"\"\" \n",
    "    \n",
    "    test_df = pd.read_sql(query, db)\n",
    "\n",
    "display(test_df)"
   ]
  },
  {
   "cell_type": "code",
   "execution_count": 6,
   "id": "dynamic-marijuana",
   "metadata": {},
   "outputs": [
    {
     "data": {
      "text/html": [
       "<div>\n",
       "<style scoped>\n",
       "    .dataframe tbody tr th:only-of-type {\n",
       "        vertical-align: middle;\n",
       "    }\n",
       "\n",
       "    .dataframe tbody tr th {\n",
       "        vertical-align: top;\n",
       "    }\n",
       "\n",
       "    .dataframe thead th {\n",
       "        text-align: right;\n",
       "    }\n",
       "</style>\n",
       "<table border=\"1\" class=\"dataframe\">\n",
       "  <thead>\n",
       "    <tr style=\"text-align: right;\">\n",
       "      <th></th>\n",
       "      <th>from_npi</th>\n",
       "      <th>to_npi</th>\n",
       "      <th>patient_count</th>\n",
       "      <th>transaction_count</th>\n",
       "      <th>average_day_wait</th>\n",
       "      <th>std_day_wait</th>\n",
       "    </tr>\n",
       "  </thead>\n",
       "  <tbody>\n",
       "    <tr>\n",
       "      <th>0</th>\n",
       "      <td>1043215882</td>\n",
       "      <td>1063843951</td>\n",
       "      <td>18</td>\n",
       "      <td>53</td>\n",
       "      <td>9.887</td>\n",
       "      <td>20.953</td>\n",
       "    </tr>\n",
       "    <tr>\n",
       "      <th>1</th>\n",
       "      <td>1043215882</td>\n",
       "      <td>1093741464</td>\n",
       "      <td>41</td>\n",
       "      <td>65</td>\n",
       "      <td>46.585</td>\n",
       "      <td>59.003</td>\n",
       "    </tr>\n",
       "    <tr>\n",
       "      <th>2</th>\n",
       "      <td>1043215882</td>\n",
       "      <td>1104202761</td>\n",
       "      <td>90</td>\n",
       "      <td>167</td>\n",
       "      <td>26.359</td>\n",
       "      <td>34.179</td>\n",
       "    </tr>\n",
       "    <tr>\n",
       "      <th>3</th>\n",
       "      <td>1043215882</td>\n",
       "      <td>1104277656</td>\n",
       "      <td>11</td>\n",
       "      <td>50</td>\n",
       "      <td>10.960</td>\n",
       "      <td>10.455</td>\n",
       "    </tr>\n",
       "    <tr>\n",
       "      <th>4</th>\n",
       "      <td>1043215882</td>\n",
       "      <td>1205886264</td>\n",
       "      <td>107</td>\n",
       "      <td>151</td>\n",
       "      <td>32.536</td>\n",
       "      <td>45.799</td>\n",
       "    </tr>\n",
       "    <tr>\n",
       "      <th>5</th>\n",
       "      <td>1043215882</td>\n",
       "      <td>1316018070</td>\n",
       "      <td>28</td>\n",
       "      <td>66</td>\n",
       "      <td>16.500</td>\n",
       "      <td>27.157</td>\n",
       "    </tr>\n",
       "    <tr>\n",
       "      <th>6</th>\n",
       "      <td>1043215882</td>\n",
       "      <td>1336104280</td>\n",
       "      <td>41</td>\n",
       "      <td>59</td>\n",
       "      <td>40.814</td>\n",
       "      <td>55.973</td>\n",
       "    </tr>\n",
       "    <tr>\n",
       "      <th>7</th>\n",
       "      <td>1043215882</td>\n",
       "      <td>1356379382</td>\n",
       "      <td>58</td>\n",
       "      <td>84</td>\n",
       "      <td>26.560</td>\n",
       "      <td>37.394</td>\n",
       "    </tr>\n",
       "    <tr>\n",
       "      <th>8</th>\n",
       "      <td>1043215882</td>\n",
       "      <td>1396882205</td>\n",
       "      <td>35</td>\n",
       "      <td>58</td>\n",
       "      <td>31.517</td>\n",
       "      <td>34.952</td>\n",
       "    </tr>\n",
       "    <tr>\n",
       "      <th>9</th>\n",
       "      <td>1043215882</td>\n",
       "      <td>1467460725</td>\n",
       "      <td>184</td>\n",
       "      <td>304</td>\n",
       "      <td>24.539</td>\n",
       "      <td>44.271</td>\n",
       "    </tr>\n",
       "  </tbody>\n",
       "</table>\n",
       "</div>"
      ],
      "text/plain": [
       "     from_npi      to_npi  patient_count  transaction_count  average_day_wait  \\\n",
       "0  1043215882  1063843951             18                 53             9.887   \n",
       "1  1043215882  1093741464             41                 65            46.585   \n",
       "2  1043215882  1104202761             90                167            26.359   \n",
       "3  1043215882  1104277656             11                 50            10.960   \n",
       "4  1043215882  1205886264            107                151            32.536   \n",
       "5  1043215882  1316018070             28                 66            16.500   \n",
       "6  1043215882  1336104280             41                 59            40.814   \n",
       "7  1043215882  1356379382             58                 84            26.560   \n",
       "8  1043215882  1396882205             35                 58            31.517   \n",
       "9  1043215882  1467460725            184                304            24.539   \n",
       "\n",
       "   std_day_wait  \n",
       "0        20.953  \n",
       "1        59.003  \n",
       "2        34.179  \n",
       "3        10.455  \n",
       "4        45.799  \n",
       "5        27.157  \n",
       "6        55.973  \n",
       "7        37.394  \n",
       "8        34.952  \n",
       "9        44.271  "
      ]
     },
     "metadata": {},
     "output_type": "display_data"
    }
   ],
   "source": [
    "with sqlite3.connect('../data/hcbb_group_reviews.sqlite') as db :\n",
    "    query = \"\"\"\n",
    "    SELECT *\n",
    "    FROM filtered_hop_teaming\n",
    "    WHERE from_npi = '1043215882'\n",
    "    LIMIT 10;\n",
    "    \"\"\" \n",
    "    \n",
    "    test_df = pd.read_sql(query, db)\n",
    "\n",
    "display(test_df)"
   ]
  },
  {
   "cell_type": "markdown",
   "id": "round-mitchell",
   "metadata": {},
   "source": [
    "**Quick Fix for dropping tables (DO NOT RUN UNLESS FOR RECREATING TABLES)**"
   ]
  },
  {
   "cell_type": "raw",
   "id": "hispanic-collection",
   "metadata": {},
   "source": [
    "# with sqlite3.connect('../data/hcbb_group_reviews.sqlite') as db :\n",
    "#     cursor = db.cursor()\n",
    "#     cursor.execute(\"DROP TABLE filtered_hop_teaming\")\n",
    "#     print(\"Table dropped...\")"
   ]
  }
 ],
 "metadata": {
  "kernelspec": {
   "display_name": "Python 3",
   "language": "python",
   "name": "python3"
  },
  "language_info": {
   "codemirror_mode": {
    "name": "ipython",
    "version": 3
   },
   "file_extension": ".py",
   "mimetype": "text/x-python",
   "name": "python",
   "nbconvert_exporter": "python",
   "pygments_lexer": "ipython3",
   "version": "3.8.8"
  },
  "toc": {
   "base_numbering": 1,
   "nav_menu": {},
   "number_sections": false,
   "sideBar": true,
   "skip_h1_title": false,
   "title_cell": "Table of Contents",
   "title_sidebar": "Contents",
   "toc_cell": false,
   "toc_position": {},
   "toc_section_display": true,
   "toc_window_display": true
  },
  "varInspector": {
   "cols": {
    "lenName": 16,
    "lenType": 16,
    "lenVar": 40
   },
   "kernels_config": {
    "python": {
     "delete_cmd_postfix": "",
     "delete_cmd_prefix": "del ",
     "library": "var_list.py",
     "varRefreshCmd": "print(var_dic_list())"
    },
    "r": {
     "delete_cmd_postfix": ") ",
     "delete_cmd_prefix": "rm(",
     "library": "var_list.r",
     "varRefreshCmd": "cat(var_dic_list()) "
    }
   },
   "types_to_exclude": [
    "module",
    "function",
    "builtin_function_or_method",
    "instance",
    "_Feature"
   ],
   "window_display": false
  }
 },
 "nbformat": 4,
 "nbformat_minor": 5
}
