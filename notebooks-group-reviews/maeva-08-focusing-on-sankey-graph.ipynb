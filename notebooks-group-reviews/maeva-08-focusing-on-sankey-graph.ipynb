{
 "cells": [
  {
   "cell_type": "markdown",
   "id": "genetic-yeast",
   "metadata": {
    "slideshow": {
     "slide_type": "skip"
    }
   },
   "source": [
    "# Focusing On Sankey Graph"
   ]
  },
  {
   "cell_type": "markdown",
   "id": "external-office",
   "metadata": {
    "slideshow": {
     "slide_type": "skip"
    }
   },
   "source": [
    "**- Build a profile of providers referring patients to the major hospitals in Nashville**<br>\n",
    "**- Are certain specialties more likely to refer to a particular hospital over the others?**"
   ]
  },
  {
   "cell_type": "code",
   "execution_count": 1,
   "id": "intellectual-window",
   "metadata": {
    "slideshow": {
     "slide_type": "skip"
    }
   },
   "outputs": [],
   "source": [
    "import pandas as pd\n",
    "import plotly.graph_objects as go"
   ]
  },
  {
   "cell_type": "code",
   "execution_count": 2,
   "id": "champion-velvet",
   "metadata": {
    "slideshow": {
     "slide_type": "skip"
    }
   },
   "outputs": [],
   "source": [
    "pd.set_option(\"display.max_columns\", 500)\n",
    "pd.set_option('display.max_rows', 500)"
   ]
  },
  {
   "cell_type": "markdown",
   "id": "awful-bidding",
   "metadata": {
    "slideshow": {
     "slide_type": "skip"
    }
   },
   "source": [
    "## Reading-in Datasets"
   ]
  },
  {
   "cell_type": "code",
   "execution_count": 3,
   "id": "detected-privacy",
   "metadata": {
    "slideshow": {
     "slide_type": "skip"
    }
   },
   "outputs": [],
   "source": [
    "nashville_referrals = pd.read_csv(\"../data/nashville_referrals_normalised_only_hospitals_6436.csv\")\n",
    "# for_testing = pd.read_csv(\"../data/nashville-referrals-summarized-6436.csv\")"
   ]
  },
  {
   "cell_type": "markdown",
   "id": "dynamic-summer",
   "metadata": {
    "slideshow": {
     "slide_type": "skip"
    }
   },
   "source": [
    "## Cleaning Datasets"
   ]
  },
  {
   "cell_type": "markdown",
   "id": "adjusted-serum",
   "metadata": {
    "slideshow": {
     "slide_type": "skip"
    }
   },
   "source": [
    "- `from_npi` - The provider seen first in sequence, coded by NPI\n",
    "- `to_npi` - The provider seen second in sequence, coded by NPI\n",
    "- `patient_count` - The total number of patients shared between the two providers over the entire time period (the time period is typically one year)\n",
    "- `transaction_count` - The count of times that a patient switched between the two providers, in the from-to direction.\n",
    "- `average_day_wait` - The average amount of days it took for a “HOP” to occur. Which is the the time it took, in days, for a patient to switch to the second provider after having seen the first provider.\n",
    "- `std_day_wait` - The standard deviation of days it took for a HOP to occur."
   ]
  },
  {
   "cell_type": "markdown",
   "id": "exposed-onion",
   "metadata": {
    "slideshow": {
     "slide_type": "skip"
    }
   },
   "source": [
    "For our purpose, we only need the following columns:\n",
    "- from_npi\n",
    "- from_npi_specialty\n",
    "- to_npi\n",
    "- to_facility_group\n",
    "- to_facility_name_normalised\n",
    "- patient_count"
   ]
  },
  {
   "cell_type": "code",
   "execution_count": 4,
   "id": "yellow-staff",
   "metadata": {
    "slideshow": {
     "slide_type": "skip"
    }
   },
   "outputs": [],
   "source": [
    "nashville_referrals = nashville_referrals[[\n",
    "    \"from_npi\",\n",
    "    \"from_npi_specialty\",\n",
    "    \"to_npi\",\n",
    "    \"to_facility_group\",\n",
    "    \"to_facility_name_normalised\",\n",
    "    \"patient_count\"\n",
    "]]"
   ]
  },
  {
   "cell_type": "code",
   "execution_count": 5,
   "id": "proprietary-declaration",
   "metadata": {
    "slideshow": {
     "slide_type": "skip"
    }
   },
   "outputs": [],
   "source": [
    "# Fix data types\n",
    "nashville_referrals[\"from_npi\"] = nashville_referrals[\"from_npi\"].astype(str)\n",
    "nashville_referrals[\"to_npi\"] = nashville_referrals[\"to_npi\"].astype(str)\n",
    "nashville_referrals[\"from_npi_specialty\"] = nashville_referrals[\"from_npi_specialty\"].astype(str)"
   ]
  },
  {
   "cell_type": "code",
   "execution_count": 6,
   "id": "falling-genre",
   "metadata": {
    "slideshow": {
     "slide_type": "skip"
    }
   },
   "outputs": [],
   "source": [
    "# Rename columns\n",
    "nashville_referrals = nashville_referrals.rename(columns={\n",
    "    \"from_npi\": \"referrer.npi\", \n",
    "    \"from_npi_specialty\": \"referrer.specialty\",\n",
    "    \"to_npi\": \"hospital.npi\",\n",
    "    \"to_facility_group\": \"hospital.facility_group\", \n",
    "    \"to_facility_name_normalised\": \"hospital.facility_name\",\n",
    "    \"patient_count\": \"referral.patient_count\"\n",
    "})"
   ]
  },
  {
   "cell_type": "code",
   "execution_count": 7,
   "id": "connected-nirvana",
   "metadata": {
    "slideshow": {
     "slide_type": "skip"
    }
   },
   "outputs": [
    {
     "output_type": "display_data",
     "data": {
      "text/plain": "(6436, 6)"
     },
     "metadata": {}
    },
    {
     "output_type": "display_data",
     "data": {
      "text/plain": "  referrer.npi referrer.specialty hospital.npi        hospital.facility_group  \\\n0   1013179860  Internal Medicine   1417938846  Macon County General Hospital   \n1   1336126887            Urology   1417938846  Macon County General Hospital   \n2   1336230424  Internal Medicine   1417938846  Macon County General Hospital   \n3   1346288966         Specialist   1417938846  Macon County General Hospital   \n4   1326086653  Internal Medicine   1417938846  Macon County General Hospital   \n\n          hospital.facility_name  referral.patient_count  \n0  Macon County General Hospital                      71  \n1  Macon County General Hospital                      55  \n2  Macon County General Hospital                      38  \n3  Macon County General Hospital                     146  \n4  Macon County General Hospital                      43  ",
      "text/html": "<div>\n<style scoped>\n    .dataframe tbody tr th:only-of-type {\n        vertical-align: middle;\n    }\n\n    .dataframe tbody tr th {\n        vertical-align: top;\n    }\n\n    .dataframe thead th {\n        text-align: right;\n    }\n</style>\n<table border=\"1\" class=\"dataframe\">\n  <thead>\n    <tr style=\"text-align: right;\">\n      <th></th>\n      <th>referrer.npi</th>\n      <th>referrer.specialty</th>\n      <th>hospital.npi</th>\n      <th>hospital.facility_group</th>\n      <th>hospital.facility_name</th>\n      <th>referral.patient_count</th>\n    </tr>\n  </thead>\n  <tbody>\n    <tr>\n      <th>0</th>\n      <td>1013179860</td>\n      <td>Internal Medicine</td>\n      <td>1417938846</td>\n      <td>Macon County General Hospital</td>\n      <td>Macon County General Hospital</td>\n      <td>71</td>\n    </tr>\n    <tr>\n      <th>1</th>\n      <td>1336126887</td>\n      <td>Urology</td>\n      <td>1417938846</td>\n      <td>Macon County General Hospital</td>\n      <td>Macon County General Hospital</td>\n      <td>55</td>\n    </tr>\n    <tr>\n      <th>2</th>\n      <td>1336230424</td>\n      <td>Internal Medicine</td>\n      <td>1417938846</td>\n      <td>Macon County General Hospital</td>\n      <td>Macon County General Hospital</td>\n      <td>38</td>\n    </tr>\n    <tr>\n      <th>3</th>\n      <td>1346288966</td>\n      <td>Specialist</td>\n      <td>1417938846</td>\n      <td>Macon County General Hospital</td>\n      <td>Macon County General Hospital</td>\n      <td>146</td>\n    </tr>\n    <tr>\n      <th>4</th>\n      <td>1326086653</td>\n      <td>Internal Medicine</td>\n      <td>1417938846</td>\n      <td>Macon County General Hospital</td>\n      <td>Macon County General Hospital</td>\n      <td>43</td>\n    </tr>\n  </tbody>\n</table>\n</div>"
     },
     "metadata": {}
    },
    {
     "output_type": "stream",
     "name": "stdout",
     "text": [
      "<class 'pandas.core.frame.DataFrame'>\nRangeIndex: 6436 entries, 0 to 6435\nData columns (total 6 columns):\n #   Column                   Non-Null Count  Dtype \n---  ------                   --------------  ----- \n 0   referrer.npi             6436 non-null   object\n 1   referrer.specialty       6436 non-null   object\n 2   hospital.npi             6436 non-null   object\n 3   hospital.facility_group  6436 non-null   object\n 4   hospital.facility_name   6436 non-null   object\n 5   referral.patient_count   6436 non-null   int64 \ndtypes: int64(1), object(5)\nmemory usage: 301.8+ KB\n"
     ]
    },
    {
     "output_type": "display_data",
     "data": {
      "text/plain": "None"
     },
     "metadata": {}
    }
   ],
   "source": [
    "display(nashville_referrals.shape)\n",
    "display(nashville_referrals.head())\n",
    "display(nashville_referrals.info())"
   ]
  },
  {
   "cell_type": "code",
   "execution_count": 8,
   "id": "resistant-velvet",
   "metadata": {
    "slideshow": {
     "slide_type": "skip"
    }
   },
   "outputs": [
    {
     "output_type": "execute_result",
     "data": {
      "text/plain": [
       "array(['Internal Medicine', 'Urology', 'Specialist', 'Family Medicine',\n",
       "       'Physician Assistant', 'Radiology',\n",
       "       'Physical Medicine & Rehabilitation', 'Surgery', 'Chiropractor',\n",
       "       'Emergency Medicine', 'Nurse Practitioner', 'General Practice',\n",
       "       'Podiatrist', 'Orthopaedic Surgery',\n",
       "       'Thoracic Surgery (Cardiothoracic Vascular Surgery)',\n",
       "       'Psychiatry & Neurology', 'Anesthesiology',\n",
       "       'Nurse Anesthetist, Certified Registered', 'Neurological Surgery',\n",
       "       'Counselor', 'Ophthalmology', 'Obstetrics & Gynecology',\n",
       "       'Hospitalist', 'Optometrist', 'Otolaryngology', 'Dermatology',\n",
       "       'Clinical Nurse Specialist', 'Social Worker', 'Psychologist',\n",
       "       'Physical Therapist', 'Pain Medicine', 'Allergy & Immunology',\n",
       "       'Pediatrics', 'nan', 'Pathology', 'Registered Nurse',\n",
       "       'Plastic Surgery', 'Independent Medical Examiner',\n",
       "       'Legal Medicine', 'Clinical Neuropsychologist',\n",
       "       'Transplant Surgery',\n",
       "       'Student in an Organized Health Care Education/Training Program',\n",
       "       'Colon & Rectal Surgery', 'Anesthesiologist Assistant',\n",
       "       'Oral & Maxillofacial Surgery', 'Nuclear Medicine',\n",
       "       'Clinical Pharmacology', 'Preventive Medicine', 'Audiologist'],\n",
       "      dtype=object)"
      ]
     },
     "metadata": {},
     "execution_count": 8
    }
   ],
   "source": [
    "nashville_referrals['referrer.specialty'].unique()"
   ]
  },
  {
   "cell_type": "markdown",
   "id": "animated-attempt",
   "metadata": {
    "slideshow": {
     "slide_type": "skip"
    }
   },
   "source": [
    "Make a backup copy of the `nashville_referrals` dataset so we can re-use it later."
   ]
  },
  {
   "cell_type": "code",
   "execution_count": 9,
   "id": "convinced-second",
   "metadata": {
    "slideshow": {
     "slide_type": "skip"
    }
   },
   "outputs": [],
   "source": [
    "nash_ref_backup = nashville_referrals.copy(deep=True)"
   ]
  },
  {
   "cell_type": "markdown",
   "id": "needed-knock",
   "metadata": {
    "slideshow": {
     "slide_type": "skip"
    }
   },
   "source": [
    "## Sankey Diagram 1 - Specialities to Hospitals"
   ]
  },
  {
   "cell_type": "markdown",
   "id": "engaged-composition",
   "metadata": {
    "slideshow": {
     "slide_type": "skip"
    }
   },
   "source": [
    "**`referrer.specialty` OPTION 1**\n",
    "\n",
    "This is a list of `referrer.specialty` that are not considered for analysis. We are moving these under the *Other Specialties* category."
   ]
  },
  {
   "cell_type": "code",
   "execution_count": 10,
   "id": "sacred-outline",
   "metadata": {
    "slideshow": {
     "slide_type": "skip"
    }
   },
   "outputs": [],
   "source": [
    "# Specializations: List of those beyond top 7 to change to \"Other Specialties\"\n",
    "to_others_list = nashville_referrals.groupby([\n",
    "    \"referrer.specialty\"\n",
    "]).agg({\n",
    "    \"referral.patient_count\": \"sum\"\n",
    "}).sort_values(by=[\"referral.patient_count\"], ascending=(False)).index[7:] # Keep Top 7 Specializations: Beyond that ==> Other Specialties"
   ]
  },
  {
   "cell_type": "markdown",
   "id": "cosmetic-brush",
   "metadata": {
    "slideshow": {
     "slide_type": "skip"
    }
   },
   "source": [
    "**`referrer.specialty` OPTION 2**\n",
    "\n",
    "In other graphs, we manually override the list to using these specifically. Anything beyond these can go under Others**"
   ]
  },
  {
   "cell_type": "code",
   "execution_count": 11,
   "id": "lyric-operator",
   "metadata": {
    "slideshow": {
     "slide_type": "skip"
    }
   },
   "outputs": [],
   "source": [
    "# # This is in order of importance: If you need to remove, start from the bottom\n",
    "original_to_keep = [\n",
    "    'Internal Medicine',\n",
    "    'Radiology',\n",
    "    'Nurse Practitioner',\n",
    "#     'Family Medicine',\n",
    "    'Pathology',\n",
    "    'Orthopaedic Surgery',\n",
    "    'Psychiatry & Neurology',\n",
    "    'Surgery',\n",
    "#     'Specialist',\n",
    "    'Physician Assistant',\n",
    "    'Ophthalmology',\n",
    "    'Urology',\n",
    "#     'Otolaryngology'\n",
    "]"
   ]
  },
  {
   "cell_type": "markdown",
   "id": "rental-jonathan",
   "metadata": {
    "slideshow": {
     "slide_type": "skip"
    }
   },
   "source": [
    "Replace the specialities in `to_others_list` with `Other Specialities` in `nashville_referrals`"
   ]
  },
  {
   "cell_type": "code",
   "execution_count": 12,
   "id": "complicated-serbia",
   "metadata": {
    "slideshow": {
     "slide_type": "skip"
    }
   },
   "outputs": [],
   "source": [
    "# # OPTION 1: Replace them in nashville_referrals\n",
    "# for spec in nashville_referrals[\"referrer.specialty\"]:\n",
    "#     if spec in to_others_list:\n",
    "#         nashville_referrals.loc[nashville_referrals[\"referrer.specialty\"] == spec, \"referrer.specialty\"] = \"Other Specialities\"\n",
    "#         continue"
   ]
  },
  {
   "cell_type": "code",
   "execution_count": 13,
   "id": "liberal-essay",
   "metadata": {
    "slideshow": {
     "slide_type": "skip"
    }
   },
   "outputs": [],
   "source": [
    "# OPTION 2: Keep them in nashville_referrals\n",
    "# Using the original_to_keep\n",
    "for spec in nashville_referrals[\"referrer.specialty\"]:\n",
    "    if spec in original_to_keep:\n",
    "        continue\n",
    "    else:\n",
    "        nashville_referrals.loc[nashville_referrals[\"referrer.specialty\"] == spec, \"referrer.specialty\"] = \"Other Specialities\"\n",
    "        continue"
   ]
  },
  {
   "cell_type": "markdown",
   "id": "blond-little",
   "metadata": {
    "slideshow": {
     "slide_type": "skip"
    }
   },
   "source": [
    "**`hospital.facility_name`**"
   ]
  },
  {
   "cell_type": "markdown",
   "id": "persistent-credits",
   "metadata": {
    "slideshow": {
     "slide_type": "skip"
    }
   },
   "source": [
    "This is a list of `hospital.facility_name` that are not considered for analysis. We are moving these under the *Other Specialties* category."
   ]
  },
  {
   "cell_type": "code",
   "execution_count": 14,
   "id": "hearing-inspection",
   "metadata": {
    "slideshow": {
     "slide_type": "skip"
    }
   },
   "outputs": [],
   "source": [
    "# # hospital.facility_name: List of those beyond top 7 to change to \"Others\"\n",
    "# to_others_list = nashville_referrals.groupby([\n",
    "#     \"hospital.facility_name\"\n",
    "# ]).agg({\n",
    "#     \"referral.patient_count\": \"sum\"\n",
    "# }).sort_values(by=[\"referral.patient_count\"], ascending=(False)).index[7:] # Keep Top 7 Facilities: Beyond that ==> Others"
   ]
  },
  {
   "cell_type": "markdown",
   "id": "combined-rebecca",
   "metadata": {
    "slideshow": {
     "slide_type": "skip"
    }
   },
   "source": [
    "Replace the facility names in `to_others_list` with `Others` in `nashville_referrals`"
   ]
  },
  {
   "cell_type": "code",
   "execution_count": 15,
   "id": "american-fifty",
   "metadata": {
    "slideshow": {
     "slide_type": "skip"
    }
   },
   "outputs": [],
   "source": [
    "# # Replace them in nashville_referrals\n",
    "# for name in nashville_referrals[\"hospital.facility_name\"]:\n",
    "#     if name in to_others_list:\n",
    "#         nashville_referrals.loc[nashville_referrals[\"hospital.facility_name\"] == name, \"hospital.facility_name\"] = \"Others\"\n",
    "#         continue"
   ]
  },
  {
   "cell_type": "markdown",
   "id": "given-drawing",
   "metadata": {
    "slideshow": {
     "slide_type": "skip"
    }
   },
   "source": [
    "This is a good spot to check where we are"
   ]
  },
  {
   "cell_type": "code",
   "execution_count": 16,
   "id": "apparent-infrastructure",
   "metadata": {
    "scrolled": true,
    "slideshow": {
     "slide_type": "skip"
    }
   },
   "outputs": [
    {
     "output_type": "display_data",
     "data": {
      "text/plain": "(6436, 6)"
     },
     "metadata": {}
    },
    {
     "output_type": "display_data",
     "data": {
      "text/plain": "     referrer.npi  referrer.specialty hospital.npi  \\\n3      1346288966  Other Specialities   1417938846   \n6      1508916586  Other Specialities   1417938846   \n9      1104837327  Other Specialities   1417938846   \n16     1437107265  Other Specialities   1417938846   \n18     1407836356  Other Specialities   1417938846   \n...           ...                 ...          ...   \n6424   1386878957  Other Specialities   1447639398   \n6425   1376544767  Other Specialities   1447639398   \n6427   1922278126  Other Specialities   1447639398   \n6432   1770521577  Other Specialities   1447639398   \n6433   1700823713  Other Specialities   1447639398   \n\n            hospital.facility_group              hospital.facility_name  \\\n3     Macon County General Hospital       Macon County General Hospital   \n6     Macon County General Hospital       Macon County General Hospital   \n9     Macon County General Hospital       Macon County General Hospital   \n16    Macon County General Hospital       Macon County General Hospital   \n18    Macon County General Hospital       Macon County General Hospital   \n...                             ...                                 ...   \n6424         Ascension Saint Thomas  Saint Thomas Stones River Hospital   \n6425         Ascension Saint Thomas  Saint Thomas Stones River Hospital   \n6427         Ascension Saint Thomas  Saint Thomas Stones River Hospital   \n6432         Ascension Saint Thomas  Saint Thomas Stones River Hospital   \n6433         Ascension Saint Thomas  Saint Thomas Stones River Hospital   \n\n      referral.patient_count  \n3                        146  \n6                         96  \n9                         52  \n16                        33  \n18                       208  \n...                      ...  \n6424                      75  \n6425                     285  \n6427                     107  \n6432                      91  \n6433                     332  \n\n[2127 rows x 6 columns]",
      "text/html": "<div>\n<style scoped>\n    .dataframe tbody tr th:only-of-type {\n        vertical-align: middle;\n    }\n\n    .dataframe tbody tr th {\n        vertical-align: top;\n    }\n\n    .dataframe thead th {\n        text-align: right;\n    }\n</style>\n<table border=\"1\" class=\"dataframe\">\n  <thead>\n    <tr style=\"text-align: right;\">\n      <th></th>\n      <th>referrer.npi</th>\n      <th>referrer.specialty</th>\n      <th>hospital.npi</th>\n      <th>hospital.facility_group</th>\n      <th>hospital.facility_name</th>\n      <th>referral.patient_count</th>\n    </tr>\n  </thead>\n  <tbody>\n    <tr>\n      <th>3</th>\n      <td>1346288966</td>\n      <td>Other Specialities</td>\n      <td>1417938846</td>\n      <td>Macon County General Hospital</td>\n      <td>Macon County General Hospital</td>\n      <td>146</td>\n    </tr>\n    <tr>\n      <th>6</th>\n      <td>1508916586</td>\n      <td>Other Specialities</td>\n      <td>1417938846</td>\n      <td>Macon County General Hospital</td>\n      <td>Macon County General Hospital</td>\n      <td>96</td>\n    </tr>\n    <tr>\n      <th>9</th>\n      <td>1104837327</td>\n      <td>Other Specialities</td>\n      <td>1417938846</td>\n      <td>Macon County General Hospital</td>\n      <td>Macon County General Hospital</td>\n      <td>52</td>\n    </tr>\n    <tr>\n      <th>16</th>\n      <td>1437107265</td>\n      <td>Other Specialities</td>\n      <td>1417938846</td>\n      <td>Macon County General Hospital</td>\n      <td>Macon County General Hospital</td>\n      <td>33</td>\n    </tr>\n    <tr>\n      <th>18</th>\n      <td>1407836356</td>\n      <td>Other Specialities</td>\n      <td>1417938846</td>\n      <td>Macon County General Hospital</td>\n      <td>Macon County General Hospital</td>\n      <td>208</td>\n    </tr>\n    <tr>\n      <th>...</th>\n      <td>...</td>\n      <td>...</td>\n      <td>...</td>\n      <td>...</td>\n      <td>...</td>\n      <td>...</td>\n    </tr>\n    <tr>\n      <th>6424</th>\n      <td>1386878957</td>\n      <td>Other Specialities</td>\n      <td>1447639398</td>\n      <td>Ascension Saint Thomas</td>\n      <td>Saint Thomas Stones River Hospital</td>\n      <td>75</td>\n    </tr>\n    <tr>\n      <th>6425</th>\n      <td>1376544767</td>\n      <td>Other Specialities</td>\n      <td>1447639398</td>\n      <td>Ascension Saint Thomas</td>\n      <td>Saint Thomas Stones River Hospital</td>\n      <td>285</td>\n    </tr>\n    <tr>\n      <th>6427</th>\n      <td>1922278126</td>\n      <td>Other Specialities</td>\n      <td>1447639398</td>\n      <td>Ascension Saint Thomas</td>\n      <td>Saint Thomas Stones River Hospital</td>\n      <td>107</td>\n    </tr>\n    <tr>\n      <th>6432</th>\n      <td>1770521577</td>\n      <td>Other Specialities</td>\n      <td>1447639398</td>\n      <td>Ascension Saint Thomas</td>\n      <td>Saint Thomas Stones River Hospital</td>\n      <td>91</td>\n    </tr>\n    <tr>\n      <th>6433</th>\n      <td>1700823713</td>\n      <td>Other Specialities</td>\n      <td>1447639398</td>\n      <td>Ascension Saint Thomas</td>\n      <td>Saint Thomas Stones River Hospital</td>\n      <td>332</td>\n    </tr>\n  </tbody>\n</table>\n<p>2127 rows × 6 columns</p>\n</div>"
     },
     "metadata": {}
    },
    {
     "output_type": "display_data",
     "data": {
      "text/plain": "array(['Internal Medicine', 'Urology', 'Other Specialities',\n       'Physician Assistant', 'Radiology', 'Surgery',\n       'Nurse Practitioner', 'Orthopaedic Surgery',\n       'Psychiatry & Neurology', 'Ophthalmology', 'Pathology'],\n      dtype=object)"
     },
     "metadata": {}
    },
    {
     "output_type": "display_data",
     "data": {
      "text/plain": "Empty DataFrame\nColumns: [referrer.npi, referrer.specialty, hospital.npi, hospital.facility_group, hospital.facility_name, referral.patient_count]\nIndex: []",
      "text/html": "<div>\n<style scoped>\n    .dataframe tbody tr th:only-of-type {\n        vertical-align: middle;\n    }\n\n    .dataframe tbody tr th {\n        vertical-align: top;\n    }\n\n    .dataframe thead th {\n        text-align: right;\n    }\n</style>\n<table border=\"1\" class=\"dataframe\">\n  <thead>\n    <tr style=\"text-align: right;\">\n      <th></th>\n      <th>referrer.npi</th>\n      <th>referrer.specialty</th>\n      <th>hospital.npi</th>\n      <th>hospital.facility_group</th>\n      <th>hospital.facility_name</th>\n      <th>referral.patient_count</th>\n    </tr>\n  </thead>\n  <tbody>\n  </tbody>\n</table>\n</div>"
     },
     "metadata": {}
    },
    {
     "output_type": "display_data",
     "data": {
      "text/plain": "array(['Macon County General Hospital', 'Maury Regional Medical Center',\n       'StoneCrest Medical Center HCA',\n       'Southern Hills Medical Center HCA',\n       'Ashland City Medical Center HCA',\n       'Hendersonville Medical Center HCA',\n       'TriStar Skyline Medical Center HCA', 'Summit Medical Center HCA',\n       'Saint Thomas West Hospital', 'Centennial Medical Center HCA',\n       'TriStar Horizon Medical Center HCA',\n       'Vanderbilt University Lebanon Medical Center',\n       'Williamson County Hospital', 'Saint Thomas Midtown Hospital',\n       'NorthCrest Medical Center', 'Nashville General Hosptial',\n       'Saint Thomas Rutherford Hospital',\n       'Vanderbilt University Medical Center',\n       'Sumner Regional Medical Center',\n       'Riverview Regional Medical Center', 'Trousdale Medical Center',\n       'Saint Thomas Stones River Hospital'], dtype=object)"
     },
     "metadata": {}
    }
   ],
   "source": [
    "display(nashville_referrals.shape)\n",
    "display(nashville_referrals[nashville_referrals[\"referrer.specialty\"] == \"Other Specialities\"])\n",
    "display(nashville_referrals[\"referrer.specialty\"].unique())\n",
    "display(nashville_referrals[nashville_referrals[\"hospital.facility_name\"] == \"Others\"])\n",
    "display(nashville_referrals[\"hospital.facility_name\"].unique())"
   ]
  },
  {
   "cell_type": "markdown",
   "id": "reported-vienna",
   "metadata": {
    "slideshow": {
     "slide_type": "skip"
    }
   },
   "source": [
    "### Base Dataset"
   ]
  },
  {
   "cell_type": "markdown",
   "id": "editorial-profit",
   "metadata": {
    "slideshow": {
     "slide_type": "skip"
    }
   },
   "source": [
    "Here, we are building the dataset on which we will based the building of the final diagram"
   ]
  },
  {
   "cell_type": "code",
   "execution_count": 17,
   "id": "regional-arthritis",
   "metadata": {
    "slideshow": {
     "slide_type": "skip"
    }
   },
   "outputs": [],
   "source": [
    "nash_referrals_by_speciality = nashville_referrals.groupby([\n",
    "    \"referrer.specialty\",\n",
    "    \"hospital.facility_name\",\n",
    "]).agg({\n",
    "    \"referral.patient_count\": \"sum\"\n",
    "}).reset_index().rename(columns={\n",
    "    \"hospital.facility_name\": \"hospital.name\",\n",
    "    \"referral.patient_count\": \"sum_patient_count\"\n",
    "}).sort_values(by=[\"sum_patient_count\"], ascending=(False))\\\n",
    "  .reset_index(drop=True)"
   ]
  },
  {
   "cell_type": "code",
   "execution_count": 18,
   "id": "environmental-chinese",
   "metadata": {
    "scrolled": true,
    "slideshow": {
     "slide_type": "skip"
    }
   },
   "outputs": [
    {
     "output_type": "display_data",
     "data": {
      "text/plain": "         referrer.specialty                                 hospital.name  \\\n0         Internal Medicine          Vanderbilt University Medical Center   \n1        Other Specialities          Vanderbilt University Medical Center   \n2                 Radiology          Vanderbilt University Medical Center   \n3         Internal Medicine                 Centennial Medical Center HCA   \n4         Internal Medicine                    Saint Thomas West Hospital   \n5                 Radiology                 Centennial Medical Center HCA   \n6                 Radiology                    Saint Thomas West Hospital   \n7        Nurse Practitioner          Vanderbilt University Medical Center   \n8        Other Specialities                    Saint Thomas West Hospital   \n9                 Radiology            TriStar Skyline Medical Center HCA   \n10                Radiology                 Maury Regional Medical Center   \n11       Other Specialities                 Maury Regional Medical Center   \n12        Internal Medicine                 Saint Thomas Midtown Hospital   \n13        Internal Medicine                 Maury Regional Medical Center   \n14                Radiology                     Summit Medical Center HCA   \n15       Other Specialities                 Centennial Medical Center HCA   \n16        Internal Medicine              Saint Thomas Rutherford Hospital   \n17       Other Specialities              Saint Thomas Rutherford Hospital   \n18                Radiology              Saint Thomas Rutherford Hospital   \n19                Radiology                 Saint Thomas Midtown Hospital   \n20        Internal Medicine                    Williamson County Hospital   \n21                Radiology                    Williamson County Hospital   \n22       Other Specialities                    Williamson County Hospital   \n23        Internal Medicine                Sumner Regional Medical Center   \n24        Internal Medicine            TriStar Skyline Medical Center HCA   \n25       Other Specialities                     Summit Medical Center HCA   \n26       Other Specialities                 Saint Thomas Midtown Hospital   \n27       Other Specialities            TriStar Skyline Medical Center HCA   \n28   Psychiatry & Neurology          Vanderbilt University Medical Center   \n29                Pathology          Vanderbilt University Medical Center   \n30        Internal Medicine                     Summit Medical Center HCA   \n31                Radiology             Hendersonville Medical Center HCA   \n32                Radiology            TriStar Horizon Medical Center HCA   \n33       Other Specialities                Sumner Regional Medical Center   \n34        Internal Medicine             Hendersonville Medical Center HCA   \n35            Ophthalmology          Vanderbilt University Medical Center   \n36       Other Specialities             Hendersonville Medical Center HCA   \n37                Pathology                 Centennial Medical Center HCA   \n38                Radiology  Vanderbilt University Lebanon Medical Center   \n39                Radiology             Southern Hills Medical Center HCA   \n40                Radiology                 StoneCrest Medical Center HCA   \n41       Other Specialities            TriStar Horizon Medical Center HCA   \n42                Radiology                     NorthCrest Medical Center   \n43       Other Specialities  Vanderbilt University Lebanon Medical Center   \n44      Orthopaedic Surgery          Vanderbilt University Medical Center   \n45        Internal Medicine  Vanderbilt University Lebanon Medical Center   \n46       Other Specialities             Southern Hills Medical Center HCA   \n47                  Surgery          Vanderbilt University Medical Center   \n48       Nurse Practitioner                    Saint Thomas West Hospital   \n49       Other Specialities                     NorthCrest Medical Center   \n50        Internal Medicine            TriStar Horizon Medical Center HCA   \n51       Nurse Practitioner                 Maury Regional Medical Center   \n52       Nurse Practitioner                 Centennial Medical Center HCA   \n53        Internal Medicine             Southern Hills Medical Center HCA   \n54        Internal Medicine                 StoneCrest Medical Center HCA   \n55        Internal Medicine                     NorthCrest Medical Center   \n56                  Urology          Vanderbilt University Medical Center   \n57                Radiology                Sumner Regional Medical Center   \n58      Orthopaedic Surgery                 Maury Regional Medical Center   \n59       Nurse Practitioner            TriStar Skyline Medical Center HCA   \n60       Other Specialities                 StoneCrest Medical Center HCA   \n61      Orthopaedic Surgery                    Williamson County Hospital   \n62                Pathology                    Saint Thomas West Hospital   \n63      Orthopaedic Surgery                 Centennial Medical Center HCA   \n64      Physician Assistant                 Maury Regional Medical Center   \n65                Pathology             Southern Hills Medical Center HCA   \n66        Internal Medicine                 Macon County General Hospital   \n67                  Surgery                    Saint Thomas West Hospital   \n68       Nurse Practitioner                 Saint Thomas Midtown Hospital   \n69       Other Specialities             Riverview Regional Medical Center   \n70       Nurse Practitioner                Sumner Regional Medical Center   \n71                Pathology                 Saint Thomas Midtown Hospital   \n72      Physician Assistant                 Centennial Medical Center HCA   \n73       Nurse Practitioner             Hendersonville Medical Center HCA   \n74       Nurse Practitioner              Saint Thomas Rutherford Hospital   \n75                  Surgery                 Saint Thomas Midtown Hospital   \n76                  Surgery                 Centennial Medical Center HCA   \n77       Nurse Practitioner                    Williamson County Hospital   \n78      Physician Assistant          Vanderbilt University Medical Center   \n79                Pathology                 StoneCrest Medical Center HCA   \n80      Orthopaedic Surgery                     Summit Medical Center HCA   \n81                  Surgery                 Maury Regional Medical Center   \n82       Nurse Practitioner            TriStar Horizon Medical Center HCA   \n83   Psychiatry & Neurology                 Centennial Medical Center HCA   \n84   Psychiatry & Neurology                 Maury Regional Medical Center   \n85       Nurse Practitioner  Vanderbilt University Lebanon Medical Center   \n86   Psychiatry & Neurology            TriStar Skyline Medical Center HCA   \n87       Other Specialities                 Macon County General Hospital   \n88                Pathology                Sumner Regional Medical Center   \n89                  Urology                 Centennial Medical Center HCA   \n90       Nurse Practitioner                     NorthCrest Medical Center   \n91                  Surgery                    Williamson County Hospital   \n92      Physician Assistant             Hendersonville Medical Center HCA   \n93       Nurse Practitioner                     Summit Medical Center HCA   \n94      Physician Assistant            TriStar Horizon Medical Center HCA   \n95        Internal Medicine             Riverview Regional Medical Center   \n96                Pathology            TriStar Horizon Medical Center HCA   \n97                Pathology  Vanderbilt University Lebanon Medical Center   \n98            Ophthalmology                 Centennial Medical Center HCA   \n99      Orthopaedic Surgery                    Saint Thomas West Hospital   \n100     Orthopaedic Surgery                 Saint Thomas Midtown Hospital   \n101  Psychiatry & Neurology                    Saint Thomas West Hospital   \n102                 Surgery              Saint Thomas Rutherford Hospital   \n103       Internal Medicine                    Nashville General Hosptial   \n104     Physician Assistant                     Summit Medical Center HCA   \n105                 Urology                    Williamson County Hospital   \n106               Pathology                     Summit Medical Center HCA   \n107     Orthopaedic Surgery  Vanderbilt University Lebanon Medical Center   \n108     Orthopaedic Surgery             Hendersonville Medical Center HCA   \n109               Radiology                 Macon County General Hospital   \n110                 Urology                 Maury Regional Medical Center   \n111               Pathology                    Williamson County Hospital   \n112      Nurse Practitioner             Southern Hills Medical Center HCA   \n113           Ophthalmology                    Saint Thomas West Hospital   \n114     Orthopaedic Surgery              Saint Thomas Rutherford Hospital   \n115                 Urology                    Saint Thomas West Hospital   \n116     Physician Assistant                 Saint Thomas Midtown Hospital   \n117                 Urology                Sumner Regional Medical Center   \n118  Psychiatry & Neurology                    Williamson County Hospital   \n119      Other Specialities            Saint Thomas Stones River Hospital   \n120     Physician Assistant                Sumner Regional Medical Center   \n121      Nurse Practitioner                 StoneCrest Medical Center HCA   \n122                 Urology              Saint Thomas Rutherford Hospital   \n123      Other Specialities                    Nashville General Hosptial   \n124     Orthopaedic Surgery                Sumner Regional Medical Center   \n125     Orthopaedic Surgery            TriStar Skyline Medical Center HCA   \n126  Psychiatry & Neurology              Saint Thomas Rutherford Hospital   \n127               Radiology               Ashland City Medical Center HCA   \n128                 Urology             Hendersonville Medical Center HCA   \n129     Physician Assistant            TriStar Skyline Medical Center HCA   \n130      Nurse Practitioner             Riverview Regional Medical Center   \n131      Nurse Practitioner                 Macon County General Hospital   \n132     Physician Assistant                    Williamson County Hospital   \n133                 Surgery                     Summit Medical Center HCA   \n134                 Urology                     Summit Medical Center HCA   \n135                 Surgery                     NorthCrest Medical Center   \n136      Other Specialities               Ashland City Medical Center HCA   \n137     Orthopaedic Surgery                     NorthCrest Medical Center   \n138                 Surgery             Hendersonville Medical Center HCA   \n139     Physician Assistant  Vanderbilt University Lebanon Medical Center   \n140     Physician Assistant                 Macon County General Hospital   \n141     Physician Assistant              Saint Thomas Rutherford Hospital   \n142               Radiology                    Nashville General Hosptial   \n143               Pathology             Hendersonville Medical Center HCA   \n144     Physician Assistant                 StoneCrest Medical Center HCA   \n145     Physician Assistant                     NorthCrest Medical Center   \n146      Other Specialities                      Trousdale Medical Center   \n147                 Surgery            TriStar Skyline Medical Center HCA   \n148               Radiology             Riverview Regional Medical Center   \n149     Orthopaedic Surgery                 StoneCrest Medical Center HCA   \n150                 Surgery                Sumner Regional Medical Center   \n151               Pathology            TriStar Skyline Medical Center HCA   \n152     Orthopaedic Surgery             Southern Hills Medical Center HCA   \n153  Psychiatry & Neurology                Sumner Regional Medical Center   \n154                 Surgery            TriStar Horizon Medical Center HCA   \n155  Psychiatry & Neurology                 Saint Thomas Midtown Hospital   \n156               Pathology              Saint Thomas Rutherford Hospital   \n157           Ophthalmology            TriStar Horizon Medical Center HCA   \n158               Radiology            Saint Thomas Stones River Hospital   \n159  Psychiatry & Neurology  Vanderbilt University Lebanon Medical Center   \n160                 Surgery  Vanderbilt University Lebanon Medical Center   \n161     Orthopaedic Surgery            TriStar Horizon Medical Center HCA   \n162                 Surgery                 StoneCrest Medical Center HCA   \n163       Internal Medicine                      Trousdale Medical Center   \n164           Ophthalmology                 Maury Regional Medical Center   \n165  Psychiatry & Neurology             Southern Hills Medical Center HCA   \n166                 Urology             Southern Hills Medical Center HCA   \n167      Nurse Practitioner                      Trousdale Medical Center   \n168  Psychiatry & Neurology            TriStar Horizon Medical Center HCA   \n169  Psychiatry & Neurology                     Summit Medical Center HCA   \n170                 Urology            TriStar Skyline Medical Center HCA   \n171                 Urology                 Saint Thomas Midtown Hospital   \n172           Ophthalmology                    Williamson County Hospital   \n173               Radiology                      Trousdale Medical Center   \n174                 Surgery             Southern Hills Medical Center HCA   \n175  Psychiatry & Neurology                 StoneCrest Medical Center HCA   \n176                 Urology            TriStar Horizon Medical Center HCA   \n177      Nurse Practitioner            Saint Thomas Stones River Hospital   \n178                 Urology                     NorthCrest Medical Center   \n179                 Urology                 StoneCrest Medical Center HCA   \n180               Pathology            Saint Thomas Stones River Hospital   \n181      Nurse Practitioner               Ashland City Medical Center HCA   \n182       Internal Medicine            Saint Thomas Stones River Hospital   \n183     Physician Assistant             Southern Hills Medical Center HCA   \n184       Internal Medicine               Ashland City Medical Center HCA   \n185     Orthopaedic Surgery             Riverview Regional Medical Center   \n186  Psychiatry & Neurology             Hendersonville Medical Center HCA   \n187  Psychiatry & Neurology                     NorthCrest Medical Center   \n188                 Urology             Riverview Regional Medical Center   \n189     Orthopaedic Surgery                 Macon County General Hospital   \n190           Ophthalmology                Sumner Regional Medical Center   \n191     Physician Assistant                    Nashville General Hosptial   \n192           Ophthalmology                     NorthCrest Medical Center   \n193      Nurse Practitioner                    Nashville General Hosptial   \n194                 Surgery                 Macon County General Hospital   \n195  Psychiatry & Neurology                    Nashville General Hosptial   \n196           Ophthalmology              Saint Thomas Rutherford Hospital   \n197           Ophthalmology             Riverview Regional Medical Center   \n198           Ophthalmology             Hendersonville Medical Center HCA   \n199     Orthopaedic Surgery                    Nashville General Hosptial   \n200                 Urology  Vanderbilt University Lebanon Medical Center   \n201                 Urology                    Nashville General Hosptial   \n202           Ophthalmology             Southern Hills Medical Center HCA   \n203  Psychiatry & Neurology             Riverview Regional Medical Center   \n204                 Urology                 Macon County General Hospital   \n205     Physician Assistant             Riverview Regional Medical Center   \n206  Psychiatry & Neurology                 Macon County General Hospital   \n207                 Surgery             Riverview Regional Medical Center   \n208     Physician Assistant               Ashland City Medical Center HCA   \n209                 Surgery                    Nashville General Hosptial   \n210           Ophthalmology                 StoneCrest Medical Center HCA   \n211     Orthopaedic Surgery               Ashland City Medical Center HCA   \n212     Orthopaedic Surgery            Saint Thomas Stones River Hospital   \n\n     sum_patient_count  \n0               138232  \n1                96452  \n2                69766  \n3                50122  \n4                46091  \n5                40110  \n6                34746  \n7                33901  \n8                29437  \n9                27040  \n10               25693  \n11               25554  \n12               25285  \n13               25172  \n14               24967  \n15               24410  \n16               23919  \n17               23188  \n18               21524  \n19               21342  \n20               20348  \n21               19298  \n22               19241  \n23               19025  \n24               18206  \n25               18016  \n26               17169  \n27               15436  \n28               15429  \n29               15367  \n30               14957  \n31               14792  \n32               13373  \n33               13318  \n34               13316  \n35               13160  \n36               12395  \n37               11585  \n38               10343  \n39                9971  \n40                9771  \n41                9406  \n42                9400  \n43                9005  \n44                8692  \n45                8646  \n46                8471  \n47                8266  \n48                7931  \n49                7294  \n50                7251  \n51                7012  \n52                6400  \n53                6200  \n54                5733  \n55                5719  \n56                5481  \n57                5442  \n58                4431  \n59                3842  \n60                3692  \n61                3569  \n62                3549  \n63                3459  \n64                3289  \n65                3057  \n66                3046  \n67                2921  \n68                2889  \n69                2888  \n70                2671  \n71                2669  \n72                2632  \n73                2557  \n74                2431  \n75                2412  \n76                2384  \n77                2333  \n78                2123  \n79                2112  \n80                2095  \n81                2089  \n82                2036  \n83                2024  \n84                1928  \n85                1923  \n86                1861  \n87                1768  \n88                1725  \n89                1706  \n90                1692  \n91                1658  \n92                1648  \n93                1632  \n94                1617  \n95                1611  \n96                1566  \n97                1553  \n98                1543  \n99                1522  \n100               1515  \n101               1509  \n102               1492  \n103               1426  \n104               1278  \n105               1272  \n106               1271  \n107               1240  \n108               1237  \n109               1236  \n110               1216  \n111               1216  \n112               1178  \n113               1172  \n114               1158  \n115               1152  \n116               1116  \n117               1115  \n118               1108  \n119               1076  \n120               1050  \n121               1040  \n122               1038  \n123               1005  \n124                961  \n125                954  \n126                946  \n127                914  \n128                911  \n129                904  \n130                880  \n131                879  \n132                878  \n133                874  \n134                869  \n135                819  \n136                792  \n137                785  \n138                782  \n139                776  \n140                763  \n141                755  \n142                726  \n143                723  \n144                711  \n145                686  \n146                661  \n147                655  \n148                644  \n149                643  \n150                624  \n151                619  \n152                618  \n153                593  \n154                576  \n155                568  \n156                556  \n157                549  \n158                544  \n159                499  \n160                485  \n161                484  \n162                477  \n163                469  \n164                452  \n165                443  \n166                440  \n167                430  \n168                428  \n169                422  \n170                409  \n171                366  \n172                351  \n173                345  \n174                341  \n175                334  \n176                333  \n177                308  \n178                299  \n179                289  \n180                266  \n181                259  \n182                236  \n183                235  \n184                224  \n185                216  \n186                213  \n187                213  \n188                182  \n189                157  \n190                140  \n191                139  \n192                134  \n193                127  \n194                126  \n195                125  \n196                117  \n197                111  \n198                 86  \n199                 82  \n200                 78  \n201                 66  \n202                 65  \n203                 60  \n204                 55  \n205                 55  \n206                 53  \n207                 42  \n208                 42  \n209                 39  \n210                 35  \n211                 35  \n212                 33  ",
      "text/html": "<div>\n<style scoped>\n    .dataframe tbody tr th:only-of-type {\n        vertical-align: middle;\n    }\n\n    .dataframe tbody tr th {\n        vertical-align: top;\n    }\n\n    .dataframe thead th {\n        text-align: right;\n    }\n</style>\n<table border=\"1\" class=\"dataframe\">\n  <thead>\n    <tr style=\"text-align: right;\">\n      <th></th>\n      <th>referrer.specialty</th>\n      <th>hospital.name</th>\n      <th>sum_patient_count</th>\n    </tr>\n  </thead>\n  <tbody>\n    <tr>\n      <th>0</th>\n      <td>Internal Medicine</td>\n      <td>Vanderbilt University Medical Center</td>\n      <td>138232</td>\n    </tr>\n    <tr>\n      <th>1</th>\n      <td>Other Specialities</td>\n      <td>Vanderbilt University Medical Center</td>\n      <td>96452</td>\n    </tr>\n    <tr>\n      <th>2</th>\n      <td>Radiology</td>\n      <td>Vanderbilt University Medical Center</td>\n      <td>69766</td>\n    </tr>\n    <tr>\n      <th>3</th>\n      <td>Internal Medicine</td>\n      <td>Centennial Medical Center HCA</td>\n      <td>50122</td>\n    </tr>\n    <tr>\n      <th>4</th>\n      <td>Internal Medicine</td>\n      <td>Saint Thomas West Hospital</td>\n      <td>46091</td>\n    </tr>\n    <tr>\n      <th>5</th>\n      <td>Radiology</td>\n      <td>Centennial Medical Center HCA</td>\n      <td>40110</td>\n    </tr>\n    <tr>\n      <th>6</th>\n      <td>Radiology</td>\n      <td>Saint Thomas West Hospital</td>\n      <td>34746</td>\n    </tr>\n    <tr>\n      <th>7</th>\n      <td>Nurse Practitioner</td>\n      <td>Vanderbilt University Medical Center</td>\n      <td>33901</td>\n    </tr>\n    <tr>\n      <th>8</th>\n      <td>Other Specialities</td>\n      <td>Saint Thomas West Hospital</td>\n      <td>29437</td>\n    </tr>\n    <tr>\n      <th>9</th>\n      <td>Radiology</td>\n      <td>TriStar Skyline Medical Center HCA</td>\n      <td>27040</td>\n    </tr>\n    <tr>\n      <th>10</th>\n      <td>Radiology</td>\n      <td>Maury Regional Medical Center</td>\n      <td>25693</td>\n    </tr>\n    <tr>\n      <th>11</th>\n      <td>Other Specialities</td>\n      <td>Maury Regional Medical Center</td>\n      <td>25554</td>\n    </tr>\n    <tr>\n      <th>12</th>\n      <td>Internal Medicine</td>\n      <td>Saint Thomas Midtown Hospital</td>\n      <td>25285</td>\n    </tr>\n    <tr>\n      <th>13</th>\n      <td>Internal Medicine</td>\n      <td>Maury Regional Medical Center</td>\n      <td>25172</td>\n    </tr>\n    <tr>\n      <th>14</th>\n      <td>Radiology</td>\n      <td>Summit Medical Center HCA</td>\n      <td>24967</td>\n    </tr>\n    <tr>\n      <th>15</th>\n      <td>Other Specialities</td>\n      <td>Centennial Medical Center HCA</td>\n      <td>24410</td>\n    </tr>\n    <tr>\n      <th>16</th>\n      <td>Internal Medicine</td>\n      <td>Saint Thomas Rutherford Hospital</td>\n      <td>23919</td>\n    </tr>\n    <tr>\n      <th>17</th>\n      <td>Other Specialities</td>\n      <td>Saint Thomas Rutherford Hospital</td>\n      <td>23188</td>\n    </tr>\n    <tr>\n      <th>18</th>\n      <td>Radiology</td>\n      <td>Saint Thomas Rutherford Hospital</td>\n      <td>21524</td>\n    </tr>\n    <tr>\n      <th>19</th>\n      <td>Radiology</td>\n      <td>Saint Thomas Midtown Hospital</td>\n      <td>21342</td>\n    </tr>\n    <tr>\n      <th>20</th>\n      <td>Internal Medicine</td>\n      <td>Williamson County Hospital</td>\n      <td>20348</td>\n    </tr>\n    <tr>\n      <th>21</th>\n      <td>Radiology</td>\n      <td>Williamson County Hospital</td>\n      <td>19298</td>\n    </tr>\n    <tr>\n      <th>22</th>\n      <td>Other Specialities</td>\n      <td>Williamson County Hospital</td>\n      <td>19241</td>\n    </tr>\n    <tr>\n      <th>23</th>\n      <td>Internal Medicine</td>\n      <td>Sumner Regional Medical Center</td>\n      <td>19025</td>\n    </tr>\n    <tr>\n      <th>24</th>\n      <td>Internal Medicine</td>\n      <td>TriStar Skyline Medical Center HCA</td>\n      <td>18206</td>\n    </tr>\n    <tr>\n      <th>25</th>\n      <td>Other Specialities</td>\n      <td>Summit Medical Center HCA</td>\n      <td>18016</td>\n    </tr>\n    <tr>\n      <th>26</th>\n      <td>Other Specialities</td>\n      <td>Saint Thomas Midtown Hospital</td>\n      <td>17169</td>\n    </tr>\n    <tr>\n      <th>27</th>\n      <td>Other Specialities</td>\n      <td>TriStar Skyline Medical Center HCA</td>\n      <td>15436</td>\n    </tr>\n    <tr>\n      <th>28</th>\n      <td>Psychiatry &amp; Neurology</td>\n      <td>Vanderbilt University Medical Center</td>\n      <td>15429</td>\n    </tr>\n    <tr>\n      <th>29</th>\n      <td>Pathology</td>\n      <td>Vanderbilt University Medical Center</td>\n      <td>15367</td>\n    </tr>\n    <tr>\n      <th>30</th>\n      <td>Internal Medicine</td>\n      <td>Summit Medical Center HCA</td>\n      <td>14957</td>\n    </tr>\n    <tr>\n      <th>31</th>\n      <td>Radiology</td>\n      <td>Hendersonville Medical Center HCA</td>\n      <td>14792</td>\n    </tr>\n    <tr>\n      <th>32</th>\n      <td>Radiology</td>\n      <td>TriStar Horizon Medical Center HCA</td>\n      <td>13373</td>\n    </tr>\n    <tr>\n      <th>33</th>\n      <td>Other Specialities</td>\n      <td>Sumner Regional Medical Center</td>\n      <td>13318</td>\n    </tr>\n    <tr>\n      <th>34</th>\n      <td>Internal Medicine</td>\n      <td>Hendersonville Medical Center HCA</td>\n      <td>13316</td>\n    </tr>\n    <tr>\n      <th>35</th>\n      <td>Ophthalmology</td>\n      <td>Vanderbilt University Medical Center</td>\n      <td>13160</td>\n    </tr>\n    <tr>\n      <th>36</th>\n      <td>Other Specialities</td>\n      <td>Hendersonville Medical Center HCA</td>\n      <td>12395</td>\n    </tr>\n    <tr>\n      <th>37</th>\n      <td>Pathology</td>\n      <td>Centennial Medical Center HCA</td>\n      <td>11585</td>\n    </tr>\n    <tr>\n      <th>38</th>\n      <td>Radiology</td>\n      <td>Vanderbilt University Lebanon Medical Center</td>\n      <td>10343</td>\n    </tr>\n    <tr>\n      <th>39</th>\n      <td>Radiology</td>\n      <td>Southern Hills Medical Center HCA</td>\n      <td>9971</td>\n    </tr>\n    <tr>\n      <th>40</th>\n      <td>Radiology</td>\n      <td>StoneCrest Medical Center HCA</td>\n      <td>9771</td>\n    </tr>\n    <tr>\n      <th>41</th>\n      <td>Other Specialities</td>\n      <td>TriStar Horizon Medical Center HCA</td>\n      <td>9406</td>\n    </tr>\n    <tr>\n      <th>42</th>\n      <td>Radiology</td>\n      <td>NorthCrest Medical Center</td>\n      <td>9400</td>\n    </tr>\n    <tr>\n      <th>43</th>\n      <td>Other Specialities</td>\n      <td>Vanderbilt University Lebanon Medical Center</td>\n      <td>9005</td>\n    </tr>\n    <tr>\n      <th>44</th>\n      <td>Orthopaedic Surgery</td>\n      <td>Vanderbilt University Medical Center</td>\n      <td>8692</td>\n    </tr>\n    <tr>\n      <th>45</th>\n      <td>Internal Medicine</td>\n      <td>Vanderbilt University Lebanon Medical Center</td>\n      <td>8646</td>\n    </tr>\n    <tr>\n      <th>46</th>\n      <td>Other Specialities</td>\n      <td>Southern Hills Medical Center HCA</td>\n      <td>8471</td>\n    </tr>\n    <tr>\n      <th>47</th>\n      <td>Surgery</td>\n      <td>Vanderbilt University Medical Center</td>\n      <td>8266</td>\n    </tr>\n    <tr>\n      <th>48</th>\n      <td>Nurse Practitioner</td>\n      <td>Saint Thomas West Hospital</td>\n      <td>7931</td>\n    </tr>\n    <tr>\n      <th>49</th>\n      <td>Other Specialities</td>\n      <td>NorthCrest Medical Center</td>\n      <td>7294</td>\n    </tr>\n    <tr>\n      <th>50</th>\n      <td>Internal Medicine</td>\n      <td>TriStar Horizon Medical Center HCA</td>\n      <td>7251</td>\n    </tr>\n    <tr>\n      <th>51</th>\n      <td>Nurse Practitioner</td>\n      <td>Maury Regional Medical Center</td>\n      <td>7012</td>\n    </tr>\n    <tr>\n      <th>52</th>\n      <td>Nurse Practitioner</td>\n      <td>Centennial Medical Center HCA</td>\n      <td>6400</td>\n    </tr>\n    <tr>\n      <th>53</th>\n      <td>Internal Medicine</td>\n      <td>Southern Hills Medical Center HCA</td>\n      <td>6200</td>\n    </tr>\n    <tr>\n      <th>54</th>\n      <td>Internal Medicine</td>\n      <td>StoneCrest Medical Center HCA</td>\n      <td>5733</td>\n    </tr>\n    <tr>\n      <th>55</th>\n      <td>Internal Medicine</td>\n      <td>NorthCrest Medical Center</td>\n      <td>5719</td>\n    </tr>\n    <tr>\n      <th>56</th>\n      <td>Urology</td>\n      <td>Vanderbilt University Medical Center</td>\n      <td>5481</td>\n    </tr>\n    <tr>\n      <th>57</th>\n      <td>Radiology</td>\n      <td>Sumner Regional Medical Center</td>\n      <td>5442</td>\n    </tr>\n    <tr>\n      <th>58</th>\n      <td>Orthopaedic Surgery</td>\n      <td>Maury Regional Medical Center</td>\n      <td>4431</td>\n    </tr>\n    <tr>\n      <th>59</th>\n      <td>Nurse Practitioner</td>\n      <td>TriStar Skyline Medical Center HCA</td>\n      <td>3842</td>\n    </tr>\n    <tr>\n      <th>60</th>\n      <td>Other Specialities</td>\n      <td>StoneCrest Medical Center HCA</td>\n      <td>3692</td>\n    </tr>\n    <tr>\n      <th>61</th>\n      <td>Orthopaedic Surgery</td>\n      <td>Williamson County Hospital</td>\n      <td>3569</td>\n    </tr>\n    <tr>\n      <th>62</th>\n      <td>Pathology</td>\n      <td>Saint Thomas West Hospital</td>\n      <td>3549</td>\n    </tr>\n    <tr>\n      <th>63</th>\n      <td>Orthopaedic Surgery</td>\n      <td>Centennial Medical Center HCA</td>\n      <td>3459</td>\n    </tr>\n    <tr>\n      <th>64</th>\n      <td>Physician Assistant</td>\n      <td>Maury Regional Medical Center</td>\n      <td>3289</td>\n    </tr>\n    <tr>\n      <th>65</th>\n      <td>Pathology</td>\n      <td>Southern Hills Medical Center HCA</td>\n      <td>3057</td>\n    </tr>\n    <tr>\n      <th>66</th>\n      <td>Internal Medicine</td>\n      <td>Macon County General Hospital</td>\n      <td>3046</td>\n    </tr>\n    <tr>\n      <th>67</th>\n      <td>Surgery</td>\n      <td>Saint Thomas West Hospital</td>\n      <td>2921</td>\n    </tr>\n    <tr>\n      <th>68</th>\n      <td>Nurse Practitioner</td>\n      <td>Saint Thomas Midtown Hospital</td>\n      <td>2889</td>\n    </tr>\n    <tr>\n      <th>69</th>\n      <td>Other Specialities</td>\n      <td>Riverview Regional Medical Center</td>\n      <td>2888</td>\n    </tr>\n    <tr>\n      <th>70</th>\n      <td>Nurse Practitioner</td>\n      <td>Sumner Regional Medical Center</td>\n      <td>2671</td>\n    </tr>\n    <tr>\n      <th>71</th>\n      <td>Pathology</td>\n      <td>Saint Thomas Midtown Hospital</td>\n      <td>2669</td>\n    </tr>\n    <tr>\n      <th>72</th>\n      <td>Physician Assistant</td>\n      <td>Centennial Medical Center HCA</td>\n      <td>2632</td>\n    </tr>\n    <tr>\n      <th>73</th>\n      <td>Nurse Practitioner</td>\n      <td>Hendersonville Medical Center HCA</td>\n      <td>2557</td>\n    </tr>\n    <tr>\n      <th>74</th>\n      <td>Nurse Practitioner</td>\n      <td>Saint Thomas Rutherford Hospital</td>\n      <td>2431</td>\n    </tr>\n    <tr>\n      <th>75</th>\n      <td>Surgery</td>\n      <td>Saint Thomas Midtown Hospital</td>\n      <td>2412</td>\n    </tr>\n    <tr>\n      <th>76</th>\n      <td>Surgery</td>\n      <td>Centennial Medical Center HCA</td>\n      <td>2384</td>\n    </tr>\n    <tr>\n      <th>77</th>\n      <td>Nurse Practitioner</td>\n      <td>Williamson County Hospital</td>\n      <td>2333</td>\n    </tr>\n    <tr>\n      <th>78</th>\n      <td>Physician Assistant</td>\n      <td>Vanderbilt University Medical Center</td>\n      <td>2123</td>\n    </tr>\n    <tr>\n      <th>79</th>\n      <td>Pathology</td>\n      <td>StoneCrest Medical Center HCA</td>\n      <td>2112</td>\n    </tr>\n    <tr>\n      <th>80</th>\n      <td>Orthopaedic Surgery</td>\n      <td>Summit Medical Center HCA</td>\n      <td>2095</td>\n    </tr>\n    <tr>\n      <th>81</th>\n      <td>Surgery</td>\n      <td>Maury Regional Medical Center</td>\n      <td>2089</td>\n    </tr>\n    <tr>\n      <th>82</th>\n      <td>Nurse Practitioner</td>\n      <td>TriStar Horizon Medical Center HCA</td>\n      <td>2036</td>\n    </tr>\n    <tr>\n      <th>83</th>\n      <td>Psychiatry &amp; Neurology</td>\n      <td>Centennial Medical Center HCA</td>\n      <td>2024</td>\n    </tr>\n    <tr>\n      <th>84</th>\n      <td>Psychiatry &amp; Neurology</td>\n      <td>Maury Regional Medical Center</td>\n      <td>1928</td>\n    </tr>\n    <tr>\n      <th>85</th>\n      <td>Nurse Practitioner</td>\n      <td>Vanderbilt University Lebanon Medical Center</td>\n      <td>1923</td>\n    </tr>\n    <tr>\n      <th>86</th>\n      <td>Psychiatry &amp; Neurology</td>\n      <td>TriStar Skyline Medical Center HCA</td>\n      <td>1861</td>\n    </tr>\n    <tr>\n      <th>87</th>\n      <td>Other Specialities</td>\n      <td>Macon County General Hospital</td>\n      <td>1768</td>\n    </tr>\n    <tr>\n      <th>88</th>\n      <td>Pathology</td>\n      <td>Sumner Regional Medical Center</td>\n      <td>1725</td>\n    </tr>\n    <tr>\n      <th>89</th>\n      <td>Urology</td>\n      <td>Centennial Medical Center HCA</td>\n      <td>1706</td>\n    </tr>\n    <tr>\n      <th>90</th>\n      <td>Nurse Practitioner</td>\n      <td>NorthCrest Medical Center</td>\n      <td>1692</td>\n    </tr>\n    <tr>\n      <th>91</th>\n      <td>Surgery</td>\n      <td>Williamson County Hospital</td>\n      <td>1658</td>\n    </tr>\n    <tr>\n      <th>92</th>\n      <td>Physician Assistant</td>\n      <td>Hendersonville Medical Center HCA</td>\n      <td>1648</td>\n    </tr>\n    <tr>\n      <th>93</th>\n      <td>Nurse Practitioner</td>\n      <td>Summit Medical Center HCA</td>\n      <td>1632</td>\n    </tr>\n    <tr>\n      <th>94</th>\n      <td>Physician Assistant</td>\n      <td>TriStar Horizon Medical Center HCA</td>\n      <td>1617</td>\n    </tr>\n    <tr>\n      <th>95</th>\n      <td>Internal Medicine</td>\n      <td>Riverview Regional Medical Center</td>\n      <td>1611</td>\n    </tr>\n    <tr>\n      <th>96</th>\n      <td>Pathology</td>\n      <td>TriStar Horizon Medical Center HCA</td>\n      <td>1566</td>\n    </tr>\n    <tr>\n      <th>97</th>\n      <td>Pathology</td>\n      <td>Vanderbilt University Lebanon Medical Center</td>\n      <td>1553</td>\n    </tr>\n    <tr>\n      <th>98</th>\n      <td>Ophthalmology</td>\n      <td>Centennial Medical Center HCA</td>\n      <td>1543</td>\n    </tr>\n    <tr>\n      <th>99</th>\n      <td>Orthopaedic Surgery</td>\n      <td>Saint Thomas West Hospital</td>\n      <td>1522</td>\n    </tr>\n    <tr>\n      <th>100</th>\n      <td>Orthopaedic Surgery</td>\n      <td>Saint Thomas Midtown Hospital</td>\n      <td>1515</td>\n    </tr>\n    <tr>\n      <th>101</th>\n      <td>Psychiatry &amp; Neurology</td>\n      <td>Saint Thomas West Hospital</td>\n      <td>1509</td>\n    </tr>\n    <tr>\n      <th>102</th>\n      <td>Surgery</td>\n      <td>Saint Thomas Rutherford Hospital</td>\n      <td>1492</td>\n    </tr>\n    <tr>\n      <th>103</th>\n      <td>Internal Medicine</td>\n      <td>Nashville General Hosptial</td>\n      <td>1426</td>\n    </tr>\n    <tr>\n      <th>104</th>\n      <td>Physician Assistant</td>\n      <td>Summit Medical Center HCA</td>\n      <td>1278</td>\n    </tr>\n    <tr>\n      <th>105</th>\n      <td>Urology</td>\n      <td>Williamson County Hospital</td>\n      <td>1272</td>\n    </tr>\n    <tr>\n      <th>106</th>\n      <td>Pathology</td>\n      <td>Summit Medical Center HCA</td>\n      <td>1271</td>\n    </tr>\n    <tr>\n      <th>107</th>\n      <td>Orthopaedic Surgery</td>\n      <td>Vanderbilt University Lebanon Medical Center</td>\n      <td>1240</td>\n    </tr>\n    <tr>\n      <th>108</th>\n      <td>Orthopaedic Surgery</td>\n      <td>Hendersonville Medical Center HCA</td>\n      <td>1237</td>\n    </tr>\n    <tr>\n      <th>109</th>\n      <td>Radiology</td>\n      <td>Macon County General Hospital</td>\n      <td>1236</td>\n    </tr>\n    <tr>\n      <th>110</th>\n      <td>Urology</td>\n      <td>Maury Regional Medical Center</td>\n      <td>1216</td>\n    </tr>\n    <tr>\n      <th>111</th>\n      <td>Pathology</td>\n      <td>Williamson County Hospital</td>\n      <td>1216</td>\n    </tr>\n    <tr>\n      <th>112</th>\n      <td>Nurse Practitioner</td>\n      <td>Southern Hills Medical Center HCA</td>\n      <td>1178</td>\n    </tr>\n    <tr>\n      <th>113</th>\n      <td>Ophthalmology</td>\n      <td>Saint Thomas West Hospital</td>\n      <td>1172</td>\n    </tr>\n    <tr>\n      <th>114</th>\n      <td>Orthopaedic Surgery</td>\n      <td>Saint Thomas Rutherford Hospital</td>\n      <td>1158</td>\n    </tr>\n    <tr>\n      <th>115</th>\n      <td>Urology</td>\n      <td>Saint Thomas West Hospital</td>\n      <td>1152</td>\n    </tr>\n    <tr>\n      <th>116</th>\n      <td>Physician Assistant</td>\n      <td>Saint Thomas Midtown Hospital</td>\n      <td>1116</td>\n    </tr>\n    <tr>\n      <th>117</th>\n      <td>Urology</td>\n      <td>Sumner Regional Medical Center</td>\n      <td>1115</td>\n    </tr>\n    <tr>\n      <th>118</th>\n      <td>Psychiatry &amp; Neurology</td>\n      <td>Williamson County Hospital</td>\n      <td>1108</td>\n    </tr>\n    <tr>\n      <th>119</th>\n      <td>Other Specialities</td>\n      <td>Saint Thomas Stones River Hospital</td>\n      <td>1076</td>\n    </tr>\n    <tr>\n      <th>120</th>\n      <td>Physician Assistant</td>\n      <td>Sumner Regional Medical Center</td>\n      <td>1050</td>\n    </tr>\n    <tr>\n      <th>121</th>\n      <td>Nurse Practitioner</td>\n      <td>StoneCrest Medical Center HCA</td>\n      <td>1040</td>\n    </tr>\n    <tr>\n      <th>122</th>\n      <td>Urology</td>\n      <td>Saint Thomas Rutherford Hospital</td>\n      <td>1038</td>\n    </tr>\n    <tr>\n      <th>123</th>\n      <td>Other Specialities</td>\n      <td>Nashville General Hosptial</td>\n      <td>1005</td>\n    </tr>\n    <tr>\n      <th>124</th>\n      <td>Orthopaedic Surgery</td>\n      <td>Sumner Regional Medical Center</td>\n      <td>961</td>\n    </tr>\n    <tr>\n      <th>125</th>\n      <td>Orthopaedic Surgery</td>\n      <td>TriStar Skyline Medical Center HCA</td>\n      <td>954</td>\n    </tr>\n    <tr>\n      <th>126</th>\n      <td>Psychiatry &amp; Neurology</td>\n      <td>Saint Thomas Rutherford Hospital</td>\n      <td>946</td>\n    </tr>\n    <tr>\n      <th>127</th>\n      <td>Radiology</td>\n      <td>Ashland City Medical Center HCA</td>\n      <td>914</td>\n    </tr>\n    <tr>\n      <th>128</th>\n      <td>Urology</td>\n      <td>Hendersonville Medical Center HCA</td>\n      <td>911</td>\n    </tr>\n    <tr>\n      <th>129</th>\n      <td>Physician Assistant</td>\n      <td>TriStar Skyline Medical Center HCA</td>\n      <td>904</td>\n    </tr>\n    <tr>\n      <th>130</th>\n      <td>Nurse Practitioner</td>\n      <td>Riverview Regional Medical Center</td>\n      <td>880</td>\n    </tr>\n    <tr>\n      <th>131</th>\n      <td>Nurse Practitioner</td>\n      <td>Macon County General Hospital</td>\n      <td>879</td>\n    </tr>\n    <tr>\n      <th>132</th>\n      <td>Physician Assistant</td>\n      <td>Williamson County Hospital</td>\n      <td>878</td>\n    </tr>\n    <tr>\n      <th>133</th>\n      <td>Surgery</td>\n      <td>Summit Medical Center HCA</td>\n      <td>874</td>\n    </tr>\n    <tr>\n      <th>134</th>\n      <td>Urology</td>\n      <td>Summit Medical Center HCA</td>\n      <td>869</td>\n    </tr>\n    <tr>\n      <th>135</th>\n      <td>Surgery</td>\n      <td>NorthCrest Medical Center</td>\n      <td>819</td>\n    </tr>\n    <tr>\n      <th>136</th>\n      <td>Other Specialities</td>\n      <td>Ashland City Medical Center HCA</td>\n      <td>792</td>\n    </tr>\n    <tr>\n      <th>137</th>\n      <td>Orthopaedic Surgery</td>\n      <td>NorthCrest Medical Center</td>\n      <td>785</td>\n    </tr>\n    <tr>\n      <th>138</th>\n      <td>Surgery</td>\n      <td>Hendersonville Medical Center HCA</td>\n      <td>782</td>\n    </tr>\n    <tr>\n      <th>139</th>\n      <td>Physician Assistant</td>\n      <td>Vanderbilt University Lebanon Medical Center</td>\n      <td>776</td>\n    </tr>\n    <tr>\n      <th>140</th>\n      <td>Physician Assistant</td>\n      <td>Macon County General Hospital</td>\n      <td>763</td>\n    </tr>\n    <tr>\n      <th>141</th>\n      <td>Physician Assistant</td>\n      <td>Saint Thomas Rutherford Hospital</td>\n      <td>755</td>\n    </tr>\n    <tr>\n      <th>142</th>\n      <td>Radiology</td>\n      <td>Nashville General Hosptial</td>\n      <td>726</td>\n    </tr>\n    <tr>\n      <th>143</th>\n      <td>Pathology</td>\n      <td>Hendersonville Medical Center HCA</td>\n      <td>723</td>\n    </tr>\n    <tr>\n      <th>144</th>\n      <td>Physician Assistant</td>\n      <td>StoneCrest Medical Center HCA</td>\n      <td>711</td>\n    </tr>\n    <tr>\n      <th>145</th>\n      <td>Physician Assistant</td>\n      <td>NorthCrest Medical Center</td>\n      <td>686</td>\n    </tr>\n    <tr>\n      <th>146</th>\n      <td>Other Specialities</td>\n      <td>Trousdale Medical Center</td>\n      <td>661</td>\n    </tr>\n    <tr>\n      <th>147</th>\n      <td>Surgery</td>\n      <td>TriStar Skyline Medical Center HCA</td>\n      <td>655</td>\n    </tr>\n    <tr>\n      <th>148</th>\n      <td>Radiology</td>\n      <td>Riverview Regional Medical Center</td>\n      <td>644</td>\n    </tr>\n    <tr>\n      <th>149</th>\n      <td>Orthopaedic Surgery</td>\n      <td>StoneCrest Medical Center HCA</td>\n      <td>643</td>\n    </tr>\n    <tr>\n      <th>150</th>\n      <td>Surgery</td>\n      <td>Sumner Regional Medical Center</td>\n      <td>624</td>\n    </tr>\n    <tr>\n      <th>151</th>\n      <td>Pathology</td>\n      <td>TriStar Skyline Medical Center HCA</td>\n      <td>619</td>\n    </tr>\n    <tr>\n      <th>152</th>\n      <td>Orthopaedic Surgery</td>\n      <td>Southern Hills Medical Center HCA</td>\n      <td>618</td>\n    </tr>\n    <tr>\n      <th>153</th>\n      <td>Psychiatry &amp; Neurology</td>\n      <td>Sumner Regional Medical Center</td>\n      <td>593</td>\n    </tr>\n    <tr>\n      <th>154</th>\n      <td>Surgery</td>\n      <td>TriStar Horizon Medical Center HCA</td>\n      <td>576</td>\n    </tr>\n    <tr>\n      <th>155</th>\n      <td>Psychiatry &amp; Neurology</td>\n      <td>Saint Thomas Midtown Hospital</td>\n      <td>568</td>\n    </tr>\n    <tr>\n      <th>156</th>\n      <td>Pathology</td>\n      <td>Saint Thomas Rutherford Hospital</td>\n      <td>556</td>\n    </tr>\n    <tr>\n      <th>157</th>\n      <td>Ophthalmology</td>\n      <td>TriStar Horizon Medical Center HCA</td>\n      <td>549</td>\n    </tr>\n    <tr>\n      <th>158</th>\n      <td>Radiology</td>\n      <td>Saint Thomas Stones River Hospital</td>\n      <td>544</td>\n    </tr>\n    <tr>\n      <th>159</th>\n      <td>Psychiatry &amp; Neurology</td>\n      <td>Vanderbilt University Lebanon Medical Center</td>\n      <td>499</td>\n    </tr>\n    <tr>\n      <th>160</th>\n      <td>Surgery</td>\n      <td>Vanderbilt University Lebanon Medical Center</td>\n      <td>485</td>\n    </tr>\n    <tr>\n      <th>161</th>\n      <td>Orthopaedic Surgery</td>\n      <td>TriStar Horizon Medical Center HCA</td>\n      <td>484</td>\n    </tr>\n    <tr>\n      <th>162</th>\n      <td>Surgery</td>\n      <td>StoneCrest Medical Center HCA</td>\n      <td>477</td>\n    </tr>\n    <tr>\n      <th>163</th>\n      <td>Internal Medicine</td>\n      <td>Trousdale Medical Center</td>\n      <td>469</td>\n    </tr>\n    <tr>\n      <th>164</th>\n      <td>Ophthalmology</td>\n      <td>Maury Regional Medical Center</td>\n      <td>452</td>\n    </tr>\n    <tr>\n      <th>165</th>\n      <td>Psychiatry &amp; Neurology</td>\n      <td>Southern Hills Medical Center HCA</td>\n      <td>443</td>\n    </tr>\n    <tr>\n      <th>166</th>\n      <td>Urology</td>\n      <td>Southern Hills Medical Center HCA</td>\n      <td>440</td>\n    </tr>\n    <tr>\n      <th>167</th>\n      <td>Nurse Practitioner</td>\n      <td>Trousdale Medical Center</td>\n      <td>430</td>\n    </tr>\n    <tr>\n      <th>168</th>\n      <td>Psychiatry &amp; Neurology</td>\n      <td>TriStar Horizon Medical Center HCA</td>\n      <td>428</td>\n    </tr>\n    <tr>\n      <th>169</th>\n      <td>Psychiatry &amp; Neurology</td>\n      <td>Summit Medical Center HCA</td>\n      <td>422</td>\n    </tr>\n    <tr>\n      <th>170</th>\n      <td>Urology</td>\n      <td>TriStar Skyline Medical Center HCA</td>\n      <td>409</td>\n    </tr>\n    <tr>\n      <th>171</th>\n      <td>Urology</td>\n      <td>Saint Thomas Midtown Hospital</td>\n      <td>366</td>\n    </tr>\n    <tr>\n      <th>172</th>\n      <td>Ophthalmology</td>\n      <td>Williamson County Hospital</td>\n      <td>351</td>\n    </tr>\n    <tr>\n      <th>173</th>\n      <td>Radiology</td>\n      <td>Trousdale Medical Center</td>\n      <td>345</td>\n    </tr>\n    <tr>\n      <th>174</th>\n      <td>Surgery</td>\n      <td>Southern Hills Medical Center HCA</td>\n      <td>341</td>\n    </tr>\n    <tr>\n      <th>175</th>\n      <td>Psychiatry &amp; Neurology</td>\n      <td>StoneCrest Medical Center HCA</td>\n      <td>334</td>\n    </tr>\n    <tr>\n      <th>176</th>\n      <td>Urology</td>\n      <td>TriStar Horizon Medical Center HCA</td>\n      <td>333</td>\n    </tr>\n    <tr>\n      <th>177</th>\n      <td>Nurse Practitioner</td>\n      <td>Saint Thomas Stones River Hospital</td>\n      <td>308</td>\n    </tr>\n    <tr>\n      <th>178</th>\n      <td>Urology</td>\n      <td>NorthCrest Medical Center</td>\n      <td>299</td>\n    </tr>\n    <tr>\n      <th>179</th>\n      <td>Urology</td>\n      <td>StoneCrest Medical Center HCA</td>\n      <td>289</td>\n    </tr>\n    <tr>\n      <th>180</th>\n      <td>Pathology</td>\n      <td>Saint Thomas Stones River Hospital</td>\n      <td>266</td>\n    </tr>\n    <tr>\n      <th>181</th>\n      <td>Nurse Practitioner</td>\n      <td>Ashland City Medical Center HCA</td>\n      <td>259</td>\n    </tr>\n    <tr>\n      <th>182</th>\n      <td>Internal Medicine</td>\n      <td>Saint Thomas Stones River Hospital</td>\n      <td>236</td>\n    </tr>\n    <tr>\n      <th>183</th>\n      <td>Physician Assistant</td>\n      <td>Southern Hills Medical Center HCA</td>\n      <td>235</td>\n    </tr>\n    <tr>\n      <th>184</th>\n      <td>Internal Medicine</td>\n      <td>Ashland City Medical Center HCA</td>\n      <td>224</td>\n    </tr>\n    <tr>\n      <th>185</th>\n      <td>Orthopaedic Surgery</td>\n      <td>Riverview Regional Medical Center</td>\n      <td>216</td>\n    </tr>\n    <tr>\n      <th>186</th>\n      <td>Psychiatry &amp; Neurology</td>\n      <td>Hendersonville Medical Center HCA</td>\n      <td>213</td>\n    </tr>\n    <tr>\n      <th>187</th>\n      <td>Psychiatry &amp; Neurology</td>\n      <td>NorthCrest Medical Center</td>\n      <td>213</td>\n    </tr>\n    <tr>\n      <th>188</th>\n      <td>Urology</td>\n      <td>Riverview Regional Medical Center</td>\n      <td>182</td>\n    </tr>\n    <tr>\n      <th>189</th>\n      <td>Orthopaedic Surgery</td>\n      <td>Macon County General Hospital</td>\n      <td>157</td>\n    </tr>\n    <tr>\n      <th>190</th>\n      <td>Ophthalmology</td>\n      <td>Sumner Regional Medical Center</td>\n      <td>140</td>\n    </tr>\n    <tr>\n      <th>191</th>\n      <td>Physician Assistant</td>\n      <td>Nashville General Hosptial</td>\n      <td>139</td>\n    </tr>\n    <tr>\n      <th>192</th>\n      <td>Ophthalmology</td>\n      <td>NorthCrest Medical Center</td>\n      <td>134</td>\n    </tr>\n    <tr>\n      <th>193</th>\n      <td>Nurse Practitioner</td>\n      <td>Nashville General Hosptial</td>\n      <td>127</td>\n    </tr>\n    <tr>\n      <th>194</th>\n      <td>Surgery</td>\n      <td>Macon County General Hospital</td>\n      <td>126</td>\n    </tr>\n    <tr>\n      <th>195</th>\n      <td>Psychiatry &amp; Neurology</td>\n      <td>Nashville General Hosptial</td>\n      <td>125</td>\n    </tr>\n    <tr>\n      <th>196</th>\n      <td>Ophthalmology</td>\n      <td>Saint Thomas Rutherford Hospital</td>\n      <td>117</td>\n    </tr>\n    <tr>\n      <th>197</th>\n      <td>Ophthalmology</td>\n      <td>Riverview Regional Medical Center</td>\n      <td>111</td>\n    </tr>\n    <tr>\n      <th>198</th>\n      <td>Ophthalmology</td>\n      <td>Hendersonville Medical Center HCA</td>\n      <td>86</td>\n    </tr>\n    <tr>\n      <th>199</th>\n      <td>Orthopaedic Surgery</td>\n      <td>Nashville General Hosptial</td>\n      <td>82</td>\n    </tr>\n    <tr>\n      <th>200</th>\n      <td>Urology</td>\n      <td>Vanderbilt University Lebanon Medical Center</td>\n      <td>78</td>\n    </tr>\n    <tr>\n      <th>201</th>\n      <td>Urology</td>\n      <td>Nashville General Hosptial</td>\n      <td>66</td>\n    </tr>\n    <tr>\n      <th>202</th>\n      <td>Ophthalmology</td>\n      <td>Southern Hills Medical Center HCA</td>\n      <td>65</td>\n    </tr>\n    <tr>\n      <th>203</th>\n      <td>Psychiatry &amp; Neurology</td>\n      <td>Riverview Regional Medical Center</td>\n      <td>60</td>\n    </tr>\n    <tr>\n      <th>204</th>\n      <td>Urology</td>\n      <td>Macon County General Hospital</td>\n      <td>55</td>\n    </tr>\n    <tr>\n      <th>205</th>\n      <td>Physician Assistant</td>\n      <td>Riverview Regional Medical Center</td>\n      <td>55</td>\n    </tr>\n    <tr>\n      <th>206</th>\n      <td>Psychiatry &amp; Neurology</td>\n      <td>Macon County General Hospital</td>\n      <td>53</td>\n    </tr>\n    <tr>\n      <th>207</th>\n      <td>Surgery</td>\n      <td>Riverview Regional Medical Center</td>\n      <td>42</td>\n    </tr>\n    <tr>\n      <th>208</th>\n      <td>Physician Assistant</td>\n      <td>Ashland City Medical Center HCA</td>\n      <td>42</td>\n    </tr>\n    <tr>\n      <th>209</th>\n      <td>Surgery</td>\n      <td>Nashville General Hosptial</td>\n      <td>39</td>\n    </tr>\n    <tr>\n      <th>210</th>\n      <td>Ophthalmology</td>\n      <td>StoneCrest Medical Center HCA</td>\n      <td>35</td>\n    </tr>\n    <tr>\n      <th>211</th>\n      <td>Orthopaedic Surgery</td>\n      <td>Ashland City Medical Center HCA</td>\n      <td>35</td>\n    </tr>\n    <tr>\n      <th>212</th>\n      <td>Orthopaedic Surgery</td>\n      <td>Saint Thomas Stones River Hospital</td>\n      <td>33</td>\n    </tr>\n  </tbody>\n</table>\n</div>"
     },
     "metadata": {}
    }
   ],
   "source": [
    "display(nash_referrals_by_speciality)"
   ]
  },
  {
   "cell_type": "markdown",
   "id": "photographic-reviewer",
   "metadata": {
    "slideshow": {
     "slide_type": "skip"
    }
   },
   "source": [
    "### Prepping the Diagram"
   ]
  },
  {
   "cell_type": "markdown",
   "id": "annoying-windsor",
   "metadata": {
    "slideshow": {
     "slide_type": "skip"
    }
   },
   "source": [
    "This is every single individual *node* on the diagram. Each node should be unique on its own."
   ]
  },
  {
   "cell_type": "code",
   "execution_count": 19,
   "id": "motivated-warrior",
   "metadata": {
    "slideshow": {
     "slide_type": "skip"
    }
   },
   "outputs": [
    {
     "output_type": "execute_result",
     "data": {
      "text/plain": [
       "33"
      ]
     },
     "metadata": {},
     "execution_count": 19
    }
   ],
   "source": [
    "all_nodes = list(nash_referrals_by_speciality[\"referrer.specialty\"]\\\n",
    "                 .append(nash_referrals_by_speciality[\"hospital.name\"])\\\n",
    "                 .unique())\n",
    "len(all_nodes)"
   ]
  },
  {
   "cell_type": "markdown",
   "id": "challenging-control",
   "metadata": {
    "slideshow": {
     "slide_type": "skip"
    }
   },
   "source": [
    "This is the list of all the individual sources (referrers) in a specific order.<br>\n",
    "There will be duplicates in this order but that is ok."
   ]
  },
  {
   "cell_type": "code",
   "execution_count": 20,
   "id": "documentary-fundamental",
   "metadata": {
    "slideshow": {
     "slide_type": "skip"
    }
   },
   "outputs": [
    {
     "output_type": "execute_result",
     "data": {
      "text/plain": [
       "213"
      ]
     },
     "metadata": {},
     "execution_count": 20
    }
   ],
   "source": [
    "source_data = nash_referrals_by_speciality[\"referrer.specialty\"]\n",
    "len(source_data)"
   ]
  },
  {
   "cell_type": "markdown",
   "id": "stainless-justice",
   "metadata": {
    "slideshow": {
     "slide_type": "skip"
    }
   },
   "source": [
    "This is the matching indices for every single individual sources (refferers) above"
   ]
  },
  {
   "cell_type": "code",
   "execution_count": 21,
   "id": "above-prime",
   "metadata": {
    "slideshow": {
     "slide_type": "skip"
    }
   },
   "outputs": [
    {
     "output_type": "stream",
     "name": "stdout",
     "text": [
      "213\n[0, 1, 2, 0, 0, 2, 2, 3, 1, 2, 2, 1, 0, 0, 2, 1, 0, 1, 2, 2, 0, 2, 1, 0, 0, 1, 1, 1, 4, 5, 0, 2, 2, 1, 0, 6, 1, 5, 2, 2, 2, 1, 2, 1, 7, 0, 1, 8, 3, 1, 0, 3, 3, 0, 0, 0, 9, 2, 7, 3, 1, 7, 5, 7, 10, 5, 0, 8, 3, 1, 3, 5, 10, 3, 3, 8, 8, 3, 10, 5, 7, 8, 3, 4, 4, 3, 4, 1, 5, 9, 3, 8, 10, 3, 10, 0, 5, 5, 6, 7, 7, 4, 8, 0, 10, 9, 5, 7, 7, 2, 9, 5, 3, 6, 7, 9, 10, 9, 4, 1, 10, 3, 9, 1, 7, 7, 4, 2, 9, 10, 3, 3, 10, 8, 9, 8, 1, 7, 8, 10, 10, 10, 2, 5, 10, 10, 1, 8, 2, 7, 8, 5, 7, 4, 8, 4, 5, 6, 2, 4, 8, 7, 8, 0, 6, 4, 9, 3, 4, 4, 9, 9, 6, 2, 8, 4, 9, 3, 9, 9, 5, 3, 0, 10, 0, 7, 4, 4, 9, 7, 6, 10, 6, 3, 8, 4, 6, 6, 6, 7, 9, 9, 6, 4, 9, 10, 4, 8, 10, 8, 6, 7, 7]\n"
     ]
    }
   ],
   "source": [
    "source_data_idx = []\n",
    "\n",
    "for s in source_data:\n",
    "    for i, n in enumerate(all_nodes):\n",
    "        if s == n:\n",
    "            source_data_idx.append(i)\n",
    "            break\n",
    "\n",
    "print(len(source_data_idx))\n",
    "print(source_data_idx)"
   ]
  },
  {
   "cell_type": "markdown",
   "id": "revolutionary-pastor",
   "metadata": {
    "slideshow": {
     "slide_type": "skip"
    }
   },
   "source": [
    "This is the list of all the individual target (hospitals) in a specific order.<br>\n",
    "There will be duplicates in this order but that is ok."
   ]
  },
  {
   "cell_type": "code",
   "execution_count": 22,
   "id": "polyphonic-labor",
   "metadata": {
    "slideshow": {
     "slide_type": "skip"
    }
   },
   "outputs": [
    {
     "output_type": "execute_result",
     "data": {
      "text/plain": [
       "213"
      ]
     },
     "metadata": {},
     "execution_count": 22
    }
   ],
   "source": [
    "target_data = nash_referrals_by_speciality[\"hospital.name\"]\n",
    "len(target_data)"
   ]
  },
  {
   "cell_type": "markdown",
   "id": "first-toronto",
   "metadata": {
    "slideshow": {
     "slide_type": "skip"
    }
   },
   "source": [
    "This is the matching indices for every single individual target (hospitals) above"
   ]
  },
  {
   "cell_type": "code",
   "execution_count": 23,
   "id": "filled-cornell",
   "metadata": {
    "slideshow": {
     "slide_type": "skip"
    }
   },
   "outputs": [
    {
     "output_type": "stream",
     "name": "stdout",
     "text": [
      "213\n[11, 11, 11, 12, 13, 12, 13, 11, 13, 14, 15, 15, 16, 15, 17, 12, 18, 18, 18, 16, 19, 19, 19, 20, 14, 17, 16, 14, 11, 11, 17, 21, 22, 20, 21, 11, 21, 12, 23, 24, 25, 22, 26, 23, 11, 23, 24, 11, 13, 26, 22, 15, 12, 24, 25, 26, 11, 20, 15, 14, 25, 19, 13, 12, 15, 24, 27, 13, 16, 28, 20, 16, 12, 21, 18, 16, 12, 19, 11, 25, 17, 15, 22, 12, 15, 23, 14, 27, 20, 12, 26, 19, 21, 17, 22, 28, 22, 23, 12, 13, 16, 13, 18, 29, 17, 19, 17, 23, 21, 27, 15, 19, 24, 13, 18, 13, 16, 20, 19, 30, 20, 25, 18, 29, 20, 14, 18, 31, 21, 14, 28, 27, 19, 17, 17, 26, 31, 26, 21, 23, 27, 18, 29, 21, 25, 26, 32, 14, 28, 25, 20, 14, 24, 20, 22, 16, 18, 22, 30, 23, 23, 22, 25, 32, 15, 24, 24, 32, 22, 17, 14, 16, 19, 32, 24, 25, 22, 30, 26, 25, 30, 31, 30, 24, 31, 28, 21, 26, 28, 27, 20, 29, 26, 29, 27, 29, 18, 28, 21, 29, 23, 29, 24, 28, 27, 28, 27, 28, 31, 29, 25, 31, 30]\n"
     ]
    }
   ],
   "source": [
    "target_data_idx = []\n",
    "\n",
    "for t in target_data:\n",
    "    for i, n in enumerate(all_nodes):\n",
    "        if t == n:\n",
    "            target_data_idx.append(i)\n",
    "            break\n",
    "            \n",
    "print(len(target_data_idx))\n",
    "print(target_data_idx)"
   ]
  },
  {
   "cell_type": "markdown",
   "id": "decimal-bench",
   "metadata": {
    "slideshow": {
     "slide_type": "skip"
    }
   },
   "source": [
    "This is the value to represent on the diagram: Here, we are using **Total Patient Count** for each referral"
   ]
  },
  {
   "cell_type": "code",
   "execution_count": 24,
   "id": "assumed-relay",
   "metadata": {
    "slideshow": {
     "slide_type": "skip"
    }
   },
   "outputs": [
    {
     "output_type": "execute_result",
     "data": {
      "text/plain": [
       "213"
      ]
     },
     "metadata": {},
     "execution_count": 24
    }
   ],
   "source": [
    "total_patient_count = list(nash_referrals_by_speciality[\"sum_patient_count\"])\n",
    "len(total_patient_count)"
   ]
  },
  {
   "cell_type": "markdown",
   "id": "clean-musical",
   "metadata": {
    "slideshow": {
     "slide_type": "skip"
    }
   },
   "source": [
    "### Building The Diagram"
   ]
  },
  {
   "cell_type": "code",
   "execution_count": 25,
   "id": "occupied-magnet",
   "metadata": {
    "slideshow": {
     "slide_type": "skip"
    }
   },
   "outputs": [
    {
     "output_type": "display_data",
     "data": {
      "application/vnd.plotly.v1+json": {
       "config": {
        "plotlyServerURL": "https://plot.ly"
       },
       "data": [
        {
         "link": {
          "source": [
           0,
           1,
           2,
           0,
           0,
           2,
           2,
           3,
           1,
           2,
           2,
           1,
           0,
           0,
           2,
           1,
           0,
           1,
           2,
           2,
           0,
           2,
           1,
           0,
           0,
           1,
           1,
           1,
           4,
           5,
           0,
           2,
           2,
           1,
           0,
           6,
           1,
           5,
           2,
           2,
           2,
           1,
           2,
           1,
           7,
           0,
           1,
           8,
           3,
           1,
           0,
           3,
           3,
           0,
           0,
           0,
           9,
           2,
           7,
           3,
           1,
           7,
           5,
           7,
           10,
           5,
           0,
           8,
           3,
           1,
           3,
           5,
           10,
           3,
           3,
           8,
           8,
           3,
           10,
           5,
           7,
           8,
           3,
           4,
           4,
           3,
           4,
           1,
           5,
           9,
           3,
           8,
           10,
           3,
           10,
           0,
           5,
           5,
           6,
           7,
           7,
           4,
           8,
           0,
           10,
           9,
           5,
           7,
           7,
           2,
           9,
           5,
           3,
           6,
           7,
           9,
           10,
           9,
           4,
           1,
           10,
           3,
           9,
           1,
           7,
           7,
           4,
           2,
           9,
           10,
           3,
           3,
           10,
           8,
           9,
           8,
           1,
           7,
           8,
           10,
           10,
           10,
           2,
           5,
           10,
           10,
           1,
           8,
           2,
           7,
           8,
           5,
           7,
           4,
           8,
           4,
           5,
           6,
           2,
           4,
           8,
           7,
           8,
           0,
           6,
           4,
           9,
           3,
           4,
           4,
           9,
           9,
           6,
           2,
           8,
           4,
           9,
           3,
           9,
           9,
           5,
           3,
           0,
           10,
           0,
           7,
           4,
           4,
           9,
           7,
           6,
           10,
           6,
           3,
           8,
           4,
           6,
           6,
           6,
           7,
           9,
           9,
           6,
           4,
           9,
           10,
           4,
           8,
           10,
           8,
           6,
           7,
           7
          ],
          "target": [
           11,
           11,
           11,
           12,
           13,
           12,
           13,
           11,
           13,
           14,
           15,
           15,
           16,
           15,
           17,
           12,
           18,
           18,
           18,
           16,
           19,
           19,
           19,
           20,
           14,
           17,
           16,
           14,
           11,
           11,
           17,
           21,
           22,
           20,
           21,
           11,
           21,
           12,
           23,
           24,
           25,
           22,
           26,
           23,
           11,
           23,
           24,
           11,
           13,
           26,
           22,
           15,
           12,
           24,
           25,
           26,
           11,
           20,
           15,
           14,
           25,
           19,
           13,
           12,
           15,
           24,
           27,
           13,
           16,
           28,
           20,
           16,
           12,
           21,
           18,
           16,
           12,
           19,
           11,
           25,
           17,
           15,
           22,
           12,
           15,
           23,
           14,
           27,
           20,
           12,
           26,
           19,
           21,
           17,
           22,
           28,
           22,
           23,
           12,
           13,
           16,
           13,
           18,
           29,
           17,
           19,
           17,
           23,
           21,
           27,
           15,
           19,
           24,
           13,
           18,
           13,
           16,
           20,
           19,
           30,
           20,
           25,
           18,
           29,
           20,
           14,
           18,
           31,
           21,
           14,
           28,
           27,
           19,
           17,
           17,
           26,
           31,
           26,
           21,
           23,
           27,
           18,
           29,
           21,
           25,
           26,
           32,
           14,
           28,
           25,
           20,
           14,
           24,
           20,
           22,
           16,
           18,
           22,
           30,
           23,
           23,
           22,
           25,
           32,
           15,
           24,
           24,
           32,
           22,
           17,
           14,
           16,
           19,
           32,
           24,
           25,
           22,
           30,
           26,
           25,
           30,
           31,
           30,
           24,
           31,
           28,
           21,
           26,
           28,
           27,
           20,
           29,
           26,
           29,
           27,
           29,
           18,
           28,
           21,
           29,
           23,
           29,
           24,
           28,
           27,
           28,
           27,
           28,
           31,
           29,
           25,
           31,
           30
          ],
          "value": [
           138232,
           96452,
           69766,
           50122,
           46091,
           40110,
           34746,
           33901,
           29437,
           27040,
           25693,
           25554,
           25285,
           25172,
           24967,
           24410,
           23919,
           23188,
           21524,
           21342,
           20348,
           19298,
           19241,
           19025,
           18206,
           18016,
           17169,
           15436,
           15429,
           15367,
           14957,
           14792,
           13373,
           13318,
           13316,
           13160,
           12395,
           11585,
           10343,
           9971,
           9771,
           9406,
           9400,
           9005,
           8692,
           8646,
           8471,
           8266,
           7931,
           7294,
           7251,
           7012,
           6400,
           6200,
           5733,
           5719,
           5481,
           5442,
           4431,
           3842,
           3692,
           3569,
           3549,
           3459,
           3289,
           3057,
           3046,
           2921,
           2889,
           2888,
           2671,
           2669,
           2632,
           2557,
           2431,
           2412,
           2384,
           2333,
           2123,
           2112,
           2095,
           2089,
           2036,
           2024,
           1928,
           1923,
           1861,
           1768,
           1725,
           1706,
           1692,
           1658,
           1648,
           1632,
           1617,
           1611,
           1566,
           1553,
           1543,
           1522,
           1515,
           1509,
           1492,
           1426,
           1278,
           1272,
           1271,
           1240,
           1237,
           1236,
           1216,
           1216,
           1178,
           1172,
           1158,
           1152,
           1116,
           1115,
           1108,
           1076,
           1050,
           1040,
           1038,
           1005,
           961,
           954,
           946,
           914,
           911,
           904,
           880,
           879,
           878,
           874,
           869,
           819,
           792,
           785,
           782,
           776,
           763,
           755,
           726,
           723,
           711,
           686,
           661,
           655,
           644,
           643,
           624,
           619,
           618,
           593,
           576,
           568,
           556,
           549,
           544,
           499,
           485,
           484,
           477,
           469,
           452,
           443,
           440,
           430,
           428,
           422,
           409,
           366,
           351,
           345,
           341,
           334,
           333,
           308,
           299,
           289,
           266,
           259,
           236,
           235,
           224,
           216,
           213,
           213,
           182,
           157,
           140,
           139,
           134,
           127,
           126,
           125,
           117,
           111,
           86,
           82,
           78,
           66,
           65,
           60,
           55,
           55,
           53,
           42,
           42,
           39,
           35,
           35,
           33
          ]
         },
         "node": {
          "label": [
           "Internal Medicine",
           "Other Specialities",
           "Radiology",
           "Nurse Practitioner",
           "Psychiatry & Neurology",
           "Pathology",
           "Ophthalmology",
           "Orthopaedic Surgery",
           "Surgery",
           "Urology",
           "Physician Assistant",
           "Vanderbilt University Medical Center",
           "Centennial Medical Center HCA",
           "Saint Thomas West Hospital",
           "TriStar Skyline Medical Center HCA",
           "Maury Regional Medical Center",
           "Saint Thomas Midtown Hospital",
           "Summit Medical Center HCA",
           "Saint Thomas Rutherford Hospital",
           "Williamson County Hospital",
           "Sumner Regional Medical Center",
           "Hendersonville Medical Center HCA",
           "TriStar Horizon Medical Center HCA",
           "Vanderbilt University Lebanon Medical Center",
           "Southern Hills Medical Center HCA",
           "StoneCrest Medical Center HCA",
           "NorthCrest Medical Center",
           "Macon County General Hospital",
           "Riverview Regional Medical Center",
           "Nashville General Hosptial",
           "Saint Thomas Stones River Hospital",
           "Ashland City Medical Center HCA",
           "Trousdale Medical Center"
          ],
          "line": {
           "color": "black",
           "width": 0.5
          },
          "pad": 30,
          "thickness": 50
         },
         "type": "sankey"
        }
       ],
       "layout": {
        "font": {
         "size": 14
        },
        "template": {
         "data": {
          "bar": [
           {
            "error_x": {
             "color": "#2a3f5f"
            },
            "error_y": {
             "color": "#2a3f5f"
            },
            "marker": {
             "line": {
              "color": "#E5ECF6",
              "width": 0.5
             }
            },
            "type": "bar"
           }
          ],
          "barpolar": [
           {
            "marker": {
             "line": {
              "color": "#E5ECF6",
              "width": 0.5
             }
            },
            "type": "barpolar"
           }
          ],
          "carpet": [
           {
            "aaxis": {
             "endlinecolor": "#2a3f5f",
             "gridcolor": "white",
             "linecolor": "white",
             "minorgridcolor": "white",
             "startlinecolor": "#2a3f5f"
            },
            "baxis": {
             "endlinecolor": "#2a3f5f",
             "gridcolor": "white",
             "linecolor": "white",
             "minorgridcolor": "white",
             "startlinecolor": "#2a3f5f"
            },
            "type": "carpet"
           }
          ],
          "choropleth": [
           {
            "colorbar": {
             "outlinewidth": 0,
             "ticks": ""
            },
            "type": "choropleth"
           }
          ],
          "contour": [
           {
            "colorbar": {
             "outlinewidth": 0,
             "ticks": ""
            },
            "colorscale": [
             [
              0,
              "#0d0887"
             ],
             [
              0.1111111111111111,
              "#46039f"
             ],
             [
              0.2222222222222222,
              "#7201a8"
             ],
             [
              0.3333333333333333,
              "#9c179e"
             ],
             [
              0.4444444444444444,
              "#bd3786"
             ],
             [
              0.5555555555555556,
              "#d8576b"
             ],
             [
              0.6666666666666666,
              "#ed7953"
             ],
             [
              0.7777777777777778,
              "#fb9f3a"
             ],
             [
              0.8888888888888888,
              "#fdca26"
             ],
             [
              1,
              "#f0f921"
             ]
            ],
            "type": "contour"
           }
          ],
          "contourcarpet": [
           {
            "colorbar": {
             "outlinewidth": 0,
             "ticks": ""
            },
            "type": "contourcarpet"
           }
          ],
          "heatmap": [
           {
            "colorbar": {
             "outlinewidth": 0,
             "ticks": ""
            },
            "colorscale": [
             [
              0,
              "#0d0887"
             ],
             [
              0.1111111111111111,
              "#46039f"
             ],
             [
              0.2222222222222222,
              "#7201a8"
             ],
             [
              0.3333333333333333,
              "#9c179e"
             ],
             [
              0.4444444444444444,
              "#bd3786"
             ],
             [
              0.5555555555555556,
              "#d8576b"
             ],
             [
              0.6666666666666666,
              "#ed7953"
             ],
             [
              0.7777777777777778,
              "#fb9f3a"
             ],
             [
              0.8888888888888888,
              "#fdca26"
             ],
             [
              1,
              "#f0f921"
             ]
            ],
            "type": "heatmap"
           }
          ],
          "heatmapgl": [
           {
            "colorbar": {
             "outlinewidth": 0,
             "ticks": ""
            },
            "colorscale": [
             [
              0,
              "#0d0887"
             ],
             [
              0.1111111111111111,
              "#46039f"
             ],
             [
              0.2222222222222222,
              "#7201a8"
             ],
             [
              0.3333333333333333,
              "#9c179e"
             ],
             [
              0.4444444444444444,
              "#bd3786"
             ],
             [
              0.5555555555555556,
              "#d8576b"
             ],
             [
              0.6666666666666666,
              "#ed7953"
             ],
             [
              0.7777777777777778,
              "#fb9f3a"
             ],
             [
              0.8888888888888888,
              "#fdca26"
             ],
             [
              1,
              "#f0f921"
             ]
            ],
            "type": "heatmapgl"
           }
          ],
          "histogram": [
           {
            "marker": {
             "colorbar": {
              "outlinewidth": 0,
              "ticks": ""
             }
            },
            "type": "histogram"
           }
          ],
          "histogram2d": [
           {
            "colorbar": {
             "outlinewidth": 0,
             "ticks": ""
            },
            "colorscale": [
             [
              0,
              "#0d0887"
             ],
             [
              0.1111111111111111,
              "#46039f"
             ],
             [
              0.2222222222222222,
              "#7201a8"
             ],
             [
              0.3333333333333333,
              "#9c179e"
             ],
             [
              0.4444444444444444,
              "#bd3786"
             ],
             [
              0.5555555555555556,
              "#d8576b"
             ],
             [
              0.6666666666666666,
              "#ed7953"
             ],
             [
              0.7777777777777778,
              "#fb9f3a"
             ],
             [
              0.8888888888888888,
              "#fdca26"
             ],
             [
              1,
              "#f0f921"
             ]
            ],
            "type": "histogram2d"
           }
          ],
          "histogram2dcontour": [
           {
            "colorbar": {
             "outlinewidth": 0,
             "ticks": ""
            },
            "colorscale": [
             [
              0,
              "#0d0887"
             ],
             [
              0.1111111111111111,
              "#46039f"
             ],
             [
              0.2222222222222222,
              "#7201a8"
             ],
             [
              0.3333333333333333,
              "#9c179e"
             ],
             [
              0.4444444444444444,
              "#bd3786"
             ],
             [
              0.5555555555555556,
              "#d8576b"
             ],
             [
              0.6666666666666666,
              "#ed7953"
             ],
             [
              0.7777777777777778,
              "#fb9f3a"
             ],
             [
              0.8888888888888888,
              "#fdca26"
             ],
             [
              1,
              "#f0f921"
             ]
            ],
            "type": "histogram2dcontour"
           }
          ],
          "mesh3d": [
           {
            "colorbar": {
             "outlinewidth": 0,
             "ticks": ""
            },
            "type": "mesh3d"
           }
          ],
          "parcoords": [
           {
            "line": {
             "colorbar": {
              "outlinewidth": 0,
              "ticks": ""
             }
            },
            "type": "parcoords"
           }
          ],
          "pie": [
           {
            "automargin": true,
            "type": "pie"
           }
          ],
          "scatter": [
           {
            "marker": {
             "colorbar": {
              "outlinewidth": 0,
              "ticks": ""
             }
            },
            "type": "scatter"
           }
          ],
          "scatter3d": [
           {
            "line": {
             "colorbar": {
              "outlinewidth": 0,
              "ticks": ""
             }
            },
            "marker": {
             "colorbar": {
              "outlinewidth": 0,
              "ticks": ""
             }
            },
            "type": "scatter3d"
           }
          ],
          "scattercarpet": [
           {
            "marker": {
             "colorbar": {
              "outlinewidth": 0,
              "ticks": ""
             }
            },
            "type": "scattercarpet"
           }
          ],
          "scattergeo": [
           {
            "marker": {
             "colorbar": {
              "outlinewidth": 0,
              "ticks": ""
             }
            },
            "type": "scattergeo"
           }
          ],
          "scattergl": [
           {
            "marker": {
             "colorbar": {
              "outlinewidth": 0,
              "ticks": ""
             }
            },
            "type": "scattergl"
           }
          ],
          "scattermapbox": [
           {
            "marker": {
             "colorbar": {
              "outlinewidth": 0,
              "ticks": ""
             }
            },
            "type": "scattermapbox"
           }
          ],
          "scatterpolar": [
           {
            "marker": {
             "colorbar": {
              "outlinewidth": 0,
              "ticks": ""
             }
            },
            "type": "scatterpolar"
           }
          ],
          "scatterpolargl": [
           {
            "marker": {
             "colorbar": {
              "outlinewidth": 0,
              "ticks": ""
             }
            },
            "type": "scatterpolargl"
           }
          ],
          "scatterternary": [
           {
            "marker": {
             "colorbar": {
              "outlinewidth": 0,
              "ticks": ""
             }
            },
            "type": "scatterternary"
           }
          ],
          "surface": [
           {
            "colorbar": {
             "outlinewidth": 0,
             "ticks": ""
            },
            "colorscale": [
             [
              0,
              "#0d0887"
             ],
             [
              0.1111111111111111,
              "#46039f"
             ],
             [
              0.2222222222222222,
              "#7201a8"
             ],
             [
              0.3333333333333333,
              "#9c179e"
             ],
             [
              0.4444444444444444,
              "#bd3786"
             ],
             [
              0.5555555555555556,
              "#d8576b"
             ],
             [
              0.6666666666666666,
              "#ed7953"
             ],
             [
              0.7777777777777778,
              "#fb9f3a"
             ],
             [
              0.8888888888888888,
              "#fdca26"
             ],
             [
              1,
              "#f0f921"
             ]
            ],
            "type": "surface"
           }
          ],
          "table": [
           {
            "cells": {
             "fill": {
              "color": "#EBF0F8"
             },
             "line": {
              "color": "white"
             }
            },
            "header": {
             "fill": {
              "color": "#C8D4E3"
             },
             "line": {
              "color": "white"
             }
            },
            "type": "table"
           }
          ]
         },
         "layout": {
          "annotationdefaults": {
           "arrowcolor": "#2a3f5f",
           "arrowhead": 0,
           "arrowwidth": 1
          },
          "autotypenumbers": "strict",
          "coloraxis": {
           "colorbar": {
            "outlinewidth": 0,
            "ticks": ""
           }
          },
          "colorscale": {
           "diverging": [
            [
             0,
             "#8e0152"
            ],
            [
             0.1,
             "#c51b7d"
            ],
            [
             0.2,
             "#de77ae"
            ],
            [
             0.3,
             "#f1b6da"
            ],
            [
             0.4,
             "#fde0ef"
            ],
            [
             0.5,
             "#f7f7f7"
            ],
            [
             0.6,
             "#e6f5d0"
            ],
            [
             0.7,
             "#b8e186"
            ],
            [
             0.8,
             "#7fbc41"
            ],
            [
             0.9,
             "#4d9221"
            ],
            [
             1,
             "#276419"
            ]
           ],
           "sequential": [
            [
             0,
             "#0d0887"
            ],
            [
             0.1111111111111111,
             "#46039f"
            ],
            [
             0.2222222222222222,
             "#7201a8"
            ],
            [
             0.3333333333333333,
             "#9c179e"
            ],
            [
             0.4444444444444444,
             "#bd3786"
            ],
            [
             0.5555555555555556,
             "#d8576b"
            ],
            [
             0.6666666666666666,
             "#ed7953"
            ],
            [
             0.7777777777777778,
             "#fb9f3a"
            ],
            [
             0.8888888888888888,
             "#fdca26"
            ],
            [
             1,
             "#f0f921"
            ]
           ],
           "sequentialminus": [
            [
             0,
             "#0d0887"
            ],
            [
             0.1111111111111111,
             "#46039f"
            ],
            [
             0.2222222222222222,
             "#7201a8"
            ],
            [
             0.3333333333333333,
             "#9c179e"
            ],
            [
             0.4444444444444444,
             "#bd3786"
            ],
            [
             0.5555555555555556,
             "#d8576b"
            ],
            [
             0.6666666666666666,
             "#ed7953"
            ],
            [
             0.7777777777777778,
             "#fb9f3a"
            ],
            [
             0.8888888888888888,
             "#fdca26"
            ],
            [
             1,
             "#f0f921"
            ]
           ]
          },
          "colorway": [
           "#636efa",
           "#EF553B",
           "#00cc96",
           "#ab63fa",
           "#FFA15A",
           "#19d3f3",
           "#FF6692",
           "#B6E880",
           "#FF97FF",
           "#FECB52"
          ],
          "font": {
           "color": "#2a3f5f"
          },
          "geo": {
           "bgcolor": "white",
           "lakecolor": "white",
           "landcolor": "#E5ECF6",
           "showlakes": true,
           "showland": true,
           "subunitcolor": "white"
          },
          "hoverlabel": {
           "align": "left"
          },
          "hovermode": "closest",
          "mapbox": {
           "style": "light"
          },
          "paper_bgcolor": "white",
          "plot_bgcolor": "#E5ECF6",
          "polar": {
           "angularaxis": {
            "gridcolor": "white",
            "linecolor": "white",
            "ticks": ""
           },
           "bgcolor": "#E5ECF6",
           "radialaxis": {
            "gridcolor": "white",
            "linecolor": "white",
            "ticks": ""
           }
          },
          "scene": {
           "xaxis": {
            "backgroundcolor": "#E5ECF6",
            "gridcolor": "white",
            "gridwidth": 2,
            "linecolor": "white",
            "showbackground": true,
            "ticks": "",
            "zerolinecolor": "white"
           },
           "yaxis": {
            "backgroundcolor": "#E5ECF6",
            "gridcolor": "white",
            "gridwidth": 2,
            "linecolor": "white",
            "showbackground": true,
            "ticks": "",
            "zerolinecolor": "white"
           },
           "zaxis": {
            "backgroundcolor": "#E5ECF6",
            "gridcolor": "white",
            "gridwidth": 2,
            "linecolor": "white",
            "showbackground": true,
            "ticks": "",
            "zerolinecolor": "white"
           }
          },
          "shapedefaults": {
           "line": {
            "color": "#2a3f5f"
           }
          },
          "ternary": {
           "aaxis": {
            "gridcolor": "white",
            "linecolor": "white",
            "ticks": ""
           },
           "baxis": {
            "gridcolor": "white",
            "linecolor": "white",
            "ticks": ""
           },
           "bgcolor": "#E5ECF6",
           "caxis": {
            "gridcolor": "white",
            "linecolor": "white",
            "ticks": ""
           }
          },
          "title": {
           "x": 0.05
          },
          "xaxis": {
           "automargin": true,
           "gridcolor": "white",
           "linecolor": "white",
           "ticks": "",
           "title": {
            "standoff": 15
           },
           "zerolinecolor": "white",
           "zerolinewidth": 2
          },
          "yaxis": {
           "automargin": true,
           "gridcolor": "white",
           "linecolor": "white",
           "ticks": "",
           "title": {
            "standoff": 15
           },
           "zerolinecolor": "white",
           "zerolinewidth": 2
          }
         }
        },
        "title": {
         "text": "Total Patient Count Referrals:<br>From Referrer Specialities to Individual Hospital"
        }
       }
      }
     },
     "metadata": {}
    }
   ],
   "source": [
    "fig = go.Figure(data=[go.Sankey(\n",
    "        \n",
    "    # Define all the nodes\n",
    "    node = dict(\n",
    "      pad = 30, # The spacing size between the separations\n",
    "      thickness = 50, # Thickness of the nodes\n",
    "      line = dict(color = \"black\", width = 0.5), # Margin Line of the nodes\n",
    "      label = all_nodes, # Label of each successive nodes: Just the npis for now\n",
    "      #color = \"green\" # Color of the nodes: 1 value for overall color, or a list to match the label order\n",
    "    ),\n",
    "    \n",
    "    # Define how the nodes will be linked to each other\n",
    "    link = dict(\n",
    "      source = source_data_idx, # From indices: Index that correspond to position in label\n",
    "      target = target_data_idx, # To indices: Index that correspond to position in label\n",
    "      value = total_patient_count, # Amount: Correspond to label positions\n",
    "      #label = data['data'][0]['link']['label'], # Custom Hover label on the connector\n",
    "      #color = data['data'][0]['link']['color'] # Color of the connector\n",
    "))])\n",
    "\n",
    "# Styling\n",
    "fig.update_layout(\n",
    "    title_text=\"Total Patient Count Referrals:<br>From Referrer Specialities to Individual Hospital\",\n",
    "    font_size=14\n",
    ")\n",
    "\n",
    "# Display figure\n",
    "fig.show()\n",
    "\n",
    "# Export to HTML\n",
    "fig.write_html(\"./speciality-to-individual-hospital.html\")"
   ]
  },
  {
   "cell_type": "markdown",
   "id": "cooked-europe",
   "metadata": {
    "slideshow": {
     "slide_type": "skip"
    }
   },
   "source": [
    "## Sankey Diagram 2: Specialties to Facility Groups"
   ]
  },
  {
   "cell_type": "markdown",
   "id": "falling-pierce",
   "metadata": {
    "slideshow": {
     "slide_type": "skip"
    }
   },
   "source": [
    "Restore `nashville_referrals` from backup"
   ]
  },
  {
   "cell_type": "code",
   "execution_count": 26,
   "id": "recent-brick",
   "metadata": {
    "slideshow": {
     "slide_type": "skip"
    }
   },
   "outputs": [],
   "source": [
    "nashville_referrals = nash_ref_backup.copy(deep=True)"
   ]
  },
  {
   "cell_type": "markdown",
   "id": "photographic-macro",
   "metadata": {
    "slideshow": {
     "slide_type": "skip"
    }
   },
   "source": [
    "Now, just repeat the previous processes"
   ]
  },
  {
   "cell_type": "markdown",
   "id": "behavioral-saudi",
   "metadata": {
    "slideshow": {
     "slide_type": "skip"
    }
   },
   "source": [
    "**Specialties**"
   ]
  },
  {
   "cell_type": "code",
   "execution_count": 27,
   "id": "adolescent-private",
   "metadata": {
    "slideshow": {
     "slide_type": "skip"
    }
   },
   "outputs": [],
   "source": [
    "# # OPTION 1: Specialties: List of those beyond top 7 to change to \"Other Specialties\"\n",
    "# to_others_list = nashville_referrals.groupby([\n",
    "#     \"referrer.specialty\"\n",
    "# ]).agg({\n",
    "#     \"referral.patient_count\": \"sum\"\n",
    "# }).sort_values(by=[\"referral.patient_count\"], ascending=(False)).index[7:] # Keep Top 7 Specializations: Beyond that ==> Other Specialties"
   ]
  },
  {
   "cell_type": "code",
   "execution_count": 28,
   "id": "optional-capability",
   "metadata": {
    "slideshow": {
     "slide_type": "skip"
    }
   },
   "outputs": [],
   "source": [
    "# # OPTION 1: Specialties: Replace them in nashville_referrals\n",
    "# for spec in nashville_referrals[\"referrer.specialty\"]:\n",
    "#     if spec in to_others_list:\n",
    "#         nashville_referrals.loc[nashville_referrals[\"referrer.specialty\"] == spec, \"referrer.specialty\"] = \"Other Specialities\"\n",
    "#         continue"
   ]
  },
  {
   "cell_type": "code",
   "execution_count": 29,
   "id": "sufficient-grounds",
   "metadata": {
    "slideshow": {
     "slide_type": "skip"
    }
   },
   "outputs": [],
   "source": [
    "# OPTION 2: Specialties to keep\n",
    "# This is in order of importance: If you need to remove, start from the bottom\n",
    "original_to_keep = [\n",
    "    'Internal Medicine',\n",
    "    'Radiology',\n",
    "    'Nurse Practitioner',\n",
    "#     'Family Medicine',\n",
    "    'Pathology',\n",
    "    'Orthopaedic Surgery',\n",
    "    'Psychiatry & Neurology',\n",
    "    'Surgery',\n",
    "#     'Specialist',\n",
    "    'Physician Assistant',\n",
    "    'Ophthalmology',\n",
    "    'Urology',\n",
    "#     'Otolaryngology'\n",
    "]"
   ]
  },
  {
   "cell_type": "code",
   "execution_count": 30,
   "id": "ahead-cooperative",
   "metadata": {
    "slideshow": {
     "slide_type": "skip"
    }
   },
   "outputs": [],
   "source": [
    "# OPTION 2: Specialties: Keep them in nashville_referrals\n",
    "# Using the original_to_keep\n",
    "for spec in nashville_referrals[\"referrer.specialty\"]:\n",
    "    if spec in original_to_keep:\n",
    "        continue\n",
    "    else:\n",
    "        nashville_referrals.loc[nashville_referrals[\"referrer.specialty\"] == spec, \"referrer.specialty\"] = \"Other Specialities\"\n",
    "        continue"
   ]
  },
  {
   "cell_type": "markdown",
   "id": "genuine-foundation",
   "metadata": {
    "slideshow": {
     "slide_type": "skip"
    }
   },
   "source": [
    "**Facility Group**"
   ]
  },
  {
   "cell_type": "markdown",
   "id": "conventional-gnome",
   "metadata": {
    "slideshow": {
     "slide_type": "skip"
    }
   },
   "source": [
    "Comment-out if you want to keep everything"
   ]
  },
  {
   "cell_type": "code",
   "execution_count": 31,
   "id": "angry-battery",
   "metadata": {
    "slideshow": {
     "slide_type": "skip"
    }
   },
   "outputs": [],
   "source": [
    "# # hospital.facility_group: List of those beyond top 7 to change to \"Others\"\n",
    "# to_others_list = nashville_referrals.groupby([\n",
    "#     \"hospital.facility_group\"\n",
    "# ]).agg({\n",
    "#     \"referral.patient_count\": \"sum\"\n",
    "# }).sort_values(by=[\"referral.patient_count\"], ascending=(False)).index[7:] # Keep Top 7 Facilities: Beyond that ==> Others"
   ]
  },
  {
   "cell_type": "code",
   "execution_count": 32,
   "id": "opened-spanking",
   "metadata": {
    "slideshow": {
     "slide_type": "skip"
    }
   },
   "outputs": [],
   "source": [
    "# # Replace them in nashville_referrals\n",
    "# for el in nashville_referrals[\"hospital.facility_group\"]:\n",
    "#     if el in to_others_list:\n",
    "#         nashville_referrals.loc[nashville_referrals[\"hospital.facility_group\"] == el, \"hospital.facility_group\"] = \"Others\"\n",
    "#         continue"
   ]
  },
  {
   "cell_type": "markdown",
   "id": "operational-california",
   "metadata": {
    "slideshow": {
     "slide_type": "skip"
    }
   },
   "source": [
    "### Base Dataset"
   ]
  },
  {
   "cell_type": "code",
   "execution_count": 33,
   "id": "regulated-kansas",
   "metadata": {
    "slideshow": {
     "slide_type": "skip"
    }
   },
   "outputs": [],
   "source": [
    "nash_referrals_by_speciality = nashville_referrals.groupby([\n",
    "    \"referrer.specialty\",\n",
    "    \"hospital.facility_group\",\n",
    "]).agg({\n",
    "    \"referral.patient_count\": \"sum\"\n",
    "}).reset_index().rename(columns={\n",
    "    \"hospital.facility_group\": \"facility_group\",\n",
    "    \"referral.patient_count\": \"sum_patient_count\"\n",
    "}).sort_values(by=[\"sum_patient_count\"], ascending=(False))\\\n",
    "  .reset_index(drop=True)"
   ]
  },
  {
   "cell_type": "markdown",
   "id": "heated-agenda",
   "metadata": {
    "slideshow": {
     "slide_type": "skip"
    }
   },
   "source": [
    "### Prepping the Diagram"
   ]
  },
  {
   "cell_type": "code",
   "execution_count": 34,
   "id": "compatible-albany",
   "metadata": {
    "slideshow": {
     "slide_type": "skip"
    }
   },
   "outputs": [
    {
     "output_type": "execute_result",
     "data": {
      "text/plain": [
       "22"
      ]
     },
     "metadata": {},
     "execution_count": 34
    }
   ],
   "source": [
    "all_nodes = list(nash_referrals_by_speciality[\"referrer.specialty\"]\\\n",
    "                 .append(nash_referrals_by_speciality[\"facility_group\"])\\\n",
    "                 .unique())\n",
    "len(all_nodes)"
   ]
  },
  {
   "cell_type": "code",
   "execution_count": 35,
   "id": "parental-rouge",
   "metadata": {
    "slideshow": {
     "slide_type": "skip"
    }
   },
   "outputs": [
    {
     "output_type": "execute_result",
     "data": {
      "text/plain": [
       "107"
      ]
     },
     "metadata": {},
     "execution_count": 35
    }
   ],
   "source": [
    "source_data = nash_referrals_by_speciality[\"referrer.specialty\"]\n",
    "len(source_data)"
   ]
  },
  {
   "cell_type": "code",
   "execution_count": 36,
   "id": "descending-bearing",
   "metadata": {
    "slideshow": {
     "slide_type": "skip"
    }
   },
   "outputs": [
    {
     "output_type": "stream",
     "name": "stdout",
     "text": [
      "107\n[0, 1, 0, 2, 0, 2, 1, 1, 2, 3, 1, 2, 0, 4, 0, 1, 2, 0, 3, 4, 5, 3, 2, 6, 7, 7, 1, 8, 9, 2, 4, 3, 9, 9, 5, 0, 10, 1, 10, 7, 7, 7, 8, 0, 5, 8, 2, 3, 10, 3, 6, 9, 5, 8, 2, 4, 3, 9, 0, 0, 6, 10, 1, 10, 4, 10, 5, 8, 2, 7, 3, 3, 8, 9, 7, 8, 1, 8, 2, 1, 9, 5, 0, 6, 3, 6, 1, 10, 7, 5, 10, 7, 6, 8, 6, 3, 9, 5, 6, 7, 10, 5, 10, 8, 5, 9, 9]\n"
     ]
    }
   ],
   "source": [
    "source_data_idx = []\n",
    "\n",
    "for s in source_data:\n",
    "    for i, n in enumerate(all_nodes):\n",
    "        if s == n:\n",
    "            source_data_idx.append(i)\n",
    "            break\n",
    "\n",
    "print(len(source_data_idx))\n",
    "print(source_data_idx)"
   ]
  },
  {
   "cell_type": "code",
   "execution_count": 37,
   "id": "distinct-consequence",
   "metadata": {
    "slideshow": {
     "slide_type": "skip"
    }
   },
   "outputs": [
    {
     "output_type": "execute_result",
     "data": {
      "text/plain": [
       "107"
      ]
     },
     "metadata": {},
     "execution_count": 37
    }
   ],
   "source": [
    "target_data = nash_referrals_by_speciality[\"facility_group\"]\n",
    "len(target_data)"
   ]
  },
  {
   "cell_type": "code",
   "execution_count": 38,
   "id": "protecting-chase",
   "metadata": {
    "slideshow": {
     "slide_type": "skip"
    }
   },
   "outputs": [
    {
     "output_type": "stream",
     "name": "stdout",
     "text": [
      "107\n[11, 12, 12, 11, 13, 12, 11, 13, 13, 11, 14, 14, 14, 12, 15, 15, 15, 16, 12, 11, 11, 13, 16, 11, 11, 12, 17, 12, 11, 17, 13, 14, 13, 12, 12, 17, 11, 16, 12, 14, 13, 15, 14, 18, 13, 11, 19, 16, 13, 15, 12, 14, 14, 13, 18, 16, 17, 15, 19, 20, 13, 15, 18, 14, 15, 16, 15, 16, 20, 16, 19, 18, 15, 17, 17, 18, 20, 17, 21, 19, 16, 16, 21, 14, 21, 15, 21, 17, 19, 17, 19, 18, 16, 20, 17, 20, 18, 20, 19, 20, 20, 19, 18, 19, 18, 19, 20]\n"
     ]
    }
   ],
   "source": [
    "target_data_idx = []\n",
    "\n",
    "for t in target_data:\n",
    "    for i, n in enumerate(all_nodes):\n",
    "        if t == n:\n",
    "            target_data_idx.append(i)\n",
    "            break\n",
    "            \n",
    "print(len(target_data_idx))\n",
    "print(target_data_idx)"
   ]
  },
  {
   "cell_type": "code",
   "execution_count": 39,
   "id": "satisfied-innocent",
   "metadata": {
    "slideshow": {
     "slide_type": "skip"
    }
   },
   "outputs": [
    {
     "output_type": "execute_result",
     "data": {
      "text/plain": [
       "107"
      ]
     },
     "metadata": {},
     "execution_count": 39
    }
   ],
   "source": [
    "total_patient_count = list(nash_referrals_by_speciality[\"sum_patient_count\"])\n",
    "len(total_patient_count)"
   ]
  },
  {
   "cell_type": "markdown",
   "id": "crude-catering",
   "metadata": {
    "slideshow": {
     "slide_type": "skip"
    }
   },
   "source": [
    "### Building The Diagram"
   ]
  },
  {
   "cell_type": "code",
   "execution_count": 40,
   "id": "earlier-doubt",
   "metadata": {
    "slideshow": {
     "slide_type": "slide"
    }
   },
   "outputs": [
    {
     "output_type": "display_data",
     "data": {
      "application/vnd.plotly.v1+json": {
       "config": {
        "plotlyServerURL": "https://plot.ly"
       },
       "data": [
        {
         "link": {
          "source": [
           0,
           1,
           0,
           2,
           0,
           2,
           1,
           1,
           2,
           3,
           1,
           2,
           0,
           4,
           0,
           1,
           2,
           0,
           3,
           4,
           5,
           3,
           2,
           6,
           7,
           7,
           1,
           8,
           9,
           2,
           4,
           3,
           9,
           9,
           5,
           0,
           10,
           1,
           10,
           7,
           7,
           7,
           8,
           0,
           5,
           8,
           2,
           3,
           10,
           3,
           6,
           9,
           5,
           8,
           2,
           4,
           3,
           9,
           0,
           0,
           6,
           10,
           1,
           10,
           4,
           10,
           5,
           8,
           2,
           7,
           3,
           3,
           8,
           9,
           7,
           8,
           1,
           8,
           2,
           1,
           9,
           5,
           0,
           6,
           3,
           6,
           1,
           10,
           7,
           5,
           10,
           7,
           6,
           8,
           6,
           3,
           9,
           5,
           6,
           7,
           10,
           5,
           10,
           8,
           5,
           9,
           9
          ],
          "target": [
           11,
           12,
           12,
           11,
           13,
           12,
           11,
           13,
           13,
           11,
           14,
           14,
           14,
           12,
           15,
           15,
           15,
           16,
           12,
           11,
           11,
           13,
           16,
           11,
           11,
           12,
           17,
           12,
           11,
           17,
           13,
           14,
           13,
           12,
           12,
           17,
           11,
           16,
           12,
           14,
           13,
           15,
           14,
           18,
           13,
           11,
           19,
           16,
           13,
           15,
           12,
           14,
           14,
           13,
           18,
           16,
           17,
           15,
           19,
           20,
           13,
           15,
           18,
           14,
           15,
           16,
           15,
           16,
           20,
           16,
           19,
           18,
           15,
           17,
           17,
           18,
           20,
           17,
           21,
           19,
           16,
           16,
           21,
           14,
           21,
           15,
           21,
           17,
           19,
           17,
           19,
           18,
           16,
           20,
           17,
           20,
           18,
           20,
           19,
           20,
           20,
           19,
           18,
           19,
           18,
           19,
           20
          ],
          "value": [
           146878,
           140938,
           116009,
           105457,
           95531,
           92618,
           80109,
           78156,
           70870,
           35824,
           25693,
           25554,
           25172,
           20933,
           20348,
           19298,
           19241,
           19025,
           18944,
           16920,
           15928,
           13559,
           13318,
           13160,
           9932,
           9525,
           9400,
           9067,
           8751,
           7294,
           7040,
           7012,
           6825,
           6089,
           5725,
           5719,
           5559,
           5442,
           4957,
           4431,
           4228,
           3569,
           3289,
           3046,
           3023,
           2899,
           2888,
           2671,
           2556,
           2333,
           2278,
           2089,
           1928,
           1871,
           1768,
           1725,
           1692,
           1658,
           1611,
           1426,
           1289,
           1272,
           1236,
           1216,
           1216,
           1115,
           1108,
           1050,
           1005,
           961,
           880,
           879,
           878,
           819,
           785,
           763,
           726,
           686,
           661,
           644,
           624,
           593,
           469,
           452,
           430,
           351,
           345,
           299,
           216,
           213,
           182,
           157,
           140,
           139,
           134,
           127,
           126,
           125,
           111,
           82,
           66,
           60,
           55,
           55,
           53,
           42,
           39
          ]
         },
         "node": {
          "label": [
           "Internal Medicine",
           "Radiology",
           "Other Specialities",
           "Nurse Practitioner",
           "Pathology",
           "Psychiatry & Neurology",
           "Ophthalmology",
           "Orthopaedic Surgery",
           "Physician Assistant",
           "Surgery",
           "Urology",
           "Vanderbilt University Medical Center",
           "HCA",
           "Ascension Saint Thomas",
           "Maury Regional Medical Center",
           "Williamson Medical Center",
           "Sumner Regional Medical Center",
           "NorthCrest Medical Center",
           "Macon County General Hospital",
           "Riverview Regional Medical Center",
           "Nashville General Hosptial",
           "Trousdale Medical Center"
          ],
          "line": {
           "color": "black",
           "width": 0.5
          },
          "pad": 30,
          "thickness": 50
         },
         "type": "sankey"
        }
       ],
       "layout": {
        "font": {
         "size": 14
        },
        "template": {
         "data": {
          "bar": [
           {
            "error_x": {
             "color": "#2a3f5f"
            },
            "error_y": {
             "color": "#2a3f5f"
            },
            "marker": {
             "line": {
              "color": "#E5ECF6",
              "width": 0.5
             }
            },
            "type": "bar"
           }
          ],
          "barpolar": [
           {
            "marker": {
             "line": {
              "color": "#E5ECF6",
              "width": 0.5
             }
            },
            "type": "barpolar"
           }
          ],
          "carpet": [
           {
            "aaxis": {
             "endlinecolor": "#2a3f5f",
             "gridcolor": "white",
             "linecolor": "white",
             "minorgridcolor": "white",
             "startlinecolor": "#2a3f5f"
            },
            "baxis": {
             "endlinecolor": "#2a3f5f",
             "gridcolor": "white",
             "linecolor": "white",
             "minorgridcolor": "white",
             "startlinecolor": "#2a3f5f"
            },
            "type": "carpet"
           }
          ],
          "choropleth": [
           {
            "colorbar": {
             "outlinewidth": 0,
             "ticks": ""
            },
            "type": "choropleth"
           }
          ],
          "contour": [
           {
            "colorbar": {
             "outlinewidth": 0,
             "ticks": ""
            },
            "colorscale": [
             [
              0,
              "#0d0887"
             ],
             [
              0.1111111111111111,
              "#46039f"
             ],
             [
              0.2222222222222222,
              "#7201a8"
             ],
             [
              0.3333333333333333,
              "#9c179e"
             ],
             [
              0.4444444444444444,
              "#bd3786"
             ],
             [
              0.5555555555555556,
              "#d8576b"
             ],
             [
              0.6666666666666666,
              "#ed7953"
             ],
             [
              0.7777777777777778,
              "#fb9f3a"
             ],
             [
              0.8888888888888888,
              "#fdca26"
             ],
             [
              1,
              "#f0f921"
             ]
            ],
            "type": "contour"
           }
          ],
          "contourcarpet": [
           {
            "colorbar": {
             "outlinewidth": 0,
             "ticks": ""
            },
            "type": "contourcarpet"
           }
          ],
          "heatmap": [
           {
            "colorbar": {
             "outlinewidth": 0,
             "ticks": ""
            },
            "colorscale": [
             [
              0,
              "#0d0887"
             ],
             [
              0.1111111111111111,
              "#46039f"
             ],
             [
              0.2222222222222222,
              "#7201a8"
             ],
             [
              0.3333333333333333,
              "#9c179e"
             ],
             [
              0.4444444444444444,
              "#bd3786"
             ],
             [
              0.5555555555555556,
              "#d8576b"
             ],
             [
              0.6666666666666666,
              "#ed7953"
             ],
             [
              0.7777777777777778,
              "#fb9f3a"
             ],
             [
              0.8888888888888888,
              "#fdca26"
             ],
             [
              1,
              "#f0f921"
             ]
            ],
            "type": "heatmap"
           }
          ],
          "heatmapgl": [
           {
            "colorbar": {
             "outlinewidth": 0,
             "ticks": ""
            },
            "colorscale": [
             [
              0,
              "#0d0887"
             ],
             [
              0.1111111111111111,
              "#46039f"
             ],
             [
              0.2222222222222222,
              "#7201a8"
             ],
             [
              0.3333333333333333,
              "#9c179e"
             ],
             [
              0.4444444444444444,
              "#bd3786"
             ],
             [
              0.5555555555555556,
              "#d8576b"
             ],
             [
              0.6666666666666666,
              "#ed7953"
             ],
             [
              0.7777777777777778,
              "#fb9f3a"
             ],
             [
              0.8888888888888888,
              "#fdca26"
             ],
             [
              1,
              "#f0f921"
             ]
            ],
            "type": "heatmapgl"
           }
          ],
          "histogram": [
           {
            "marker": {
             "colorbar": {
              "outlinewidth": 0,
              "ticks": ""
             }
            },
            "type": "histogram"
           }
          ],
          "histogram2d": [
           {
            "colorbar": {
             "outlinewidth": 0,
             "ticks": ""
            },
            "colorscale": [
             [
              0,
              "#0d0887"
             ],
             [
              0.1111111111111111,
              "#46039f"
             ],
             [
              0.2222222222222222,
              "#7201a8"
             ],
             [
              0.3333333333333333,
              "#9c179e"
             ],
             [
              0.4444444444444444,
              "#bd3786"
             ],
             [
              0.5555555555555556,
              "#d8576b"
             ],
             [
              0.6666666666666666,
              "#ed7953"
             ],
             [
              0.7777777777777778,
              "#fb9f3a"
             ],
             [
              0.8888888888888888,
              "#fdca26"
             ],
             [
              1,
              "#f0f921"
             ]
            ],
            "type": "histogram2d"
           }
          ],
          "histogram2dcontour": [
           {
            "colorbar": {
             "outlinewidth": 0,
             "ticks": ""
            },
            "colorscale": [
             [
              0,
              "#0d0887"
             ],
             [
              0.1111111111111111,
              "#46039f"
             ],
             [
              0.2222222222222222,
              "#7201a8"
             ],
             [
              0.3333333333333333,
              "#9c179e"
             ],
             [
              0.4444444444444444,
              "#bd3786"
             ],
             [
              0.5555555555555556,
              "#d8576b"
             ],
             [
              0.6666666666666666,
              "#ed7953"
             ],
             [
              0.7777777777777778,
              "#fb9f3a"
             ],
             [
              0.8888888888888888,
              "#fdca26"
             ],
             [
              1,
              "#f0f921"
             ]
            ],
            "type": "histogram2dcontour"
           }
          ],
          "mesh3d": [
           {
            "colorbar": {
             "outlinewidth": 0,
             "ticks": ""
            },
            "type": "mesh3d"
           }
          ],
          "parcoords": [
           {
            "line": {
             "colorbar": {
              "outlinewidth": 0,
              "ticks": ""
             }
            },
            "type": "parcoords"
           }
          ],
          "pie": [
           {
            "automargin": true,
            "type": "pie"
           }
          ],
          "scatter": [
           {
            "marker": {
             "colorbar": {
              "outlinewidth": 0,
              "ticks": ""
             }
            },
            "type": "scatter"
           }
          ],
          "scatter3d": [
           {
            "line": {
             "colorbar": {
              "outlinewidth": 0,
              "ticks": ""
             }
            },
            "marker": {
             "colorbar": {
              "outlinewidth": 0,
              "ticks": ""
             }
            },
            "type": "scatter3d"
           }
          ],
          "scattercarpet": [
           {
            "marker": {
             "colorbar": {
              "outlinewidth": 0,
              "ticks": ""
             }
            },
            "type": "scattercarpet"
           }
          ],
          "scattergeo": [
           {
            "marker": {
             "colorbar": {
              "outlinewidth": 0,
              "ticks": ""
             }
            },
            "type": "scattergeo"
           }
          ],
          "scattergl": [
           {
            "marker": {
             "colorbar": {
              "outlinewidth": 0,
              "ticks": ""
             }
            },
            "type": "scattergl"
           }
          ],
          "scattermapbox": [
           {
            "marker": {
             "colorbar": {
              "outlinewidth": 0,
              "ticks": ""
             }
            },
            "type": "scattermapbox"
           }
          ],
          "scatterpolar": [
           {
            "marker": {
             "colorbar": {
              "outlinewidth": 0,
              "ticks": ""
             }
            },
            "type": "scatterpolar"
           }
          ],
          "scatterpolargl": [
           {
            "marker": {
             "colorbar": {
              "outlinewidth": 0,
              "ticks": ""
             }
            },
            "type": "scatterpolargl"
           }
          ],
          "scatterternary": [
           {
            "marker": {
             "colorbar": {
              "outlinewidth": 0,
              "ticks": ""
             }
            },
            "type": "scatterternary"
           }
          ],
          "surface": [
           {
            "colorbar": {
             "outlinewidth": 0,
             "ticks": ""
            },
            "colorscale": [
             [
              0,
              "#0d0887"
             ],
             [
              0.1111111111111111,
              "#46039f"
             ],
             [
              0.2222222222222222,
              "#7201a8"
             ],
             [
              0.3333333333333333,
              "#9c179e"
             ],
             [
              0.4444444444444444,
              "#bd3786"
             ],
             [
              0.5555555555555556,
              "#d8576b"
             ],
             [
              0.6666666666666666,
              "#ed7953"
             ],
             [
              0.7777777777777778,
              "#fb9f3a"
             ],
             [
              0.8888888888888888,
              "#fdca26"
             ],
             [
              1,
              "#f0f921"
             ]
            ],
            "type": "surface"
           }
          ],
          "table": [
           {
            "cells": {
             "fill": {
              "color": "#EBF0F8"
             },
             "line": {
              "color": "white"
             }
            },
            "header": {
             "fill": {
              "color": "#C8D4E3"
             },
             "line": {
              "color": "white"
             }
            },
            "type": "table"
           }
          ]
         },
         "layout": {
          "annotationdefaults": {
           "arrowcolor": "#2a3f5f",
           "arrowhead": 0,
           "arrowwidth": 1
          },
          "autotypenumbers": "strict",
          "coloraxis": {
           "colorbar": {
            "outlinewidth": 0,
            "ticks": ""
           }
          },
          "colorscale": {
           "diverging": [
            [
             0,
             "#8e0152"
            ],
            [
             0.1,
             "#c51b7d"
            ],
            [
             0.2,
             "#de77ae"
            ],
            [
             0.3,
             "#f1b6da"
            ],
            [
             0.4,
             "#fde0ef"
            ],
            [
             0.5,
             "#f7f7f7"
            ],
            [
             0.6,
             "#e6f5d0"
            ],
            [
             0.7,
             "#b8e186"
            ],
            [
             0.8,
             "#7fbc41"
            ],
            [
             0.9,
             "#4d9221"
            ],
            [
             1,
             "#276419"
            ]
           ],
           "sequential": [
            [
             0,
             "#0d0887"
            ],
            [
             0.1111111111111111,
             "#46039f"
            ],
            [
             0.2222222222222222,
             "#7201a8"
            ],
            [
             0.3333333333333333,
             "#9c179e"
            ],
            [
             0.4444444444444444,
             "#bd3786"
            ],
            [
             0.5555555555555556,
             "#d8576b"
            ],
            [
             0.6666666666666666,
             "#ed7953"
            ],
            [
             0.7777777777777778,
             "#fb9f3a"
            ],
            [
             0.8888888888888888,
             "#fdca26"
            ],
            [
             1,
             "#f0f921"
            ]
           ],
           "sequentialminus": [
            [
             0,
             "#0d0887"
            ],
            [
             0.1111111111111111,
             "#46039f"
            ],
            [
             0.2222222222222222,
             "#7201a8"
            ],
            [
             0.3333333333333333,
             "#9c179e"
            ],
            [
             0.4444444444444444,
             "#bd3786"
            ],
            [
             0.5555555555555556,
             "#d8576b"
            ],
            [
             0.6666666666666666,
             "#ed7953"
            ],
            [
             0.7777777777777778,
             "#fb9f3a"
            ],
            [
             0.8888888888888888,
             "#fdca26"
            ],
            [
             1,
             "#f0f921"
            ]
           ]
          },
          "colorway": [
           "#636efa",
           "#EF553B",
           "#00cc96",
           "#ab63fa",
           "#FFA15A",
           "#19d3f3",
           "#FF6692",
           "#B6E880",
           "#FF97FF",
           "#FECB52"
          ],
          "font": {
           "color": "#2a3f5f"
          },
          "geo": {
           "bgcolor": "white",
           "lakecolor": "white",
           "landcolor": "#E5ECF6",
           "showlakes": true,
           "showland": true,
           "subunitcolor": "white"
          },
          "hoverlabel": {
           "align": "left"
          },
          "hovermode": "closest",
          "mapbox": {
           "style": "light"
          },
          "paper_bgcolor": "white",
          "plot_bgcolor": "#E5ECF6",
          "polar": {
           "angularaxis": {
            "gridcolor": "white",
            "linecolor": "white",
            "ticks": ""
           },
           "bgcolor": "#E5ECF6",
           "radialaxis": {
            "gridcolor": "white",
            "linecolor": "white",
            "ticks": ""
           }
          },
          "scene": {
           "xaxis": {
            "backgroundcolor": "#E5ECF6",
            "gridcolor": "white",
            "gridwidth": 2,
            "linecolor": "white",
            "showbackground": true,
            "ticks": "",
            "zerolinecolor": "white"
           },
           "yaxis": {
            "backgroundcolor": "#E5ECF6",
            "gridcolor": "white",
            "gridwidth": 2,
            "linecolor": "white",
            "showbackground": true,
            "ticks": "",
            "zerolinecolor": "white"
           },
           "zaxis": {
            "backgroundcolor": "#E5ECF6",
            "gridcolor": "white",
            "gridwidth": 2,
            "linecolor": "white",
            "showbackground": true,
            "ticks": "",
            "zerolinecolor": "white"
           }
          },
          "shapedefaults": {
           "line": {
            "color": "#2a3f5f"
           }
          },
          "ternary": {
           "aaxis": {
            "gridcolor": "white",
            "linecolor": "white",
            "ticks": ""
           },
           "baxis": {
            "gridcolor": "white",
            "linecolor": "white",
            "ticks": ""
           },
           "bgcolor": "#E5ECF6",
           "caxis": {
            "gridcolor": "white",
            "linecolor": "white",
            "ticks": ""
           }
          },
          "title": {
           "x": 0.05
          },
          "xaxis": {
           "automargin": true,
           "gridcolor": "white",
           "linecolor": "white",
           "ticks": "",
           "title": {
            "standoff": 15
           },
           "zerolinecolor": "white",
           "zerolinewidth": 2
          },
          "yaxis": {
           "automargin": true,
           "gridcolor": "white",
           "linecolor": "white",
           "ticks": "",
           "title": {
            "standoff": 15
           },
           "zerolinecolor": "white",
           "zerolinewidth": 2
          }
         }
        },
        "title": {
         "text": "Total Patient Count Referrals:<br>From Referrer Specialities to Facility Groups"
        }
       }
      }
     },
     "metadata": {}
    }
   ],
   "source": [
    "fig = go.Figure(data=[go.Sankey(\n",
    "        \n",
    "    # Define all the nodes\n",
    "    node = dict(\n",
    "      pad = 30, # The spacing size between the separations\n",
    "      thickness = 50, # Thickness of the nodes\n",
    "      line = dict(color = \"black\", width = 0.5), # Margin Line of the nodes\n",
    "      label = all_nodes, # Label of each successive nodes: Just the npis for now\n",
    "      #color = \"green\" # Color of the nodes: 1 value for overall color, or a list to match the label order\n",
    "    ),\n",
    "    \n",
    "    # Define how the nodes will be linked to each other\n",
    "    link = dict(\n",
    "      source = source_data_idx, # From indices: Index that correspond to position in label\n",
    "      target = target_data_idx, # To indices: Index that correspond to position in label\n",
    "      value = total_patient_count, # Amount: Correspond to label positions\n",
    "      #label = data['data'][0]['link']['label'], # Custom Hover label on the connector\n",
    "      #color = data['data'][0]['link']['color'] # Color of the connector\n",
    "))])\n",
    "\n",
    "# Styling\n",
    "fig.update_layout(\n",
    "    title_text=\"Total Patient Count Referrals:<br>From Referrer Specialities to Facility Groups\",\n",
    "    font_size=14\n",
    ")\n",
    "\n",
    "# Display figure\n",
    "fig.show()\n",
    "\n",
    "# Export to HTML\n",
    "fig.write_html(\"./speciality-to-facility-group.html\")"
   ]
  }
 ],
 "metadata": {
  "kernelspec": {
   "display_name": "Python 3",
   "language": "python",
   "name": "python3"
  },
  "language_info": {
   "codemirror_mode": {
    "name": "ipython",
    "version": 3
   },
   "file_extension": ".py",
   "mimetype": "text/x-python",
   "name": "python",
   "nbconvert_exporter": "python",
   "pygments_lexer": "ipython3",
   "version": "3.8.8-final"
  },
  "toc": {
   "base_numbering": 1,
   "nav_menu": {},
   "number_sections": false,
   "sideBar": true,
   "skip_h1_title": false,
   "title_cell": "Table of Contents",
   "title_sidebar": "Contents",
   "toc_cell": false,
   "toc_position": {
    "height": "calc(100% - 180px)",
    "left": "10px",
    "top": "150px",
    "width": "216px"
   },
   "toc_section_display": true,
   "toc_window_display": true
  },
  "varInspector": {
   "cols": {
    "lenName": 16,
    "lenType": 16,
    "lenVar": 40
   },
   "kernels_config": {
    "python": {
     "delete_cmd_postfix": "",
     "delete_cmd_prefix": "del ",
     "library": "var_list.py",
     "varRefreshCmd": "print(var_dic_list())"
    },
    "r": {
     "delete_cmd_postfix": ") ",
     "delete_cmd_prefix": "rm(",
     "library": "var_list.r",
     "varRefreshCmd": "cat(var_dic_list()) "
    }
   },
   "types_to_exclude": [
    "module",
    "function",
    "builtin_function_or_method",
    "instance",
    "_Feature"
   ],
   "window_display": false
  }
 },
 "nbformat": 4,
 "nbformat_minor": 5
}