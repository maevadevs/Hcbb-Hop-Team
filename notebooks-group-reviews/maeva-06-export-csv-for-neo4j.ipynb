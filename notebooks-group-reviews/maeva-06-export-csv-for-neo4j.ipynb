{
 "cells": [
  {
   "cell_type": "code",
   "execution_count": 1,
   "id": "removed-crawford",
   "metadata": {},
   "outputs": [],
   "source": [
    "import pandas as pd\n",
    "import sqlite3\n",
    "from tqdm.notebook import tqdm # Provides progress bar for long tasks"
   ]
  },
  {
   "cell_type": "code",
   "execution_count": 2,
   "id": "difficult-payment",
   "metadata": {},
   "outputs": [],
   "source": [
    "pd.set_option(\"display.max_columns\", 500)\n",
    "pd.set_option('display.max_rows', 1000)"
   ]
  },
  {
   "cell_type": "markdown",
   "id": "complicated-operator",
   "metadata": {},
   "source": [
    "### Listing currently existing tables in the database"
   ]
  },
  {
   "cell_type": "code",
   "execution_count": 3,
   "id": "nutritional-universe",
   "metadata": {},
   "outputs": [
    {
     "data": {
      "text/html": [
       "<div>\n",
       "<style scoped>\n",
       "    .dataframe tbody tr th:only-of-type {\n",
       "        vertical-align: middle;\n",
       "    }\n",
       "\n",
       "    .dataframe tbody tr th {\n",
       "        vertical-align: top;\n",
       "    }\n",
       "\n",
       "    .dataframe thead th {\n",
       "        text-align: right;\n",
       "    }\n",
       "</style>\n",
       "<table border=\"1\" class=\"dataframe\">\n",
       "  <thead>\n",
       "    <tr style=\"text-align: right;\">\n",
       "      <th></th>\n",
       "      <th>name</th>\n",
       "    </tr>\n",
       "  </thead>\n",
       "  <tbody>\n",
       "    <tr>\n",
       "      <th>0</th>\n",
       "      <td>cbsa</td>\n",
       "    </tr>\n",
       "    <tr>\n",
       "      <th>1</th>\n",
       "      <td>npidata</td>\n",
       "    </tr>\n",
       "    <tr>\n",
       "      <th>2</th>\n",
       "      <td>taxonomy</td>\n",
       "    </tr>\n",
       "    <tr>\n",
       "      <th>3</th>\n",
       "      <td>hop_teaming_raw</td>\n",
       "    </tr>\n",
       "    <tr>\n",
       "      <th>4</th>\n",
       "      <td>filtered_hop_teaming</td>\n",
       "    </tr>\n",
       "  </tbody>\n",
       "</table>\n",
       "</div>"
      ],
      "text/plain": [
       "                   name\n",
       "0                  cbsa\n",
       "1               npidata\n",
       "2              taxonomy\n",
       "3       hop_teaming_raw\n",
       "4  filtered_hop_teaming"
      ]
     },
     "metadata": {},
     "output_type": "display_data"
    }
   ],
   "source": [
    "with sqlite3.connect('../data/hcbb_group_reviews.sqlite') as db :\n",
    "    query = \"\"\"\n",
    "    SELECT name\n",
    "    FROM sqlite_master \n",
    "    WHERE type ='table' \n",
    "    AND name NOT LIKE 'sqlite_%';\n",
    "    \"\"\" \n",
    "    \n",
    "    db_table_list = pd.read_sql(query, db)\n",
    "\n",
    "display(db_table_list)"
   ]
  },
  {
   "cell_type": "markdown",
   "id": "special-weekly",
   "metadata": {},
   "source": [
    "### `providers.csv`"
   ]
  },
  {
   "cell_type": "markdown",
   "id": "varied-supplement",
   "metadata": {},
   "source": [
    "We only want the providers in Nashville. Will need to join with CBSA here.<br>Exported from SQL-Lite `npidata` with applied filters: `entity_type_code == 1`"
   ]
  },
  {
   "cell_type": "code",
   "execution_count": 4,
   "id": "civilian-convenience",
   "metadata": {},
   "outputs": [
    {
     "data": {
      "text/plain": [
       "(30787, 17)"
      ]
     },
     "metadata": {},
     "output_type": "display_data"
    },
    {
     "data": {
      "text/html": [
       "<div>\n",
       "<style scoped>\n",
       "    .dataframe tbody tr th:only-of-type {\n",
       "        vertical-align: middle;\n",
       "    }\n",
       "\n",
       "    .dataframe tbody tr th {\n",
       "        vertical-align: top;\n",
       "    }\n",
       "\n",
       "    .dataframe thead th {\n",
       "        text-align: right;\n",
       "    }\n",
       "</style>\n",
       "<table border=\"1\" class=\"dataframe\">\n",
       "  <thead>\n",
       "    <tr style=\"text-align: right;\">\n",
       "      <th></th>\n",
       "      <th>npi</th>\n",
       "      <th>entity_type_code</th>\n",
       "      <th>provider_org_name</th>\n",
       "      <th>provider_last_name</th>\n",
       "      <th>provider_first_name</th>\n",
       "      <th>provider_middle_name</th>\n",
       "      <th>provider_name_prefix</th>\n",
       "      <th>provider_name_suffix</th>\n",
       "      <th>provider_credential</th>\n",
       "      <th>provider_business_address_1</th>\n",
       "      <th>provider_business_address_2</th>\n",
       "      <th>provider_business_city</th>\n",
       "      <th>provider_business_state</th>\n",
       "      <th>primary_taxonomy</th>\n",
       "      <th>provider_business_zip5</th>\n",
       "      <th>zip</th>\n",
       "      <th>cbsa</th>\n",
       "    </tr>\n",
       "  </thead>\n",
       "  <tbody>\n",
       "    <tr>\n",
       "      <th>0</th>\n",
       "      <td>1134122187</td>\n",
       "      <td>1</td>\n",
       "      <td>None</td>\n",
       "      <td>RUDNICKE</td>\n",
       "      <td>CHERYL</td>\n",
       "      <td>DENISE</td>\n",
       "      <td>MRS.</td>\n",
       "      <td>None</td>\n",
       "      <td>CRNP</td>\n",
       "      <td>250 25TH AVE N</td>\n",
       "      <td>STE 412</td>\n",
       "      <td>NASHVILLE</td>\n",
       "      <td>TN</td>\n",
       "      <td>363L00000X</td>\n",
       "      <td>37203</td>\n",
       "      <td>37203</td>\n",
       "      <td>34980</td>\n",
       "    </tr>\n",
       "    <tr>\n",
       "      <th>1</th>\n",
       "      <td>1003819046</td>\n",
       "      <td>1</td>\n",
       "      <td>None</td>\n",
       "      <td>NYLANDER</td>\n",
       "      <td>BARBARA</td>\n",
       "      <td>H</td>\n",
       "      <td>None</td>\n",
       "      <td>None</td>\n",
       "      <td>M.D.</td>\n",
       "      <td>345 23RD AVE N</td>\n",
       "      <td>SUITE 209</td>\n",
       "      <td>NASHVILLE</td>\n",
       "      <td>TN</td>\n",
       "      <td>207VG0400X</td>\n",
       "      <td>37203</td>\n",
       "      <td>37203</td>\n",
       "      <td>34980</td>\n",
       "    </tr>\n",
       "    <tr>\n",
       "      <th>2</th>\n",
       "      <td>1750384780</td>\n",
       "      <td>1</td>\n",
       "      <td>None</td>\n",
       "      <td>PERRIGIN</td>\n",
       "      <td>JULIE</td>\n",
       "      <td>A</td>\n",
       "      <td>DR.</td>\n",
       "      <td>None</td>\n",
       "      <td>MD</td>\n",
       "      <td>219 CHURCH ST</td>\n",
       "      <td>None</td>\n",
       "      <td>DICKSON</td>\n",
       "      <td>TN</td>\n",
       "      <td>207Q00000X</td>\n",
       "      <td>37055</td>\n",
       "      <td>37055</td>\n",
       "      <td>34980</td>\n",
       "    </tr>\n",
       "    <tr>\n",
       "      <th>3</th>\n",
       "      <td>1922001957</td>\n",
       "      <td>1</td>\n",
       "      <td>None</td>\n",
       "      <td>PRESLEY</td>\n",
       "      <td>RICHARD</td>\n",
       "      <td>E</td>\n",
       "      <td>None</td>\n",
       "      <td>None</td>\n",
       "      <td>M.D.</td>\n",
       "      <td>2011 MURPHY AVE</td>\n",
       "      <td>STE 302</td>\n",
       "      <td>NASHVILLE</td>\n",
       "      <td>TN</td>\n",
       "      <td>207V00000X</td>\n",
       "      <td>37203</td>\n",
       "      <td>37203</td>\n",
       "      <td>34980</td>\n",
       "    </tr>\n",
       "    <tr>\n",
       "      <th>4</th>\n",
       "      <td>1073516001</td>\n",
       "      <td>1</td>\n",
       "      <td>None</td>\n",
       "      <td>ROSS</td>\n",
       "      <td>DAVID</td>\n",
       "      <td>L</td>\n",
       "      <td>DR.</td>\n",
       "      <td>None</td>\n",
       "      <td>MD</td>\n",
       "      <td>127 CRESTVIEW PARK DR</td>\n",
       "      <td>None</td>\n",
       "      <td>DICKSON</td>\n",
       "      <td>TN</td>\n",
       "      <td>207R00000X</td>\n",
       "      <td>37055</td>\n",
       "      <td>37055</td>\n",
       "      <td>34980</td>\n",
       "    </tr>\n",
       "  </tbody>\n",
       "</table>\n",
       "</div>"
      ],
      "text/plain": [
       "          npi entity_type_code provider_org_name provider_last_name  \\\n",
       "0  1134122187                1              None           RUDNICKE   \n",
       "1  1003819046                1              None           NYLANDER   \n",
       "2  1750384780                1              None           PERRIGIN   \n",
       "3  1922001957                1              None            PRESLEY   \n",
       "4  1073516001                1              None               ROSS   \n",
       "\n",
       "  provider_first_name provider_middle_name provider_name_prefix  \\\n",
       "0              CHERYL               DENISE                 MRS.   \n",
       "1             BARBARA                    H                 None   \n",
       "2               JULIE                    A                  DR.   \n",
       "3             RICHARD                    E                 None   \n",
       "4               DAVID                    L                  DR.   \n",
       "\n",
       "  provider_name_suffix provider_credential provider_business_address_1  \\\n",
       "0                 None                CRNP              250 25TH AVE N   \n",
       "1                 None                M.D.              345 23RD AVE N   \n",
       "2                 None                  MD               219 CHURCH ST   \n",
       "3                 None                M.D.             2011 MURPHY AVE   \n",
       "4                 None                  MD       127 CRESTVIEW PARK DR   \n",
       "\n",
       "  provider_business_address_2 provider_business_city provider_business_state  \\\n",
       "0                     STE 412              NASHVILLE                      TN   \n",
       "1                   SUITE 209              NASHVILLE                      TN   \n",
       "2                        None                DICKSON                      TN   \n",
       "3                     STE 302              NASHVILLE                      TN   \n",
       "4                        None                DICKSON                      TN   \n",
       "\n",
       "  primary_taxonomy provider_business_zip5    zip   cbsa  \n",
       "0       363L00000X                  37203  37203  34980  \n",
       "1       207VG0400X                  37203  37203  34980  \n",
       "2       207Q00000X                  37055  37055  34980  \n",
       "3       207V00000X                  37203  37203  34980  \n",
       "4       207R00000X                  37055  37055  34980  "
      ]
     },
     "metadata": {},
     "output_type": "display_data"
    }
   ],
   "source": [
    "with sqlite3.connect('../data/hcbb_group_reviews.sqlite') as db :\n",
    "    query = \"\"\"\n",
    "    SELECT *\n",
    "    FROM npidata AS n INNER JOIN cbsa AS c\n",
    "    ON c.zip = CAST(n.provider_business_zip5 AS INTEGER)\n",
    "    WHERE entity_type_code = 1 -- providers only\n",
    "    AND UPPER(provider_business_state) IN ('TN', 'TENNESSEE');\n",
    "    \"\"\"\n",
    "    \n",
    "    providers = pd.read_sql(query, db)\n",
    "        \n",
    "    display(providers.shape)\n",
    "    display(providers.head())"
   ]
  },
  {
   "cell_type": "code",
   "execution_count": 5,
   "id": "medium-indianapolis",
   "metadata": {
    "scrolled": true
   },
   "outputs": [],
   "source": [
    "# Fixing the \"TENNESSEE\" state\n",
    "providers.loc[providers['provider_business_state'] == 'TENNESSEE', 'provider_business_state'] = 'TN'"
   ]
  },
  {
   "cell_type": "markdown",
   "id": "invisible-finding",
   "metadata": {},
   "source": [
    "### `facilities.csv`"
   ]
  },
  {
   "cell_type": "markdown",
   "id": "collected-yeast",
   "metadata": {},
   "source": [
    "We only want the facilites in Nashville. Will need to join with CBSA here.<br>Exported from SQL-Lite `npidata` with applied filters: `entity_type_code == 2`"
   ]
  },
  {
   "cell_type": "code",
   "execution_count": 6,
   "id": "described-going",
   "metadata": {},
   "outputs": [
    {
     "data": {
      "text/plain": [
       "(7551, 17)"
      ]
     },
     "metadata": {},
     "output_type": "display_data"
    },
    {
     "data": {
      "text/html": [
       "<div>\n",
       "<style scoped>\n",
       "    .dataframe tbody tr th:only-of-type {\n",
       "        vertical-align: middle;\n",
       "    }\n",
       "\n",
       "    .dataframe tbody tr th {\n",
       "        vertical-align: top;\n",
       "    }\n",
       "\n",
       "    .dataframe thead th {\n",
       "        text-align: right;\n",
       "    }\n",
       "</style>\n",
       "<table border=\"1\" class=\"dataframe\">\n",
       "  <thead>\n",
       "    <tr style=\"text-align: right;\">\n",
       "      <th></th>\n",
       "      <th>npi</th>\n",
       "      <th>entity_type_code</th>\n",
       "      <th>provider_org_name</th>\n",
       "      <th>provider_last_name</th>\n",
       "      <th>provider_first_name</th>\n",
       "      <th>provider_middle_name</th>\n",
       "      <th>provider_name_prefix</th>\n",
       "      <th>provider_name_suffix</th>\n",
       "      <th>provider_credential</th>\n",
       "      <th>provider_business_address_1</th>\n",
       "      <th>provider_business_address_2</th>\n",
       "      <th>provider_business_city</th>\n",
       "      <th>provider_business_state</th>\n",
       "      <th>primary_taxonomy</th>\n",
       "      <th>provider_business_zip5</th>\n",
       "      <th>zip</th>\n",
       "      <th>cbsa</th>\n",
       "    </tr>\n",
       "  </thead>\n",
       "  <tbody>\n",
       "    <tr>\n",
       "      <th>0</th>\n",
       "      <td>1881697092</td>\n",
       "      <td>2</td>\n",
       "      <td>RHS, INC.</td>\n",
       "      <td>None</td>\n",
       "      <td>None</td>\n",
       "      <td>None</td>\n",
       "      <td>None</td>\n",
       "      <td>None</td>\n",
       "      <td>None</td>\n",
       "      <td>1330 TROTWOOD AVE</td>\n",
       "      <td>None</td>\n",
       "      <td>COLUMBIA</td>\n",
       "      <td>TN</td>\n",
       "      <td>332B00000X</td>\n",
       "      <td>38401</td>\n",
       "      <td>38401</td>\n",
       "      <td>34980</td>\n",
       "    </tr>\n",
       "    <tr>\n",
       "      <th>1</th>\n",
       "      <td>1326041534</td>\n",
       "      <td>2</td>\n",
       "      <td>MURFREESBORO CONVALESCENT SERVICE</td>\n",
       "      <td>None</td>\n",
       "      <td>None</td>\n",
       "      <td>None</td>\n",
       "      <td>None</td>\n",
       "      <td>None</td>\n",
       "      <td>None</td>\n",
       "      <td>4428 LASCASSAS PIKE</td>\n",
       "      <td>None</td>\n",
       "      <td>MURFREESBORO</td>\n",
       "      <td>TN</td>\n",
       "      <td>341600000X</td>\n",
       "      <td>37130</td>\n",
       "      <td>37130</td>\n",
       "      <td>34980</td>\n",
       "    </tr>\n",
       "    <tr>\n",
       "      <th>2</th>\n",
       "      <td>1063415834</td>\n",
       "      <td>2</td>\n",
       "      <td>ADVANCED DIABETIC SERVICES</td>\n",
       "      <td>None</td>\n",
       "      <td>None</td>\n",
       "      <td>None</td>\n",
       "      <td>None</td>\n",
       "      <td>None</td>\n",
       "      <td>None</td>\n",
       "      <td>151 HERITAGE PARK DR</td>\n",
       "      <td>STE 403</td>\n",
       "      <td>MURFREESBORO</td>\n",
       "      <td>TN</td>\n",
       "      <td>332B00000X</td>\n",
       "      <td>37129</td>\n",
       "      <td>37129</td>\n",
       "      <td>34980</td>\n",
       "    </tr>\n",
       "    <tr>\n",
       "      <th>3</th>\n",
       "      <td>1538162334</td>\n",
       "      <td>2</td>\n",
       "      <td>TENNESSEE IMAGING ALLIANCE LLC</td>\n",
       "      <td>None</td>\n",
       "      <td>None</td>\n",
       "      <td>None</td>\n",
       "      <td>None</td>\n",
       "      <td>None</td>\n",
       "      <td>None</td>\n",
       "      <td>2628 N MOUNT JULIET RD</td>\n",
       "      <td>None</td>\n",
       "      <td>MOUNT JULIET</td>\n",
       "      <td>TN</td>\n",
       "      <td>261QR0208X</td>\n",
       "      <td>37122</td>\n",
       "      <td>37122</td>\n",
       "      <td>34980</td>\n",
       "    </tr>\n",
       "    <tr>\n",
       "      <th>4</th>\n",
       "      <td>1245233220</td>\n",
       "      <td>2</td>\n",
       "      <td>NORTHRIDGE SURGERY CENTER, LP</td>\n",
       "      <td>None</td>\n",
       "      <td>None</td>\n",
       "      <td>None</td>\n",
       "      <td>None</td>\n",
       "      <td>None</td>\n",
       "      <td>None</td>\n",
       "      <td>647 MYATT DR</td>\n",
       "      <td>None</td>\n",
       "      <td>MADISON</td>\n",
       "      <td>TN</td>\n",
       "      <td>261QA1903X</td>\n",
       "      <td>37115</td>\n",
       "      <td>37115</td>\n",
       "      <td>34980</td>\n",
       "    </tr>\n",
       "  </tbody>\n",
       "</table>\n",
       "</div>"
      ],
      "text/plain": [
       "          npi entity_type_code                  provider_org_name  \\\n",
       "0  1881697092                2                          RHS, INC.   \n",
       "1  1326041534                2  MURFREESBORO CONVALESCENT SERVICE   \n",
       "2  1063415834                2         ADVANCED DIABETIC SERVICES   \n",
       "3  1538162334                2     TENNESSEE IMAGING ALLIANCE LLC   \n",
       "4  1245233220                2      NORTHRIDGE SURGERY CENTER, LP   \n",
       "\n",
       "  provider_last_name provider_first_name provider_middle_name  \\\n",
       "0               None                None                 None   \n",
       "1               None                None                 None   \n",
       "2               None                None                 None   \n",
       "3               None                None                 None   \n",
       "4               None                None                 None   \n",
       "\n",
       "  provider_name_prefix provider_name_suffix provider_credential  \\\n",
       "0                 None                 None                None   \n",
       "1                 None                 None                None   \n",
       "2                 None                 None                None   \n",
       "3                 None                 None                None   \n",
       "4                 None                 None                None   \n",
       "\n",
       "  provider_business_address_1 provider_business_address_2  \\\n",
       "0           1330 TROTWOOD AVE                        None   \n",
       "1         4428 LASCASSAS PIKE                        None   \n",
       "2        151 HERITAGE PARK DR                     STE 403   \n",
       "3      2628 N MOUNT JULIET RD                        None   \n",
       "4                647 MYATT DR                        None   \n",
       "\n",
       "  provider_business_city provider_business_state primary_taxonomy  \\\n",
       "0               COLUMBIA                      TN       332B00000X   \n",
       "1           MURFREESBORO                      TN       341600000X   \n",
       "2           MURFREESBORO                      TN       332B00000X   \n",
       "3           MOUNT JULIET                      TN       261QR0208X   \n",
       "4                MADISON                      TN       261QA1903X   \n",
       "\n",
       "  provider_business_zip5    zip   cbsa  \n",
       "0                  38401  38401  34980  \n",
       "1                  37130  37130  34980  \n",
       "2                  37129  37129  34980  \n",
       "3                  37122  37122  34980  \n",
       "4                  37115  37115  34980  "
      ]
     },
     "metadata": {},
     "output_type": "display_data"
    }
   ],
   "source": [
    "with sqlite3.connect('../data/hcbb_group_reviews.sqlite') as db :\n",
    "    query = \"\"\"\n",
    "    SELECT *\n",
    "    FROM npidata AS n INNER JOIN cbsa AS c\n",
    "    ON c.zip = CAST(n.provider_business_zip5 AS INTEGER)\n",
    "    WHERE entity_type_code = 2 -- facilities only\n",
    "    AND UPPER(provider_business_state) IN ('TN', 'TENNESSEE');\n",
    "    \"\"\"\n",
    "    \n",
    "    facilities = pd.read_sql(query, db)\n",
    "        \n",
    "    display(facilities.shape)\n",
    "    display(facilities.head())"
   ]
  },
  {
   "cell_type": "markdown",
   "id": "alike-vault",
   "metadata": {},
   "source": [
    "### `filtered_hop_teaming.csv`"
   ]
  },
  {
   "cell_type": "markdown",
   "id": "alleged-keeping",
   "metadata": {},
   "source": [
    "Exported from SQL-Lite `filtered_hop_teaming`"
   ]
  },
  {
   "cell_type": "code",
   "execution_count": 7,
   "id": "remarkable-costs",
   "metadata": {},
   "outputs": [
    {
     "data": {
      "text/plain": [
       "(8846709, 6)"
      ]
     },
     "metadata": {},
     "output_type": "display_data"
    },
    {
     "data": {
      "text/html": [
       "<div>\n",
       "<style scoped>\n",
       "    .dataframe tbody tr th:only-of-type {\n",
       "        vertical-align: middle;\n",
       "    }\n",
       "\n",
       "    .dataframe tbody tr th {\n",
       "        vertical-align: top;\n",
       "    }\n",
       "\n",
       "    .dataframe thead th {\n",
       "        text-align: right;\n",
       "    }\n",
       "</style>\n",
       "<table border=\"1\" class=\"dataframe\">\n",
       "  <thead>\n",
       "    <tr style=\"text-align: right;\">\n",
       "      <th></th>\n",
       "      <th>from_npi</th>\n",
       "      <th>to_npi</th>\n",
       "      <th>patient_count</th>\n",
       "      <th>transaction_count</th>\n",
       "      <th>average_day_wait</th>\n",
       "      <th>std_day_wait</th>\n",
       "    </tr>\n",
       "  </thead>\n",
       "  <tbody>\n",
       "    <tr>\n",
       "      <th>0</th>\n",
       "      <td>1033194220</td>\n",
       "      <td>1003000308</td>\n",
       "      <td>62</td>\n",
       "      <td>80</td>\n",
       "      <td>26.175</td>\n",
       "      <td>53.780</td>\n",
       "    </tr>\n",
       "    <tr>\n",
       "      <th>1</th>\n",
       "      <td>1003818055</td>\n",
       "      <td>1003000563</td>\n",
       "      <td>101</td>\n",
       "      <td>146</td>\n",
       "      <td>0.000</td>\n",
       "      <td>0.000</td>\n",
       "    </tr>\n",
       "    <tr>\n",
       "      <th>2</th>\n",
       "      <td>1013967371</td>\n",
       "      <td>1003001538</td>\n",
       "      <td>46</td>\n",
       "      <td>61</td>\n",
       "      <td>21.033</td>\n",
       "      <td>27.679</td>\n",
       "    </tr>\n",
       "    <tr>\n",
       "      <th>3</th>\n",
       "      <td>1023073459</td>\n",
       "      <td>1003001553</td>\n",
       "      <td>25</td>\n",
       "      <td>51</td>\n",
       "      <td>34.314</td>\n",
       "      <td>32.550</td>\n",
       "    </tr>\n",
       "    <tr>\n",
       "      <th>4</th>\n",
       "      <td>1023003142</td>\n",
       "      <td>1003001553</td>\n",
       "      <td>164</td>\n",
       "      <td>222</td>\n",
       "      <td>33.923</td>\n",
       "      <td>52.133</td>\n",
       "    </tr>\n",
       "  </tbody>\n",
       "</table>\n",
       "</div>"
      ],
      "text/plain": [
       "     from_npi      to_npi  patient_count  transaction_count  average_day_wait  \\\n",
       "0  1033194220  1003000308             62                 80            26.175   \n",
       "1  1003818055  1003000563            101                146             0.000   \n",
       "2  1013967371  1003001538             46                 61            21.033   \n",
       "3  1023073459  1003001553             25                 51            34.314   \n",
       "4  1023003142  1003001553            164                222            33.923   \n",
       "\n",
       "   std_day_wait  \n",
       "0        53.780  \n",
       "1         0.000  \n",
       "2        27.679  \n",
       "3        32.550  \n",
       "4        52.133  "
      ]
     },
     "metadata": {},
     "output_type": "display_data"
    }
   ],
   "source": [
    "with sqlite3.connect('../data/hcbb_group_reviews.sqlite') as db :\n",
    "    query = \"\"\"\n",
    "    SELECT *\n",
    "    FROM filtered_hop_teaming;\n",
    "    \"\"\" \n",
    "    \n",
    "    filtered_hop_teaming = pd.read_sql(query, db)\n",
    "\n",
    "display(filtered_hop_teaming.shape)\n",
    "display(filtered_hop_teaming.head())"
   ]
  },
  {
   "cell_type": "markdown",
   "id": "lonely-swift",
   "metadata": {},
   "source": [
    "### `specializations.csv`"
   ]
  },
  {
   "cell_type": "markdown",
   "id": "anonymous-collection",
   "metadata": {},
   "source": [
    "Exported from SQL-Lite `taxonomy` with only `taxonomy_code` and non-null `specializations`"
   ]
  },
  {
   "cell_type": "code",
   "execution_count": 8,
   "id": "proprietary-denmark",
   "metadata": {},
   "outputs": [
    {
     "data": {
      "text/plain": [
       "(625, 2)"
      ]
     },
     "metadata": {},
     "output_type": "display_data"
    },
    {
     "data": {
      "text/html": [
       "<div>\n",
       "<style scoped>\n",
       "    .dataframe tbody tr th:only-of-type {\n",
       "        vertical-align: middle;\n",
       "    }\n",
       "\n",
       "    .dataframe tbody tr th {\n",
       "        vertical-align: top;\n",
       "    }\n",
       "\n",
       "    .dataframe thead th {\n",
       "        text-align: right;\n",
       "    }\n",
       "</style>\n",
       "<table border=\"1\" class=\"dataframe\">\n",
       "  <thead>\n",
       "    <tr style=\"text-align: right;\">\n",
       "      <th></th>\n",
       "      <th>taxonomy_code</th>\n",
       "      <th>specialization</th>\n",
       "    </tr>\n",
       "  </thead>\n",
       "  <tbody>\n",
       "    <tr>\n",
       "      <th>0</th>\n",
       "      <td>207KA0200X</td>\n",
       "      <td>Allergy</td>\n",
       "    </tr>\n",
       "    <tr>\n",
       "      <th>1</th>\n",
       "      <td>207KI0005X</td>\n",
       "      <td>Clinical &amp; Laboratory Immunology</td>\n",
       "    </tr>\n",
       "    <tr>\n",
       "      <th>2</th>\n",
       "      <td>207LA0401X</td>\n",
       "      <td>Addiction Medicine</td>\n",
       "    </tr>\n",
       "    <tr>\n",
       "      <th>3</th>\n",
       "      <td>207LC0200X</td>\n",
       "      <td>Critical Care Medicine</td>\n",
       "    </tr>\n",
       "    <tr>\n",
       "      <th>4</th>\n",
       "      <td>207LH0002X</td>\n",
       "      <td>Hospice and Palliative Medicine</td>\n",
       "    </tr>\n",
       "  </tbody>\n",
       "</table>\n",
       "</div>"
      ],
      "text/plain": [
       "  taxonomy_code                    specialization\n",
       "0    207KA0200X                           Allergy\n",
       "1    207KI0005X  Clinical & Laboratory Immunology\n",
       "2    207LA0401X                Addiction Medicine\n",
       "3    207LC0200X            Critical Care Medicine\n",
       "4    207LH0002X   Hospice and Palliative Medicine"
      ]
     },
     "metadata": {},
     "output_type": "display_data"
    }
   ],
   "source": [
    "with sqlite3.connect('../data/hcbb_group_reviews.sqlite') as db :\n",
    "    query = \"\"\"\n",
    "    SELECT \n",
    "        taxonomy_code, \n",
    "        specialization\n",
    "    FROM taxonomy\n",
    "    WHERE specialization IS NOT NULL;\n",
    "    \"\"\" \n",
    "    \n",
    "    specializations = pd.read_sql(query, db)\n",
    "\n",
    "display(specializations.shape)\n",
    "display(specializations.head())"
   ]
  },
  {
   "cell_type": "markdown",
   "id": "solved-stephen",
   "metadata": {},
   "source": [
    "### `classifications.csv`"
   ]
  },
  {
   "cell_type": "markdown",
   "id": "looking-steering",
   "metadata": {},
   "source": [
    "Exported from SQL-Lite `taxonomy` with only `taxonomy_code` and non-null `classifications`"
   ]
  },
  {
   "cell_type": "code",
   "execution_count": 9,
   "id": "acting-tamil",
   "metadata": {},
   "outputs": [
    {
     "data": {
      "text/plain": [
       "(865, 2)"
      ]
     },
     "metadata": {},
     "output_type": "display_data"
    },
    {
     "data": {
      "text/html": [
       "<div>\n",
       "<style scoped>\n",
       "    .dataframe tbody tr th:only-of-type {\n",
       "        vertical-align: middle;\n",
       "    }\n",
       "\n",
       "    .dataframe tbody tr th {\n",
       "        vertical-align: top;\n",
       "    }\n",
       "\n",
       "    .dataframe thead th {\n",
       "        text-align: right;\n",
       "    }\n",
       "</style>\n",
       "<table border=\"1\" class=\"dataframe\">\n",
       "  <thead>\n",
       "    <tr style=\"text-align: right;\">\n",
       "      <th></th>\n",
       "      <th>taxonomy_code</th>\n",
       "      <th>classification</th>\n",
       "    </tr>\n",
       "  </thead>\n",
       "  <tbody>\n",
       "    <tr>\n",
       "      <th>0</th>\n",
       "      <td>193200000X</td>\n",
       "      <td>Multi-Specialty</td>\n",
       "    </tr>\n",
       "    <tr>\n",
       "      <th>1</th>\n",
       "      <td>193400000X</td>\n",
       "      <td>Single Specialty</td>\n",
       "    </tr>\n",
       "    <tr>\n",
       "      <th>2</th>\n",
       "      <td>207K00000X</td>\n",
       "      <td>Allergy &amp; Immunology</td>\n",
       "    </tr>\n",
       "    <tr>\n",
       "      <th>3</th>\n",
       "      <td>207KA0200X</td>\n",
       "      <td>Allergy &amp; Immunology</td>\n",
       "    </tr>\n",
       "    <tr>\n",
       "      <th>4</th>\n",
       "      <td>207KI0005X</td>\n",
       "      <td>Allergy &amp; Immunology</td>\n",
       "    </tr>\n",
       "  </tbody>\n",
       "</table>\n",
       "</div>"
      ],
      "text/plain": [
       "  taxonomy_code        classification\n",
       "0    193200000X       Multi-Specialty\n",
       "1    193400000X      Single Specialty\n",
       "2    207K00000X  Allergy & Immunology\n",
       "3    207KA0200X  Allergy & Immunology\n",
       "4    207KI0005X  Allergy & Immunology"
      ]
     },
     "metadata": {},
     "output_type": "display_data"
    }
   ],
   "source": [
    "with sqlite3.connect('../data/hcbb_group_reviews.sqlite') as db :\n",
    "    query = \"\"\"\n",
    "    SELECT \n",
    "        taxonomy_code, \n",
    "        classification\n",
    "    FROM taxonomy\n",
    "    WHERE classification IS NOT NULL;\n",
    "    \"\"\" \n",
    "    \n",
    "    classifications = pd.read_sql(query, db)\n",
    "\n",
    "display(classifications.shape)\n",
    "display(classifications.head())"
   ]
  },
  {
   "cell_type": "markdown",
   "id": "suitable-contamination",
   "metadata": {},
   "source": [
    "### `groupings.csv`"
   ]
  },
  {
   "cell_type": "markdown",
   "id": "mobile-equality",
   "metadata": {},
   "source": [
    "Exported from SQL-Lite `taxonomy` with only `taxonomy_code` and non-null `groupings`"
   ]
  },
  {
   "cell_type": "code",
   "execution_count": 10,
   "id": "strategic-context",
   "metadata": {},
   "outputs": [
    {
     "data": {
      "text/plain": [
       "(865, 2)"
      ]
     },
     "metadata": {},
     "output_type": "display_data"
    },
    {
     "data": {
      "text/html": [
       "<div>\n",
       "<style scoped>\n",
       "    .dataframe tbody tr th:only-of-type {\n",
       "        vertical-align: middle;\n",
       "    }\n",
       "\n",
       "    .dataframe tbody tr th {\n",
       "        vertical-align: top;\n",
       "    }\n",
       "\n",
       "    .dataframe thead th {\n",
       "        text-align: right;\n",
       "    }\n",
       "</style>\n",
       "<table border=\"1\" class=\"dataframe\">\n",
       "  <thead>\n",
       "    <tr style=\"text-align: right;\">\n",
       "      <th></th>\n",
       "      <th>taxonomy_code</th>\n",
       "      <th>grouping</th>\n",
       "    </tr>\n",
       "  </thead>\n",
       "  <tbody>\n",
       "    <tr>\n",
       "      <th>0</th>\n",
       "      <td>193200000X</td>\n",
       "      <td>Group</td>\n",
       "    </tr>\n",
       "    <tr>\n",
       "      <th>1</th>\n",
       "      <td>193400000X</td>\n",
       "      <td>Group</td>\n",
       "    </tr>\n",
       "    <tr>\n",
       "      <th>2</th>\n",
       "      <td>207K00000X</td>\n",
       "      <td>Allopathic &amp; Osteopathic Physicians</td>\n",
       "    </tr>\n",
       "    <tr>\n",
       "      <th>3</th>\n",
       "      <td>207KA0200X</td>\n",
       "      <td>Allopathic &amp; Osteopathic Physicians</td>\n",
       "    </tr>\n",
       "    <tr>\n",
       "      <th>4</th>\n",
       "      <td>207KI0005X</td>\n",
       "      <td>Allopathic &amp; Osteopathic Physicians</td>\n",
       "    </tr>\n",
       "  </tbody>\n",
       "</table>\n",
       "</div>"
      ],
      "text/plain": [
       "  taxonomy_code                             grouping\n",
       "0    193200000X                                Group\n",
       "1    193400000X                                Group\n",
       "2    207K00000X  Allopathic & Osteopathic Physicians\n",
       "3    207KA0200X  Allopathic & Osteopathic Physicians\n",
       "4    207KI0005X  Allopathic & Osteopathic Physicians"
      ]
     },
     "metadata": {},
     "output_type": "display_data"
    }
   ],
   "source": [
    "with sqlite3.connect('../data/hcbb_group_reviews.sqlite') as db :\n",
    "    query = \"\"\"\n",
    "    SELECT \n",
    "        taxonomy_code, \n",
    "        grouping\n",
    "    FROM taxonomy\n",
    "    WHERE grouping IS NOT NULL;\n",
    "    \"\"\" \n",
    "    \n",
    "    groupings = pd.read_sql(query, db)\n",
    "\n",
    "display(groupings.shape)\n",
    "display(groupings.head())"
   ]
  },
  {
   "cell_type": "markdown",
   "id": "adult-wonder",
   "metadata": {},
   "source": [
    "### Export all to CSV"
   ]
  },
  {
   "cell_type": "code",
   "execution_count": 11,
   "id": "growing-matter",
   "metadata": {},
   "outputs": [],
   "source": [
    "providers.to_csv(\"../neo4j_imports/from_group_reviews/providers.csv\", index=False)"
   ]
  },
  {
   "cell_type": "code",
   "execution_count": 12,
   "id": "assured-adrian",
   "metadata": {},
   "outputs": [],
   "source": [
    "facilities.to_csv(\"../neo4j_imports/from_group_reviews/facilities.csv\", index=False)"
   ]
  },
  {
   "cell_type": "code",
   "execution_count": 13,
   "id": "earlier-middle",
   "metadata": {},
   "outputs": [],
   "source": [
    "filtered_hop_teaming.to_csv(\"../neo4j_imports/from_group_reviews/filtered_hop_teaming.csv\", index=False)"
   ]
  },
  {
   "cell_type": "code",
   "execution_count": 14,
   "id": "perceived-invalid",
   "metadata": {},
   "outputs": [],
   "source": [
    "specializations.to_csv(\"../neo4j_imports/from_group_reviews/specializations.csv\", index=False)"
   ]
  },
  {
   "cell_type": "code",
   "execution_count": 15,
   "id": "incorporate-chase",
   "metadata": {},
   "outputs": [],
   "source": [
    "classifications.to_csv(\"../neo4j_imports/from_group_reviews/classifications.csv\", index=False)"
   ]
  },
  {
   "cell_type": "code",
   "execution_count": 16,
   "id": "interstate-empty",
   "metadata": {},
   "outputs": [],
   "source": [
    "groupings.to_csv(\"../neo4j_imports/from_group_reviews/groupings.csv\", index=False)"
   ]
  }
 ],
 "metadata": {
  "kernelspec": {
   "display_name": "Python 3",
   "language": "python",
   "name": "python3"
  },
  "language_info": {
   "codemirror_mode": {
    "name": "ipython",
    "version": 3
   },
   "file_extension": ".py",
   "mimetype": "text/x-python",
   "name": "python",
   "nbconvert_exporter": "python",
   "pygments_lexer": "ipython3",
   "version": "3.8.8"
  },
  "toc": {
   "base_numbering": 1,
   "nav_menu": {},
   "number_sections": false,
   "sideBar": true,
   "skip_h1_title": false,
   "title_cell": "Table of Contents",
   "title_sidebar": "Contents",
   "toc_cell": false,
   "toc_position": {
    "height": "calc(100% - 180px)",
    "left": "10px",
    "top": "150px",
    "width": "201px"
   },
   "toc_section_display": true,
   "toc_window_display": true
  },
  "varInspector": {
   "cols": {
    "lenName": 16,
    "lenType": 16,
    "lenVar": 40
   },
   "kernels_config": {
    "python": {
     "delete_cmd_postfix": "",
     "delete_cmd_prefix": "del ",
     "library": "var_list.py",
     "varRefreshCmd": "print(var_dic_list())"
    },
    "r": {
     "delete_cmd_postfix": ") ",
     "delete_cmd_prefix": "rm(",
     "library": "var_list.r",
     "varRefreshCmd": "cat(var_dic_list()) "
    }
   },
   "types_to_exclude": [
    "module",
    "function",
    "builtin_function_or_method",
    "instance",
    "_Feature"
   ],
   "window_display": false
  }
 },
 "nbformat": 4,
 "nbformat_minor": 5
}
