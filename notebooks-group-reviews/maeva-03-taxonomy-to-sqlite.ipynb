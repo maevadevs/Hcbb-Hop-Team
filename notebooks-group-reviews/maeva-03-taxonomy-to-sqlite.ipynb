{
 "cells": [
  {
   "cell_type": "markdown",
   "id": "particular-oakland",
   "metadata": {},
   "source": [
    "# Taxonomy To SQLite"
   ]
  },
  {
   "cell_type": "markdown",
   "id": "suffering-genesis",
   "metadata": {},
   "source": [
    "## Step By Step"
   ]
  },
  {
   "cell_type": "code",
   "execution_count": 1,
   "id": "saved-people",
   "metadata": {},
   "outputs": [],
   "source": [
    "import pandas as pd\n",
    "import sqlite3\n",
    "from tqdm.notebook import tqdm"
   ]
  },
  {
   "cell_type": "code",
   "execution_count": 2,
   "id": "treated-training",
   "metadata": {},
   "outputs": [],
   "source": [
    "pd.set_option(\"display.max_columns\", 500)\n",
    "pd.set_option('display.max_rows', 1000)"
   ]
  },
  {
   "cell_type": "markdown",
   "id": "noble-sample",
   "metadata": {},
   "source": [
    "**Read in the cbsa taxonomy file (nucc_taxonomy_210.csv.csv)**"
   ]
  },
  {
   "cell_type": "code",
   "execution_count": 3,
   "id": "yellow-liabilities",
   "metadata": {},
   "outputs": [],
   "source": [
    "taxonomy_codes = pd.read_csv(\"../data/nucc_taxonomy_210.csv\")"
   ]
  },
  {
   "cell_type": "code",
   "execution_count": 4,
   "id": "literary-throat",
   "metadata": {},
   "outputs": [
    {
     "data": {
      "text/plain": [
       "(865, 10)"
      ]
     },
     "metadata": {},
     "output_type": "display_data"
    },
    {
     "data": {
      "text/html": [
       "<div>\n",
       "<style scoped>\n",
       "    .dataframe tbody tr th:only-of-type {\n",
       "        vertical-align: middle;\n",
       "    }\n",
       "\n",
       "    .dataframe tbody tr th {\n",
       "        vertical-align: top;\n",
       "    }\n",
       "\n",
       "    .dataframe thead th {\n",
       "        text-align: right;\n",
       "    }\n",
       "</style>\n",
       "<table border=\"1\" class=\"dataframe\">\n",
       "  <thead>\n",
       "    <tr style=\"text-align: right;\">\n",
       "      <th></th>\n",
       "      <th>Code</th>\n",
       "      <th>Grouping</th>\n",
       "      <th>Classification</th>\n",
       "      <th>Specialization</th>\n",
       "      <th>Definition</th>\n",
       "      <th>Effective Date</th>\n",
       "      <th>Deactivation Date</th>\n",
       "      <th>Last Modified Date</th>\n",
       "      <th>Notes</th>\n",
       "      <th>Display Name</th>\n",
       "    </tr>\n",
       "  </thead>\n",
       "  <tbody>\n",
       "    <tr>\n",
       "      <th>0</th>\n",
       "      <td>193200000X</td>\n",
       "      <td>Group</td>\n",
       "      <td>Multi-Specialty</td>\n",
       "      <td>NaN</td>\n",
       "      <td>A business group of one or more individual pra...</td>\n",
       "      <td>10/1/2003</td>\n",
       "      <td>NaN</td>\n",
       "      <td>NaN</td>\n",
       "      <td>[7/1/2003: new]</td>\n",
       "      <td>Multi-Specialty Group</td>\n",
       "    </tr>\n",
       "    <tr>\n",
       "      <th>1</th>\n",
       "      <td>193400000X</td>\n",
       "      <td>Group</td>\n",
       "      <td>Single Specialty</td>\n",
       "      <td>NaN</td>\n",
       "      <td>A business group of one or more individual pra...</td>\n",
       "      <td>10/1/2003</td>\n",
       "      <td>NaN</td>\n",
       "      <td>NaN</td>\n",
       "      <td>[7/1/2003: new]</td>\n",
       "      <td>Single Specialty Group</td>\n",
       "    </tr>\n",
       "    <tr>\n",
       "      <th>2</th>\n",
       "      <td>207K00000X</td>\n",
       "      <td>Allopathic &amp; Osteopathic Physicians</td>\n",
       "      <td>Allergy &amp; Immunology</td>\n",
       "      <td>NaN</td>\n",
       "      <td>An allergist-immunologist is trained in evalua...</td>\n",
       "      <td>4/1/2003</td>\n",
       "      <td>NaN</td>\n",
       "      <td>7/1/2007</td>\n",
       "      <td>Source: American Board of Medical Specialties,...</td>\n",
       "      <td>Allergy &amp; Immunology Physician</td>\n",
       "    </tr>\n",
       "    <tr>\n",
       "      <th>3</th>\n",
       "      <td>207KA0200X</td>\n",
       "      <td>Allopathic &amp; Osteopathic Physicians</td>\n",
       "      <td>Allergy &amp; Immunology</td>\n",
       "      <td>Allergy</td>\n",
       "      <td>Definition to come...</td>\n",
       "      <td>4/1/2003</td>\n",
       "      <td>NaN</td>\n",
       "      <td>NaN</td>\n",
       "      <td>NaN</td>\n",
       "      <td>Allergy Physician</td>\n",
       "    </tr>\n",
       "    <tr>\n",
       "      <th>4</th>\n",
       "      <td>207KI0005X</td>\n",
       "      <td>Allopathic &amp; Osteopathic Physicians</td>\n",
       "      <td>Allergy &amp; Immunology</td>\n",
       "      <td>Clinical &amp; Laboratory Immunology</td>\n",
       "      <td>Definition to come...</td>\n",
       "      <td>4/1/2003</td>\n",
       "      <td>NaN</td>\n",
       "      <td>NaN</td>\n",
       "      <td>NaN</td>\n",
       "      <td>Clinical &amp; Laboratory Immunology (Allergy &amp; Im...</td>\n",
       "    </tr>\n",
       "  </tbody>\n",
       "</table>\n",
       "</div>"
      ],
      "text/plain": [
       "         Code                             Grouping        Classification  \\\n",
       "0  193200000X                                Group       Multi-Specialty   \n",
       "1  193400000X                                Group      Single Specialty   \n",
       "2  207K00000X  Allopathic & Osteopathic Physicians  Allergy & Immunology   \n",
       "3  207KA0200X  Allopathic & Osteopathic Physicians  Allergy & Immunology   \n",
       "4  207KI0005X  Allopathic & Osteopathic Physicians  Allergy & Immunology   \n",
       "\n",
       "                     Specialization  \\\n",
       "0                               NaN   \n",
       "1                               NaN   \n",
       "2                               NaN   \n",
       "3                           Allergy   \n",
       "4  Clinical & Laboratory Immunology   \n",
       "\n",
       "                                          Definition Effective Date  \\\n",
       "0  A business group of one or more individual pra...      10/1/2003   \n",
       "1  A business group of one or more individual pra...      10/1/2003   \n",
       "2  An allergist-immunologist is trained in evalua...       4/1/2003   \n",
       "3                              Definition to come...       4/1/2003   \n",
       "4                              Definition to come...       4/1/2003   \n",
       "\n",
       "  Deactivation Date Last Modified Date  \\\n",
       "0               NaN                NaN   \n",
       "1               NaN                NaN   \n",
       "2               NaN           7/1/2007   \n",
       "3               NaN                NaN   \n",
       "4               NaN                NaN   \n",
       "\n",
       "                                               Notes  \\\n",
       "0                                    [7/1/2003: new]   \n",
       "1                                    [7/1/2003: new]   \n",
       "2  Source: American Board of Medical Specialties,...   \n",
       "3                                                NaN   \n",
       "4                                                NaN   \n",
       "\n",
       "                                        Display Name  \n",
       "0                              Multi-Specialty Group  \n",
       "1                             Single Specialty Group  \n",
       "2                     Allergy & Immunology Physician  \n",
       "3                                  Allergy Physician  \n",
       "4  Clinical & Laboratory Immunology (Allergy & Im...  "
      ]
     },
     "metadata": {},
     "output_type": "display_data"
    }
   ],
   "source": [
    "display(taxonomy_codes.shape)\n",
    "display(taxonomy_codes.head())"
   ]
  },
  {
   "cell_type": "code",
   "execution_count": 5,
   "id": "moving-holmes",
   "metadata": {},
   "outputs": [
    {
     "data": {
      "text/html": [
       "<div>\n",
       "<style scoped>\n",
       "    .dataframe tbody tr th:only-of-type {\n",
       "        vertical-align: middle;\n",
       "    }\n",
       "\n",
       "    .dataframe tbody tr th {\n",
       "        vertical-align: top;\n",
       "    }\n",
       "\n",
       "    .dataframe thead th {\n",
       "        text-align: right;\n",
       "    }\n",
       "</style>\n",
       "<table border=\"1\" class=\"dataframe\">\n",
       "  <thead>\n",
       "    <tr style=\"text-align: right;\">\n",
       "      <th></th>\n",
       "      <th>name</th>\n",
       "    </tr>\n",
       "  </thead>\n",
       "  <tbody>\n",
       "    <tr>\n",
       "      <th>0</th>\n",
       "      <td>cbsa</td>\n",
       "    </tr>\n",
       "    <tr>\n",
       "      <th>1</th>\n",
       "      <td>npidata</td>\n",
       "    </tr>\n",
       "    <tr>\n",
       "      <th>2</th>\n",
       "      <td>taxonomy</td>\n",
       "    </tr>\n",
       "  </tbody>\n",
       "</table>\n",
       "</div>"
      ],
      "text/plain": [
       "       name\n",
       "0      cbsa\n",
       "1   npidata\n",
       "2  taxonomy"
      ]
     },
     "metadata": {},
     "output_type": "display_data"
    }
   ],
   "source": [
    "# Listing currently existing tables in the database\n",
    "with sqlite3.connect('../data/hcbb_group_reviews.sqlite') as db :\n",
    "    query = \"\"\"\n",
    "    SELECT name\n",
    "    FROM sqlite_master \n",
    "    WHERE type ='table' \n",
    "    AND name NOT LIKE 'sqlite_%';\n",
    "    \"\"\" \n",
    "    \n",
    "    test_df = pd.read_sql(query, db)\n",
    "\n",
    "display(test_df)"
   ]
  },
  {
   "cell_type": "markdown",
   "id": "equipped-metallic",
   "metadata": {},
   "source": [
    "**Loading Taxonomy to SQLite**"
   ]
  },
  {
   "cell_type": "markdown",
   "id": "mysterious-empire",
   "metadata": {},
   "source": [
    "**IMPORTANT! This loading into the database should only be run once.** If you run this multiple times, it will create duplicate entries in the database. For the security of not re-running this code by accident, the code here is converted into markdown. **If you need to rebuild the database, delete the `data/hcbb.sqlite` file and re-run this cell as code. You will also need to make sure to re-run any other related scripts that builds other tables in the database.**"
   ]
  },
  {
   "cell_type": "raw",
   "id": "funded-platform",
   "metadata": {},
   "source": [
    "with sqlite3.connect('../data/hcbb_group_reviews.sqlite') as db:\n",
    "    taxonomy = pd.read_csv(\"../data/nucc_taxonomy_210.csv\") \n",
    "    taxonomy = taxonomy[['Code', 'Grouping', 'Classification', 'Specialization']] \n",
    "    taxonomy.columns = ['taxonomy_code', 'grouping', 'classification', 'specialization'] \n",
    "    taxonomy.to_sql('taxonomy', db, if_exists = 'replace', index = False)\n",
    "\n",
    "    # When done, print done\n",
    "    print('Task done.')"
   ]
  },
  {
   "cell_type": "markdown",
   "id": "pursuant-fraction",
   "metadata": {},
   "source": [
    "## Testing Final DB Load"
   ]
  },
  {
   "cell_type": "code",
   "execution_count": 6,
   "id": "scheduled-recording",
   "metadata": {},
   "outputs": [
    {
     "data": {
      "text/html": [
       "<div>\n",
       "<style scoped>\n",
       "    .dataframe tbody tr th:only-of-type {\n",
       "        vertical-align: middle;\n",
       "    }\n",
       "\n",
       "    .dataframe tbody tr th {\n",
       "        vertical-align: top;\n",
       "    }\n",
       "\n",
       "    .dataframe thead th {\n",
       "        text-align: right;\n",
       "    }\n",
       "</style>\n",
       "<table border=\"1\" class=\"dataframe\">\n",
       "  <thead>\n",
       "    <tr style=\"text-align: right;\">\n",
       "      <th></th>\n",
       "      <th>name</th>\n",
       "    </tr>\n",
       "  </thead>\n",
       "  <tbody>\n",
       "    <tr>\n",
       "      <th>0</th>\n",
       "      <td>cbsa</td>\n",
       "    </tr>\n",
       "    <tr>\n",
       "      <th>1</th>\n",
       "      <td>npidata</td>\n",
       "    </tr>\n",
       "    <tr>\n",
       "      <th>2</th>\n",
       "      <td>taxonomy</td>\n",
       "    </tr>\n",
       "  </tbody>\n",
       "</table>\n",
       "</div>"
      ],
      "text/plain": [
       "       name\n",
       "0      cbsa\n",
       "1   npidata\n",
       "2  taxonomy"
      ]
     },
     "metadata": {},
     "output_type": "display_data"
    }
   ],
   "source": [
    "# Listing currently existing tables in the database\n",
    "with sqlite3.connect('../data/hcbb_group_reviews.sqlite') as db :\n",
    "    query = \"\"\"\n",
    "    SELECT name\n",
    "    FROM sqlite_master \n",
    "    WHERE type ='table' \n",
    "    AND name NOT LIKE 'sqlite_%';\n",
    "    \"\"\" \n",
    "    \n",
    "    test_df = pd.read_sql(query, db)\n",
    "\n",
    "display(test_df)"
   ]
  },
  {
   "cell_type": "markdown",
   "id": "worth-prayer",
   "metadata": {},
   "source": [
    "**We should have 865 unique Codes**"
   ]
  },
  {
   "cell_type": "code",
   "execution_count": 7,
   "id": "prescribed-powder",
   "metadata": {},
   "outputs": [
    {
     "data": {
      "text/html": [
       "<div>\n",
       "<style scoped>\n",
       "    .dataframe tbody tr th:only-of-type {\n",
       "        vertical-align: middle;\n",
       "    }\n",
       "\n",
       "    .dataframe tbody tr th {\n",
       "        vertical-align: top;\n",
       "    }\n",
       "\n",
       "    .dataframe thead th {\n",
       "        text-align: right;\n",
       "    }\n",
       "</style>\n",
       "<table border=\"1\" class=\"dataframe\">\n",
       "  <thead>\n",
       "    <tr style=\"text-align: right;\">\n",
       "      <th></th>\n",
       "      <th>COUNT(DISTINCT(taxonomy_code))</th>\n",
       "    </tr>\n",
       "  </thead>\n",
       "  <tbody>\n",
       "    <tr>\n",
       "      <th>0</th>\n",
       "      <td>865</td>\n",
       "    </tr>\n",
       "  </tbody>\n",
       "</table>\n",
       "</div>"
      ],
      "text/plain": [
       "   COUNT(DISTINCT(taxonomy_code))\n",
       "0                             865"
      ]
     },
     "metadata": {},
     "output_type": "display_data"
    }
   ],
   "source": [
    "with sqlite3.connect('../data/hcbb_group_reviews.sqlite') as db :\n",
    "    query = \"\"\"\n",
    "    SELECT COUNT(DISTINCT(taxonomy_code))\n",
    "    FROM taxonomy;\n",
    "    \"\"\" \n",
    "    \n",
    "    test_df = pd.read_sql(query, db)\n",
    "\n",
    "display(test_df)"
   ]
  },
  {
   "cell_type": "markdown",
   "id": "special-herald",
   "metadata": {},
   "source": [
    "**We should have 244 unique Classifications**"
   ]
  },
  {
   "cell_type": "code",
   "execution_count": 8,
   "id": "diverse-chosen",
   "metadata": {},
   "outputs": [
    {
     "data": {
      "text/html": [
       "<div>\n",
       "<style scoped>\n",
       "    .dataframe tbody tr th:only-of-type {\n",
       "        vertical-align: middle;\n",
       "    }\n",
       "\n",
       "    .dataframe tbody tr th {\n",
       "        vertical-align: top;\n",
       "    }\n",
       "\n",
       "    .dataframe thead th {\n",
       "        text-align: right;\n",
       "    }\n",
       "</style>\n",
       "<table border=\"1\" class=\"dataframe\">\n",
       "  <thead>\n",
       "    <tr style=\"text-align: right;\">\n",
       "      <th></th>\n",
       "      <th>COUNT(DISTINCT(classification))</th>\n",
       "    </tr>\n",
       "  </thead>\n",
       "  <tbody>\n",
       "    <tr>\n",
       "      <th>0</th>\n",
       "      <td>244</td>\n",
       "    </tr>\n",
       "  </tbody>\n",
       "</table>\n",
       "</div>"
      ],
      "text/plain": [
       "   COUNT(DISTINCT(classification))\n",
       "0                              244"
      ]
     },
     "metadata": {},
     "output_type": "display_data"
    }
   ],
   "source": [
    "with sqlite3.connect('../data/hcbb_group_reviews.sqlite') as db :\n",
    "    query = \"\"\"\n",
    "    SELECT COUNT(DISTINCT(classification))\n",
    "    FROM taxonomy;\n",
    "    \"\"\" \n",
    "    \n",
    "    test_df = pd.read_sql(query, db)\n",
    "\n",
    "display(test_df)"
   ]
  },
  {
   "cell_type": "markdown",
   "id": "powerful-plant",
   "metadata": {},
   "source": [
    "**We should have 29 unique Groupings**"
   ]
  },
  {
   "cell_type": "code",
   "execution_count": 9,
   "id": "solved-cambodia",
   "metadata": {},
   "outputs": [
    {
     "data": {
      "text/html": [
       "<div>\n",
       "<style scoped>\n",
       "    .dataframe tbody tr th:only-of-type {\n",
       "        vertical-align: middle;\n",
       "    }\n",
       "\n",
       "    .dataframe tbody tr th {\n",
       "        vertical-align: top;\n",
       "    }\n",
       "\n",
       "    .dataframe thead th {\n",
       "        text-align: right;\n",
       "    }\n",
       "</style>\n",
       "<table border=\"1\" class=\"dataframe\">\n",
       "  <thead>\n",
       "    <tr style=\"text-align: right;\">\n",
       "      <th></th>\n",
       "      <th>COUNT(DISTINCT(grouping))</th>\n",
       "    </tr>\n",
       "  </thead>\n",
       "  <tbody>\n",
       "    <tr>\n",
       "      <th>0</th>\n",
       "      <td>29</td>\n",
       "    </tr>\n",
       "  </tbody>\n",
       "</table>\n",
       "</div>"
      ],
      "text/plain": [
       "   COUNT(DISTINCT(grouping))\n",
       "0                         29"
      ]
     },
     "metadata": {},
     "output_type": "display_data"
    }
   ],
   "source": [
    "with sqlite3.connect('../data/hcbb_group_reviews.sqlite') as db :\n",
    "    query = \"\"\"\n",
    "    SELECT COUNT(DISTINCT(grouping))\n",
    "    FROM taxonomy;\n",
    "    \"\"\" \n",
    "    \n",
    "    test_df = pd.read_sql(query, db)\n",
    "\n",
    "display(test_df)"
   ]
  }
 ],
 "metadata": {
  "kernelspec": {
   "display_name": "Python 3",
   "language": "python",
   "name": "python3"
  },
  "language_info": {
   "codemirror_mode": {
    "name": "ipython",
    "version": 3
   },
   "file_extension": ".py",
   "mimetype": "text/x-python",
   "name": "python",
   "nbconvert_exporter": "python",
   "pygments_lexer": "ipython3",
   "version": "3.8.8"
  },
  "toc": {
   "base_numbering": 1,
   "nav_menu": {},
   "number_sections": false,
   "sideBar": true,
   "skip_h1_title": false,
   "title_cell": "Table of Contents",
   "title_sidebar": "Contents",
   "toc_cell": false,
   "toc_position": {},
   "toc_section_display": true,
   "toc_window_display": true
  },
  "varInspector": {
   "cols": {
    "lenName": 16,
    "lenType": 16,
    "lenVar": 40
   },
   "kernels_config": {
    "python": {
     "delete_cmd_postfix": "",
     "delete_cmd_prefix": "del ",
     "library": "var_list.py",
     "varRefreshCmd": "print(var_dic_list())"
    },
    "r": {
     "delete_cmd_postfix": ") ",
     "delete_cmd_prefix": "rm(",
     "library": "var_list.r",
     "varRefreshCmd": "cat(var_dic_list()) "
    }
   },
   "types_to_exclude": [
    "module",
    "function",
    "builtin_function_or_method",
    "instance",
    "_Feature"
   ],
   "window_display": false
  }
 },
 "nbformat": 4,
 "nbformat_minor": 5
}
