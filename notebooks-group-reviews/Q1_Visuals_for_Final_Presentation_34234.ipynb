{
 "cells": [
  {
   "cell_type": "markdown",
   "metadata": {
    "toc": true
   },
   "source": [
    "<h1>Table of Contents<span class=\"tocSkip\"></span></h1>\n",
    "<div class=\"toc\"><ul class=\"toc-item\"><li><span><a href=\"#Importing-stuff\" data-toc-modified-id=\"Importing-stuff-1\"><span class=\"toc-item-num\">1&nbsp;&nbsp;</span>Importing stuff</a></span></li><li><span><a href=\"#Reading-in-CSV-(from-Veronica)\" data-toc-modified-id=\"Reading-in-CSV-(from-Veronica)-2\"><span class=\"toc-item-num\">2&nbsp;&nbsp;</span>Reading in CSV (from Veronica)</a></span></li><li><span><a href=\"#Cleaning-Up-a-Bit\" data-toc-modified-id=\"Cleaning-Up-a-Bit-3\"><span class=\"toc-item-num\">3&nbsp;&nbsp;</span>Cleaning Up a Bit</a></span></li><li><span><a href=\"#Get-Patient_Count-Sums-Here\" data-toc-modified-id=\"Get-Patient_Count-Sums-Here-4\"><span class=\"toc-item-num\">4&nbsp;&nbsp;</span>Get Patient_Count Sums Here</a></span></li><li><span><a href=\"#Making-Unweighted-Plot\" data-toc-modified-id=\"Making-Unweighted-Plot-5\"><span class=\"toc-item-num\">5&nbsp;&nbsp;</span>Making Unweighted Plot</a></span></li><li><span><a href=\"#Trying-to-Weight-by-Beds\" data-toc-modified-id=\"Trying-to-Weight-by-Beds-6\"><span class=\"toc-item-num\">6&nbsp;&nbsp;</span>Trying to Weight by Beds</a></span></li></ul></div>"
   ]
  },
  {
   "cell_type": "markdown",
   "metadata": {},
   "source": [
    "## Importing stuff"
   ]
  },
  {
   "cell_type": "code",
   "execution_count": 182,
   "metadata": {},
   "outputs": [],
   "source": [
    "import pandas as pd\n",
    "import numpy as np\n",
    "import plotly.express as px\n",
    "\n",
    "# showing lots of rows and columns\n",
    "pd.set_option('display.max_columns', 999)\n",
    "pd.set_option('display.max_rows', 999)\n",
    "\n",
    "# hiding annoying pink warning boxes\n",
    "import warnings\n",
    "warnings.filterwarnings(\"ignore\")"
   ]
  },
  {
   "cell_type": "markdown",
   "metadata": {},
   "source": [
    "## Reading in CSV (from Veronica)"
   ]
  },
  {
   "cell_type": "code",
   "execution_count": 183,
   "metadata": {},
   "outputs": [],
   "source": [
    "nash_referrals = pd.read_csv('data/nashville_referrals_normalised_only_hospitals_any_avg_day_wait.csv')"
   ]
  },
  {
   "cell_type": "markdown",
   "metadata": {},
   "source": [
    "## Cleaning Up a Bit"
   ]
  },
  {
   "cell_type": "code",
   "execution_count": 184,
   "metadata": {},
   "outputs": [],
   "source": [
    "nash_referrals = nash_referrals[nash_referrals['to_npi_specialty'] == 'General Acute Care Hospital']"
   ]
  },
  {
   "cell_type": "code",
   "execution_count": 185,
   "metadata": {},
   "outputs": [],
   "source": [
    "spec = nash_referrals.groupby('from_npi_specialty')['patient_count'].sum().reset_index()\n",
    "spec = pd.DataFrame(spec)"
   ]
  },
  {
   "cell_type": "code",
   "execution_count": 186,
   "metadata": {},
   "outputs": [],
   "source": [
    "spec['percentage'] = (spec['patient_count']/ 1209699) * 100"
   ]
  },
  {
   "cell_type": "code",
   "execution_count": 189,
   "metadata": {},
   "outputs": [
    {
     "data": {
      "text/html": [
       "<div>\n",
       "<style scoped>\n",
       "    .dataframe tbody tr th:only-of-type {\n",
       "        vertical-align: middle;\n",
       "    }\n",
       "\n",
       "    .dataframe tbody tr th {\n",
       "        vertical-align: top;\n",
       "    }\n",
       "\n",
       "    .dataframe thead th {\n",
       "        text-align: right;\n",
       "    }\n",
       "</style>\n",
       "<table border=\"1\" class=\"dataframe\">\n",
       "  <thead>\n",
       "    <tr style=\"text-align: right;\">\n",
       "      <th></th>\n",
       "      <th>from_npi_specialty</th>\n",
       "      <th>patient_count</th>\n",
       "      <th>percentage</th>\n",
       "    </tr>\n",
       "  </thead>\n",
       "  <tbody>\n",
       "    <tr>\n",
       "      <th>16</th>\n",
       "      <td>Internal Medicine</td>\n",
       "      <td>435234</td>\n",
       "      <td>35.978702</td>\n",
       "    </tr>\n",
       "    <tr>\n",
       "      <th>39</th>\n",
       "      <td>Radiology</td>\n",
       "      <td>361987</td>\n",
       "      <td>29.923725</td>\n",
       "    </tr>\n",
       "    <tr>\n",
       "      <th>21</th>\n",
       "      <td>Nurse Practitioner</td>\n",
       "      <td>84351</td>\n",
       "      <td>6.972892</td>\n",
       "    </tr>\n",
       "    <tr>\n",
       "      <th>11</th>\n",
       "      <td>Emergency Medicine</td>\n",
       "      <td>74142</td>\n",
       "      <td>6.128963</td>\n",
       "    </tr>\n",
       "    <tr>\n",
       "      <th>12</th>\n",
       "      <td>Family Medicine</td>\n",
       "      <td>57359</td>\n",
       "      <td>4.741593</td>\n",
       "    </tr>\n",
       "    <tr>\n",
       "      <th>20</th>\n",
       "      <td>Nurse Anesthetist, Certified Registered</td>\n",
       "      <td>48659</td>\n",
       "      <td>4.022406</td>\n",
       "    </tr>\n",
       "    <tr>\n",
       "      <th>29</th>\n",
       "      <td>Pathology</td>\n",
       "      <td>47834</td>\n",
       "      <td>3.954207</td>\n",
       "    </tr>\n",
       "    <tr>\n",
       "      <th>2</th>\n",
       "      <td>Anesthesiology</td>\n",
       "      <td>47380</td>\n",
       "      <td>3.916677</td>\n",
       "    </tr>\n",
       "    <tr>\n",
       "      <th>26</th>\n",
       "      <td>Orthopaedic Surgery</td>\n",
       "      <td>33886</td>\n",
       "      <td>2.801193</td>\n",
       "    </tr>\n",
       "    <tr>\n",
       "      <th>37</th>\n",
       "      <td>Psychiatry &amp; Neurology</td>\n",
       "      <td>28756</td>\n",
       "      <td>2.377120</td>\n",
       "    </tr>\n",
       "    <tr>\n",
       "      <th>44</th>\n",
       "      <td>Surgery</td>\n",
       "      <td>27062</td>\n",
       "      <td>2.237085</td>\n",
       "    </tr>\n",
       "    <tr>\n",
       "      <th>42</th>\n",
       "      <td>Specialist</td>\n",
       "      <td>22347</td>\n",
       "      <td>1.847319</td>\n",
       "    </tr>\n",
       "    <tr>\n",
       "      <th>33</th>\n",
       "      <td>Physician Assistant</td>\n",
       "      <td>20697</td>\n",
       "      <td>1.710921</td>\n",
       "    </tr>\n",
       "    <tr>\n",
       "      <th>14</th>\n",
       "      <td>Hospitalist</td>\n",
       "      <td>18136</td>\n",
       "      <td>1.499216</td>\n",
       "    </tr>\n",
       "    <tr>\n",
       "      <th>23</th>\n",
       "      <td>Ophthalmology</td>\n",
       "      <td>17915</td>\n",
       "      <td>1.480947</td>\n",
       "    </tr>\n",
       "    <tr>\n",
       "      <th>47</th>\n",
       "      <td>Urology</td>\n",
       "      <td>17277</td>\n",
       "      <td>1.428207</td>\n",
       "    </tr>\n",
       "    <tr>\n",
       "      <th>27</th>\n",
       "      <td>Otolaryngology</td>\n",
       "      <td>11415</td>\n",
       "      <td>0.943623</td>\n",
       "    </tr>\n",
       "    <tr>\n",
       "      <th>35</th>\n",
       "      <td>Podiatrist</td>\n",
       "      <td>10343</td>\n",
       "      <td>0.855006</td>\n",
       "    </tr>\n",
       "  </tbody>\n",
       "</table>\n",
       "</div>"
      ],
      "text/plain": [
       "                         from_npi_specialty  patient_count  percentage\n",
       "16                        Internal Medicine         435234   35.978702\n",
       "39                                Radiology         361987   29.923725\n",
       "21                       Nurse Practitioner          84351    6.972892\n",
       "11                       Emergency Medicine          74142    6.128963\n",
       "12                          Family Medicine          57359    4.741593\n",
       "20  Nurse Anesthetist, Certified Registered          48659    4.022406\n",
       "29                                Pathology          47834    3.954207\n",
       "2                            Anesthesiology          47380    3.916677\n",
       "26                      Orthopaedic Surgery          33886    2.801193\n",
       "37                   Psychiatry & Neurology          28756    2.377120\n",
       "44                                  Surgery          27062    2.237085\n",
       "42                               Specialist          22347    1.847319\n",
       "33                      Physician Assistant          20697    1.710921\n",
       "14                              Hospitalist          18136    1.499216\n",
       "23                            Ophthalmology          17915    1.480947\n",
       "47                                  Urology          17277    1.428207\n",
       "27                           Otolaryngology          11415    0.943623\n",
       "35                               Podiatrist          10343    0.855006"
      ]
     },
     "execution_count": 189,
     "metadata": {},
     "output_type": "execute_result"
    }
   ],
   "source": [
    "spec.sort_values('percentage', ascending = False).head(18)"
   ]
  },
  {
   "cell_type": "code",
   "execution_count": 206,
   "metadata": {},
   "outputs": [],
   "source": [
    "wanted_spec = ['Internal Medicine','Radiology',\n",
    "              'Nurse Practitioner','Family Medicine',\n",
    "              'Pathology',#'Anesthesiology',\n",
    "              #'Emergency Medicine',#'Nurse Anesthetist, Certified Registered',\n",
    "              'Orthopaedic Surgery','Surgery','Otolaryngology',\n",
    "              'Psychiatry & Neurology','Physician Assistant',\n",
    "              'Specialist','Urology','Ophthalmology']"
   ]
  },
  {
   "cell_type": "markdown",
   "metadata": {},
   "source": [
    "## Get Patient_Count Sums Here"
   ]
  },
  {
   "cell_type": "code",
   "execution_count": 207,
   "metadata": {
    "scrolled": true
   },
   "outputs": [
    {
     "data": {
      "text/html": [
       "<div>\n",
       "<style scoped>\n",
       "    .dataframe tbody tr th:only-of-type {\n",
       "        vertical-align: middle;\n",
       "    }\n",
       "\n",
       "    .dataframe tbody tr th {\n",
       "        vertical-align: top;\n",
       "    }\n",
       "\n",
       "    .dataframe thead th {\n",
       "        text-align: right;\n",
       "    }\n",
       "</style>\n",
       "<table border=\"1\" class=\"dataframe\">\n",
       "  <thead>\n",
       "    <tr style=\"text-align: right;\">\n",
       "      <th></th>\n",
       "      <th>from_npi_specialty</th>\n",
       "      <th>to_facility_name_normalised</th>\n",
       "      <th>patient_count</th>\n",
       "    </tr>\n",
       "  </thead>\n",
       "  <tbody>\n",
       "    <tr>\n",
       "      <th>0</th>\n",
       "      <td>Allergy &amp; Immunology</td>\n",
       "      <td>Centennial Medical Center HCA</td>\n",
       "      <td>345</td>\n",
       "    </tr>\n",
       "    <tr>\n",
       "      <th>1</th>\n",
       "      <td>Allergy &amp; Immunology</td>\n",
       "      <td>Hendersonville Medical Center HCA</td>\n",
       "      <td>29</td>\n",
       "    </tr>\n",
       "    <tr>\n",
       "      <th>2</th>\n",
       "      <td>Allergy &amp; Immunology</td>\n",
       "      <td>Maury Regional Medical Center</td>\n",
       "      <td>29</td>\n",
       "    </tr>\n",
       "    <tr>\n",
       "      <th>3</th>\n",
       "      <td>Allergy &amp; Immunology</td>\n",
       "      <td>Summit Medical Center HCA</td>\n",
       "      <td>130</td>\n",
       "    </tr>\n",
       "    <tr>\n",
       "      <th>4</th>\n",
       "      <td>Allergy &amp; Immunology</td>\n",
       "      <td>Sumner Regional Medical Center</td>\n",
       "      <td>39</td>\n",
       "    </tr>\n",
       "  </tbody>\n",
       "</table>\n",
       "</div>"
      ],
      "text/plain": [
       "     from_npi_specialty        to_facility_name_normalised  patient_count\n",
       "0  Allergy & Immunology      Centennial Medical Center HCA            345\n",
       "1  Allergy & Immunology  Hendersonville Medical Center HCA             29\n",
       "2  Allergy & Immunology      Maury Regional Medical Center             29\n",
       "3  Allergy & Immunology          Summit Medical Center HCA            130\n",
       "4  Allergy & Immunology     Sumner Regional Medical Center             39"
      ]
     },
     "execution_count": 207,
     "metadata": {},
     "output_type": "execute_result"
    }
   ],
   "source": [
    "nash_referrals2 = nash_referrals[['from_npi_specialty','to_facility_name_normalised','patient_count']]\n",
    "nash_referrals2 = nash_referrals2.groupby(['from_npi_specialty',\"to_facility_name_normalised\"]).patient_count.sum().reset_index()\n",
    "nash_referrals2.head()"
   ]
  },
  {
   "cell_type": "markdown",
   "metadata": {},
   "source": [
    "## Making Unweighted Plot"
   ]
  },
  {
   "cell_type": "code",
   "execution_count": 208,
   "metadata": {},
   "outputs": [],
   "source": [
    "unwanted_hospital = ['Trousdale Medical Center','Saint Thomas Stones River Hospital',\n",
    "                     'Ashland City Medical Center HCA','Macon County General Hospital',\n",
    "                    'Riverview Regional Medical Center','Nashville General Hosptial']\n",
    "unwanted_spec = ['Student in an Organized Health Care Education/Training Program']\n",
    "\n",
    "nash_referrals2 = nash_referrals2[~nash_referrals2['to_facility_name_normalised'].isin(unwanted_hospital)]\n",
    "nash_referrals2 = nash_referrals2[nash_referrals2['from_npi_specialty'].isin(wanted_spec)]"
   ]
  },
  {
   "cell_type": "code",
   "execution_count": 209,
   "metadata": {},
   "outputs": [
    {
     "data": {
      "text/plain": [
       "Internal Medicine                          0.278599\n",
       "Nurse Practitioner                         0.115019\n",
       "Radiology                                  0.112840\n",
       "Family Medicine                            0.068327\n",
       "Nurse Anesthetist, Certified Registered    0.060233\n",
       "Anesthesiology                             0.040778\n",
       "Emergency Medicine                         0.038911\n",
       "Orthopaedic Surgery                        0.032062\n",
       "Psychiatry & Neurology                     0.031440\n",
       "Surgery                                    0.029105\n",
       "Physician Assistant                        0.027860\n",
       "Pathology                                  0.016965\n",
       "Podiatrist                                 0.014475\n",
       "Ophthalmology                              0.014008\n",
       "Specialist                                 0.013852\n",
       "Urology                                    0.012763\n",
       "Physical Medicine & Rehabilitation         0.010895\n",
       "Obstetrics & Gynecology                    0.010584\n",
       "Hospitalist                                0.010584\n",
       "Otolaryngology                             0.010117\n",
       "Name: from_npi_specialty, dtype: float64"
      ]
     },
     "execution_count": 209,
     "metadata": {},
     "output_type": "execute_result"
    }
   ],
   "source": [
    "nash_referrals['from_npi_specialty'].value_counts(normalize = True).head(20)"
   ]
  },
  {
   "cell_type": "markdown",
   "metadata": {},
   "source": [
    "## Trying to Weight by Beds"
   ]
  },
  {
   "cell_type": "code",
   "execution_count": 210,
   "metadata": {},
   "outputs": [
    {
     "data": {
      "text/html": [
       "<div>\n",
       "<style scoped>\n",
       "    .dataframe tbody tr th:only-of-type {\n",
       "        vertical-align: middle;\n",
       "    }\n",
       "\n",
       "    .dataframe tbody tr th {\n",
       "        vertical-align: top;\n",
       "    }\n",
       "\n",
       "    .dataframe thead th {\n",
       "        text-align: right;\n",
       "    }\n",
       "</style>\n",
       "<table border=\"1\" class=\"dataframe\">\n",
       "  <thead>\n",
       "    <tr style=\"text-align: right;\">\n",
       "      <th></th>\n",
       "      <th>to_facility_name_normalised</th>\n",
       "      <th>patient_count</th>\n",
       "    </tr>\n",
       "  </thead>\n",
       "  <tbody>\n",
       "    <tr>\n",
       "      <th>0</th>\n",
       "      <td>Centennial Medical Center HCA</td>\n",
       "      <td>124773</td>\n",
       "    </tr>\n",
       "    <tr>\n",
       "      <th>1</th>\n",
       "      <td>Hendersonville Medical Center HCA</td>\n",
       "      <td>41106</td>\n",
       "    </tr>\n",
       "    <tr>\n",
       "      <th>2</th>\n",
       "      <td>Maury Regional Medical Center</td>\n",
       "      <td>84245</td>\n",
       "    </tr>\n",
       "    <tr>\n",
       "      <th>3</th>\n",
       "      <td>NorthCrest Medical Center</td>\n",
       "      <td>23068</td>\n",
       "    </tr>\n",
       "    <tr>\n",
       "      <th>4</th>\n",
       "      <td>Saint Thomas Midtown Hospital</td>\n",
       "      <td>59401</td>\n",
       "    </tr>\n",
       "  </tbody>\n",
       "</table>\n",
       "</div>"
      ],
      "text/plain": [
       "         to_facility_name_normalised  patient_count\n",
       "0      Centennial Medical Center HCA         124773\n",
       "1  Hendersonville Medical Center HCA          41106\n",
       "2      Maury Regional Medical Center          84245\n",
       "3          NorthCrest Medical Center          23068\n",
       "4      Saint Thomas Midtown Hospital          59401"
      ]
     },
     "execution_count": 210,
     "metadata": {},
     "output_type": "execute_result"
    }
   ],
   "source": [
    "nash_referrals3 = nash_referrals2[['to_facility_name_normalised','patient_count']]\n",
    "nash_referrals3 = nash_referrals3.groupby([\"to_facility_name_normalised\"]).patient_count.sum().reset_index()\n",
    "nash_referrals3.head()"
   ]
  },
  {
   "cell_type": "code",
   "execution_count": 211,
   "metadata": {},
   "outputs": [],
   "source": [
    "nash_referrals3['num_beds'] = nash_referrals3['to_facility_name_normalised']"
   ]
  },
  {
   "cell_type": "code",
   "execution_count": 212,
   "metadata": {},
   "outputs": [],
   "source": [
    "hosp_beds = {'Centennial Medical Center HCA' : 732,\n",
    "             'Hendersonville Medical Center HCA' : 129,\n",
    "             'Maury Regional Medical Center' : 255,\n",
    "             'Summit Medical Center HCA' : 208,\n",
    "             'Sumner Regional Medical Center' : 165,\n",
    "             'Vanderbilt University Lebanon Medical Center' : 245,\n",
    "             'Vanderbilt University Medical Center' : 1162,\n",
    "             'Williamson County Hospital' : 203,\n",
    "             'Saint Thomas Rutherford Hospital' : 322,\n",
    "             'NorthCrest Medical Center' : 109,\n",
    "             'Saint Thomas Midtown Hospital' : 396,\n",
    "             'Saint Thomas West Hospital' : 341,\n",
    "             'TriStar Horizon Medical Center HCA' : 108,\n",
    "             'TriStar Skyline Medical Center HCA' : 351,\n",
    "             'Southern Hills Medical Center HCA' : 117,\n",
    "             'StoneCrest Medical Center HCA' : 115}"
   ]
  },
  {
   "cell_type": "code",
   "execution_count": 213,
   "metadata": {},
   "outputs": [],
   "source": [
    "nash_referrals3 = nash_referrals3.replace({\"num_beds\":hosp_beds})"
   ]
  },
  {
   "cell_type": "markdown",
   "metadata": {},
   "source": [
    "- make num beds into percent (ex. vandy is 45%)\n",
    "- 1 - % is weight (vandy's weight is 55%)\n",
    "\n"
   ]
  },
  {
   "cell_type": "code",
   "execution_count": 214,
   "metadata": {},
   "outputs": [
    {
     "data": {
      "text/html": [
       "<div>\n",
       "<style scoped>\n",
       "    .dataframe tbody tr th:only-of-type {\n",
       "        vertical-align: middle;\n",
       "    }\n",
       "\n",
       "    .dataframe tbody tr th {\n",
       "        vertical-align: top;\n",
       "    }\n",
       "\n",
       "    .dataframe thead th {\n",
       "        text-align: right;\n",
       "    }\n",
       "</style>\n",
       "<table border=\"1\" class=\"dataframe\">\n",
       "  <thead>\n",
       "    <tr style=\"text-align: right;\">\n",
       "      <th></th>\n",
       "      <th>to_facility_name_normalised</th>\n",
       "      <th>patient_count</th>\n",
       "      <th>num_beds</th>\n",
       "    </tr>\n",
       "  </thead>\n",
       "  <tbody>\n",
       "    <tr>\n",
       "      <th>0</th>\n",
       "      <td>Centennial Medical Center HCA</td>\n",
       "      <td>124773</td>\n",
       "      <td>732</td>\n",
       "    </tr>\n",
       "    <tr>\n",
       "      <th>1</th>\n",
       "      <td>Hendersonville Medical Center HCA</td>\n",
       "      <td>41106</td>\n",
       "      <td>129</td>\n",
       "    </tr>\n",
       "    <tr>\n",
       "      <th>2</th>\n",
       "      <td>Maury Regional Medical Center</td>\n",
       "      <td>84245</td>\n",
       "      <td>255</td>\n",
       "    </tr>\n",
       "    <tr>\n",
       "      <th>3</th>\n",
       "      <td>NorthCrest Medical Center</td>\n",
       "      <td>23068</td>\n",
       "      <td>109</td>\n",
       "    </tr>\n",
       "    <tr>\n",
       "      <th>4</th>\n",
       "      <td>Saint Thomas Midtown Hospital</td>\n",
       "      <td>59401</td>\n",
       "      <td>396</td>\n",
       "    </tr>\n",
       "    <tr>\n",
       "      <th>5</th>\n",
       "      <td>Saint Thomas Rutherford Hospital</td>\n",
       "      <td>57724</td>\n",
       "      <td>322</td>\n",
       "    </tr>\n",
       "    <tr>\n",
       "      <th>6</th>\n",
       "      <td>Saint Thomas West Hospital</td>\n",
       "      <td>107552</td>\n",
       "      <td>341</td>\n",
       "    </tr>\n",
       "    <tr>\n",
       "      <th>7</th>\n",
       "      <td>Southern Hills Medical Center HCA</td>\n",
       "      <td>25540</td>\n",
       "      <td>117</td>\n",
       "    </tr>\n",
       "    <tr>\n",
       "      <th>8</th>\n",
       "      <td>StoneCrest Medical Center HCA</td>\n",
       "      <td>22328</td>\n",
       "      <td>115</td>\n",
       "    </tr>\n",
       "    <tr>\n",
       "      <th>9</th>\n",
       "      <td>Summit Medical Center HCA</td>\n",
       "      <td>54330</td>\n",
       "      <td>208</td>\n",
       "    </tr>\n",
       "    <tr>\n",
       "      <th>10</th>\n",
       "      <td>Sumner Regional Medical Center</td>\n",
       "      <td>37708</td>\n",
       "      <td>165</td>\n",
       "    </tr>\n",
       "    <tr>\n",
       "      <th>11</th>\n",
       "      <td>TriStar Horizon Medical Center HCA</td>\n",
       "      <td>30602</td>\n",
       "      <td>108</td>\n",
       "    </tr>\n",
       "    <tr>\n",
       "      <th>12</th>\n",
       "      <td>TriStar Skyline Medical Center HCA</td>\n",
       "      <td>57224</td>\n",
       "      <td>351</td>\n",
       "    </tr>\n",
       "    <tr>\n",
       "      <th>13</th>\n",
       "      <td>Vanderbilt University Lebanon Medical Center</td>\n",
       "      <td>28057</td>\n",
       "      <td>245</td>\n",
       "    </tr>\n",
       "    <tr>\n",
       "      <th>14</th>\n",
       "      <td>Vanderbilt University Medical Center</td>\n",
       "      <td>330475</td>\n",
       "      <td>1162</td>\n",
       "    </tr>\n",
       "    <tr>\n",
       "      <th>15</th>\n",
       "      <td>Williamson County Hospital</td>\n",
       "      <td>59422</td>\n",
       "      <td>203</td>\n",
       "    </tr>\n",
       "  </tbody>\n",
       "</table>\n",
       "</div>"
      ],
      "text/plain": [
       "                     to_facility_name_normalised  patient_count  num_beds\n",
       "0                  Centennial Medical Center HCA         124773       732\n",
       "1              Hendersonville Medical Center HCA          41106       129\n",
       "2                  Maury Regional Medical Center          84245       255\n",
       "3                      NorthCrest Medical Center          23068       109\n",
       "4                  Saint Thomas Midtown Hospital          59401       396\n",
       "5               Saint Thomas Rutherford Hospital          57724       322\n",
       "6                     Saint Thomas West Hospital         107552       341\n",
       "7              Southern Hills Medical Center HCA          25540       117\n",
       "8                  StoneCrest Medical Center HCA          22328       115\n",
       "9                      Summit Medical Center HCA          54330       208\n",
       "10                Sumner Regional Medical Center          37708       165\n",
       "11            TriStar Horizon Medical Center HCA          30602       108\n",
       "12            TriStar Skyline Medical Center HCA          57224       351\n",
       "13  Vanderbilt University Lebanon Medical Center          28057       245\n",
       "14          Vanderbilt University Medical Center         330475      1162\n",
       "15                    Williamson County Hospital          59422       203"
      ]
     },
     "execution_count": 214,
     "metadata": {},
     "output_type": "execute_result"
    }
   ],
   "source": [
    "nash_referrals3.head(20)"
   ]
  },
  {
   "cell_type": "code",
   "execution_count": 215,
   "metadata": {},
   "outputs": [
    {
     "data": {
      "text/plain": [
       "4958"
      ]
     },
     "execution_count": 215,
     "metadata": {},
     "output_type": "execute_result"
    }
   ],
   "source": [
    "nash_referrals3['num_beds'].sum()"
   ]
  },
  {
   "cell_type": "code",
   "execution_count": 216,
   "metadata": {},
   "outputs": [],
   "source": [
    "nash_referrals3['percent_of_total_beds'] = (nash_referrals3['num_beds']/ 4958) * 100"
   ]
  },
  {
   "cell_type": "code",
   "execution_count": 221,
   "metadata": {},
   "outputs": [
    {
     "data": {
      "application/vnd.plotly.v1+json": {
       "config": {
        "plotlyServerURL": "https://plot.ly"
       },
       "data": [
        {
         "hovertemplate": "<b>%{hovertext}</b><br><br>num_beds=%{x}<br>patient_count=%{y}<extra></extra>",
         "hovertext": [
          "Centennial Medical Center HCA",
          "Hendersonville Medical Center HCA",
          "Maury Regional Medical Center",
          "NorthCrest Medical Center",
          "Saint Thomas Midtown Hospital",
          "Saint Thomas Rutherford Hospital",
          "Saint Thomas West Hospital",
          "Southern Hills Medical Center HCA",
          "StoneCrest Medical Center HCA",
          "Summit Medical Center HCA",
          "Sumner Regional Medical Center",
          "TriStar Horizon Medical Center HCA",
          "TriStar Skyline Medical Center HCA",
          "Vanderbilt University Lebanon Medical Center",
          "Vanderbilt University Medical Center",
          "Williamson County Hospital"
         ],
         "legendgroup": "",
         "marker": {
          "color": "DodgerBlue",
          "line": {
           "color": "DarkSlateGrey",
           "width": 1
          },
          "size": 10,
          "symbol": "circle"
         },
         "mode": "markers",
         "name": "",
         "orientation": "v",
         "showlegend": false,
         "type": "scatter",
         "x": [
          732,
          129,
          255,
          109,
          396,
          322,
          341,
          117,
          115,
          208,
          165,
          108,
          351,
          245,
          1162,
          203
         ],
         "xaxis": "x",
         "y": [
          124773,
          41106,
          84245,
          23068,
          59401,
          57724,
          107552,
          25540,
          22328,
          54330,
          37708,
          30602,
          57224,
          28057,
          330475,
          59422
         ],
         "yaxis": "y"
        }
       ],
       "layout": {
        "legend": {
         "tracegroupgap": 0
        },
        "shapes": [
         {
          "line": {
           "color": "tomato",
           "dash": "dash",
           "width": 2
          },
          "type": "line",
          "x0": 0,
          "x1": 1400,
          "xref": "x",
          "y0": -7633.2,
          "y1": 349761.1,
          "yref": "y"
         }
        ],
        "template": {
         "data": {
          "bar": [
           {
            "error_x": {
             "color": "#2a3f5f"
            },
            "error_y": {
             "color": "#2a3f5f"
            },
            "marker": {
             "line": {
              "color": "#E5ECF6",
              "width": 0.5
             }
            },
            "type": "bar"
           }
          ],
          "barpolar": [
           {
            "marker": {
             "line": {
              "color": "#E5ECF6",
              "width": 0.5
             }
            },
            "type": "barpolar"
           }
          ],
          "carpet": [
           {
            "aaxis": {
             "endlinecolor": "#2a3f5f",
             "gridcolor": "white",
             "linecolor": "white",
             "minorgridcolor": "white",
             "startlinecolor": "#2a3f5f"
            },
            "baxis": {
             "endlinecolor": "#2a3f5f",
             "gridcolor": "white",
             "linecolor": "white",
             "minorgridcolor": "white",
             "startlinecolor": "#2a3f5f"
            },
            "type": "carpet"
           }
          ],
          "choropleth": [
           {
            "colorbar": {
             "outlinewidth": 0,
             "ticks": ""
            },
            "type": "choropleth"
           }
          ],
          "contour": [
           {
            "colorbar": {
             "outlinewidth": 0,
             "ticks": ""
            },
            "colorscale": [
             [
              0,
              "#0d0887"
             ],
             [
              0.1111111111111111,
              "#46039f"
             ],
             [
              0.2222222222222222,
              "#7201a8"
             ],
             [
              0.3333333333333333,
              "#9c179e"
             ],
             [
              0.4444444444444444,
              "#bd3786"
             ],
             [
              0.5555555555555556,
              "#d8576b"
             ],
             [
              0.6666666666666666,
              "#ed7953"
             ],
             [
              0.7777777777777778,
              "#fb9f3a"
             ],
             [
              0.8888888888888888,
              "#fdca26"
             ],
             [
              1,
              "#f0f921"
             ]
            ],
            "type": "contour"
           }
          ],
          "contourcarpet": [
           {
            "colorbar": {
             "outlinewidth": 0,
             "ticks": ""
            },
            "type": "contourcarpet"
           }
          ],
          "heatmap": [
           {
            "colorbar": {
             "outlinewidth": 0,
             "ticks": ""
            },
            "colorscale": [
             [
              0,
              "#0d0887"
             ],
             [
              0.1111111111111111,
              "#46039f"
             ],
             [
              0.2222222222222222,
              "#7201a8"
             ],
             [
              0.3333333333333333,
              "#9c179e"
             ],
             [
              0.4444444444444444,
              "#bd3786"
             ],
             [
              0.5555555555555556,
              "#d8576b"
             ],
             [
              0.6666666666666666,
              "#ed7953"
             ],
             [
              0.7777777777777778,
              "#fb9f3a"
             ],
             [
              0.8888888888888888,
              "#fdca26"
             ],
             [
              1,
              "#f0f921"
             ]
            ],
            "type": "heatmap"
           }
          ],
          "heatmapgl": [
           {
            "colorbar": {
             "outlinewidth": 0,
             "ticks": ""
            },
            "colorscale": [
             [
              0,
              "#0d0887"
             ],
             [
              0.1111111111111111,
              "#46039f"
             ],
             [
              0.2222222222222222,
              "#7201a8"
             ],
             [
              0.3333333333333333,
              "#9c179e"
             ],
             [
              0.4444444444444444,
              "#bd3786"
             ],
             [
              0.5555555555555556,
              "#d8576b"
             ],
             [
              0.6666666666666666,
              "#ed7953"
             ],
             [
              0.7777777777777778,
              "#fb9f3a"
             ],
             [
              0.8888888888888888,
              "#fdca26"
             ],
             [
              1,
              "#f0f921"
             ]
            ],
            "type": "heatmapgl"
           }
          ],
          "histogram": [
           {
            "marker": {
             "colorbar": {
              "outlinewidth": 0,
              "ticks": ""
             }
            },
            "type": "histogram"
           }
          ],
          "histogram2d": [
           {
            "colorbar": {
             "outlinewidth": 0,
             "ticks": ""
            },
            "colorscale": [
             [
              0,
              "#0d0887"
             ],
             [
              0.1111111111111111,
              "#46039f"
             ],
             [
              0.2222222222222222,
              "#7201a8"
             ],
             [
              0.3333333333333333,
              "#9c179e"
             ],
             [
              0.4444444444444444,
              "#bd3786"
             ],
             [
              0.5555555555555556,
              "#d8576b"
             ],
             [
              0.6666666666666666,
              "#ed7953"
             ],
             [
              0.7777777777777778,
              "#fb9f3a"
             ],
             [
              0.8888888888888888,
              "#fdca26"
             ],
             [
              1,
              "#f0f921"
             ]
            ],
            "type": "histogram2d"
           }
          ],
          "histogram2dcontour": [
           {
            "colorbar": {
             "outlinewidth": 0,
             "ticks": ""
            },
            "colorscale": [
             [
              0,
              "#0d0887"
             ],
             [
              0.1111111111111111,
              "#46039f"
             ],
             [
              0.2222222222222222,
              "#7201a8"
             ],
             [
              0.3333333333333333,
              "#9c179e"
             ],
             [
              0.4444444444444444,
              "#bd3786"
             ],
             [
              0.5555555555555556,
              "#d8576b"
             ],
             [
              0.6666666666666666,
              "#ed7953"
             ],
             [
              0.7777777777777778,
              "#fb9f3a"
             ],
             [
              0.8888888888888888,
              "#fdca26"
             ],
             [
              1,
              "#f0f921"
             ]
            ],
            "type": "histogram2dcontour"
           }
          ],
          "mesh3d": [
           {
            "colorbar": {
             "outlinewidth": 0,
             "ticks": ""
            },
            "type": "mesh3d"
           }
          ],
          "parcoords": [
           {
            "line": {
             "colorbar": {
              "outlinewidth": 0,
              "ticks": ""
             }
            },
            "type": "parcoords"
           }
          ],
          "pie": [
           {
            "automargin": true,
            "type": "pie"
           }
          ],
          "scatter": [
           {
            "marker": {
             "colorbar": {
              "outlinewidth": 0,
              "ticks": ""
             }
            },
            "type": "scatter"
           }
          ],
          "scatter3d": [
           {
            "line": {
             "colorbar": {
              "outlinewidth": 0,
              "ticks": ""
             }
            },
            "marker": {
             "colorbar": {
              "outlinewidth": 0,
              "ticks": ""
             }
            },
            "type": "scatter3d"
           }
          ],
          "scattercarpet": [
           {
            "marker": {
             "colorbar": {
              "outlinewidth": 0,
              "ticks": ""
             }
            },
            "type": "scattercarpet"
           }
          ],
          "scattergeo": [
           {
            "marker": {
             "colorbar": {
              "outlinewidth": 0,
              "ticks": ""
             }
            },
            "type": "scattergeo"
           }
          ],
          "scattergl": [
           {
            "marker": {
             "colorbar": {
              "outlinewidth": 0,
              "ticks": ""
             }
            },
            "type": "scattergl"
           }
          ],
          "scattermapbox": [
           {
            "marker": {
             "colorbar": {
              "outlinewidth": 0,
              "ticks": ""
             }
            },
            "type": "scattermapbox"
           }
          ],
          "scatterpolar": [
           {
            "marker": {
             "colorbar": {
              "outlinewidth": 0,
              "ticks": ""
             }
            },
            "type": "scatterpolar"
           }
          ],
          "scatterpolargl": [
           {
            "marker": {
             "colorbar": {
              "outlinewidth": 0,
              "ticks": ""
             }
            },
            "type": "scatterpolargl"
           }
          ],
          "scatterternary": [
           {
            "marker": {
             "colorbar": {
              "outlinewidth": 0,
              "ticks": ""
             }
            },
            "type": "scatterternary"
           }
          ],
          "surface": [
           {
            "colorbar": {
             "outlinewidth": 0,
             "ticks": ""
            },
            "colorscale": [
             [
              0,
              "#0d0887"
             ],
             [
              0.1111111111111111,
              "#46039f"
             ],
             [
              0.2222222222222222,
              "#7201a8"
             ],
             [
              0.3333333333333333,
              "#9c179e"
             ],
             [
              0.4444444444444444,
              "#bd3786"
             ],
             [
              0.5555555555555556,
              "#d8576b"
             ],
             [
              0.6666666666666666,
              "#ed7953"
             ],
             [
              0.7777777777777778,
              "#fb9f3a"
             ],
             [
              0.8888888888888888,
              "#fdca26"
             ],
             [
              1,
              "#f0f921"
             ]
            ],
            "type": "surface"
           }
          ],
          "table": [
           {
            "cells": {
             "fill": {
              "color": "#EBF0F8"
             },
             "line": {
              "color": "white"
             }
            },
            "header": {
             "fill": {
              "color": "#C8D4E3"
             },
             "line": {
              "color": "white"
             }
            },
            "type": "table"
           }
          ]
         },
         "layout": {
          "annotationdefaults": {
           "arrowcolor": "#2a3f5f",
           "arrowhead": 0,
           "arrowwidth": 1
          },
          "coloraxis": {
           "colorbar": {
            "outlinewidth": 0,
            "ticks": ""
           }
          },
          "colorscale": {
           "diverging": [
            [
             0,
             "#8e0152"
            ],
            [
             0.1,
             "#c51b7d"
            ],
            [
             0.2,
             "#de77ae"
            ],
            [
             0.3,
             "#f1b6da"
            ],
            [
             0.4,
             "#fde0ef"
            ],
            [
             0.5,
             "#f7f7f7"
            ],
            [
             0.6,
             "#e6f5d0"
            ],
            [
             0.7,
             "#b8e186"
            ],
            [
             0.8,
             "#7fbc41"
            ],
            [
             0.9,
             "#4d9221"
            ],
            [
             1,
             "#276419"
            ]
           ],
           "sequential": [
            [
             0,
             "#0d0887"
            ],
            [
             0.1111111111111111,
             "#46039f"
            ],
            [
             0.2222222222222222,
             "#7201a8"
            ],
            [
             0.3333333333333333,
             "#9c179e"
            ],
            [
             0.4444444444444444,
             "#bd3786"
            ],
            [
             0.5555555555555556,
             "#d8576b"
            ],
            [
             0.6666666666666666,
             "#ed7953"
            ],
            [
             0.7777777777777778,
             "#fb9f3a"
            ],
            [
             0.8888888888888888,
             "#fdca26"
            ],
            [
             1,
             "#f0f921"
            ]
           ],
           "sequentialminus": [
            [
             0,
             "#0d0887"
            ],
            [
             0.1111111111111111,
             "#46039f"
            ],
            [
             0.2222222222222222,
             "#7201a8"
            ],
            [
             0.3333333333333333,
             "#9c179e"
            ],
            [
             0.4444444444444444,
             "#bd3786"
            ],
            [
             0.5555555555555556,
             "#d8576b"
            ],
            [
             0.6666666666666666,
             "#ed7953"
            ],
            [
             0.7777777777777778,
             "#fb9f3a"
            ],
            [
             0.8888888888888888,
             "#fdca26"
            ],
            [
             1,
             "#f0f921"
            ]
           ]
          },
          "colorway": [
           "#636efa",
           "#EF553B",
           "#00cc96",
           "#ab63fa",
           "#FFA15A",
           "#19d3f3",
           "#FF6692",
           "#B6E880",
           "#FF97FF",
           "#FECB52"
          ],
          "font": {
           "color": "#2a3f5f"
          },
          "geo": {
           "bgcolor": "white",
           "lakecolor": "white",
           "landcolor": "#E5ECF6",
           "showlakes": true,
           "showland": true,
           "subunitcolor": "white"
          },
          "hoverlabel": {
           "align": "left"
          },
          "hovermode": "closest",
          "mapbox": {
           "style": "light"
          },
          "paper_bgcolor": "white",
          "plot_bgcolor": "#E5ECF6",
          "polar": {
           "angularaxis": {
            "gridcolor": "white",
            "linecolor": "white",
            "ticks": ""
           },
           "bgcolor": "#E5ECF6",
           "radialaxis": {
            "gridcolor": "white",
            "linecolor": "white",
            "ticks": ""
           }
          },
          "scene": {
           "xaxis": {
            "backgroundcolor": "#E5ECF6",
            "gridcolor": "white",
            "gridwidth": 2,
            "linecolor": "white",
            "showbackground": true,
            "ticks": "",
            "zerolinecolor": "white"
           },
           "yaxis": {
            "backgroundcolor": "#E5ECF6",
            "gridcolor": "white",
            "gridwidth": 2,
            "linecolor": "white",
            "showbackground": true,
            "ticks": "",
            "zerolinecolor": "white"
           },
           "zaxis": {
            "backgroundcolor": "#E5ECF6",
            "gridcolor": "white",
            "gridwidth": 2,
            "linecolor": "white",
            "showbackground": true,
            "ticks": "",
            "zerolinecolor": "white"
           }
          },
          "shapedefaults": {
           "line": {
            "color": "#2a3f5f"
           }
          },
          "ternary": {
           "aaxis": {
            "gridcolor": "white",
            "linecolor": "white",
            "ticks": ""
           },
           "baxis": {
            "gridcolor": "white",
            "linecolor": "white",
            "ticks": ""
           },
           "bgcolor": "#E5ECF6",
           "caxis": {
            "gridcolor": "white",
            "linecolor": "white",
            "ticks": ""
           }
          },
          "title": {
           "x": 0.05
          },
          "xaxis": {
           "automargin": true,
           "gridcolor": "white",
           "linecolor": "white",
           "ticks": "",
           "title": {
            "standoff": 15
           },
           "zerolinecolor": "white",
           "zerolinewidth": 2
          },
          "yaxis": {
           "automargin": true,
           "gridcolor": "white",
           "linecolor": "white",
           "ticks": "",
           "title": {
            "standoff": 15
           },
           "zerolinecolor": "white",
           "zerolinewidth": 2
          }
         }
        },
        "title": {
         "text": "Number of Patient Referrals Vs. Number of Hospital Beds"
        },
        "xaxis": {
         "anchor": "y",
         "domain": [
          0,
          1
         ],
         "title": {
          "text": "Number of Hospital Beds"
         }
        },
        "yaxis": {
         "anchor": "x",
         "domain": [
          0,
          1
         ],
         "title": {
          "text": "Patient Refferal Count"
         }
        }
       }
      },
      "text/html": [
       "<div>                            <div id=\"290e4b38-f66d-4e43-99bc-0a1868e54f3c\" class=\"plotly-graph-div\" style=\"height:525px; width:100%;\"></div>            <script type=\"text/javascript\">                require([\"plotly\"], function(Plotly) {                    window.PLOTLYENV=window.PLOTLYENV || {};                                    if (document.getElementById(\"290e4b38-f66d-4e43-99bc-0a1868e54f3c\")) {                    Plotly.newPlot(                        \"290e4b38-f66d-4e43-99bc-0a1868e54f3c\",                        [{\"hovertemplate\": \"<b>%{hovertext}</b><br><br>num_beds=%{x}<br>patient_count=%{y}<extra></extra>\", \"hovertext\": [\"Centennial Medical Center HCA\", \"Hendersonville Medical Center HCA\", \"Maury Regional Medical Center\", \"NorthCrest Medical Center\", \"Saint Thomas Midtown Hospital\", \"Saint Thomas Rutherford Hospital\", \"Saint Thomas West Hospital\", \"Southern Hills Medical Center HCA\", \"StoneCrest Medical Center HCA\", \"Summit Medical Center HCA\", \"Sumner Regional Medical Center\", \"TriStar Horizon Medical Center HCA\", \"TriStar Skyline Medical Center HCA\", \"Vanderbilt University Lebanon Medical Center\", \"Vanderbilt University Medical Center\", \"Williamson County Hospital\"], \"legendgroup\": \"\", \"marker\": {\"color\": \"DodgerBlue\", \"line\": {\"color\": \"DarkSlateGrey\", \"width\": 1}, \"size\": 10, \"symbol\": \"circle\"}, \"mode\": \"markers\", \"name\": \"\", \"orientation\": \"v\", \"showlegend\": false, \"type\": \"scatter\", \"x\": [732, 129, 255, 109, 396, 322, 341, 117, 115, 208, 165, 108, 351, 245, 1162, 203], \"xaxis\": \"x\", \"y\": [124773, 41106, 84245, 23068, 59401, 57724, 107552, 25540, 22328, 54330, 37708, 30602, 57224, 28057, 330475, 59422], \"yaxis\": \"y\"}],                        {\"legend\": {\"tracegroupgap\": 0}, \"shapes\": [{\"line\": {\"color\": \"tomato\", \"dash\": \"dash\", \"width\": 2}, \"type\": \"line\", \"x0\": 0, \"x1\": 1400, \"xref\": \"x\", \"y0\": -7633.2, \"y1\": 349761.1, \"yref\": \"y\"}], \"template\": {\"data\": {\"bar\": [{\"error_x\": {\"color\": \"#2a3f5f\"}, \"error_y\": {\"color\": \"#2a3f5f\"}, \"marker\": {\"line\": {\"color\": \"#E5ECF6\", \"width\": 0.5}}, \"type\": \"bar\"}], \"barpolar\": [{\"marker\": {\"line\": {\"color\": \"#E5ECF6\", \"width\": 0.5}}, \"type\": \"barpolar\"}], \"carpet\": [{\"aaxis\": {\"endlinecolor\": \"#2a3f5f\", \"gridcolor\": \"white\", \"linecolor\": \"white\", \"minorgridcolor\": \"white\", \"startlinecolor\": \"#2a3f5f\"}, \"baxis\": {\"endlinecolor\": \"#2a3f5f\", \"gridcolor\": \"white\", \"linecolor\": \"white\", \"minorgridcolor\": \"white\", \"startlinecolor\": \"#2a3f5f\"}, \"type\": \"carpet\"}], \"choropleth\": [{\"colorbar\": {\"outlinewidth\": 0, \"ticks\": \"\"}, \"type\": \"choropleth\"}], \"contour\": [{\"colorbar\": {\"outlinewidth\": 0, \"ticks\": \"\"}, \"colorscale\": [[0.0, \"#0d0887\"], [0.1111111111111111, \"#46039f\"], [0.2222222222222222, \"#7201a8\"], [0.3333333333333333, \"#9c179e\"], [0.4444444444444444, \"#bd3786\"], [0.5555555555555556, \"#d8576b\"], [0.6666666666666666, \"#ed7953\"], [0.7777777777777778, \"#fb9f3a\"], [0.8888888888888888, \"#fdca26\"], [1.0, \"#f0f921\"]], \"type\": \"contour\"}], \"contourcarpet\": [{\"colorbar\": {\"outlinewidth\": 0, \"ticks\": \"\"}, \"type\": \"contourcarpet\"}], \"heatmap\": [{\"colorbar\": {\"outlinewidth\": 0, \"ticks\": \"\"}, \"colorscale\": [[0.0, \"#0d0887\"], [0.1111111111111111, \"#46039f\"], [0.2222222222222222, \"#7201a8\"], [0.3333333333333333, \"#9c179e\"], [0.4444444444444444, \"#bd3786\"], [0.5555555555555556, \"#d8576b\"], [0.6666666666666666, \"#ed7953\"], [0.7777777777777778, \"#fb9f3a\"], [0.8888888888888888, \"#fdca26\"], [1.0, \"#f0f921\"]], \"type\": \"heatmap\"}], \"heatmapgl\": [{\"colorbar\": {\"outlinewidth\": 0, \"ticks\": \"\"}, \"colorscale\": [[0.0, \"#0d0887\"], [0.1111111111111111, \"#46039f\"], [0.2222222222222222, \"#7201a8\"], [0.3333333333333333, \"#9c179e\"], [0.4444444444444444, \"#bd3786\"], [0.5555555555555556, \"#d8576b\"], [0.6666666666666666, \"#ed7953\"], [0.7777777777777778, \"#fb9f3a\"], [0.8888888888888888, \"#fdca26\"], [1.0, \"#f0f921\"]], \"type\": \"heatmapgl\"}], \"histogram\": [{\"marker\": {\"colorbar\": {\"outlinewidth\": 0, \"ticks\": \"\"}}, \"type\": \"histogram\"}], \"histogram2d\": [{\"colorbar\": {\"outlinewidth\": 0, \"ticks\": \"\"}, \"colorscale\": [[0.0, \"#0d0887\"], [0.1111111111111111, \"#46039f\"], [0.2222222222222222, \"#7201a8\"], [0.3333333333333333, \"#9c179e\"], [0.4444444444444444, \"#bd3786\"], [0.5555555555555556, \"#d8576b\"], [0.6666666666666666, \"#ed7953\"], [0.7777777777777778, \"#fb9f3a\"], [0.8888888888888888, \"#fdca26\"], [1.0, \"#f0f921\"]], \"type\": \"histogram2d\"}], \"histogram2dcontour\": [{\"colorbar\": {\"outlinewidth\": 0, \"ticks\": \"\"}, \"colorscale\": [[0.0, \"#0d0887\"], [0.1111111111111111, \"#46039f\"], [0.2222222222222222, \"#7201a8\"], [0.3333333333333333, \"#9c179e\"], [0.4444444444444444, \"#bd3786\"], [0.5555555555555556, \"#d8576b\"], [0.6666666666666666, \"#ed7953\"], [0.7777777777777778, \"#fb9f3a\"], [0.8888888888888888, \"#fdca26\"], [1.0, \"#f0f921\"]], \"type\": \"histogram2dcontour\"}], \"mesh3d\": [{\"colorbar\": {\"outlinewidth\": 0, \"ticks\": \"\"}, \"type\": \"mesh3d\"}], \"parcoords\": [{\"line\": {\"colorbar\": {\"outlinewidth\": 0, \"ticks\": \"\"}}, \"type\": \"parcoords\"}], \"pie\": [{\"automargin\": true, \"type\": \"pie\"}], \"scatter\": [{\"marker\": {\"colorbar\": {\"outlinewidth\": 0, \"ticks\": \"\"}}, \"type\": \"scatter\"}], \"scatter3d\": [{\"line\": {\"colorbar\": {\"outlinewidth\": 0, \"ticks\": \"\"}}, \"marker\": {\"colorbar\": {\"outlinewidth\": 0, \"ticks\": \"\"}}, \"type\": \"scatter3d\"}], \"scattercarpet\": [{\"marker\": {\"colorbar\": {\"outlinewidth\": 0, \"ticks\": \"\"}}, \"type\": \"scattercarpet\"}], \"scattergeo\": [{\"marker\": {\"colorbar\": {\"outlinewidth\": 0, \"ticks\": \"\"}}, \"type\": \"scattergeo\"}], \"scattergl\": [{\"marker\": {\"colorbar\": {\"outlinewidth\": 0, \"ticks\": \"\"}}, \"type\": \"scattergl\"}], \"scattermapbox\": [{\"marker\": {\"colorbar\": {\"outlinewidth\": 0, \"ticks\": \"\"}}, \"type\": \"scattermapbox\"}], \"scatterpolar\": [{\"marker\": {\"colorbar\": {\"outlinewidth\": 0, \"ticks\": \"\"}}, \"type\": \"scatterpolar\"}], \"scatterpolargl\": [{\"marker\": {\"colorbar\": {\"outlinewidth\": 0, \"ticks\": \"\"}}, \"type\": \"scatterpolargl\"}], \"scatterternary\": [{\"marker\": {\"colorbar\": {\"outlinewidth\": 0, \"ticks\": \"\"}}, \"type\": \"scatterternary\"}], \"surface\": [{\"colorbar\": {\"outlinewidth\": 0, \"ticks\": \"\"}, \"colorscale\": [[0.0, \"#0d0887\"], [0.1111111111111111, \"#46039f\"], [0.2222222222222222, \"#7201a8\"], [0.3333333333333333, \"#9c179e\"], [0.4444444444444444, \"#bd3786\"], [0.5555555555555556, \"#d8576b\"], [0.6666666666666666, \"#ed7953\"], [0.7777777777777778, \"#fb9f3a\"], [0.8888888888888888, \"#fdca26\"], [1.0, \"#f0f921\"]], \"type\": \"surface\"}], \"table\": [{\"cells\": {\"fill\": {\"color\": \"#EBF0F8\"}, \"line\": {\"color\": \"white\"}}, \"header\": {\"fill\": {\"color\": \"#C8D4E3\"}, \"line\": {\"color\": \"white\"}}, \"type\": \"table\"}]}, \"layout\": {\"annotationdefaults\": {\"arrowcolor\": \"#2a3f5f\", \"arrowhead\": 0, \"arrowwidth\": 1}, \"coloraxis\": {\"colorbar\": {\"outlinewidth\": 0, \"ticks\": \"\"}}, \"colorscale\": {\"diverging\": [[0, \"#8e0152\"], [0.1, \"#c51b7d\"], [0.2, \"#de77ae\"], [0.3, \"#f1b6da\"], [0.4, \"#fde0ef\"], [0.5, \"#f7f7f7\"], [0.6, \"#e6f5d0\"], [0.7, \"#b8e186\"], [0.8, \"#7fbc41\"], [0.9, \"#4d9221\"], [1, \"#276419\"]], \"sequential\": [[0.0, \"#0d0887\"], [0.1111111111111111, \"#46039f\"], [0.2222222222222222, \"#7201a8\"], [0.3333333333333333, \"#9c179e\"], [0.4444444444444444, \"#bd3786\"], [0.5555555555555556, \"#d8576b\"], [0.6666666666666666, \"#ed7953\"], [0.7777777777777778, \"#fb9f3a\"], [0.8888888888888888, \"#fdca26\"], [1.0, \"#f0f921\"]], \"sequentialminus\": [[0.0, \"#0d0887\"], [0.1111111111111111, \"#46039f\"], [0.2222222222222222, \"#7201a8\"], [0.3333333333333333, \"#9c179e\"], [0.4444444444444444, \"#bd3786\"], [0.5555555555555556, \"#d8576b\"], [0.6666666666666666, \"#ed7953\"], [0.7777777777777778, \"#fb9f3a\"], [0.8888888888888888, \"#fdca26\"], [1.0, \"#f0f921\"]]}, \"colorway\": [\"#636efa\", \"#EF553B\", \"#00cc96\", \"#ab63fa\", \"#FFA15A\", \"#19d3f3\", \"#FF6692\", \"#B6E880\", \"#FF97FF\", \"#FECB52\"], \"font\": {\"color\": \"#2a3f5f\"}, \"geo\": {\"bgcolor\": \"white\", \"lakecolor\": \"white\", \"landcolor\": \"#E5ECF6\", \"showlakes\": true, \"showland\": true, \"subunitcolor\": \"white\"}, \"hoverlabel\": {\"align\": \"left\"}, \"hovermode\": \"closest\", \"mapbox\": {\"style\": \"light\"}, \"paper_bgcolor\": \"white\", \"plot_bgcolor\": \"#E5ECF6\", \"polar\": {\"angularaxis\": {\"gridcolor\": \"white\", \"linecolor\": \"white\", \"ticks\": \"\"}, \"bgcolor\": \"#E5ECF6\", \"radialaxis\": {\"gridcolor\": \"white\", \"linecolor\": \"white\", \"ticks\": \"\"}}, \"scene\": {\"xaxis\": {\"backgroundcolor\": \"#E5ECF6\", \"gridcolor\": \"white\", \"gridwidth\": 2, \"linecolor\": \"white\", \"showbackground\": true, \"ticks\": \"\", \"zerolinecolor\": \"white\"}, \"yaxis\": {\"backgroundcolor\": \"#E5ECF6\", \"gridcolor\": \"white\", \"gridwidth\": 2, \"linecolor\": \"white\", \"showbackground\": true, \"ticks\": \"\", \"zerolinecolor\": \"white\"}, \"zaxis\": {\"backgroundcolor\": \"#E5ECF6\", \"gridcolor\": \"white\", \"gridwidth\": 2, \"linecolor\": \"white\", \"showbackground\": true, \"ticks\": \"\", \"zerolinecolor\": \"white\"}}, \"shapedefaults\": {\"line\": {\"color\": \"#2a3f5f\"}}, \"ternary\": {\"aaxis\": {\"gridcolor\": \"white\", \"linecolor\": \"white\", \"ticks\": \"\"}, \"baxis\": {\"gridcolor\": \"white\", \"linecolor\": \"white\", \"ticks\": \"\"}, \"bgcolor\": \"#E5ECF6\", \"caxis\": {\"gridcolor\": \"white\", \"linecolor\": \"white\", \"ticks\": \"\"}}, \"title\": {\"x\": 0.05}, \"xaxis\": {\"automargin\": true, \"gridcolor\": \"white\", \"linecolor\": \"white\", \"ticks\": \"\", \"title\": {\"standoff\": 15}, \"zerolinecolor\": \"white\", \"zerolinewidth\": 2}, \"yaxis\": {\"automargin\": true, \"gridcolor\": \"white\", \"linecolor\": \"white\", \"ticks\": \"\", \"title\": {\"standoff\": 15}, \"zerolinecolor\": \"white\", \"zerolinewidth\": 2}}}, \"title\": {\"text\": \"Number of Patient Referrals Vs. Number of Hospital Beds\"}, \"xaxis\": {\"anchor\": \"y\", \"domain\": [0.0, 1.0], \"title\": {\"text\": \"Number of Hospital Beds\"}}, \"yaxis\": {\"anchor\": \"x\", \"domain\": [0.0, 1.0], \"title\": {\"text\": \"Patient Refferal Count\"}}},                        {\"responsive\": true}                    ).then(function(){\n",
       "                            \n",
       "var gd = document.getElementById('290e4b38-f66d-4e43-99bc-0a1868e54f3c');\n",
       "var x = new MutationObserver(function (mutations, observer) {{\n",
       "        var display = window.getComputedStyle(gd).display;\n",
       "        if (!display || display === 'none') {{\n",
       "            console.log([gd, 'removed!']);\n",
       "            Plotly.purge(gd);\n",
       "            observer.disconnect();\n",
       "        }}\n",
       "}});\n",
       "\n",
       "// Listen for the removal of the full notebook cells\n",
       "var notebookContainer = gd.closest('#notebook-container');\n",
       "if (notebookContainer) {{\n",
       "    x.observe(notebookContainer, {childList: true});\n",
       "}}\n",
       "\n",
       "// Listen for the clearing of the current output cell\n",
       "var outputEl = gd.closest('.output');\n",
       "if (outputEl) {{\n",
       "    x.observe(outputEl, {childList: true});\n",
       "}}\n",
       "\n",
       "                        })                };                });            </script>        </div>"
      ]
     },
     "metadata": {},
     "output_type": "display_data"
    }
   ],
   "source": [
    "fig2 = px.scatter(nash_referrals3, x='num_beds', y='patient_count',\n",
    "                  hover_name = 'to_facility_name_normalised',\n",
    "                  title = \"Number of Patient Referrals Vs. Number of Hospital Beds\")\n",
    "fig2.update_yaxes(title=\"Patient Refferal Count\")\n",
    "fig2.update_xaxes(title=\"Number of Hospital Beds\")\n",
    "fig2.update_traces(marker=dict(size=10, color = 'DodgerBlue',\n",
    "                              line=dict(width=1,\n",
    "                                        color='DarkSlateGrey')),\n",
    "                  selector=dict(mode='markers'))\n",
    "\n",
    " #line of best fit y = 255.281657x - 7633.216001\n",
    "fig2.add_shape(type='line',line_width=2, line_dash=\"dash\",\n",
    "                x0=0,\n",
    "                y0=-7633.2,\n",
    "                x1=1400,\n",
    "                y1=349761.1,\n",
    "                line=dict(color='tomato',),\n",
    "                xref='x',\n",
    "                yref='y'\n",
    ")\n",
    "fig2.show()"
   ]
  },
  {
   "cell_type": "code",
   "execution_count": 218,
   "metadata": {},
   "outputs": [
    {
     "data": {
      "application/vnd.plotly.v1+json": {
       "config": {
        "plotlyServerURL": "https://plot.ly"
       },
       "data": [
        {
         "alignmentgroup": "True",
         "hovertemplate": "from_npi_specialty=Family Medicine<br>patient_count=%{x}<br>to_facility_name_normalised=%{y}<extra></extra>",
         "legendgroup": "Family Medicine",
         "marker": {
          "color": "#636efa"
         },
         "name": "Family Medicine",
         "offsetgroup": "Family Medicine",
         "orientation": "h",
         "showlegend": true,
         "textposition": "auto",
         "type": "bar",
         "x": [
          2220,
          3620,
          6522,
          2189,
          735,
          2987,
          660,
          2581,
          1066,
          3275,
          3613,
          2188,
          2378,
          2024,
          11842,
          3991
         ],
         "xaxis": "x",
         "y": [
          "Centennial Medical Center HCA",
          "Hendersonville Medical Center HCA",
          "Maury Regional Medical Center",
          "NorthCrest Medical Center",
          "Saint Thomas Midtown Hospital",
          "Saint Thomas Rutherford Hospital",
          "Saint Thomas West Hospital",
          "Southern Hills Medical Center HCA",
          "StoneCrest Medical Center HCA",
          "Summit Medical Center HCA",
          "Sumner Regional Medical Center",
          "TriStar Horizon Medical Center HCA",
          "TriStar Skyline Medical Center HCA",
          "Vanderbilt University Lebanon Medical Center",
          "Vanderbilt University Medical Center",
          "Williamson County Hospital"
         ],
         "yaxis": "y"
        },
        {
         "alignmentgroup": "True",
         "hovertemplate": "from_npi_specialty=Internal Medicine<br>patient_count=%{x}<br>to_facility_name_normalised=%{y}<extra></extra>",
         "legendgroup": "Internal Medicine",
         "marker": {
          "color": "#EF553B"
         },
         "name": "Internal Medicine",
         "offsetgroup": "Internal Medicine",
         "orientation": "h",
         "showlegend": true,
         "textposition": "auto",
         "type": "bar",
         "x": [
          50122,
          13316,
          25172,
          5719,
          25285,
          23919,
          46091,
          6200,
          5733,
          14957,
          19025,
          7251,
          18206,
          8646,
          138232,
          20348
         ],
         "xaxis": "x",
         "y": [
          "Centennial Medical Center HCA",
          "Hendersonville Medical Center HCA",
          "Maury Regional Medical Center",
          "NorthCrest Medical Center",
          "Saint Thomas Midtown Hospital",
          "Saint Thomas Rutherford Hospital",
          "Saint Thomas West Hospital",
          "Southern Hills Medical Center HCA",
          "StoneCrest Medical Center HCA",
          "Summit Medical Center HCA",
          "Sumner Regional Medical Center",
          "TriStar Horizon Medical Center HCA",
          "TriStar Skyline Medical Center HCA",
          "Vanderbilt University Lebanon Medical Center",
          "Vanderbilt University Medical Center",
          "Williamson County Hospital"
         ],
         "yaxis": "y"
        },
        {
         "alignmentgroup": "True",
         "hovertemplate": "from_npi_specialty=Nurse Practitioner<br>patient_count=%{x}<br>to_facility_name_normalised=%{y}<extra></extra>",
         "legendgroup": "Nurse Practitioner",
         "marker": {
          "color": "#00cc96"
         },
         "name": "Nurse Practitioner",
         "offsetgroup": "Nurse Practitioner",
         "orientation": "h",
         "showlegend": true,
         "textposition": "auto",
         "type": "bar",
         "x": [
          6400,
          2557,
          7012,
          1692,
          2889,
          2431,
          7931,
          1178,
          1040,
          1632,
          2671,
          2036,
          3842,
          1923,
          33901,
          2333
         ],
         "xaxis": "x",
         "y": [
          "Centennial Medical Center HCA",
          "Hendersonville Medical Center HCA",
          "Maury Regional Medical Center",
          "NorthCrest Medical Center",
          "Saint Thomas Midtown Hospital",
          "Saint Thomas Rutherford Hospital",
          "Saint Thomas West Hospital",
          "Southern Hills Medical Center HCA",
          "StoneCrest Medical Center HCA",
          "Summit Medical Center HCA",
          "Sumner Regional Medical Center",
          "TriStar Horizon Medical Center HCA",
          "TriStar Skyline Medical Center HCA",
          "Vanderbilt University Lebanon Medical Center",
          "Vanderbilt University Medical Center",
          "Williamson County Hospital"
         ],
         "yaxis": "y"
        },
        {
         "alignmentgroup": "True",
         "hovertemplate": "from_npi_specialty=Ophthalmology<br>patient_count=%{x}<br>to_facility_name_normalised=%{y}<extra></extra>",
         "legendgroup": "Ophthalmology",
         "marker": {
          "color": "#ab63fa"
         },
         "name": "Ophthalmology",
         "offsetgroup": "Ophthalmology",
         "orientation": "h",
         "showlegend": true,
         "textposition": "auto",
         "type": "bar",
         "x": [
          1543,
          86,
          452,
          134,
          117,
          1172,
          65,
          35,
          140,
          549,
          13160,
          351
         ],
         "xaxis": "x",
         "y": [
          "Centennial Medical Center HCA",
          "Hendersonville Medical Center HCA",
          "Maury Regional Medical Center",
          "NorthCrest Medical Center",
          "Saint Thomas Rutherford Hospital",
          "Saint Thomas West Hospital",
          "Southern Hills Medical Center HCA",
          "StoneCrest Medical Center HCA",
          "Sumner Regional Medical Center",
          "TriStar Horizon Medical Center HCA",
          "Vanderbilt University Medical Center",
          "Williamson County Hospital"
         ],
         "yaxis": "y"
        },
        {
         "alignmentgroup": "True",
         "hovertemplate": "from_npi_specialty=Orthopaedic Surgery<br>patient_count=%{x}<br>to_facility_name_normalised=%{y}<extra></extra>",
         "legendgroup": "Orthopaedic Surgery",
         "marker": {
          "color": "#FFA15A"
         },
         "name": "Orthopaedic Surgery",
         "offsetgroup": "Orthopaedic Surgery",
         "orientation": "h",
         "showlegend": true,
         "textposition": "auto",
         "type": "bar",
         "x": [
          3459,
          1237,
          4431,
          785,
          1515,
          1158,
          1522,
          618,
          643,
          2095,
          961,
          484,
          954,
          1240,
          8692,
          3569
         ],
         "xaxis": "x",
         "y": [
          "Centennial Medical Center HCA",
          "Hendersonville Medical Center HCA",
          "Maury Regional Medical Center",
          "NorthCrest Medical Center",
          "Saint Thomas Midtown Hospital",
          "Saint Thomas Rutherford Hospital",
          "Saint Thomas West Hospital",
          "Southern Hills Medical Center HCA",
          "StoneCrest Medical Center HCA",
          "Summit Medical Center HCA",
          "Sumner Regional Medical Center",
          "TriStar Horizon Medical Center HCA",
          "TriStar Skyline Medical Center HCA",
          "Vanderbilt University Lebanon Medical Center",
          "Vanderbilt University Medical Center",
          "Williamson County Hospital"
         ],
         "yaxis": "y"
        },
        {
         "alignmentgroup": "True",
         "hovertemplate": "from_npi_specialty=Otolaryngology<br>patient_count=%{x}<br>to_facility_name_normalised=%{y}<extra></extra>",
         "legendgroup": "Otolaryngology",
         "marker": {
          "color": "#19d3f3"
         },
         "name": "Otolaryngology",
         "offsetgroup": "Otolaryngology",
         "orientation": "h",
         "showlegend": true,
         "textposition": "auto",
         "type": "bar",
         "x": [
          387,
          1876,
          197,
          111,
          353,
          176,
          117,
          953,
          388,
          201,
          158,
          124,
          6327,
          47
         ],
         "xaxis": "x",
         "y": [
          "Centennial Medical Center HCA",
          "Maury Regional Medical Center",
          "NorthCrest Medical Center",
          "Saint Thomas Midtown Hospital",
          "Saint Thomas West Hospital",
          "Southern Hills Medical Center HCA",
          "StoneCrest Medical Center HCA",
          "Summit Medical Center HCA",
          "Sumner Regional Medical Center",
          "TriStar Horizon Medical Center HCA",
          "TriStar Skyline Medical Center HCA",
          "Vanderbilt University Lebanon Medical Center",
          "Vanderbilt University Medical Center",
          "Williamson County Hospital"
         ],
         "yaxis": "y"
        },
        {
         "alignmentgroup": "True",
         "hovertemplate": "from_npi_specialty=Pathology<br>patient_count=%{x}<br>to_facility_name_normalised=%{y}<extra></extra>",
         "legendgroup": "Pathology",
         "marker": {
          "color": "#FF6692"
         },
         "name": "Pathology",
         "offsetgroup": "Pathology",
         "orientation": "h",
         "showlegend": true,
         "textposition": "auto",
         "type": "bar",
         "x": [
          11585,
          723,
          2669,
          556,
          3549,
          3057,
          2112,
          1271,
          1725,
          1566,
          619,
          1553,
          15367,
          1216
         ],
         "xaxis": "x",
         "y": [
          "Centennial Medical Center HCA",
          "Hendersonville Medical Center HCA",
          "Saint Thomas Midtown Hospital",
          "Saint Thomas Rutherford Hospital",
          "Saint Thomas West Hospital",
          "Southern Hills Medical Center HCA",
          "StoneCrest Medical Center HCA",
          "Summit Medical Center HCA",
          "Sumner Regional Medical Center",
          "TriStar Horizon Medical Center HCA",
          "TriStar Skyline Medical Center HCA",
          "Vanderbilt University Lebanon Medical Center",
          "Vanderbilt University Medical Center",
          "Williamson County Hospital"
         ],
         "yaxis": "y"
        },
        {
         "alignmentgroup": "True",
         "hovertemplate": "from_npi_specialty=Physician Assistant<br>patient_count=%{x}<br>to_facility_name_normalised=%{y}<extra></extra>",
         "legendgroup": "Physician Assistant",
         "marker": {
          "color": "#B6E880"
         },
         "name": "Physician Assistant",
         "offsetgroup": "Physician Assistant",
         "orientation": "h",
         "showlegend": true,
         "textposition": "auto",
         "type": "bar",
         "x": [
          2632,
          1648,
          3289,
          686,
          1116,
          755,
          235,
          711,
          1278,
          1050,
          1617,
          904,
          776,
          2123,
          878
         ],
         "xaxis": "x",
         "y": [
          "Centennial Medical Center HCA",
          "Hendersonville Medical Center HCA",
          "Maury Regional Medical Center",
          "NorthCrest Medical Center",
          "Saint Thomas Midtown Hospital",
          "Saint Thomas Rutherford Hospital",
          "Southern Hills Medical Center HCA",
          "StoneCrest Medical Center HCA",
          "Summit Medical Center HCA",
          "Sumner Regional Medical Center",
          "TriStar Horizon Medical Center HCA",
          "TriStar Skyline Medical Center HCA",
          "Vanderbilt University Lebanon Medical Center",
          "Vanderbilt University Medical Center",
          "Williamson County Hospital"
         ],
         "yaxis": "y"
        },
        {
         "alignmentgroup": "True",
         "hovertemplate": "from_npi_specialty=Psychiatry & Neurology<br>patient_count=%{x}<br>to_facility_name_normalised=%{y}<extra></extra>",
         "legendgroup": "Psychiatry & Neurology",
         "marker": {
          "color": "#FF97FF"
         },
         "name": "Psychiatry & Neurology",
         "offsetgroup": "Psychiatry & Neurology",
         "orientation": "h",
         "showlegend": true,
         "textposition": "auto",
         "type": "bar",
         "x": [
          2024,
          213,
          1928,
          213,
          568,
          946,
          1509,
          443,
          334,
          422,
          593,
          428,
          1861,
          499,
          15429,
          1108
         ],
         "xaxis": "x",
         "y": [
          "Centennial Medical Center HCA",
          "Hendersonville Medical Center HCA",
          "Maury Regional Medical Center",
          "NorthCrest Medical Center",
          "Saint Thomas Midtown Hospital",
          "Saint Thomas Rutherford Hospital",
          "Saint Thomas West Hospital",
          "Southern Hills Medical Center HCA",
          "StoneCrest Medical Center HCA",
          "Summit Medical Center HCA",
          "Sumner Regional Medical Center",
          "TriStar Horizon Medical Center HCA",
          "TriStar Skyline Medical Center HCA",
          "Vanderbilt University Lebanon Medical Center",
          "Vanderbilt University Medical Center",
          "Williamson County Hospital"
         ],
         "yaxis": "y"
        },
        {
         "alignmentgroup": "True",
         "hovertemplate": "from_npi_specialty=Radiology<br>patient_count=%{x}<br>to_facility_name_normalised=%{y}<extra></extra>",
         "legendgroup": "Radiology",
         "marker": {
          "color": "#FECB52"
         },
         "name": "Radiology",
         "offsetgroup": "Radiology",
         "orientation": "h",
         "showlegend": true,
         "textposition": "auto",
         "type": "bar",
         "x": [
          40110,
          14792,
          25693,
          9400,
          21342,
          21524,
          34746,
          9971,
          9771,
          24967,
          5442,
          13373,
          27040,
          10343,
          69766,
          19298
         ],
         "xaxis": "x",
         "y": [
          "Centennial Medical Center HCA",
          "Hendersonville Medical Center HCA",
          "Maury Regional Medical Center",
          "NorthCrest Medical Center",
          "Saint Thomas Midtown Hospital",
          "Saint Thomas Rutherford Hospital",
          "Saint Thomas West Hospital",
          "Southern Hills Medical Center HCA",
          "StoneCrest Medical Center HCA",
          "Summit Medical Center HCA",
          "Sumner Regional Medical Center",
          "TriStar Horizon Medical Center HCA",
          "TriStar Skyline Medical Center HCA",
          "Vanderbilt University Lebanon Medical Center",
          "Vanderbilt University Medical Center",
          "Williamson County Hospital"
         ],
         "yaxis": "y"
        },
        {
         "alignmentgroup": "True",
         "hovertemplate": "from_npi_specialty=Specialist<br>patient_count=%{x}<br>to_facility_name_normalised=%{y}<extra></extra>",
         "legendgroup": "Specialist",
         "marker": {
          "color": "#636efa"
         },
         "name": "Specialist",
         "offsetgroup": "Specialist",
         "orientation": "h",
         "showlegend": true,
         "textposition": "auto",
         "type": "bar",
         "x": [
          201,
          1221,
          4565,
          935,
          393,
          801,
          5946,
          235,
          1737,
          361,
          198,
          366,
          1889,
          3353
         ],
         "xaxis": "x",
         "y": [
          "Centennial Medical Center HCA",
          "Hendersonville Medical Center HCA",
          "Maury Regional Medical Center",
          "NorthCrest Medical Center",
          "Saint Thomas Midtown Hospital",
          "Saint Thomas Rutherford Hospital",
          "Saint Thomas West Hospital",
          "Southern Hills Medical Center HCA",
          "Summit Medical Center HCA",
          "Sumner Regional Medical Center",
          "TriStar Skyline Medical Center HCA",
          "Vanderbilt University Lebanon Medical Center",
          "Vanderbilt University Medical Center",
          "Williamson County Hospital"
         ],
         "yaxis": "y"
        },
        {
         "alignmentgroup": "True",
         "hovertemplate": "from_npi_specialty=Surgery<br>patient_count=%{x}<br>to_facility_name_normalised=%{y}<extra></extra>",
         "legendgroup": "Surgery",
         "marker": {
          "color": "#EF553B"
         },
         "name": "Surgery",
         "offsetgroup": "Surgery",
         "orientation": "h",
         "showlegend": true,
         "textposition": "auto",
         "type": "bar",
         "x": [
          2384,
          782,
          2089,
          819,
          2412,
          1492,
          2921,
          341,
          477,
          874,
          624,
          576,
          655,
          485,
          8266,
          1658
         ],
         "xaxis": "x",
         "y": [
          "Centennial Medical Center HCA",
          "Hendersonville Medical Center HCA",
          "Maury Regional Medical Center",
          "NorthCrest Medical Center",
          "Saint Thomas Midtown Hospital",
          "Saint Thomas Rutherford Hospital",
          "Saint Thomas West Hospital",
          "Southern Hills Medical Center HCA",
          "StoneCrest Medical Center HCA",
          "Summit Medical Center HCA",
          "Sumner Regional Medical Center",
          "TriStar Horizon Medical Center HCA",
          "TriStar Skyline Medical Center HCA",
          "Vanderbilt University Lebanon Medical Center",
          "Vanderbilt University Medical Center",
          "Williamson County Hospital"
         ],
         "yaxis": "y"
        },
        {
         "alignmentgroup": "True",
         "hovertemplate": "from_npi_specialty=Urology<br>patient_count=%{x}<br>to_facility_name_normalised=%{y}<extra></extra>",
         "legendgroup": "Urology",
         "marker": {
          "color": "#00cc96"
         },
         "name": "Urology",
         "offsetgroup": "Urology",
         "orientation": "h",
         "showlegend": true,
         "textposition": "auto",
         "type": "bar",
         "x": [
          1706,
          911,
          1216,
          299,
          366,
          1038,
          1152,
          440,
          289,
          869,
          1115,
          333,
          409,
          78,
          5481,
          1272
         ],
         "xaxis": "x",
         "y": [
          "Centennial Medical Center HCA",
          "Hendersonville Medical Center HCA",
          "Maury Regional Medical Center",
          "NorthCrest Medical Center",
          "Saint Thomas Midtown Hospital",
          "Saint Thomas Rutherford Hospital",
          "Saint Thomas West Hospital",
          "Southern Hills Medical Center HCA",
          "StoneCrest Medical Center HCA",
          "Summit Medical Center HCA",
          "Sumner Regional Medical Center",
          "TriStar Horizon Medical Center HCA",
          "TriStar Skyline Medical Center HCA",
          "Vanderbilt University Lebanon Medical Center",
          "Vanderbilt University Medical Center",
          "Williamson County Hospital"
         ],
         "yaxis": "y"
        }
       ],
       "layout": {
        "barmode": "relative",
        "legend": {
         "title": {
          "text": "from_npi_specialty"
         },
         "tracegroupgap": 0
        },
        "template": {
         "data": {
          "bar": [
           {
            "error_x": {
             "color": "#2a3f5f"
            },
            "error_y": {
             "color": "#2a3f5f"
            },
            "marker": {
             "line": {
              "color": "#E5ECF6",
              "width": 0.5
             }
            },
            "type": "bar"
           }
          ],
          "barpolar": [
           {
            "marker": {
             "line": {
              "color": "#E5ECF6",
              "width": 0.5
             }
            },
            "type": "barpolar"
           }
          ],
          "carpet": [
           {
            "aaxis": {
             "endlinecolor": "#2a3f5f",
             "gridcolor": "white",
             "linecolor": "white",
             "minorgridcolor": "white",
             "startlinecolor": "#2a3f5f"
            },
            "baxis": {
             "endlinecolor": "#2a3f5f",
             "gridcolor": "white",
             "linecolor": "white",
             "minorgridcolor": "white",
             "startlinecolor": "#2a3f5f"
            },
            "type": "carpet"
           }
          ],
          "choropleth": [
           {
            "colorbar": {
             "outlinewidth": 0,
             "ticks": ""
            },
            "type": "choropleth"
           }
          ],
          "contour": [
           {
            "colorbar": {
             "outlinewidth": 0,
             "ticks": ""
            },
            "colorscale": [
             [
              0,
              "#0d0887"
             ],
             [
              0.1111111111111111,
              "#46039f"
             ],
             [
              0.2222222222222222,
              "#7201a8"
             ],
             [
              0.3333333333333333,
              "#9c179e"
             ],
             [
              0.4444444444444444,
              "#bd3786"
             ],
             [
              0.5555555555555556,
              "#d8576b"
             ],
             [
              0.6666666666666666,
              "#ed7953"
             ],
             [
              0.7777777777777778,
              "#fb9f3a"
             ],
             [
              0.8888888888888888,
              "#fdca26"
             ],
             [
              1,
              "#f0f921"
             ]
            ],
            "type": "contour"
           }
          ],
          "contourcarpet": [
           {
            "colorbar": {
             "outlinewidth": 0,
             "ticks": ""
            },
            "type": "contourcarpet"
           }
          ],
          "heatmap": [
           {
            "colorbar": {
             "outlinewidth": 0,
             "ticks": ""
            },
            "colorscale": [
             [
              0,
              "#0d0887"
             ],
             [
              0.1111111111111111,
              "#46039f"
             ],
             [
              0.2222222222222222,
              "#7201a8"
             ],
             [
              0.3333333333333333,
              "#9c179e"
             ],
             [
              0.4444444444444444,
              "#bd3786"
             ],
             [
              0.5555555555555556,
              "#d8576b"
             ],
             [
              0.6666666666666666,
              "#ed7953"
             ],
             [
              0.7777777777777778,
              "#fb9f3a"
             ],
             [
              0.8888888888888888,
              "#fdca26"
             ],
             [
              1,
              "#f0f921"
             ]
            ],
            "type": "heatmap"
           }
          ],
          "heatmapgl": [
           {
            "colorbar": {
             "outlinewidth": 0,
             "ticks": ""
            },
            "colorscale": [
             [
              0,
              "#0d0887"
             ],
             [
              0.1111111111111111,
              "#46039f"
             ],
             [
              0.2222222222222222,
              "#7201a8"
             ],
             [
              0.3333333333333333,
              "#9c179e"
             ],
             [
              0.4444444444444444,
              "#bd3786"
             ],
             [
              0.5555555555555556,
              "#d8576b"
             ],
             [
              0.6666666666666666,
              "#ed7953"
             ],
             [
              0.7777777777777778,
              "#fb9f3a"
             ],
             [
              0.8888888888888888,
              "#fdca26"
             ],
             [
              1,
              "#f0f921"
             ]
            ],
            "type": "heatmapgl"
           }
          ],
          "histogram": [
           {
            "marker": {
             "colorbar": {
              "outlinewidth": 0,
              "ticks": ""
             }
            },
            "type": "histogram"
           }
          ],
          "histogram2d": [
           {
            "colorbar": {
             "outlinewidth": 0,
             "ticks": ""
            },
            "colorscale": [
             [
              0,
              "#0d0887"
             ],
             [
              0.1111111111111111,
              "#46039f"
             ],
             [
              0.2222222222222222,
              "#7201a8"
             ],
             [
              0.3333333333333333,
              "#9c179e"
             ],
             [
              0.4444444444444444,
              "#bd3786"
             ],
             [
              0.5555555555555556,
              "#d8576b"
             ],
             [
              0.6666666666666666,
              "#ed7953"
             ],
             [
              0.7777777777777778,
              "#fb9f3a"
             ],
             [
              0.8888888888888888,
              "#fdca26"
             ],
             [
              1,
              "#f0f921"
             ]
            ],
            "type": "histogram2d"
           }
          ],
          "histogram2dcontour": [
           {
            "colorbar": {
             "outlinewidth": 0,
             "ticks": ""
            },
            "colorscale": [
             [
              0,
              "#0d0887"
             ],
             [
              0.1111111111111111,
              "#46039f"
             ],
             [
              0.2222222222222222,
              "#7201a8"
             ],
             [
              0.3333333333333333,
              "#9c179e"
             ],
             [
              0.4444444444444444,
              "#bd3786"
             ],
             [
              0.5555555555555556,
              "#d8576b"
             ],
             [
              0.6666666666666666,
              "#ed7953"
             ],
             [
              0.7777777777777778,
              "#fb9f3a"
             ],
             [
              0.8888888888888888,
              "#fdca26"
             ],
             [
              1,
              "#f0f921"
             ]
            ],
            "type": "histogram2dcontour"
           }
          ],
          "mesh3d": [
           {
            "colorbar": {
             "outlinewidth": 0,
             "ticks": ""
            },
            "type": "mesh3d"
           }
          ],
          "parcoords": [
           {
            "line": {
             "colorbar": {
              "outlinewidth": 0,
              "ticks": ""
             }
            },
            "type": "parcoords"
           }
          ],
          "pie": [
           {
            "automargin": true,
            "type": "pie"
           }
          ],
          "scatter": [
           {
            "marker": {
             "colorbar": {
              "outlinewidth": 0,
              "ticks": ""
             }
            },
            "type": "scatter"
           }
          ],
          "scatter3d": [
           {
            "line": {
             "colorbar": {
              "outlinewidth": 0,
              "ticks": ""
             }
            },
            "marker": {
             "colorbar": {
              "outlinewidth": 0,
              "ticks": ""
             }
            },
            "type": "scatter3d"
           }
          ],
          "scattercarpet": [
           {
            "marker": {
             "colorbar": {
              "outlinewidth": 0,
              "ticks": ""
             }
            },
            "type": "scattercarpet"
           }
          ],
          "scattergeo": [
           {
            "marker": {
             "colorbar": {
              "outlinewidth": 0,
              "ticks": ""
             }
            },
            "type": "scattergeo"
           }
          ],
          "scattergl": [
           {
            "marker": {
             "colorbar": {
              "outlinewidth": 0,
              "ticks": ""
             }
            },
            "type": "scattergl"
           }
          ],
          "scattermapbox": [
           {
            "marker": {
             "colorbar": {
              "outlinewidth": 0,
              "ticks": ""
             }
            },
            "type": "scattermapbox"
           }
          ],
          "scatterpolar": [
           {
            "marker": {
             "colorbar": {
              "outlinewidth": 0,
              "ticks": ""
             }
            },
            "type": "scatterpolar"
           }
          ],
          "scatterpolargl": [
           {
            "marker": {
             "colorbar": {
              "outlinewidth": 0,
              "ticks": ""
             }
            },
            "type": "scatterpolargl"
           }
          ],
          "scatterternary": [
           {
            "marker": {
             "colorbar": {
              "outlinewidth": 0,
              "ticks": ""
             }
            },
            "type": "scatterternary"
           }
          ],
          "surface": [
           {
            "colorbar": {
             "outlinewidth": 0,
             "ticks": ""
            },
            "colorscale": [
             [
              0,
              "#0d0887"
             ],
             [
              0.1111111111111111,
              "#46039f"
             ],
             [
              0.2222222222222222,
              "#7201a8"
             ],
             [
              0.3333333333333333,
              "#9c179e"
             ],
             [
              0.4444444444444444,
              "#bd3786"
             ],
             [
              0.5555555555555556,
              "#d8576b"
             ],
             [
              0.6666666666666666,
              "#ed7953"
             ],
             [
              0.7777777777777778,
              "#fb9f3a"
             ],
             [
              0.8888888888888888,
              "#fdca26"
             ],
             [
              1,
              "#f0f921"
             ]
            ],
            "type": "surface"
           }
          ],
          "table": [
           {
            "cells": {
             "fill": {
              "color": "#EBF0F8"
             },
             "line": {
              "color": "white"
             }
            },
            "header": {
             "fill": {
              "color": "#C8D4E3"
             },
             "line": {
              "color": "white"
             }
            },
            "type": "table"
           }
          ]
         },
         "layout": {
          "annotationdefaults": {
           "arrowcolor": "#2a3f5f",
           "arrowhead": 0,
           "arrowwidth": 1
          },
          "coloraxis": {
           "colorbar": {
            "outlinewidth": 0,
            "ticks": ""
           }
          },
          "colorscale": {
           "diverging": [
            [
             0,
             "#8e0152"
            ],
            [
             0.1,
             "#c51b7d"
            ],
            [
             0.2,
             "#de77ae"
            ],
            [
             0.3,
             "#f1b6da"
            ],
            [
             0.4,
             "#fde0ef"
            ],
            [
             0.5,
             "#f7f7f7"
            ],
            [
             0.6,
             "#e6f5d0"
            ],
            [
             0.7,
             "#b8e186"
            ],
            [
             0.8,
             "#7fbc41"
            ],
            [
             0.9,
             "#4d9221"
            ],
            [
             1,
             "#276419"
            ]
           ],
           "sequential": [
            [
             0,
             "#0d0887"
            ],
            [
             0.1111111111111111,
             "#46039f"
            ],
            [
             0.2222222222222222,
             "#7201a8"
            ],
            [
             0.3333333333333333,
             "#9c179e"
            ],
            [
             0.4444444444444444,
             "#bd3786"
            ],
            [
             0.5555555555555556,
             "#d8576b"
            ],
            [
             0.6666666666666666,
             "#ed7953"
            ],
            [
             0.7777777777777778,
             "#fb9f3a"
            ],
            [
             0.8888888888888888,
             "#fdca26"
            ],
            [
             1,
             "#f0f921"
            ]
           ],
           "sequentialminus": [
            [
             0,
             "#0d0887"
            ],
            [
             0.1111111111111111,
             "#46039f"
            ],
            [
             0.2222222222222222,
             "#7201a8"
            ],
            [
             0.3333333333333333,
             "#9c179e"
            ],
            [
             0.4444444444444444,
             "#bd3786"
            ],
            [
             0.5555555555555556,
             "#d8576b"
            ],
            [
             0.6666666666666666,
             "#ed7953"
            ],
            [
             0.7777777777777778,
             "#fb9f3a"
            ],
            [
             0.8888888888888888,
             "#fdca26"
            ],
            [
             1,
             "#f0f921"
            ]
           ]
          },
          "colorway": [
           "#636efa",
           "#EF553B",
           "#00cc96",
           "#ab63fa",
           "#FFA15A",
           "#19d3f3",
           "#FF6692",
           "#B6E880",
           "#FF97FF",
           "#FECB52"
          ],
          "font": {
           "color": "#2a3f5f"
          },
          "geo": {
           "bgcolor": "white",
           "lakecolor": "white",
           "landcolor": "#E5ECF6",
           "showlakes": true,
           "showland": true,
           "subunitcolor": "white"
          },
          "hoverlabel": {
           "align": "left"
          },
          "hovermode": "closest",
          "mapbox": {
           "style": "light"
          },
          "paper_bgcolor": "white",
          "plot_bgcolor": "#E5ECF6",
          "polar": {
           "angularaxis": {
            "gridcolor": "white",
            "linecolor": "white",
            "ticks": ""
           },
           "bgcolor": "#E5ECF6",
           "radialaxis": {
            "gridcolor": "white",
            "linecolor": "white",
            "ticks": ""
           }
          },
          "scene": {
           "xaxis": {
            "backgroundcolor": "#E5ECF6",
            "gridcolor": "white",
            "gridwidth": 2,
            "linecolor": "white",
            "showbackground": true,
            "ticks": "",
            "zerolinecolor": "white"
           },
           "yaxis": {
            "backgroundcolor": "#E5ECF6",
            "gridcolor": "white",
            "gridwidth": 2,
            "linecolor": "white",
            "showbackground": true,
            "ticks": "",
            "zerolinecolor": "white"
           },
           "zaxis": {
            "backgroundcolor": "#E5ECF6",
            "gridcolor": "white",
            "gridwidth": 2,
            "linecolor": "white",
            "showbackground": true,
            "ticks": "",
            "zerolinecolor": "white"
           }
          },
          "shapedefaults": {
           "line": {
            "color": "#2a3f5f"
           }
          },
          "ternary": {
           "aaxis": {
            "gridcolor": "white",
            "linecolor": "white",
            "ticks": ""
           },
           "baxis": {
            "gridcolor": "white",
            "linecolor": "white",
            "ticks": ""
           },
           "bgcolor": "#E5ECF6",
           "caxis": {
            "gridcolor": "white",
            "linecolor": "white",
            "ticks": ""
           }
          },
          "title": {
           "x": 0.05
          },
          "xaxis": {
           "automargin": true,
           "gridcolor": "white",
           "linecolor": "white",
           "ticks": "",
           "title": {
            "standoff": 15
           },
           "zerolinecolor": "white",
           "zerolinewidth": 2
          },
          "yaxis": {
           "automargin": true,
           "gridcolor": "white",
           "linecolor": "white",
           "ticks": "",
           "title": {
            "standoff": 15
           },
           "zerolinecolor": "white",
           "zerolinewidth": 2
          }
         }
        },
        "title": {
         "text": "Referrals by Specialty"
        },
        "xaxis": {
         "anchor": "y",
         "domain": [
          0,
          1
         ],
         "title": {
          "text": "Patient Count"
         }
        },
        "yaxis": {
         "anchor": "x",
         "domain": [
          0,
          1
         ],
         "title": {}
        }
       }
      },
      "text/html": [
       "<div>                            <div id=\"60bf947b-8c47-43ab-b3c6-767c726247e8\" class=\"plotly-graph-div\" style=\"height:525px; width:100%;\"></div>            <script type=\"text/javascript\">                require([\"plotly\"], function(Plotly) {                    window.PLOTLYENV=window.PLOTLYENV || {};                                    if (document.getElementById(\"60bf947b-8c47-43ab-b3c6-767c726247e8\")) {                    Plotly.newPlot(                        \"60bf947b-8c47-43ab-b3c6-767c726247e8\",                        [{\"alignmentgroup\": \"True\", \"hovertemplate\": \"from_npi_specialty=Family Medicine<br>patient_count=%{x}<br>to_facility_name_normalised=%{y}<extra></extra>\", \"legendgroup\": \"Family Medicine\", \"marker\": {\"color\": \"#636efa\"}, \"name\": \"Family Medicine\", \"offsetgroup\": \"Family Medicine\", \"orientation\": \"h\", \"showlegend\": true, \"textposition\": \"auto\", \"type\": \"bar\", \"x\": [2220, 3620, 6522, 2189, 735, 2987, 660, 2581, 1066, 3275, 3613, 2188, 2378, 2024, 11842, 3991], \"xaxis\": \"x\", \"y\": [\"Centennial Medical Center HCA\", \"Hendersonville Medical Center HCA\", \"Maury Regional Medical Center\", \"NorthCrest Medical Center\", \"Saint Thomas Midtown Hospital\", \"Saint Thomas Rutherford Hospital\", \"Saint Thomas West Hospital\", \"Southern Hills Medical Center HCA\", \"StoneCrest Medical Center HCA\", \"Summit Medical Center HCA\", \"Sumner Regional Medical Center\", \"TriStar Horizon Medical Center HCA\", \"TriStar Skyline Medical Center HCA\", \"Vanderbilt University Lebanon Medical Center\", \"Vanderbilt University Medical Center\", \"Williamson County Hospital\"], \"yaxis\": \"y\"}, {\"alignmentgroup\": \"True\", \"hovertemplate\": \"from_npi_specialty=Internal Medicine<br>patient_count=%{x}<br>to_facility_name_normalised=%{y}<extra></extra>\", \"legendgroup\": \"Internal Medicine\", \"marker\": {\"color\": \"#EF553B\"}, \"name\": \"Internal Medicine\", \"offsetgroup\": \"Internal Medicine\", \"orientation\": \"h\", \"showlegend\": true, \"textposition\": \"auto\", \"type\": \"bar\", \"x\": [50122, 13316, 25172, 5719, 25285, 23919, 46091, 6200, 5733, 14957, 19025, 7251, 18206, 8646, 138232, 20348], \"xaxis\": \"x\", \"y\": [\"Centennial Medical Center HCA\", \"Hendersonville Medical Center HCA\", \"Maury Regional Medical Center\", \"NorthCrest Medical Center\", \"Saint Thomas Midtown Hospital\", \"Saint Thomas Rutherford Hospital\", \"Saint Thomas West Hospital\", \"Southern Hills Medical Center HCA\", \"StoneCrest Medical Center HCA\", \"Summit Medical Center HCA\", \"Sumner Regional Medical Center\", \"TriStar Horizon Medical Center HCA\", \"TriStar Skyline Medical Center HCA\", \"Vanderbilt University Lebanon Medical Center\", \"Vanderbilt University Medical Center\", \"Williamson County Hospital\"], \"yaxis\": \"y\"}, {\"alignmentgroup\": \"True\", \"hovertemplate\": \"from_npi_specialty=Nurse Practitioner<br>patient_count=%{x}<br>to_facility_name_normalised=%{y}<extra></extra>\", \"legendgroup\": \"Nurse Practitioner\", \"marker\": {\"color\": \"#00cc96\"}, \"name\": \"Nurse Practitioner\", \"offsetgroup\": \"Nurse Practitioner\", \"orientation\": \"h\", \"showlegend\": true, \"textposition\": \"auto\", \"type\": \"bar\", \"x\": [6400, 2557, 7012, 1692, 2889, 2431, 7931, 1178, 1040, 1632, 2671, 2036, 3842, 1923, 33901, 2333], \"xaxis\": \"x\", \"y\": [\"Centennial Medical Center HCA\", \"Hendersonville Medical Center HCA\", \"Maury Regional Medical Center\", \"NorthCrest Medical Center\", \"Saint Thomas Midtown Hospital\", \"Saint Thomas Rutherford Hospital\", \"Saint Thomas West Hospital\", \"Southern Hills Medical Center HCA\", \"StoneCrest Medical Center HCA\", \"Summit Medical Center HCA\", \"Sumner Regional Medical Center\", \"TriStar Horizon Medical Center HCA\", \"TriStar Skyline Medical Center HCA\", \"Vanderbilt University Lebanon Medical Center\", \"Vanderbilt University Medical Center\", \"Williamson County Hospital\"], \"yaxis\": \"y\"}, {\"alignmentgroup\": \"True\", \"hovertemplate\": \"from_npi_specialty=Ophthalmology<br>patient_count=%{x}<br>to_facility_name_normalised=%{y}<extra></extra>\", \"legendgroup\": \"Ophthalmology\", \"marker\": {\"color\": \"#ab63fa\"}, \"name\": \"Ophthalmology\", \"offsetgroup\": \"Ophthalmology\", \"orientation\": \"h\", \"showlegend\": true, \"textposition\": \"auto\", \"type\": \"bar\", \"x\": [1543, 86, 452, 134, 117, 1172, 65, 35, 140, 549, 13160, 351], \"xaxis\": \"x\", \"y\": [\"Centennial Medical Center HCA\", \"Hendersonville Medical Center HCA\", \"Maury Regional Medical Center\", \"NorthCrest Medical Center\", \"Saint Thomas Rutherford Hospital\", \"Saint Thomas West Hospital\", \"Southern Hills Medical Center HCA\", \"StoneCrest Medical Center HCA\", \"Sumner Regional Medical Center\", \"TriStar Horizon Medical Center HCA\", \"Vanderbilt University Medical Center\", \"Williamson County Hospital\"], \"yaxis\": \"y\"}, {\"alignmentgroup\": \"True\", \"hovertemplate\": \"from_npi_specialty=Orthopaedic Surgery<br>patient_count=%{x}<br>to_facility_name_normalised=%{y}<extra></extra>\", \"legendgroup\": \"Orthopaedic Surgery\", \"marker\": {\"color\": \"#FFA15A\"}, \"name\": \"Orthopaedic Surgery\", \"offsetgroup\": \"Orthopaedic Surgery\", \"orientation\": \"h\", \"showlegend\": true, \"textposition\": \"auto\", \"type\": \"bar\", \"x\": [3459, 1237, 4431, 785, 1515, 1158, 1522, 618, 643, 2095, 961, 484, 954, 1240, 8692, 3569], \"xaxis\": \"x\", \"y\": [\"Centennial Medical Center HCA\", \"Hendersonville Medical Center HCA\", \"Maury Regional Medical Center\", \"NorthCrest Medical Center\", \"Saint Thomas Midtown Hospital\", \"Saint Thomas Rutherford Hospital\", \"Saint Thomas West Hospital\", \"Southern Hills Medical Center HCA\", \"StoneCrest Medical Center HCA\", \"Summit Medical Center HCA\", \"Sumner Regional Medical Center\", \"TriStar Horizon Medical Center HCA\", \"TriStar Skyline Medical Center HCA\", \"Vanderbilt University Lebanon Medical Center\", \"Vanderbilt University Medical Center\", \"Williamson County Hospital\"], \"yaxis\": \"y\"}, {\"alignmentgroup\": \"True\", \"hovertemplate\": \"from_npi_specialty=Otolaryngology<br>patient_count=%{x}<br>to_facility_name_normalised=%{y}<extra></extra>\", \"legendgroup\": \"Otolaryngology\", \"marker\": {\"color\": \"#19d3f3\"}, \"name\": \"Otolaryngology\", \"offsetgroup\": \"Otolaryngology\", \"orientation\": \"h\", \"showlegend\": true, \"textposition\": \"auto\", \"type\": \"bar\", \"x\": [387, 1876, 197, 111, 353, 176, 117, 953, 388, 201, 158, 124, 6327, 47], \"xaxis\": \"x\", \"y\": [\"Centennial Medical Center HCA\", \"Maury Regional Medical Center\", \"NorthCrest Medical Center\", \"Saint Thomas Midtown Hospital\", \"Saint Thomas West Hospital\", \"Southern Hills Medical Center HCA\", \"StoneCrest Medical Center HCA\", \"Summit Medical Center HCA\", \"Sumner Regional Medical Center\", \"TriStar Horizon Medical Center HCA\", \"TriStar Skyline Medical Center HCA\", \"Vanderbilt University Lebanon Medical Center\", \"Vanderbilt University Medical Center\", \"Williamson County Hospital\"], \"yaxis\": \"y\"}, {\"alignmentgroup\": \"True\", \"hovertemplate\": \"from_npi_specialty=Pathology<br>patient_count=%{x}<br>to_facility_name_normalised=%{y}<extra></extra>\", \"legendgroup\": \"Pathology\", \"marker\": {\"color\": \"#FF6692\"}, \"name\": \"Pathology\", \"offsetgroup\": \"Pathology\", \"orientation\": \"h\", \"showlegend\": true, \"textposition\": \"auto\", \"type\": \"bar\", \"x\": [11585, 723, 2669, 556, 3549, 3057, 2112, 1271, 1725, 1566, 619, 1553, 15367, 1216], \"xaxis\": \"x\", \"y\": [\"Centennial Medical Center HCA\", \"Hendersonville Medical Center HCA\", \"Saint Thomas Midtown Hospital\", \"Saint Thomas Rutherford Hospital\", \"Saint Thomas West Hospital\", \"Southern Hills Medical Center HCA\", \"StoneCrest Medical Center HCA\", \"Summit Medical Center HCA\", \"Sumner Regional Medical Center\", \"TriStar Horizon Medical Center HCA\", \"TriStar Skyline Medical Center HCA\", \"Vanderbilt University Lebanon Medical Center\", \"Vanderbilt University Medical Center\", \"Williamson County Hospital\"], \"yaxis\": \"y\"}, {\"alignmentgroup\": \"True\", \"hovertemplate\": \"from_npi_specialty=Physician Assistant<br>patient_count=%{x}<br>to_facility_name_normalised=%{y}<extra></extra>\", \"legendgroup\": \"Physician Assistant\", \"marker\": {\"color\": \"#B6E880\"}, \"name\": \"Physician Assistant\", \"offsetgroup\": \"Physician Assistant\", \"orientation\": \"h\", \"showlegend\": true, \"textposition\": \"auto\", \"type\": \"bar\", \"x\": [2632, 1648, 3289, 686, 1116, 755, 235, 711, 1278, 1050, 1617, 904, 776, 2123, 878], \"xaxis\": \"x\", \"y\": [\"Centennial Medical Center HCA\", \"Hendersonville Medical Center HCA\", \"Maury Regional Medical Center\", \"NorthCrest Medical Center\", \"Saint Thomas Midtown Hospital\", \"Saint Thomas Rutherford Hospital\", \"Southern Hills Medical Center HCA\", \"StoneCrest Medical Center HCA\", \"Summit Medical Center HCA\", \"Sumner Regional Medical Center\", \"TriStar Horizon Medical Center HCA\", \"TriStar Skyline Medical Center HCA\", \"Vanderbilt University Lebanon Medical Center\", \"Vanderbilt University Medical Center\", \"Williamson County Hospital\"], \"yaxis\": \"y\"}, {\"alignmentgroup\": \"True\", \"hovertemplate\": \"from_npi_specialty=Psychiatry & Neurology<br>patient_count=%{x}<br>to_facility_name_normalised=%{y}<extra></extra>\", \"legendgroup\": \"Psychiatry & Neurology\", \"marker\": {\"color\": \"#FF97FF\"}, \"name\": \"Psychiatry & Neurology\", \"offsetgroup\": \"Psychiatry & Neurology\", \"orientation\": \"h\", \"showlegend\": true, \"textposition\": \"auto\", \"type\": \"bar\", \"x\": [2024, 213, 1928, 213, 568, 946, 1509, 443, 334, 422, 593, 428, 1861, 499, 15429, 1108], \"xaxis\": \"x\", \"y\": [\"Centennial Medical Center HCA\", \"Hendersonville Medical Center HCA\", \"Maury Regional Medical Center\", \"NorthCrest Medical Center\", \"Saint Thomas Midtown Hospital\", \"Saint Thomas Rutherford Hospital\", \"Saint Thomas West Hospital\", \"Southern Hills Medical Center HCA\", \"StoneCrest Medical Center HCA\", \"Summit Medical Center HCA\", \"Sumner Regional Medical Center\", \"TriStar Horizon Medical Center HCA\", \"TriStar Skyline Medical Center HCA\", \"Vanderbilt University Lebanon Medical Center\", \"Vanderbilt University Medical Center\", \"Williamson County Hospital\"], \"yaxis\": \"y\"}, {\"alignmentgroup\": \"True\", \"hovertemplate\": \"from_npi_specialty=Radiology<br>patient_count=%{x}<br>to_facility_name_normalised=%{y}<extra></extra>\", \"legendgroup\": \"Radiology\", \"marker\": {\"color\": \"#FECB52\"}, \"name\": \"Radiology\", \"offsetgroup\": \"Radiology\", \"orientation\": \"h\", \"showlegend\": true, \"textposition\": \"auto\", \"type\": \"bar\", \"x\": [40110, 14792, 25693, 9400, 21342, 21524, 34746, 9971, 9771, 24967, 5442, 13373, 27040, 10343, 69766, 19298], \"xaxis\": \"x\", \"y\": [\"Centennial Medical Center HCA\", \"Hendersonville Medical Center HCA\", \"Maury Regional Medical Center\", \"NorthCrest Medical Center\", \"Saint Thomas Midtown Hospital\", \"Saint Thomas Rutherford Hospital\", \"Saint Thomas West Hospital\", \"Southern Hills Medical Center HCA\", \"StoneCrest Medical Center HCA\", \"Summit Medical Center HCA\", \"Sumner Regional Medical Center\", \"TriStar Horizon Medical Center HCA\", \"TriStar Skyline Medical Center HCA\", \"Vanderbilt University Lebanon Medical Center\", \"Vanderbilt University Medical Center\", \"Williamson County Hospital\"], \"yaxis\": \"y\"}, {\"alignmentgroup\": \"True\", \"hovertemplate\": \"from_npi_specialty=Specialist<br>patient_count=%{x}<br>to_facility_name_normalised=%{y}<extra></extra>\", \"legendgroup\": \"Specialist\", \"marker\": {\"color\": \"#636efa\"}, \"name\": \"Specialist\", \"offsetgroup\": \"Specialist\", \"orientation\": \"h\", \"showlegend\": true, \"textposition\": \"auto\", \"type\": \"bar\", \"x\": [201, 1221, 4565, 935, 393, 801, 5946, 235, 1737, 361, 198, 366, 1889, 3353], \"xaxis\": \"x\", \"y\": [\"Centennial Medical Center HCA\", \"Hendersonville Medical Center HCA\", \"Maury Regional Medical Center\", \"NorthCrest Medical Center\", \"Saint Thomas Midtown Hospital\", \"Saint Thomas Rutherford Hospital\", \"Saint Thomas West Hospital\", \"Southern Hills Medical Center HCA\", \"Summit Medical Center HCA\", \"Sumner Regional Medical Center\", \"TriStar Skyline Medical Center HCA\", \"Vanderbilt University Lebanon Medical Center\", \"Vanderbilt University Medical Center\", \"Williamson County Hospital\"], \"yaxis\": \"y\"}, {\"alignmentgroup\": \"True\", \"hovertemplate\": \"from_npi_specialty=Surgery<br>patient_count=%{x}<br>to_facility_name_normalised=%{y}<extra></extra>\", \"legendgroup\": \"Surgery\", \"marker\": {\"color\": \"#EF553B\"}, \"name\": \"Surgery\", \"offsetgroup\": \"Surgery\", \"orientation\": \"h\", \"showlegend\": true, \"textposition\": \"auto\", \"type\": \"bar\", \"x\": [2384, 782, 2089, 819, 2412, 1492, 2921, 341, 477, 874, 624, 576, 655, 485, 8266, 1658], \"xaxis\": \"x\", \"y\": [\"Centennial Medical Center HCA\", \"Hendersonville Medical Center HCA\", \"Maury Regional Medical Center\", \"NorthCrest Medical Center\", \"Saint Thomas Midtown Hospital\", \"Saint Thomas Rutherford Hospital\", \"Saint Thomas West Hospital\", \"Southern Hills Medical Center HCA\", \"StoneCrest Medical Center HCA\", \"Summit Medical Center HCA\", \"Sumner Regional Medical Center\", \"TriStar Horizon Medical Center HCA\", \"TriStar Skyline Medical Center HCA\", \"Vanderbilt University Lebanon Medical Center\", \"Vanderbilt University Medical Center\", \"Williamson County Hospital\"], \"yaxis\": \"y\"}, {\"alignmentgroup\": \"True\", \"hovertemplate\": \"from_npi_specialty=Urology<br>patient_count=%{x}<br>to_facility_name_normalised=%{y}<extra></extra>\", \"legendgroup\": \"Urology\", \"marker\": {\"color\": \"#00cc96\"}, \"name\": \"Urology\", \"offsetgroup\": \"Urology\", \"orientation\": \"h\", \"showlegend\": true, \"textposition\": \"auto\", \"type\": \"bar\", \"x\": [1706, 911, 1216, 299, 366, 1038, 1152, 440, 289, 869, 1115, 333, 409, 78, 5481, 1272], \"xaxis\": \"x\", \"y\": [\"Centennial Medical Center HCA\", \"Hendersonville Medical Center HCA\", \"Maury Regional Medical Center\", \"NorthCrest Medical Center\", \"Saint Thomas Midtown Hospital\", \"Saint Thomas Rutherford Hospital\", \"Saint Thomas West Hospital\", \"Southern Hills Medical Center HCA\", \"StoneCrest Medical Center HCA\", \"Summit Medical Center HCA\", \"Sumner Regional Medical Center\", \"TriStar Horizon Medical Center HCA\", \"TriStar Skyline Medical Center HCA\", \"Vanderbilt University Lebanon Medical Center\", \"Vanderbilt University Medical Center\", \"Williamson County Hospital\"], \"yaxis\": \"y\"}],                        {\"barmode\": \"relative\", \"legend\": {\"title\": {\"text\": \"from_npi_specialty\"}, \"tracegroupgap\": 0}, \"template\": {\"data\": {\"bar\": [{\"error_x\": {\"color\": \"#2a3f5f\"}, \"error_y\": {\"color\": \"#2a3f5f\"}, \"marker\": {\"line\": {\"color\": \"#E5ECF6\", \"width\": 0.5}}, \"type\": \"bar\"}], \"barpolar\": [{\"marker\": {\"line\": {\"color\": \"#E5ECF6\", \"width\": 0.5}}, \"type\": \"barpolar\"}], \"carpet\": [{\"aaxis\": {\"endlinecolor\": \"#2a3f5f\", \"gridcolor\": \"white\", \"linecolor\": \"white\", \"minorgridcolor\": \"white\", \"startlinecolor\": \"#2a3f5f\"}, \"baxis\": {\"endlinecolor\": \"#2a3f5f\", \"gridcolor\": \"white\", \"linecolor\": \"white\", \"minorgridcolor\": \"white\", \"startlinecolor\": \"#2a3f5f\"}, \"type\": \"carpet\"}], \"choropleth\": [{\"colorbar\": {\"outlinewidth\": 0, \"ticks\": \"\"}, \"type\": \"choropleth\"}], \"contour\": [{\"colorbar\": {\"outlinewidth\": 0, \"ticks\": \"\"}, \"colorscale\": [[0.0, \"#0d0887\"], [0.1111111111111111, \"#46039f\"], [0.2222222222222222, \"#7201a8\"], [0.3333333333333333, \"#9c179e\"], [0.4444444444444444, \"#bd3786\"], [0.5555555555555556, \"#d8576b\"], [0.6666666666666666, \"#ed7953\"], [0.7777777777777778, \"#fb9f3a\"], [0.8888888888888888, \"#fdca26\"], [1.0, \"#f0f921\"]], \"type\": \"contour\"}], \"contourcarpet\": [{\"colorbar\": {\"outlinewidth\": 0, \"ticks\": \"\"}, \"type\": \"contourcarpet\"}], \"heatmap\": [{\"colorbar\": {\"outlinewidth\": 0, \"ticks\": \"\"}, \"colorscale\": [[0.0, \"#0d0887\"], [0.1111111111111111, \"#46039f\"], [0.2222222222222222, \"#7201a8\"], [0.3333333333333333, \"#9c179e\"], [0.4444444444444444, \"#bd3786\"], [0.5555555555555556, \"#d8576b\"], [0.6666666666666666, \"#ed7953\"], [0.7777777777777778, \"#fb9f3a\"], [0.8888888888888888, \"#fdca26\"], [1.0, \"#f0f921\"]], \"type\": \"heatmap\"}], \"heatmapgl\": [{\"colorbar\": {\"outlinewidth\": 0, \"ticks\": \"\"}, \"colorscale\": [[0.0, \"#0d0887\"], [0.1111111111111111, \"#46039f\"], [0.2222222222222222, \"#7201a8\"], [0.3333333333333333, \"#9c179e\"], [0.4444444444444444, \"#bd3786\"], [0.5555555555555556, \"#d8576b\"], [0.6666666666666666, \"#ed7953\"], [0.7777777777777778, \"#fb9f3a\"], [0.8888888888888888, \"#fdca26\"], [1.0, \"#f0f921\"]], \"type\": \"heatmapgl\"}], \"histogram\": [{\"marker\": {\"colorbar\": {\"outlinewidth\": 0, \"ticks\": \"\"}}, \"type\": \"histogram\"}], \"histogram2d\": [{\"colorbar\": {\"outlinewidth\": 0, \"ticks\": \"\"}, \"colorscale\": [[0.0, \"#0d0887\"], [0.1111111111111111, \"#46039f\"], [0.2222222222222222, \"#7201a8\"], [0.3333333333333333, \"#9c179e\"], [0.4444444444444444, \"#bd3786\"], [0.5555555555555556, \"#d8576b\"], [0.6666666666666666, \"#ed7953\"], [0.7777777777777778, \"#fb9f3a\"], [0.8888888888888888, \"#fdca26\"], [1.0, \"#f0f921\"]], \"type\": \"histogram2d\"}], \"histogram2dcontour\": [{\"colorbar\": {\"outlinewidth\": 0, \"ticks\": \"\"}, \"colorscale\": [[0.0, \"#0d0887\"], [0.1111111111111111, \"#46039f\"], [0.2222222222222222, \"#7201a8\"], [0.3333333333333333, \"#9c179e\"], [0.4444444444444444, \"#bd3786\"], [0.5555555555555556, \"#d8576b\"], [0.6666666666666666, \"#ed7953\"], [0.7777777777777778, \"#fb9f3a\"], [0.8888888888888888, \"#fdca26\"], [1.0, \"#f0f921\"]], \"type\": \"histogram2dcontour\"}], \"mesh3d\": [{\"colorbar\": {\"outlinewidth\": 0, \"ticks\": \"\"}, \"type\": \"mesh3d\"}], \"parcoords\": [{\"line\": {\"colorbar\": {\"outlinewidth\": 0, \"ticks\": \"\"}}, \"type\": \"parcoords\"}], \"pie\": [{\"automargin\": true, \"type\": \"pie\"}], \"scatter\": [{\"marker\": {\"colorbar\": {\"outlinewidth\": 0, \"ticks\": \"\"}}, \"type\": \"scatter\"}], \"scatter3d\": [{\"line\": {\"colorbar\": {\"outlinewidth\": 0, \"ticks\": \"\"}}, \"marker\": {\"colorbar\": {\"outlinewidth\": 0, \"ticks\": \"\"}}, \"type\": \"scatter3d\"}], \"scattercarpet\": [{\"marker\": {\"colorbar\": {\"outlinewidth\": 0, \"ticks\": \"\"}}, \"type\": \"scattercarpet\"}], \"scattergeo\": [{\"marker\": {\"colorbar\": {\"outlinewidth\": 0, \"ticks\": \"\"}}, \"type\": \"scattergeo\"}], \"scattergl\": [{\"marker\": {\"colorbar\": {\"outlinewidth\": 0, \"ticks\": \"\"}}, \"type\": \"scattergl\"}], \"scattermapbox\": [{\"marker\": {\"colorbar\": {\"outlinewidth\": 0, \"ticks\": \"\"}}, \"type\": \"scattermapbox\"}], \"scatterpolar\": [{\"marker\": {\"colorbar\": {\"outlinewidth\": 0, \"ticks\": \"\"}}, \"type\": \"scatterpolar\"}], \"scatterpolargl\": [{\"marker\": {\"colorbar\": {\"outlinewidth\": 0, \"ticks\": \"\"}}, \"type\": \"scatterpolargl\"}], \"scatterternary\": [{\"marker\": {\"colorbar\": {\"outlinewidth\": 0, \"ticks\": \"\"}}, \"type\": \"scatterternary\"}], \"surface\": [{\"colorbar\": {\"outlinewidth\": 0, \"ticks\": \"\"}, \"colorscale\": [[0.0, \"#0d0887\"], [0.1111111111111111, \"#46039f\"], [0.2222222222222222, \"#7201a8\"], [0.3333333333333333, \"#9c179e\"], [0.4444444444444444, \"#bd3786\"], [0.5555555555555556, \"#d8576b\"], [0.6666666666666666, \"#ed7953\"], [0.7777777777777778, \"#fb9f3a\"], [0.8888888888888888, \"#fdca26\"], [1.0, \"#f0f921\"]], \"type\": \"surface\"}], \"table\": [{\"cells\": {\"fill\": {\"color\": \"#EBF0F8\"}, \"line\": {\"color\": \"white\"}}, \"header\": {\"fill\": {\"color\": \"#C8D4E3\"}, \"line\": {\"color\": \"white\"}}, \"type\": \"table\"}]}, \"layout\": {\"annotationdefaults\": {\"arrowcolor\": \"#2a3f5f\", \"arrowhead\": 0, \"arrowwidth\": 1}, \"coloraxis\": {\"colorbar\": {\"outlinewidth\": 0, \"ticks\": \"\"}}, \"colorscale\": {\"diverging\": [[0, \"#8e0152\"], [0.1, \"#c51b7d\"], [0.2, \"#de77ae\"], [0.3, \"#f1b6da\"], [0.4, \"#fde0ef\"], [0.5, \"#f7f7f7\"], [0.6, \"#e6f5d0\"], [0.7, \"#b8e186\"], [0.8, \"#7fbc41\"], [0.9, \"#4d9221\"], [1, \"#276419\"]], \"sequential\": [[0.0, \"#0d0887\"], [0.1111111111111111, \"#46039f\"], [0.2222222222222222, \"#7201a8\"], [0.3333333333333333, \"#9c179e\"], [0.4444444444444444, \"#bd3786\"], [0.5555555555555556, \"#d8576b\"], [0.6666666666666666, \"#ed7953\"], [0.7777777777777778, \"#fb9f3a\"], [0.8888888888888888, \"#fdca26\"], [1.0, \"#f0f921\"]], \"sequentialminus\": [[0.0, \"#0d0887\"], [0.1111111111111111, \"#46039f\"], [0.2222222222222222, \"#7201a8\"], [0.3333333333333333, \"#9c179e\"], [0.4444444444444444, \"#bd3786\"], [0.5555555555555556, \"#d8576b\"], [0.6666666666666666, \"#ed7953\"], [0.7777777777777778, \"#fb9f3a\"], [0.8888888888888888, \"#fdca26\"], [1.0, \"#f0f921\"]]}, \"colorway\": [\"#636efa\", \"#EF553B\", \"#00cc96\", \"#ab63fa\", \"#FFA15A\", \"#19d3f3\", \"#FF6692\", \"#B6E880\", \"#FF97FF\", \"#FECB52\"], \"font\": {\"color\": \"#2a3f5f\"}, \"geo\": {\"bgcolor\": \"white\", \"lakecolor\": \"white\", \"landcolor\": \"#E5ECF6\", \"showlakes\": true, \"showland\": true, \"subunitcolor\": \"white\"}, \"hoverlabel\": {\"align\": \"left\"}, \"hovermode\": \"closest\", \"mapbox\": {\"style\": \"light\"}, \"paper_bgcolor\": \"white\", \"plot_bgcolor\": \"#E5ECF6\", \"polar\": {\"angularaxis\": {\"gridcolor\": \"white\", \"linecolor\": \"white\", \"ticks\": \"\"}, \"bgcolor\": \"#E5ECF6\", \"radialaxis\": {\"gridcolor\": \"white\", \"linecolor\": \"white\", \"ticks\": \"\"}}, \"scene\": {\"xaxis\": {\"backgroundcolor\": \"#E5ECF6\", \"gridcolor\": \"white\", \"gridwidth\": 2, \"linecolor\": \"white\", \"showbackground\": true, \"ticks\": \"\", \"zerolinecolor\": \"white\"}, \"yaxis\": {\"backgroundcolor\": \"#E5ECF6\", \"gridcolor\": \"white\", \"gridwidth\": 2, \"linecolor\": \"white\", \"showbackground\": true, \"ticks\": \"\", \"zerolinecolor\": \"white\"}, \"zaxis\": {\"backgroundcolor\": \"#E5ECF6\", \"gridcolor\": \"white\", \"gridwidth\": 2, \"linecolor\": \"white\", \"showbackground\": true, \"ticks\": \"\", \"zerolinecolor\": \"white\"}}, \"shapedefaults\": {\"line\": {\"color\": \"#2a3f5f\"}}, \"ternary\": {\"aaxis\": {\"gridcolor\": \"white\", \"linecolor\": \"white\", \"ticks\": \"\"}, \"baxis\": {\"gridcolor\": \"white\", \"linecolor\": \"white\", \"ticks\": \"\"}, \"bgcolor\": \"#E5ECF6\", \"caxis\": {\"gridcolor\": \"white\", \"linecolor\": \"white\", \"ticks\": \"\"}}, \"title\": {\"x\": 0.05}, \"xaxis\": {\"automargin\": true, \"gridcolor\": \"white\", \"linecolor\": \"white\", \"ticks\": \"\", \"title\": {\"standoff\": 15}, \"zerolinecolor\": \"white\", \"zerolinewidth\": 2}, \"yaxis\": {\"automargin\": true, \"gridcolor\": \"white\", \"linecolor\": \"white\", \"ticks\": \"\", \"title\": {\"standoff\": 15}, \"zerolinecolor\": \"white\", \"zerolinewidth\": 2}}}, \"title\": {\"text\": \"Referrals by Specialty\"}, \"xaxis\": {\"anchor\": \"y\", \"domain\": [0.0, 1.0], \"title\": {\"text\": \"Patient Count\"}}, \"yaxis\": {\"anchor\": \"x\", \"domain\": [0.0, 1.0], \"title\": {}}},                        {\"responsive\": true}                    ).then(function(){\n",
       "                            \n",
       "var gd = document.getElementById('60bf947b-8c47-43ab-b3c6-767c726247e8');\n",
       "var x = new MutationObserver(function (mutations, observer) {{\n",
       "        var display = window.getComputedStyle(gd).display;\n",
       "        if (!display || display === 'none') {{\n",
       "            console.log([gd, 'removed!']);\n",
       "            Plotly.purge(gd);\n",
       "            observer.disconnect();\n",
       "        }}\n",
       "}});\n",
       "\n",
       "// Listen for the removal of the full notebook cells\n",
       "var notebookContainer = gd.closest('#notebook-container');\n",
       "if (notebookContainer) {{\n",
       "    x.observe(notebookContainer, {childList: true});\n",
       "}}\n",
       "\n",
       "// Listen for the clearing of the current output cell\n",
       "var outputEl = gd.closest('.output');\n",
       "if (outputEl) {{\n",
       "    x.observe(outputEl, {childList: true});\n",
       "}}\n",
       "\n",
       "                        })                };                });            </script>        </div>"
      ]
     },
     "metadata": {},
     "output_type": "display_data"
    }
   ],
   "source": [
    "fig = px.bar(nash_referrals2, x='patient_count', y='to_facility_name_normalised',\n",
    "             color = 'from_npi_specialty', title = 'Referrals by Specialty')\n",
    "fig.update_yaxes(title=None)\n",
    "fig.update_xaxes(title=\"Patient Count\")\n",
    "fig.show()"
   ]
  },
  {
   "cell_type": "code",
   "execution_count": 219,
   "metadata": {},
   "outputs": [],
   "source": [
    "fig.write_html(\"Referrals_by_Specialty_w_Vandy.html\")"
   ]
  },
  {
   "cell_type": "code",
   "execution_count": null,
   "metadata": {},
   "outputs": [],
   "source": []
  },
  {
   "cell_type": "code",
   "execution_count": null,
   "metadata": {},
   "outputs": [],
   "source": []
  },
  {
   "cell_type": "code",
   "execution_count": null,
   "metadata": {},
   "outputs": [],
   "source": []
  }
 ],
 "metadata": {
  "kernelspec": {
   "display_name": "Python 3",
   "language": "python",
   "name": "python3"
  },
  "language_info": {
   "codemirror_mode": {
    "name": "ipython",
    "version": 3
   },
   "file_extension": ".py",
   "mimetype": "text/x-python",
   "name": "python",
   "nbconvert_exporter": "python",
   "pygments_lexer": "ipython3",
   "version": "3.8.8"
  },
  "toc": {
   "base_numbering": 1,
   "nav_menu": {},
   "number_sections": true,
   "sideBar": true,
   "skip_h1_title": true,
   "title_cell": "Table of Contents",
   "title_sidebar": "Contents",
   "toc_cell": true,
   "toc_position": {},
   "toc_section_display": true,
   "toc_window_display": true
  },
  "varInspector": {
   "cols": {
    "lenName": 16,
    "lenType": 16,
    "lenVar": 40
   },
   "kernels_config": {
    "python": {
     "delete_cmd_postfix": "",
     "delete_cmd_prefix": "del ",
     "library": "var_list.py",
     "varRefreshCmd": "print(var_dic_list())"
    },
    "r": {
     "delete_cmd_postfix": ") ",
     "delete_cmd_prefix": "rm(",
     "library": "var_list.r",
     "varRefreshCmd": "cat(var_dic_list()) "
    }
   },
   "types_to_exclude": [
    "module",
    "function",
    "builtin_function_or_method",
    "instance",
    "_Feature"
   ],
   "window_display": false
  }
 },
 "nbformat": 4,
 "nbformat_minor": 4
}
