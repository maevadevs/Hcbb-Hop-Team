{
 "cells": [
  {
   "cell_type": "markdown",
   "id": "failing-mortgage",
   "metadata": {},
   "source": [
    "# CBSA to SQLite Table"
   ]
  },
  {
   "cell_type": "markdown",
   "id": "painful-tiger",
   "metadata": {},
   "source": [
    "## Step By Step"
   ]
  },
  {
   "cell_type": "code",
   "execution_count": 1,
   "id": "white-america",
   "metadata": {},
   "outputs": [],
   "source": [
    "import pandas as pd\n",
    "import sqlite3\n",
    "from tqdm.notebook import tqdm"
   ]
  },
  {
   "cell_type": "code",
   "execution_count": 2,
   "id": "linear-ranch",
   "metadata": {},
   "outputs": [],
   "source": [
    "pd.set_option(\"display.max_columns\", 500)\n",
    "pd.set_option('display.max_rows', 1000)"
   ]
  },
  {
   "cell_type": "markdown",
   "id": "existing-electric",
   "metadata": {},
   "source": [
    "**Read in the cbsa zip file (ZIP_CBSA_122020.csv) and assign zip codes to the Nashville CBSA**"
   ]
  },
  {
   "cell_type": "code",
   "execution_count": 3,
   "id": "ambient-somewhere",
   "metadata": {},
   "outputs": [],
   "source": [
    "zips_raw = pd.read_excel(\"../data/ZIP_CBSA_122020.xlsx\", converters={'zip': lambda x: str(x)}, engine='openpyxl')"
   ]
  },
  {
   "cell_type": "code",
   "execution_count": 4,
   "id": "damaged-editor",
   "metadata": {},
   "outputs": [
    {
     "data": {
      "text/plain": [
       "(47424, 6)"
      ]
     },
     "metadata": {},
     "output_type": "display_data"
    },
    {
     "data": {
      "text/html": [
       "<div>\n",
       "<style scoped>\n",
       "    .dataframe tbody tr th:only-of-type {\n",
       "        vertical-align: middle;\n",
       "    }\n",
       "\n",
       "    .dataframe tbody tr th {\n",
       "        vertical-align: top;\n",
       "    }\n",
       "\n",
       "    .dataframe thead th {\n",
       "        text-align: right;\n",
       "    }\n",
       "</style>\n",
       "<table border=\"1\" class=\"dataframe\">\n",
       "  <thead>\n",
       "    <tr style=\"text-align: right;\">\n",
       "      <th></th>\n",
       "      <th>ZIP</th>\n",
       "      <th>CBSA</th>\n",
       "      <th>RES_RATIO</th>\n",
       "      <th>BUS_RATIO</th>\n",
       "      <th>OTH_RATIO</th>\n",
       "      <th>TOT_RATIO</th>\n",
       "    </tr>\n",
       "  </thead>\n",
       "  <tbody>\n",
       "    <tr>\n",
       "      <th>0</th>\n",
       "      <td>501</td>\n",
       "      <td>35620</td>\n",
       "      <td>0.0</td>\n",
       "      <td>1.0</td>\n",
       "      <td>0.0</td>\n",
       "      <td>1.0</td>\n",
       "    </tr>\n",
       "    <tr>\n",
       "      <th>1</th>\n",
       "      <td>601</td>\n",
       "      <td>38660</td>\n",
       "      <td>1.0</td>\n",
       "      <td>1.0</td>\n",
       "      <td>1.0</td>\n",
       "      <td>1.0</td>\n",
       "    </tr>\n",
       "    <tr>\n",
       "      <th>2</th>\n",
       "      <td>602</td>\n",
       "      <td>10380</td>\n",
       "      <td>1.0</td>\n",
       "      <td>1.0</td>\n",
       "      <td>1.0</td>\n",
       "      <td>1.0</td>\n",
       "    </tr>\n",
       "    <tr>\n",
       "      <th>3</th>\n",
       "      <td>603</td>\n",
       "      <td>10380</td>\n",
       "      <td>1.0</td>\n",
       "      <td>1.0</td>\n",
       "      <td>1.0</td>\n",
       "      <td>1.0</td>\n",
       "    </tr>\n",
       "    <tr>\n",
       "      <th>4</th>\n",
       "      <td>604</td>\n",
       "      <td>10380</td>\n",
       "      <td>1.0</td>\n",
       "      <td>1.0</td>\n",
       "      <td>1.0</td>\n",
       "      <td>1.0</td>\n",
       "    </tr>\n",
       "    <tr>\n",
       "      <th>...</th>\n",
       "      <td>...</td>\n",
       "      <td>...</td>\n",
       "      <td>...</td>\n",
       "      <td>...</td>\n",
       "      <td>...</td>\n",
       "      <td>...</td>\n",
       "    </tr>\n",
       "    <tr>\n",
       "      <th>47419</th>\n",
       "      <td>99925</td>\n",
       "      <td>99999</td>\n",
       "      <td>0.0</td>\n",
       "      <td>0.0</td>\n",
       "      <td>1.0</td>\n",
       "      <td>1.0</td>\n",
       "    </tr>\n",
       "    <tr>\n",
       "      <th>47420</th>\n",
       "      <td>99926</td>\n",
       "      <td>99999</td>\n",
       "      <td>0.0</td>\n",
       "      <td>0.0</td>\n",
       "      <td>1.0</td>\n",
       "      <td>1.0</td>\n",
       "    </tr>\n",
       "    <tr>\n",
       "      <th>47421</th>\n",
       "      <td>99927</td>\n",
       "      <td>99999</td>\n",
       "      <td>0.0</td>\n",
       "      <td>0.0</td>\n",
       "      <td>1.0</td>\n",
       "      <td>1.0</td>\n",
       "    </tr>\n",
       "    <tr>\n",
       "      <th>47422</th>\n",
       "      <td>99928</td>\n",
       "      <td>28540</td>\n",
       "      <td>0.0</td>\n",
       "      <td>0.0</td>\n",
       "      <td>1.0</td>\n",
       "      <td>1.0</td>\n",
       "    </tr>\n",
       "    <tr>\n",
       "      <th>47423</th>\n",
       "      <td>99929</td>\n",
       "      <td>99999</td>\n",
       "      <td>0.0</td>\n",
       "      <td>0.0</td>\n",
       "      <td>1.0</td>\n",
       "      <td>1.0</td>\n",
       "    </tr>\n",
       "  </tbody>\n",
       "</table>\n",
       "<p>47424 rows × 6 columns</p>\n",
       "</div>"
      ],
      "text/plain": [
       "         ZIP   CBSA  RES_RATIO  BUS_RATIO  OTH_RATIO  TOT_RATIO\n",
       "0        501  35620        0.0        1.0        0.0        1.0\n",
       "1        601  38660        1.0        1.0        1.0        1.0\n",
       "2        602  10380        1.0        1.0        1.0        1.0\n",
       "3        603  10380        1.0        1.0        1.0        1.0\n",
       "4        604  10380        1.0        1.0        1.0        1.0\n",
       "...      ...    ...        ...        ...        ...        ...\n",
       "47419  99925  99999        0.0        0.0        1.0        1.0\n",
       "47420  99926  99999        0.0        0.0        1.0        1.0\n",
       "47421  99927  99999        0.0        0.0        1.0        1.0\n",
       "47422  99928  28540        0.0        0.0        1.0        1.0\n",
       "47423  99929  99999        0.0        0.0        1.0        1.0\n",
       "\n",
       "[47424 rows x 6 columns]"
      ]
     },
     "metadata": {},
     "output_type": "display_data"
    }
   ],
   "source": [
    "display(zips_raw.shape)\n",
    "display(zips_raw)"
   ]
  },
  {
   "cell_type": "markdown",
   "id": "placed-graduate",
   "metadata": {},
   "source": [
    "**Rename Columns**"
   ]
  },
  {
   "cell_type": "code",
   "execution_count": 5,
   "id": "round-going",
   "metadata": {},
   "outputs": [],
   "source": [
    "zips = zips_raw.reset_index().rename({\n",
    "    'ZIP': 'zip',\n",
    "    'CBSA': 'cbsa',\n",
    "    'TOT_RATIO': 'tot_ratio'\n",
    "}, axis=1)"
   ]
  },
  {
   "cell_type": "markdown",
   "id": "wound-depth",
   "metadata": {},
   "source": [
    "**Dropping unneeded columns**"
   ]
  },
  {
   "cell_type": "code",
   "execution_count": 6,
   "id": "missing-aquarium",
   "metadata": {},
   "outputs": [],
   "source": [
    "zips = zips.drop(['index', 'RES_RATIO', 'BUS_RATIO', 'OTH_RATIO'], axis=1)"
   ]
  },
  {
   "cell_type": "code",
   "execution_count": 7,
   "id": "excess-gilbert",
   "metadata": {},
   "outputs": [
    {
     "data": {
      "text/plain": [
       "(47424, 3)"
      ]
     },
     "metadata": {},
     "output_type": "display_data"
    },
    {
     "data": {
      "text/html": [
       "<div>\n",
       "<style scoped>\n",
       "    .dataframe tbody tr th:only-of-type {\n",
       "        vertical-align: middle;\n",
       "    }\n",
       "\n",
       "    .dataframe tbody tr th {\n",
       "        vertical-align: top;\n",
       "    }\n",
       "\n",
       "    .dataframe thead th {\n",
       "        text-align: right;\n",
       "    }\n",
       "</style>\n",
       "<table border=\"1\" class=\"dataframe\">\n",
       "  <thead>\n",
       "    <tr style=\"text-align: right;\">\n",
       "      <th></th>\n",
       "      <th>zip</th>\n",
       "      <th>cbsa</th>\n",
       "      <th>tot_ratio</th>\n",
       "    </tr>\n",
       "  </thead>\n",
       "  <tbody>\n",
       "    <tr>\n",
       "      <th>0</th>\n",
       "      <td>501</td>\n",
       "      <td>35620</td>\n",
       "      <td>1.0</td>\n",
       "    </tr>\n",
       "    <tr>\n",
       "      <th>1</th>\n",
       "      <td>601</td>\n",
       "      <td>38660</td>\n",
       "      <td>1.0</td>\n",
       "    </tr>\n",
       "    <tr>\n",
       "      <th>2</th>\n",
       "      <td>602</td>\n",
       "      <td>10380</td>\n",
       "      <td>1.0</td>\n",
       "    </tr>\n",
       "    <tr>\n",
       "      <th>3</th>\n",
       "      <td>603</td>\n",
       "      <td>10380</td>\n",
       "      <td>1.0</td>\n",
       "    </tr>\n",
       "    <tr>\n",
       "      <th>4</th>\n",
       "      <td>604</td>\n",
       "      <td>10380</td>\n",
       "      <td>1.0</td>\n",
       "    </tr>\n",
       "    <tr>\n",
       "      <th>...</th>\n",
       "      <td>...</td>\n",
       "      <td>...</td>\n",
       "      <td>...</td>\n",
       "    </tr>\n",
       "    <tr>\n",
       "      <th>47419</th>\n",
       "      <td>99925</td>\n",
       "      <td>99999</td>\n",
       "      <td>1.0</td>\n",
       "    </tr>\n",
       "    <tr>\n",
       "      <th>47420</th>\n",
       "      <td>99926</td>\n",
       "      <td>99999</td>\n",
       "      <td>1.0</td>\n",
       "    </tr>\n",
       "    <tr>\n",
       "      <th>47421</th>\n",
       "      <td>99927</td>\n",
       "      <td>99999</td>\n",
       "      <td>1.0</td>\n",
       "    </tr>\n",
       "    <tr>\n",
       "      <th>47422</th>\n",
       "      <td>99928</td>\n",
       "      <td>28540</td>\n",
       "      <td>1.0</td>\n",
       "    </tr>\n",
       "    <tr>\n",
       "      <th>47423</th>\n",
       "      <td>99929</td>\n",
       "      <td>99999</td>\n",
       "      <td>1.0</td>\n",
       "    </tr>\n",
       "  </tbody>\n",
       "</table>\n",
       "<p>47424 rows × 3 columns</p>\n",
       "</div>"
      ],
      "text/plain": [
       "         zip   cbsa  tot_ratio\n",
       "0        501  35620        1.0\n",
       "1        601  38660        1.0\n",
       "2        602  10380        1.0\n",
       "3        603  10380        1.0\n",
       "4        604  10380        1.0\n",
       "...      ...    ...        ...\n",
       "47419  99925  99999        1.0\n",
       "47420  99926  99999        1.0\n",
       "47421  99927  99999        1.0\n",
       "47422  99928  28540        1.0\n",
       "47423  99929  99999        1.0\n",
       "\n",
       "[47424 rows x 3 columns]"
      ]
     },
     "metadata": {},
     "output_type": "display_data"
    }
   ],
   "source": [
    "display(zips.shape)\n",
    "display(zips)"
   ]
  },
  {
   "cell_type": "markdown",
   "id": "infectious-tourism",
   "metadata": {},
   "source": [
    "**Return all zip codes and cbsa IDs WHERE the zip code tot_ratio is highest for the selected CBSA AND the cbsa = 34980 (Nashville). Temporary Loading to SQL to accomplish this.**"
   ]
  },
  {
   "cell_type": "code",
   "execution_count": 8,
   "id": "continued-sugar",
   "metadata": {},
   "outputs": [
    {
     "name": "stdout",
     "output_type": "stream",
     "text": [
      "Temporary table dropped...\n",
      "cbsa table created.\n"
     ]
    }
   ],
   "source": [
    "with sqlite3.connect('../data/hcbb_group_reviews.sqlite') as db:\n",
    "   \n",
    "    # Temporarily load to sqlite db\n",
    "    zips.to_sql('temp_zips', db, if_exists = 'replace', index = False)\n",
    "    \n",
    "    # Use ranking and filtering\n",
    "    query = ''' \n",
    "    WITH ratio AS (\n",
    "        SELECT \n",
    "            zip, \n",
    "            cbsa, \n",
    "            RANK() OVER(PARTITION BY zip ORDER BY tot_ratio DESC) AS rnk \n",
    "        FROM temp_zips\n",
    "    )\n",
    "    SELECT \n",
    "        zip, \n",
    "        cbsa\n",
    "    FROM ratio\n",
    "    WHERE rnk = 1 AND cbsa = '34980';\n",
    "    '''\n",
    "\n",
    "    # Get the dataframe\n",
    "    cbsa_df = pd.read_sql(query, db)\n",
    "    \n",
    "    # Delete the temporary table\n",
    "    cursor = db.cursor()\n",
    "    cursor.execute(\"DROP TABLE temp_zips\")\n",
    "    print(\"Temporary table dropped...\")\n",
    "    \n",
    "    # Finally, load to final sqlite db\n",
    "    cbsa_df.to_sql('cbsa', db, if_exists = 'replace', index = False)\n",
    "    \n",
    "    print(\"cbsa table created.\")"
   ]
  },
  {
   "cell_type": "markdown",
   "id": "living-patrol",
   "metadata": {},
   "source": [
    "## Testing Final DB Load"
   ]
  },
  {
   "cell_type": "code",
   "execution_count": 9,
   "id": "going-luther",
   "metadata": {},
   "outputs": [
    {
     "data": {
      "text/html": [
       "<div>\n",
       "<style scoped>\n",
       "    .dataframe tbody tr th:only-of-type {\n",
       "        vertical-align: middle;\n",
       "    }\n",
       "\n",
       "    .dataframe tbody tr th {\n",
       "        vertical-align: top;\n",
       "    }\n",
       "\n",
       "    .dataframe thead th {\n",
       "        text-align: right;\n",
       "    }\n",
       "</style>\n",
       "<table border=\"1\" class=\"dataframe\">\n",
       "  <thead>\n",
       "    <tr style=\"text-align: right;\">\n",
       "      <th></th>\n",
       "      <th>name</th>\n",
       "    </tr>\n",
       "  </thead>\n",
       "  <tbody>\n",
       "    <tr>\n",
       "      <th>0</th>\n",
       "      <td>npidata</td>\n",
       "    </tr>\n",
       "    <tr>\n",
       "      <th>1</th>\n",
       "      <td>cbsa</td>\n",
       "    </tr>\n",
       "  </tbody>\n",
       "</table>\n",
       "</div>"
      ],
      "text/plain": [
       "      name\n",
       "0  npidata\n",
       "1     cbsa"
      ]
     },
     "metadata": {},
     "output_type": "display_data"
    }
   ],
   "source": [
    "# Get list of currently existing tables\n",
    "with sqlite3.connect('../data/hcbb_group_reviews.sqlite') as db :\n",
    "    query = \"\"\"\n",
    "    SELECT name\n",
    "    FROM sqlite_master \n",
    "    WHERE type ='table' \n",
    "    AND name NOT LIKE 'sqlite_%';\n",
    "    \"\"\" \n",
    "    \n",
    "    db_table_list = pd.read_sql(query, db)\n",
    "\n",
    "display(db_table_list)"
   ]
  },
  {
   "cell_type": "markdown",
   "id": "exact-setting",
   "metadata": {},
   "source": [
    "**This should return 135 rows each representing a unique zip code within the Nashville cbsa**"
   ]
  },
  {
   "cell_type": "code",
   "execution_count": 10,
   "id": "close-ministry",
   "metadata": {},
   "outputs": [
    {
     "data": {
      "text/html": [
       "<div>\n",
       "<style scoped>\n",
       "    .dataframe tbody tr th:only-of-type {\n",
       "        vertical-align: middle;\n",
       "    }\n",
       "\n",
       "    .dataframe tbody tr th {\n",
       "        vertical-align: top;\n",
       "    }\n",
       "\n",
       "    .dataframe thead th {\n",
       "        text-align: right;\n",
       "    }\n",
       "</style>\n",
       "<table border=\"1\" class=\"dataframe\">\n",
       "  <thead>\n",
       "    <tr style=\"text-align: right;\">\n",
       "      <th></th>\n",
       "      <th>COUNT(DISTINCT(zip))</th>\n",
       "    </tr>\n",
       "  </thead>\n",
       "  <tbody>\n",
       "    <tr>\n",
       "      <th>0</th>\n",
       "      <td>135</td>\n",
       "    </tr>\n",
       "  </tbody>\n",
       "</table>\n",
       "</div>"
      ],
      "text/plain": [
       "   COUNT(DISTINCT(zip))\n",
       "0                   135"
      ]
     },
     "metadata": {},
     "output_type": "display_data"
    }
   ],
   "source": [
    "with sqlite3.connect('../data/hcbb_group_reviews.sqlite') as db :\n",
    "    query = \"\"\"\n",
    "    SELECT COUNT(DISTINCT(zip))\n",
    "    FROM cbsa;\n",
    "    \"\"\" \n",
    "    \n",
    "    test_df = pd.read_sql(query, db)\n",
    "\n",
    "display(test_df)"
   ]
  }
 ],
 "metadata": {
  "kernelspec": {
   "display_name": "Python 3",
   "language": "python",
   "name": "python3"
  },
  "language_info": {
   "codemirror_mode": {
    "name": "ipython",
    "version": 3
   },
   "file_extension": ".py",
   "mimetype": "text/x-python",
   "name": "python",
   "nbconvert_exporter": "python",
   "pygments_lexer": "ipython3",
   "version": "3.8.8"
  },
  "toc": {
   "base_numbering": 1,
   "nav_menu": {},
   "number_sections": false,
   "sideBar": true,
   "skip_h1_title": false,
   "title_cell": "Table of Contents",
   "title_sidebar": "Contents",
   "toc_cell": false,
   "toc_position": {
    "height": "calc(100% - 180px)",
    "left": "10px",
    "top": "150px",
    "width": "256px"
   },
   "toc_section_display": true,
   "toc_window_display": true
  },
  "varInspector": {
   "cols": {
    "lenName": 16,
    "lenType": 16,
    "lenVar": 40
   },
   "kernels_config": {
    "python": {
     "delete_cmd_postfix": "",
     "delete_cmd_prefix": "del ",
     "library": "var_list.py",
     "varRefreshCmd": "print(var_dic_list())"
    },
    "r": {
     "delete_cmd_postfix": ") ",
     "delete_cmd_prefix": "rm(",
     "library": "var_list.r",
     "varRefreshCmd": "cat(var_dic_list()) "
    }
   },
   "types_to_exclude": [
    "module",
    "function",
    "builtin_function_or_method",
    "instance",
    "_Feature"
   ],
   "window_display": false
  }
 },
 "nbformat": 4,
 "nbformat_minor": 5
}
