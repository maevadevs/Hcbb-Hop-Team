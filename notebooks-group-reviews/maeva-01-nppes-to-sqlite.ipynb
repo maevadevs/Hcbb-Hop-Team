{
 "cells": [
  {
   "cell_type": "markdown",
   "id": "sustained-anaheim",
   "metadata": {},
   "source": [
    "# NPPES to SQLite Table"
   ]
  },
  {
   "cell_type": "markdown",
   "id": "imperial-banner",
   "metadata": {},
   "source": [
    "## Step By Step (For Testing Only, Check Below for Production)"
   ]
  },
  {
   "cell_type": "code",
   "execution_count": 1,
   "id": "progressive-sessions",
   "metadata": {},
   "outputs": [],
   "source": [
    "import pandas as pd\n",
    "import sqlite3\n",
    "from tqdm.notebook import tqdm"
   ]
  },
  {
   "cell_type": "code",
   "execution_count": 2,
   "id": "structural-circus",
   "metadata": {},
   "outputs": [],
   "source": [
    "pd.set_option(\"display.max_columns\", 500)\n",
    "pd.set_option('display.max_rows', 1000)"
   ]
  },
  {
   "cell_type": "markdown",
   "id": "competent-costa",
   "metadata": {},
   "source": [
    "**Read in the npidata file (npidata_pfile_20050523-20210207.csv) and only return the relevant columns**"
   ]
  },
  {
   "cell_type": "code",
   "execution_count": 3,
   "id": "adjusted-bacon",
   "metadata": {},
   "outputs": [],
   "source": [
    "npidata_raw = pd.read_csv(\"../data/npidata_pfile_20050523-20210207.csv\", nrows=1000)"
   ]
  },
  {
   "cell_type": "raw",
   "id": "parental-phone",
   "metadata": {},
   "source": [
    "display(npidata_raw.shape)\n",
    "display(npidata_raw)"
   ]
  },
  {
   "cell_type": "markdown",
   "id": "incoming-macro",
   "metadata": {},
   "source": [
    "**Only keep the needed columns**"
   ]
  },
  {
   "cell_type": "code",
   "execution_count": 4,
   "id": "advisory-phenomenon",
   "metadata": {},
   "outputs": [],
   "source": [
    "npidata = pd.concat([\n",
    "    npidata_raw[['NPI']],\n",
    "    # Entity Type Code: 1 = Provider (doctors, nurses, etc.) / 2 = Facility (Hospitals, Urgent Care, Doctors Offices) \n",
    "    npidata_raw[['Entity Type Code']],\n",
    "    # Entity Name: Either First/Last or Organization or Other Organization Name contained in the following fields:\n",
    "    npidata_raw.loc[:, 'Provider Organization Name (Legal Business Name)':'Provider Credential Text'],\n",
    "    # Address: Business Practice Location (not mailing), contained in the following fields:\n",
    "    npidata_raw.loc[:, 'Provider First Line Business Practice Location Address':'Provider Business Practice Location Address Postal Code'],\n",
    "], axis=1)"
   ]
  },
  {
   "cell_type": "raw",
   "id": "sophisticated-irish",
   "metadata": {},
   "source": [
    "display(npidata.shape)\n",
    "display(npidata)"
   ]
  },
  {
   "cell_type": "markdown",
   "id": "detected-march",
   "metadata": {},
   "source": [
    "**Handling Primary Taxonomy Separately**"
   ]
  },
  {
   "cell_type": "markdown",
   "id": "purple-maldives",
   "metadata": {},
   "source": [
    "A provider can have up to 15 taxonomy codes, but we want the one which has Primary Switch = Y in the associated 'Healthcare Provider Primary Taxonomy Switch*' field. Note that this does not always occur in spot 1."
   ]
  },
  {
   "cell_type": "code",
   "execution_count": 5,
   "id": "attended-simple",
   "metadata": {},
   "outputs": [],
   "source": [
    "npi_taxonomy = pd.concat([\n",
    "    npidata_raw[['NPI']],\n",
    "    # The provider's taxonomy code, which is contained in one of the 'Healthcare Provider Taxonomy Code*' columns\n",
    "    npidata_raw[npidata_raw.columns[pd.Series(npidata_raw.columns).str.startswith('Healthcare Provider Taxonomy Code_')]],\n",
    "    npidata_raw[npidata_raw.columns[pd.Series(npidata_raw.columns).str.startswith('Healthcare Provider Primary Taxonomy Switch_')]]\n",
    "], axis=1)"
   ]
  },
  {
   "cell_type": "raw",
   "id": "changed-kruger",
   "metadata": {},
   "source": [
    "display(npi_taxonomy.shape)\n",
    "display(npi_taxonomy)"
   ]
  },
  {
   "cell_type": "markdown",
   "id": "better-python",
   "metadata": {},
   "source": [
    "Apply `wide_to_long` to get the matrix of taxonomy in a long format and filter for only the primary taxonomies (**warning: This would get rid of NPI's without primary taxonomies. Do a left-join on `npidata` to fix this**)"
   ]
  },
  {
   "cell_type": "code",
   "execution_count": 6,
   "id": "macro-permit",
   "metadata": {},
   "outputs": [],
   "source": [
    "# Pivot from wide to long format\n",
    "npi_taxonomy = pd.wide_to_long(\n",
    "    npi_taxonomy,\n",
    "    stubnames=['Healthcare Provider Taxonomy Code', 'Healthcare Provider Primary Taxonomy Switch'],\n",
    "    i=['NPI'], \n",
    "    j='primary_taxonomy_index',\n",
    "    sep=\"_\"\n",
    ")\n",
    "\n",
    "# Only keep the primary taxonomy\n",
    "npi_taxonomy = npi_taxonomy[npi_taxonomy['Healthcare Provider Primary Taxonomy Switch'] == 'Y']\n",
    "\n",
    "# Housekeeping\n",
    "npi_taxonomy = npi_taxonomy.reset_index()\\\n",
    "    .drop(columns=['primary_taxonomy_index', 'Healthcare Provider Primary Taxonomy Switch'])\\\n",
    "    .rename({ 'Healthcare Provider Taxonomy Code': 'primary_taxonomy' }, axis=1)"
   ]
  },
  {
   "cell_type": "raw",
   "id": "communist-intro",
   "metadata": {},
   "source": [
    "display(npi_taxonomy.shape)\n",
    "display(npi_taxonomy)"
   ]
  },
  {
   "cell_type": "markdown",
   "id": "assumed-typing",
   "metadata": {},
   "source": [
    "**Merge `npidata` and `npi_taxonomy`**"
   ]
  },
  {
   "cell_type": "markdown",
   "id": "industrial-latino",
   "metadata": {},
   "source": [
    "Finally, merge back `npi_taxonomy` to `npidata`. Account for npis without `primary_taxonomy` by doing a left-join"
   ]
  },
  {
   "cell_type": "code",
   "execution_count": 7,
   "id": "pacific-improvement",
   "metadata": {},
   "outputs": [],
   "source": [
    "npidata = npidata.merge(\n",
    "    npi_taxonomy,\n",
    "    how='left',\n",
    "    on='NPI'\n",
    ")"
   ]
  },
  {
   "cell_type": "raw",
   "id": "heard-creation",
   "metadata": {},
   "source": [
    "display(npidata.shape)\n",
    "display(npidata)"
   ]
  },
  {
   "cell_type": "markdown",
   "id": "noticed-commons",
   "metadata": {},
   "source": [
    "**We are only concerned with Entity Types 1 or 2. Drop the NAs Entity Types**"
   ]
  },
  {
   "cell_type": "code",
   "execution_count": 8,
   "id": "brutal-pendant",
   "metadata": {},
   "outputs": [],
   "source": [
    "# npidata = npidata[~npidata['Entity Type Code'].isna()]"
   ]
  },
  {
   "cell_type": "raw",
   "id": "embedded-yellow",
   "metadata": {},
   "source": [
    "display(npidata.shape)\n",
    "display(npidata)"
   ]
  },
  {
   "cell_type": "markdown",
   "id": "operational-highland",
   "metadata": {},
   "source": [
    "**Rename columns**"
   ]
  },
  {
   "cell_type": "code",
   "execution_count": 9,
   "id": "million-shadow",
   "metadata": {},
   "outputs": [],
   "source": [
    "npidata = npidata.reset_index().rename({\n",
    "        'NPI': 'npi',\n",
    "        'Entity Type Code': 'entity_type_code',\n",
    "        'Provider Organization Name (Legal Business Name)': 'provider_org_name',\n",
    "        'Provider Last Name (Legal Name)': 'provider_last_name',\n",
    "        'Provider First Name': 'provider_first_name',\n",
    "        'Provider Middle Name': 'provider_middle_name',\n",
    "        'Provider Name Prefix Text': 'provider_name_prefix',\n",
    "        'Provider Name Suffix Text': 'provider_name_suffix',\n",
    "        'Provider Credential Text': 'provider_credential',\n",
    "        'Provider First Line Business Practice Location Address': 'provider_business_address_1',\n",
    "        'Provider Second Line Business Practice Location Address': 'provider_business_address_2',\n",
    "        'Provider Business Practice Location Address City Name': 'provider_business_city',\n",
    "        'Provider Business Practice Location Address State Name': 'provider_business_state',\n",
    "        'Provider Business Practice Location Address Postal Code': 'provider_business_zip'\n",
    "    }, axis=1)"
   ]
  },
  {
   "cell_type": "raw",
   "id": "first-player",
   "metadata": {},
   "source": [
    "display(npidata.shape)\n",
    "display(npidata)"
   ]
  },
  {
   "cell_type": "markdown",
   "id": "appropriate-ordinary",
   "metadata": {},
   "source": [
    "**Add a new column / overwrite the existing zip code column with a 5-digit zip**"
   ]
  },
  {
   "cell_type": "code",
   "execution_count": 10,
   "id": "modern-monitor",
   "metadata": {},
   "outputs": [],
   "source": [
    "npidata['provider_business_zip5'] = [str(i)[0:5] for i in npidata['provider_business_zip']]\n",
    "npidata[npidata['provider_business_zip5'] == 'nan'] = None"
   ]
  },
  {
   "cell_type": "raw",
   "id": "verified-birmingham",
   "metadata": {},
   "source": [
    "display(npidata.shape)\n",
    "display(npidata)"
   ]
  },
  {
   "cell_type": "markdown",
   "id": "pacific-eleven",
   "metadata": {},
   "source": [
    "**Correcting datatypes**"
   ]
  },
  {
   "cell_type": "code",
   "execution_count": 11,
   "id": "incoming-suite",
   "metadata": {},
   "outputs": [],
   "source": [
    "npidata['npi'] = npidata['npi'].astype(str).str.split('.').str[0] # This step would convert NaN to string\n",
    "npidata[npidata['npi'] == 'nan'] = None # Convert NaN back to None\n",
    "npidata['entity_type_code'] = npidata['entity_type_code'].astype(str).str.split('.').str[0] # This step would convert NaN to string\n",
    "npidata[npidata['entity_type_code'] == 'nan'] = None  # Convert NaN back to None"
   ]
  },
  {
   "cell_type": "raw",
   "id": "transsexual-failure",
   "metadata": {},
   "source": [
    "display(npidata.shape)\n",
    "display(npidata)"
   ]
  },
  {
   "cell_type": "markdown",
   "id": "interested-trash",
   "metadata": {},
   "source": [
    "**Dropping unneeded columns**"
   ]
  },
  {
   "cell_type": "code",
   "execution_count": 12,
   "id": "higher-survival",
   "metadata": {},
   "outputs": [],
   "source": [
    "npidata = npidata.drop('index', axis=1)\n",
    "npidata = npidata.drop('provider_business_zip', axis=1)"
   ]
  },
  {
   "cell_type": "raw",
   "id": "inclusive-climate",
   "metadata": {},
   "source": [
    "display(npidata.shape)\n",
    "display(npidata)"
   ]
  },
  {
   "cell_type": "markdown",
   "id": "japanese-passage",
   "metadata": {},
   "source": [
    "## Now re-applying all of that at once and batch-import into sqlite (For Production)"
   ]
  },
  {
   "cell_type": "markdown",
   "id": "excess-theory",
   "metadata": {},
   "source": [
    "**IMPORTANT! This loading into the database should only be run once.** If you run this multiple times, it will create duplicate entries in the database. For the security of not re-running this code by accident, the code here is converted into markdown. **If you need to rebuild the database, delete the `data/hcbb_group_reviews.sqlite` file and re-run this cell as code. You will also need to make sure to re-run any other related scripts that builds other tables in the database.**"
   ]
  },
  {
   "cell_type": "raw",
   "id": "smooth-ticket",
   "metadata": {},
   "source": [
    "with sqlite3.connect('../data/hcbb_group_reviews.sqlite') as db:\n",
    "    \n",
    "    # Loading the nppes dataset\n",
    "    npidata_raw = pd.read_csv(\"../data/npidata_pfile_20050523-20210207.csv\", chunksize = 10000)\n",
    "    \n",
    "    # Looping over chuncks of nppes\n",
    "    for chunk in tqdm(npidata_raw):\n",
    "    \n",
    "        # Only keep the needed columns: Make sure to use chunk here!!\n",
    "        npidata = pd.concat([\n",
    "            chunk[['NPI']],\n",
    "            # Entity Type Code: 1 = Provider (doctors, nurses, etc.) / 2 = Facility (Hospitals, Urgent Care, Doctors Offices) \n",
    "            chunk[['Entity Type Code']],\n",
    "            # Entity Name: Either First/Last or Organization or Other Organization Name contained in the following fields:\n",
    "            chunk.loc[:, 'Provider Organization Name (Legal Business Name)':'Provider Credential Text'],\n",
    "            # Address: Business Practice Location (not mailing), contained in the following fields:\n",
    "            chunk.loc[:, 'Provider First Line Business Practice Location Address':'Provider Business Practice Location Address Postal Code'],\n",
    "        ], axis=1)\n",
    "        \n",
    "        # Handling Primary Taxonomy Separately\n",
    "        npi_taxonomy = pd.concat([\n",
    "            chunk[['NPI']],\n",
    "            # The provider's taxonomy code, which is contained in one of the 'Healthcare Provider Taxonomy Code*' columns\n",
    "            chunk[chunk.columns[pd.Series(chunk.columns).str.startswith('Healthcare Provider Taxonomy Code_')]],\n",
    "            chunk[chunk.columns[pd.Series(chunk.columns).str.startswith('Healthcare Provider Primary Taxonomy Switch_')]]\n",
    "        ], axis=1)\n",
    "\n",
    "        # Pivot from wide to long format\n",
    "        npi_taxonomy = pd.wide_to_long(\n",
    "            npi_taxonomy,\n",
    "            stubnames=['Healthcare Provider Taxonomy Code', 'Healthcare Provider Primary Taxonomy Switch'],\n",
    "            i=['NPI'], \n",
    "            j='primary_taxonomy_index',\n",
    "            sep=\"_\"\n",
    "        )\n",
    "\n",
    "        # Only keep the primary taxonomy\n",
    "        npi_taxonomy = npi_taxonomy[npi_taxonomy['Healthcare Provider Primary Taxonomy Switch'] == 'Y']\n",
    "\n",
    "        # Housekeeping\n",
    "        npi_taxonomy = npi_taxonomy.reset_index()\\\n",
    "            .drop(columns=['primary_taxonomy_index', 'Healthcare Provider Primary Taxonomy Switch'])\\\n",
    "            .rename({ 'Healthcare Provider Taxonomy Code': 'primary_taxonomy' }, axis=1)\n",
    "\n",
    "        # Merge npidata with npi_taxonomy\n",
    "        npidata = npidata.merge(\n",
    "            npi_taxonomy,\n",
    "            how='left',\n",
    "            on='NPI'\n",
    "        )\n",
    "        \n",
    "        # We are only concerned with Entity Types 1 or 2. Drop the NAs Entity Types\n",
    "        # npidata = npidata[~npidata['Entity Type Code'].isna()]\n",
    "\n",
    "        # Rename columns\n",
    "        npidata = npidata.reset_index().rename({\n",
    "            'NPI': 'npi',\n",
    "            'Entity Type Code': 'entity_type_code',\n",
    "            'Provider Organization Name (Legal Business Name)': 'provider_org_name',\n",
    "            'Provider Last Name (Legal Name)': 'provider_last_name',\n",
    "            'Provider First Name': 'provider_first_name',\n",
    "            'Provider Middle Name': 'provider_middle_name',\n",
    "            'Provider Name Prefix Text': 'provider_name_prefix',\n",
    "            'Provider Name Suffix Text': 'provider_name_suffix',\n",
    "            'Provider Credential Text': 'provider_credential',\n",
    "            'Provider First Line Business Practice Location Address': 'provider_business_address_1',\n",
    "            'Provider Second Line Business Practice Location Address': 'provider_business_address_2',\n",
    "            'Provider Business Practice Location Address City Name': 'provider_business_city',\n",
    "            'Provider Business Practice Location Address State Name': 'provider_business_state',\n",
    "            'Provider Business Practice Location Address Postal Code': 'provider_business_zip'\n",
    "        }, axis=1)\n",
    "\n",
    "        # Add a new column / overwrite the existing zip code column with a 5-digit zip\n",
    "        npidata['provider_business_zip5'] = [str(i)[0:5] for i in npidata['provider_business_zip']]\n",
    "        # npidata[npidata['provider_business_zip5'] == 'nan'] = None\n",
    "\n",
    "        # Correcting data types\n",
    "        npidata['npi'] = npidata['npi'].astype(str).str.split('.').str[0] # This step would convert NaN to string\n",
    "        # npidata[npidata['npi'] == 'nan'] = None # Convert NaN back to None\n",
    "        npidata['entity_type_code'] = npidata['entity_type_code'].astype(str).str.split('.').str[0] # This step would convert NaN to string\n",
    "        # npidata[npidata['entity_type_code'] == 'nan'] = None  # Convert NaN back to None\n",
    "\n",
    "        # Dropping unneeded columns\n",
    "        npidata = npidata.drop('index', axis=1)\n",
    "        npidata = npidata.drop('provider_business_zip', axis=1)\n",
    "\n",
    "        # Finally, load to sqlite db\n",
    "        npidata.to_sql('npidata', db, if_exists = 'append', index = False)"
   ]
  },
  {
   "cell_type": "markdown",
   "id": "valued-google",
   "metadata": {},
   "source": [
    "## Testing Final DB Load"
   ]
  },
  {
   "cell_type": "code",
   "execution_count": 13,
   "id": "greatest-montreal",
   "metadata": {},
   "outputs": [
    {
     "data": {
      "text/html": [
       "<div>\n",
       "<style scoped>\n",
       "    .dataframe tbody tr th:only-of-type {\n",
       "        vertical-align: middle;\n",
       "    }\n",
       "\n",
       "    .dataframe tbody tr th {\n",
       "        vertical-align: top;\n",
       "    }\n",
       "\n",
       "    .dataframe thead th {\n",
       "        text-align: right;\n",
       "    }\n",
       "</style>\n",
       "<table border=\"1\" class=\"dataframe\">\n",
       "  <thead>\n",
       "    <tr style=\"text-align: right;\">\n",
       "      <th></th>\n",
       "      <th>name</th>\n",
       "    </tr>\n",
       "  </thead>\n",
       "  <tbody>\n",
       "    <tr>\n",
       "      <th>0</th>\n",
       "      <td>cbsa</td>\n",
       "    </tr>\n",
       "    <tr>\n",
       "      <th>1</th>\n",
       "      <td>npidata</td>\n",
       "    </tr>\n",
       "  </tbody>\n",
       "</table>\n",
       "</div>"
      ],
      "text/plain": [
       "      name\n",
       "0     cbsa\n",
       "1  npidata"
      ]
     },
     "metadata": {},
     "output_type": "display_data"
    }
   ],
   "source": [
    "# Get list of currently existing tables\n",
    "with sqlite3.connect('../data/hcbb_group_reviews.sqlite') as db :\n",
    "    query = \"\"\"\n",
    "    SELECT name\n",
    "    FROM sqlite_master \n",
    "    WHERE type ='table' \n",
    "    AND name NOT LIKE 'sqlite_%';\n",
    "    \"\"\" \n",
    "    \n",
    "    db_table_list = pd.read_sql(query, db)\n",
    "\n",
    "display(db_table_list)"
   ]
  },
  {
   "cell_type": "markdown",
   "id": "complex-enzyme",
   "metadata": {},
   "source": [
    "**This should return 6,714,038 rows each representing a unique npi**"
   ]
  },
  {
   "cell_type": "code",
   "execution_count": 14,
   "id": "verbal-nation",
   "metadata": {},
   "outputs": [
    {
     "data": {
      "text/html": [
       "<div>\n",
       "<style scoped>\n",
       "    .dataframe tbody tr th:only-of-type {\n",
       "        vertical-align: middle;\n",
       "    }\n",
       "\n",
       "    .dataframe tbody tr th {\n",
       "        vertical-align: top;\n",
       "    }\n",
       "\n",
       "    .dataframe thead th {\n",
       "        text-align: right;\n",
       "    }\n",
       "</style>\n",
       "<table border=\"1\" class=\"dataframe\">\n",
       "  <thead>\n",
       "    <tr style=\"text-align: right;\">\n",
       "      <th></th>\n",
       "      <th>COUNT(*)</th>\n",
       "    </tr>\n",
       "  </thead>\n",
       "  <tbody>\n",
       "    <tr>\n",
       "      <th>0</th>\n",
       "      <td>6714038</td>\n",
       "    </tr>\n",
       "  </tbody>\n",
       "</table>\n",
       "</div>"
      ],
      "text/plain": [
       "   COUNT(*)\n",
       "0   6714038"
      ]
     },
     "metadata": {},
     "output_type": "display_data"
    }
   ],
   "source": [
    "with sqlite3.connect('../data/hcbb_group_reviews.sqlite') as db :\n",
    "    query = \"\"\"\n",
    "    SELECT COUNT(*) \n",
    "    FROM npidata;\n",
    "    \"\"\" \n",
    "    \n",
    "    test_df = pd.read_sql(query, db)\n",
    "\n",
    "display(test_df)"
   ]
  },
  {
   "cell_type": "markdown",
   "id": "comparable-trash",
   "metadata": {},
   "source": [
    "**This should return 5,077,318 of entity_type_code = 1 and 1,449,471 of entity_type_code = 2 and 187,249 of entity_type_code nan**"
   ]
  },
  {
   "cell_type": "code",
   "execution_count": 15,
   "id": "amino-camping",
   "metadata": {},
   "outputs": [
    {
     "data": {
      "text/html": [
       "<div>\n",
       "<style scoped>\n",
       "    .dataframe tbody tr th:only-of-type {\n",
       "        vertical-align: middle;\n",
       "    }\n",
       "\n",
       "    .dataframe tbody tr th {\n",
       "        vertical-align: top;\n",
       "    }\n",
       "\n",
       "    .dataframe thead th {\n",
       "        text-align: right;\n",
       "    }\n",
       "</style>\n",
       "<table border=\"1\" class=\"dataframe\">\n",
       "  <thead>\n",
       "    <tr style=\"text-align: right;\">\n",
       "      <th></th>\n",
       "      <th>entity_type_code</th>\n",
       "      <th>COUNT(*)</th>\n",
       "    </tr>\n",
       "  </thead>\n",
       "  <tbody>\n",
       "    <tr>\n",
       "      <th>0</th>\n",
       "      <td>1</td>\n",
       "      <td>5077318</td>\n",
       "    </tr>\n",
       "    <tr>\n",
       "      <th>1</th>\n",
       "      <td>2</td>\n",
       "      <td>1449471</td>\n",
       "    </tr>\n",
       "    <tr>\n",
       "      <th>2</th>\n",
       "      <td>nan</td>\n",
       "      <td>187249</td>\n",
       "    </tr>\n",
       "  </tbody>\n",
       "</table>\n",
       "</div>"
      ],
      "text/plain": [
       "  entity_type_code  COUNT(*)\n",
       "0                1   5077318\n",
       "1                2   1449471\n",
       "2              nan    187249"
      ]
     },
     "metadata": {},
     "output_type": "display_data"
    }
   ],
   "source": [
    "with sqlite3.connect('../data/hcbb_group_reviews.sqlite') as db :\n",
    "    query = \"\"\"\n",
    "    SELECT entity_type_code, COUNT(*) \n",
    "    FROM npidata\n",
    "    GROUP BY entity_type_code;\n",
    "    \"\"\" \n",
    "    \n",
    "    test_df = pd.read_sql(query, db)\n",
    "\n",
    "display(test_df)"
   ]
  },
  {
   "cell_type": "code",
   "execution_count": 16,
   "id": "wrong-guitar",
   "metadata": {},
   "outputs": [
    {
     "data": {
      "text/html": [
       "<div>\n",
       "<style scoped>\n",
       "    .dataframe tbody tr th:only-of-type {\n",
       "        vertical-align: middle;\n",
       "    }\n",
       "\n",
       "    .dataframe tbody tr th {\n",
       "        vertical-align: top;\n",
       "    }\n",
       "\n",
       "    .dataframe thead th {\n",
       "        text-align: right;\n",
       "    }\n",
       "</style>\n",
       "<table border=\"1\" class=\"dataframe\">\n",
       "  <thead>\n",
       "    <tr style=\"text-align: right;\">\n",
       "      <th></th>\n",
       "      <th>npi</th>\n",
       "      <th>entity_type_code</th>\n",
       "      <th>provider_org_name</th>\n",
       "      <th>provider_last_name</th>\n",
       "      <th>provider_first_name</th>\n",
       "      <th>provider_middle_name</th>\n",
       "      <th>provider_name_prefix</th>\n",
       "      <th>provider_name_suffix</th>\n",
       "      <th>provider_credential</th>\n",
       "      <th>provider_business_address_1</th>\n",
       "      <th>provider_business_address_2</th>\n",
       "      <th>provider_business_city</th>\n",
       "      <th>provider_business_state</th>\n",
       "      <th>primary_taxonomy</th>\n",
       "      <th>provider_business_zip5</th>\n",
       "    </tr>\n",
       "  </thead>\n",
       "  <tbody>\n",
       "    <tr>\n",
       "      <th>0</th>\n",
       "      <td>1679576722</td>\n",
       "      <td>1</td>\n",
       "      <td>None</td>\n",
       "      <td>WIEBE</td>\n",
       "      <td>DAVID</td>\n",
       "      <td>A</td>\n",
       "      <td>None</td>\n",
       "      <td>None</td>\n",
       "      <td>M.D.</td>\n",
       "      <td>3500 CENTRAL AVE</td>\n",
       "      <td>None</td>\n",
       "      <td>KEARNEY</td>\n",
       "      <td>NE</td>\n",
       "      <td>207X00000X</td>\n",
       "      <td>68847</td>\n",
       "    </tr>\n",
       "    <tr>\n",
       "      <th>1</th>\n",
       "      <td>1588667638</td>\n",
       "      <td>1</td>\n",
       "      <td>None</td>\n",
       "      <td>PILCHER</td>\n",
       "      <td>WILLIAM</td>\n",
       "      <td>C</td>\n",
       "      <td>DR.</td>\n",
       "      <td>None</td>\n",
       "      <td>MD</td>\n",
       "      <td>1824 KING STREET</td>\n",
       "      <td>SUITE 300</td>\n",
       "      <td>JACKSONVILLE</td>\n",
       "      <td>FL</td>\n",
       "      <td>207RC0000X</td>\n",
       "      <td>32204</td>\n",
       "    </tr>\n",
       "    <tr>\n",
       "      <th>2</th>\n",
       "      <td>1497758544</td>\n",
       "      <td>2</td>\n",
       "      <td>CUMBERLAND COUNTY HOSPITAL SYSTEM, INC</td>\n",
       "      <td>None</td>\n",
       "      <td>None</td>\n",
       "      <td>None</td>\n",
       "      <td>None</td>\n",
       "      <td>None</td>\n",
       "      <td>None</td>\n",
       "      <td>3418 VILLAGE DR</td>\n",
       "      <td>None</td>\n",
       "      <td>FAYETTEVILLE</td>\n",
       "      <td>NC</td>\n",
       "      <td>251G00000X</td>\n",
       "      <td>28304</td>\n",
       "    </tr>\n",
       "    <tr>\n",
       "      <th>3</th>\n",
       "      <td>1306849450</td>\n",
       "      <td>1</td>\n",
       "      <td>None</td>\n",
       "      <td>SMITSON</td>\n",
       "      <td>HAROLD</td>\n",
       "      <td>LEROY</td>\n",
       "      <td>DR.</td>\n",
       "      <td>II</td>\n",
       "      <td>M.D.</td>\n",
       "      <td>810 LUCAS DR</td>\n",
       "      <td>None</td>\n",
       "      <td>ATHENS</td>\n",
       "      <td>TX</td>\n",
       "      <td>2085R0202X</td>\n",
       "      <td>75751</td>\n",
       "    </tr>\n",
       "    <tr>\n",
       "      <th>4</th>\n",
       "      <td>1215930367</td>\n",
       "      <td>1</td>\n",
       "      <td>None</td>\n",
       "      <td>GRESSOT</td>\n",
       "      <td>LAURENT</td>\n",
       "      <td>None</td>\n",
       "      <td>DR.</td>\n",
       "      <td>None</td>\n",
       "      <td>M.D.</td>\n",
       "      <td>17323 RED OAK DR</td>\n",
       "      <td>None</td>\n",
       "      <td>HOUSTON</td>\n",
       "      <td>TX</td>\n",
       "      <td>207RH0003X</td>\n",
       "      <td>77090</td>\n",
       "    </tr>\n",
       "    <tr>\n",
       "      <th>5</th>\n",
       "      <td>1023011178</td>\n",
       "      <td>2</td>\n",
       "      <td>COLLABRIA CARE</td>\n",
       "      <td>None</td>\n",
       "      <td>None</td>\n",
       "      <td>None</td>\n",
       "      <td>None</td>\n",
       "      <td>None</td>\n",
       "      <td>None</td>\n",
       "      <td>414 S JEFFERSON ST</td>\n",
       "      <td>None</td>\n",
       "      <td>NAPA</td>\n",
       "      <td>CA</td>\n",
       "      <td>251G00000X</td>\n",
       "      <td>94559</td>\n",
       "    </tr>\n",
       "    <tr>\n",
       "      <th>6</th>\n",
       "      <td>1932102084</td>\n",
       "      <td>1</td>\n",
       "      <td>None</td>\n",
       "      <td>ADUSUMILLI</td>\n",
       "      <td>RAVI</td>\n",
       "      <td>K</td>\n",
       "      <td>None</td>\n",
       "      <td>None</td>\n",
       "      <td>MD</td>\n",
       "      <td>2940 N MCCORD RD</td>\n",
       "      <td>None</td>\n",
       "      <td>TOLEDO</td>\n",
       "      <td>OH</td>\n",
       "      <td>207RC0000X</td>\n",
       "      <td>43615</td>\n",
       "    </tr>\n",
       "    <tr>\n",
       "      <th>7</th>\n",
       "      <td>1841293990</td>\n",
       "      <td>1</td>\n",
       "      <td>None</td>\n",
       "      <td>WORTSMAN</td>\n",
       "      <td>SUSAN</td>\n",
       "      <td>None</td>\n",
       "      <td>None</td>\n",
       "      <td>None</td>\n",
       "      <td>MA-CCC</td>\n",
       "      <td>425 E 25TH ST</td>\n",
       "      <td>None</td>\n",
       "      <td>NEW YORK</td>\n",
       "      <td>NY</td>\n",
       "      <td>231H00000X</td>\n",
       "      <td>10010</td>\n",
       "    </tr>\n",
       "    <tr>\n",
       "      <th>8</th>\n",
       "      <td>1750384806</td>\n",
       "      <td>1</td>\n",
       "      <td>None</td>\n",
       "      <td>BISBEE</td>\n",
       "      <td>ROBERT</td>\n",
       "      <td>None</td>\n",
       "      <td>DR.</td>\n",
       "      <td>None</td>\n",
       "      <td>MD</td>\n",
       "      <td>808 JOLIET AVE UNIT 120</td>\n",
       "      <td>None</td>\n",
       "      <td>LUBBOCK</td>\n",
       "      <td>TX</td>\n",
       "      <td>207R00000X</td>\n",
       "      <td>79415</td>\n",
       "    </tr>\n",
       "    <tr>\n",
       "      <th>9</th>\n",
       "      <td>1669475711</td>\n",
       "      <td>1</td>\n",
       "      <td>None</td>\n",
       "      <td>SUNG</td>\n",
       "      <td>BIN</td>\n",
       "      <td>SHENG</td>\n",
       "      <td>None</td>\n",
       "      <td>None</td>\n",
       "      <td>M. D.</td>\n",
       "      <td>7629 TIKI DR</td>\n",
       "      <td>None</td>\n",
       "      <td>FULSHEAR</td>\n",
       "      <td>TX</td>\n",
       "      <td>208000000X</td>\n",
       "      <td>77441</td>\n",
       "    </tr>\n",
       "  </tbody>\n",
       "</table>\n",
       "</div>"
      ],
      "text/plain": [
       "          npi entity_type_code                       provider_org_name  \\\n",
       "0  1679576722                1                                    None   \n",
       "1  1588667638                1                                    None   \n",
       "2  1497758544                2  CUMBERLAND COUNTY HOSPITAL SYSTEM, INC   \n",
       "3  1306849450                1                                    None   \n",
       "4  1215930367                1                                    None   \n",
       "5  1023011178                2                          COLLABRIA CARE   \n",
       "6  1932102084                1                                    None   \n",
       "7  1841293990                1                                    None   \n",
       "8  1750384806                1                                    None   \n",
       "9  1669475711                1                                    None   \n",
       "\n",
       "  provider_last_name provider_first_name provider_middle_name  \\\n",
       "0              WIEBE               DAVID                    A   \n",
       "1            PILCHER             WILLIAM                    C   \n",
       "2               None                None                 None   \n",
       "3            SMITSON              HAROLD                LEROY   \n",
       "4            GRESSOT             LAURENT                 None   \n",
       "5               None                None                 None   \n",
       "6         ADUSUMILLI                RAVI                    K   \n",
       "7           WORTSMAN               SUSAN                 None   \n",
       "8             BISBEE              ROBERT                 None   \n",
       "9               SUNG                 BIN                SHENG   \n",
       "\n",
       "  provider_name_prefix provider_name_suffix provider_credential  \\\n",
       "0                 None                 None                M.D.   \n",
       "1                  DR.                 None                  MD   \n",
       "2                 None                 None                None   \n",
       "3                  DR.                   II                M.D.   \n",
       "4                  DR.                 None                M.D.   \n",
       "5                 None                 None                None   \n",
       "6                 None                 None                  MD   \n",
       "7                 None                 None              MA-CCC   \n",
       "8                  DR.                 None                  MD   \n",
       "9                 None                 None               M. D.   \n",
       "\n",
       "  provider_business_address_1 provider_business_address_2  \\\n",
       "0            3500 CENTRAL AVE                        None   \n",
       "1            1824 KING STREET                   SUITE 300   \n",
       "2             3418 VILLAGE DR                        None   \n",
       "3                810 LUCAS DR                        None   \n",
       "4            17323 RED OAK DR                        None   \n",
       "5          414 S JEFFERSON ST                        None   \n",
       "6            2940 N MCCORD RD                        None   \n",
       "7               425 E 25TH ST                        None   \n",
       "8     808 JOLIET AVE UNIT 120                        None   \n",
       "9                7629 TIKI DR                        None   \n",
       "\n",
       "  provider_business_city provider_business_state primary_taxonomy  \\\n",
       "0                KEARNEY                      NE       207X00000X   \n",
       "1           JACKSONVILLE                      FL       207RC0000X   \n",
       "2           FAYETTEVILLE                      NC       251G00000X   \n",
       "3                 ATHENS                      TX       2085R0202X   \n",
       "4                HOUSTON                      TX       207RH0003X   \n",
       "5                   NAPA                      CA       251G00000X   \n",
       "6                 TOLEDO                      OH       207RC0000X   \n",
       "7               NEW YORK                      NY       231H00000X   \n",
       "8                LUBBOCK                      TX       207R00000X   \n",
       "9               FULSHEAR                      TX       208000000X   \n",
       "\n",
       "  provider_business_zip5  \n",
       "0                  68847  \n",
       "1                  32204  \n",
       "2                  28304  \n",
       "3                  75751  \n",
       "4                  77090  \n",
       "5                  94559  \n",
       "6                  43615  \n",
       "7                  10010  \n",
       "8                  79415  \n",
       "9                  77441  "
      ]
     },
     "metadata": {},
     "output_type": "display_data"
    }
   ],
   "source": [
    "with sqlite3.connect('../data/hcbb_group_reviews.sqlite') as db :\n",
    "    query = \"\"\"\n",
    "    SELECT * \n",
    "    FROM npidata\n",
    "    LIMIT 10;\n",
    "    \"\"\" \n",
    "    \n",
    "    test_df = pd.read_sql(query, db)\n",
    "\n",
    "display(test_df)"
   ]
  },
  {
   "cell_type": "markdown",
   "id": "round-mitchell",
   "metadata": {},
   "source": [
    "**Quick Fix for dropping tables (DO NOT RUN UNLESS FOR RECREATING TABLES)**"
   ]
  },
  {
   "cell_type": "raw",
   "id": "partial-strain",
   "metadata": {},
   "source": [
    "# with sqlite3.connect('../data/hcbb_group_reviews.sqlite') as db :\n",
    "#     cursor = db.cursor()\n",
    "#     cursor.execute(\"DROP TABLE npidata\")\n",
    "#     print(\"Table dropped...\")"
   ]
  }
 ],
 "metadata": {
  "kernelspec": {
   "display_name": "Python 3",
   "language": "python",
   "name": "python3"
  },
  "language_info": {
   "codemirror_mode": {
    "name": "ipython",
    "version": 3
   },
   "file_extension": ".py",
   "mimetype": "text/x-python",
   "name": "python",
   "nbconvert_exporter": "python",
   "pygments_lexer": "ipython3",
   "version": "3.8.8"
  },
  "toc": {
   "base_numbering": 1,
   "nav_menu": {},
   "number_sections": false,
   "sideBar": true,
   "skip_h1_title": false,
   "title_cell": "Table of Contents",
   "title_sidebar": "Contents",
   "toc_cell": false,
   "toc_position": {},
   "toc_section_display": true,
   "toc_window_display": true
  },
  "varInspector": {
   "cols": {
    "lenName": 16,
    "lenType": 16,
    "lenVar": 40
   },
   "kernels_config": {
    "python": {
     "delete_cmd_postfix": "",
     "delete_cmd_prefix": "del ",
     "library": "var_list.py",
     "varRefreshCmd": "print(var_dic_list())"
    },
    "r": {
     "delete_cmd_postfix": ") ",
     "delete_cmd_prefix": "rm(",
     "library": "var_list.r",
     "varRefreshCmd": "cat(var_dic_list()) "
    }
   },
   "types_to_exclude": [
    "module",
    "function",
    "builtin_function_or_method",
    "instance",
    "_Feature"
   ],
   "window_display": false
  }
 },
 "nbformat": 4,
 "nbformat_minor": 5
}
