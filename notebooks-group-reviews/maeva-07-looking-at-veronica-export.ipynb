{
 "cells": [
  {
   "cell_type": "markdown",
   "id": "plain-potato",
   "metadata": {},
   "source": [
    "# Looking At Veronica's Export"
   ]
  },
  {
   "cell_type": "code",
   "execution_count": 1,
   "id": "specific-workstation",
   "metadata": {},
   "outputs": [],
   "source": [
    "import pandas as pd\n",
    "import sqlite3\n",
    "from tqdm.notebook import tqdm"
   ]
  },
  {
   "cell_type": "markdown",
   "id": "broad-wichita",
   "metadata": {},
   "source": [
    "**Reading The Data**"
   ]
  },
  {
   "cell_type": "code",
   "execution_count": 2,
   "id": "intelligent-manor",
   "metadata": {},
   "outputs": [
    {
     "name": "stderr",
     "output_type": "stream",
     "text": [
      "C:\\Users\\maeva\\anaconda3\\lib\\site-packages\\IPython\\core\\interactiveshell.py:3165: DtypeWarning: Columns (14,15,16) have mixed types.Specify dtype option on import or set low_memory=False.\n",
      "  has_raised = await self.run_ast_nodes(code_ast.body, cell_name,\n"
     ]
    }
   ],
   "source": [
    "nashville_referrals = pd.read_csv(\"../data/nashville_referrals_normalised.csv\")"
   ]
  },
  {
   "cell_type": "code",
   "execution_count": 3,
   "id": "alternate-flexibility",
   "metadata": {},
   "outputs": [
    {
     "name": "stdout",
     "output_type": "stream",
     "text": [
      "<class 'pandas.core.frame.DataFrame'>\n",
      "RangeIndex: 34723 entries, 0 to 34722\n",
      "Data columns (total 17 columns):\n",
      " #   Column                       Non-Null Count  Dtype  \n",
      "---  ------                       --------------  -----  \n",
      " 0   Unnamed: 0                   34723 non-null  int64  \n",
      " 1   index                        34723 non-null  int64  \n",
      " 2   from_npi                     34723 non-null  int64  \n",
      " 3   to_npi                       34723 non-null  int64  \n",
      " 4   patient_count                34723 non-null  int64  \n",
      " 5   transaction_count            34723 non-null  int64  \n",
      " 6   average_day_wait             34723 non-null  float64\n",
      " 7   std_day_wait                 34723 non-null  float64\n",
      " 8   from_zip                     34723 non-null  int64  \n",
      " 9   from_npi_specialty           34667 non-null  object \n",
      " 10  from_entity_type_code        34723 non-null  float64\n",
      " 11  to_zip                       34723 non-null  int64  \n",
      " 12  to_npi_specialty             34542 non-null  object \n",
      " 13  to_entity_type_code          34723 non-null  float64\n",
      " 14  to_facility                  5643 non-null   object \n",
      " 15  to_facility_group            5643 non-null   object \n",
      " 16  to_facility_name_normalised  5643 non-null   object \n",
      "dtypes: float64(4), int64(8), object(5)\n",
      "memory usage: 4.5+ MB\n"
     ]
    }
   ],
   "source": [
    "nashville_referrals.info()"
   ]
  },
  {
   "cell_type": "code",
   "execution_count": 5,
   "id": "detected-hands",
   "metadata": {},
   "outputs": [
    {
     "data": {
      "text/plain": [
       "(34723, 17)"
      ]
     },
     "metadata": {},
     "output_type": "display_data"
    },
    {
     "data": {
      "text/html": [
       "<div>\n",
       "<style scoped>\n",
       "    .dataframe tbody tr th:only-of-type {\n",
       "        vertical-align: middle;\n",
       "    }\n",
       "\n",
       "    .dataframe tbody tr th {\n",
       "        vertical-align: top;\n",
       "    }\n",
       "\n",
       "    .dataframe thead th {\n",
       "        text-align: right;\n",
       "    }\n",
       "</style>\n",
       "<table border=\"1\" class=\"dataframe\">\n",
       "  <thead>\n",
       "    <tr style=\"text-align: right;\">\n",
       "      <th></th>\n",
       "      <th>Unnamed: 0</th>\n",
       "      <th>index</th>\n",
       "      <th>from_npi</th>\n",
       "      <th>to_npi</th>\n",
       "      <th>patient_count</th>\n",
       "      <th>transaction_count</th>\n",
       "      <th>average_day_wait</th>\n",
       "      <th>std_day_wait</th>\n",
       "      <th>from_zip</th>\n",
       "      <th>from_npi_specialty</th>\n",
       "      <th>from_entity_type_code</th>\n",
       "      <th>to_zip</th>\n",
       "      <th>to_npi_specialty</th>\n",
       "      <th>to_entity_type_code</th>\n",
       "      <th>to_facility</th>\n",
       "      <th>to_facility_group</th>\n",
       "      <th>to_facility_name_normalised</th>\n",
       "    </tr>\n",
       "  </thead>\n",
       "  <tbody>\n",
       "    <tr>\n",
       "      <th>0</th>\n",
       "      <td>0</td>\n",
       "      <td>20662650</td>\n",
       "      <td>1780832899</td>\n",
       "      <td>1245233220</td>\n",
       "      <td>62</td>\n",
       "      <td>63</td>\n",
       "      <td>2.667</td>\n",
       "      <td>20.412</td>\n",
       "      <td>37203</td>\n",
       "      <td>Anesthesiology</td>\n",
       "      <td>1.0</td>\n",
       "      <td>37115</td>\n",
       "      <td>Clinic/Center</td>\n",
       "      <td>2.0</td>\n",
       "      <td>NaN</td>\n",
       "      <td>NaN</td>\n",
       "      <td>NaN</td>\n",
       "    </tr>\n",
       "    <tr>\n",
       "      <th>1</th>\n",
       "      <td>1</td>\n",
       "      <td>16742214</td>\n",
       "      <td>1851362628</td>\n",
       "      <td>1790788040</td>\n",
       "      <td>26</td>\n",
       "      <td>65</td>\n",
       "      <td>3.231</td>\n",
       "      <td>18.277</td>\n",
       "      <td>37129</td>\n",
       "      <td>Internal Medicine</td>\n",
       "      <td>1.0</td>\n",
       "      <td>37129</td>\n",
       "      <td>Hospice Care, Community Based</td>\n",
       "      <td>2.0</td>\n",
       "      <td>NaN</td>\n",
       "      <td>NaN</td>\n",
       "      <td>NaN</td>\n",
       "    </tr>\n",
       "    <tr>\n",
       "      <th>2</th>\n",
       "      <td>2</td>\n",
       "      <td>6532675</td>\n",
       "      <td>1396753356</td>\n",
       "      <td>1609879956</td>\n",
       "      <td>27</td>\n",
       "      <td>68</td>\n",
       "      <td>4.529</td>\n",
       "      <td>27.525</td>\n",
       "      <td>37174</td>\n",
       "      <td>Internal Medicine</td>\n",
       "      <td>1.0</td>\n",
       "      <td>37214</td>\n",
       "      <td>Hospice Care, Community Based</td>\n",
       "      <td>2.0</td>\n",
       "      <td>NaN</td>\n",
       "      <td>NaN</td>\n",
       "      <td>NaN</td>\n",
       "    </tr>\n",
       "    <tr>\n",
       "      <th>3</th>\n",
       "      <td>3</td>\n",
       "      <td>18197644</td>\n",
       "      <td>1144264458</td>\n",
       "      <td>1609879956</td>\n",
       "      <td>36</td>\n",
       "      <td>77</td>\n",
       "      <td>3.247</td>\n",
       "      <td>27.359</td>\n",
       "      <td>37067</td>\n",
       "      <td>Family Medicine</td>\n",
       "      <td>1.0</td>\n",
       "      <td>37214</td>\n",
       "      <td>Hospice Care, Community Based</td>\n",
       "      <td>2.0</td>\n",
       "      <td>NaN</td>\n",
       "      <td>NaN</td>\n",
       "      <td>NaN</td>\n",
       "    </tr>\n",
       "    <tr>\n",
       "      <th>4</th>\n",
       "      <td>4</td>\n",
       "      <td>26837443</td>\n",
       "      <td>1942347513</td>\n",
       "      <td>1609879956</td>\n",
       "      <td>36</td>\n",
       "      <td>53</td>\n",
       "      <td>21.509</td>\n",
       "      <td>40.591</td>\n",
       "      <td>37217</td>\n",
       "      <td>Nurse Practitioner</td>\n",
       "      <td>1.0</td>\n",
       "      <td>37214</td>\n",
       "      <td>Hospice Care, Community Based</td>\n",
       "      <td>2.0</td>\n",
       "      <td>NaN</td>\n",
       "      <td>NaN</td>\n",
       "      <td>NaN</td>\n",
       "    </tr>\n",
       "  </tbody>\n",
       "</table>\n",
       "</div>"
      ],
      "text/plain": [
       "   Unnamed: 0     index    from_npi      to_npi  patient_count  \\\n",
       "0           0  20662650  1780832899  1245233220             62   \n",
       "1           1  16742214  1851362628  1790788040             26   \n",
       "2           2   6532675  1396753356  1609879956             27   \n",
       "3           3  18197644  1144264458  1609879956             36   \n",
       "4           4  26837443  1942347513  1609879956             36   \n",
       "\n",
       "   transaction_count  average_day_wait  std_day_wait  from_zip  \\\n",
       "0                 63             2.667        20.412     37203   \n",
       "1                 65             3.231        18.277     37129   \n",
       "2                 68             4.529        27.525     37174   \n",
       "3                 77             3.247        27.359     37067   \n",
       "4                 53            21.509        40.591     37217   \n",
       "\n",
       "   from_npi_specialty  from_entity_type_code  to_zip  \\\n",
       "0      Anesthesiology                    1.0   37115   \n",
       "1   Internal Medicine                    1.0   37129   \n",
       "2   Internal Medicine                    1.0   37214   \n",
       "3     Family Medicine                    1.0   37214   \n",
       "4  Nurse Practitioner                    1.0   37214   \n",
       "\n",
       "                to_npi_specialty  to_entity_type_code to_facility  \\\n",
       "0                  Clinic/Center                  2.0         NaN   \n",
       "1  Hospice Care, Community Based                  2.0         NaN   \n",
       "2  Hospice Care, Community Based                  2.0         NaN   \n",
       "3  Hospice Care, Community Based                  2.0         NaN   \n",
       "4  Hospice Care, Community Based                  2.0         NaN   \n",
       "\n",
       "  to_facility_group to_facility_name_normalised  \n",
       "0               NaN                         NaN  \n",
       "1               NaN                         NaN  \n",
       "2               NaN                         NaN  \n",
       "3               NaN                         NaN  \n",
       "4               NaN                         NaN  "
      ]
     },
     "metadata": {},
     "output_type": "display_data"
    }
   ],
   "source": [
    "display(nashville_referrals.shape)\n",
    "display(nashville_referrals.head())"
   ]
  },
  {
   "cell_type": "code",
   "execution_count": null,
   "id": "initial-refund",
   "metadata": {},
   "outputs": [],
   "source": []
  }
 ],
 "metadata": {
  "kernelspec": {
   "display_name": "Python 3",
   "language": "python",
   "name": "python3"
  },
  "language_info": {
   "codemirror_mode": {
    "name": "ipython",
    "version": 3
   },
   "file_extension": ".py",
   "mimetype": "text/x-python",
   "name": "python",
   "nbconvert_exporter": "python",
   "pygments_lexer": "ipython3",
   "version": "3.8.8"
  },
  "toc": {
   "base_numbering": 1,
   "nav_menu": {},
   "number_sections": false,
   "sideBar": true,
   "skip_h1_title": false,
   "title_cell": "Table of Contents",
   "title_sidebar": "Contents",
   "toc_cell": false,
   "toc_position": {},
   "toc_section_display": true,
   "toc_window_display": true
  },
  "varInspector": {
   "cols": {
    "lenName": 16,
    "lenType": 16,
    "lenVar": 40
   },
   "kernels_config": {
    "python": {
     "delete_cmd_postfix": "",
     "delete_cmd_prefix": "del ",
     "library": "var_list.py",
     "varRefreshCmd": "print(var_dic_list())"
    },
    "r": {
     "delete_cmd_postfix": ") ",
     "delete_cmd_prefix": "rm(",
     "library": "var_list.r",
     "varRefreshCmd": "cat(var_dic_list()) "
    }
   },
   "types_to_exclude": [
    "module",
    "function",
    "builtin_function_or_method",
    "instance",
    "_Feature"
   ],
   "window_display": false
  }
 },
 "nbformat": 4,
 "nbformat_minor": 5
}
